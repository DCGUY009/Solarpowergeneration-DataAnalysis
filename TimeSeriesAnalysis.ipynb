{
 "cells": [
  {
   "cell_type": "markdown",
   "id": "fe917989",
   "metadata": {},
   "source": [
    "### Objective:\n",
    "\n",
    "pandas contains extensive capabilities and features for working with time series data for all domains. Using the NumPy datetime64 and timedelta64 dtypes, pandas has consolidated a large number of features from other Python libraries like scikits.timeseries as well as created a tremendous amount of new functionality for manipulating time series data.In this task we will try to implement these operations and gain some insights."
   ]
  },
  {
   "cell_type": "markdown",
   "id": "43a1a042",
   "metadata": {},
   "source": [
    "This notebook contains the operations from [Time series / date functionality](https://pandas.pydata.org/docs/user_guide/timeseries.html) guide from Pandas Official Documentation. It is performed on the dataset obtained from Kaggle - [Solar energy power generation dataset](https://www.kaggle.com/datasets/stucom/solar-energy-power-generation-dataset)."
   ]
  },
  {
   "cell_type": "markdown",
   "id": "f6f3bdbf",
   "metadata": {},
   "source": [
    "### Table of Contents\n",
    "\n",
    "* [Timestamps vs. time spans](#Timestamps-vs-time-spans)\n",
    "* [Converting to timestamps](#Converting-to-timestamps)\n",
    "* [Generating ranges of timestamps](#Generating-ranges-of-timestamps)\n",
    "* [Timestamp limitations](#Timestamp-limitations)\n",
    "* [Indexing](#Indexing)\n",
    "* [Time/date components](#Time/date-components)\n",
    "* [DateOffset objects](#DateOffset-objects)\n",
    "* [Time Series-related instance methods](#Time-Series-related-instance-methods)\n",
    "* [Resampling](#Resampling)\n",
    "* [Time span representation](#Time-span-representation)\n",
    "* [Converting between representations](#Converting-between-representations)\n",
    "* [Time zone handling](#Time-zone-handling)"
   ]
  },
  {
   "cell_type": "markdown",
   "id": "465832d1",
   "metadata": {},
   "source": [
    "#### DATA PREPROCESSING"
   ]
  },
  {
   "cell_type": "code",
   "execution_count": 1,
   "id": "cd000cee",
   "metadata": {},
   "outputs": [],
   "source": [
    "import pandas as pd\n",
    "import numpy as np\n",
    "import datetime "
   ]
  },
  {
   "cell_type": "code",
   "execution_count": 2,
   "id": "5f967114",
   "metadata": {},
   "outputs": [],
   "source": [
    "df=pd.read_csv('Data/spgdataset.csv')"
   ]
  },
  {
   "cell_type": "code",
   "execution_count": 3,
   "id": "6fde6d01",
   "metadata": {},
   "outputs": [
    {
     "data": {
      "text/html": [
       "<div>\n",
       "<style scoped>\n",
       "    .dataframe tbody tr th:only-of-type {\n",
       "        vertical-align: middle;\n",
       "    }\n",
       "\n",
       "    .dataframe tbody tr th {\n",
       "        vertical-align: top;\n",
       "    }\n",
       "\n",
       "    .dataframe thead th {\n",
       "        text-align: right;\n",
       "    }\n",
       "</style>\n",
       "<table border=\"1\" class=\"dataframe\">\n",
       "  <thead>\n",
       "    <tr style=\"text-align: right;\">\n",
       "      <th></th>\n",
       "      <th>temperature_2_m_above_gnd</th>\n",
       "      <th>relative_humidity_2_m_above_gnd</th>\n",
       "      <th>mean_sea_level_pressure_MSL</th>\n",
       "      <th>total_precipitation_sfc</th>\n",
       "      <th>snowfall_amount_sfc</th>\n",
       "      <th>total_cloud_cover_sfc</th>\n",
       "      <th>high_cloud_cover_high_cld_lay</th>\n",
       "      <th>medium_cloud_cover_mid_cld_lay</th>\n",
       "      <th>low_cloud_cover_low_cld_lay</th>\n",
       "      <th>shortwave_radiation_backwards_sfc</th>\n",
       "      <th>...</th>\n",
       "      <th>wind_direction_10_m_above_gnd</th>\n",
       "      <th>wind_speed_80_m_above_gnd</th>\n",
       "      <th>wind_direction_80_m_above_gnd</th>\n",
       "      <th>wind_speed_900_mb</th>\n",
       "      <th>wind_direction_900_mb</th>\n",
       "      <th>wind_gust_10_m_above_gnd</th>\n",
       "      <th>angle_of_incidence</th>\n",
       "      <th>zenith</th>\n",
       "      <th>azimuth</th>\n",
       "      <th>generated_power_kw</th>\n",
       "    </tr>\n",
       "  </thead>\n",
       "  <tbody>\n",
       "    <tr>\n",
       "      <th>0</th>\n",
       "      <td>2.17</td>\n",
       "      <td>31</td>\n",
       "      <td>1035.0</td>\n",
       "      <td>0.0</td>\n",
       "      <td>0.0</td>\n",
       "      <td>0.0</td>\n",
       "      <td>0</td>\n",
       "      <td>0</td>\n",
       "      <td>0</td>\n",
       "      <td>0.00</td>\n",
       "      <td>...</td>\n",
       "      <td>312.71</td>\n",
       "      <td>9.36</td>\n",
       "      <td>22.62</td>\n",
       "      <td>6.62</td>\n",
       "      <td>337.62</td>\n",
       "      <td>24.48</td>\n",
       "      <td>58.753108</td>\n",
       "      <td>83.237322</td>\n",
       "      <td>128.33543</td>\n",
       "      <td>454.100950</td>\n",
       "    </tr>\n",
       "    <tr>\n",
       "      <th>1</th>\n",
       "      <td>2.31</td>\n",
       "      <td>27</td>\n",
       "      <td>1035.1</td>\n",
       "      <td>0.0</td>\n",
       "      <td>0.0</td>\n",
       "      <td>0.0</td>\n",
       "      <td>0</td>\n",
       "      <td>0</td>\n",
       "      <td>0</td>\n",
       "      <td>1.78</td>\n",
       "      <td>...</td>\n",
       "      <td>294.78</td>\n",
       "      <td>5.99</td>\n",
       "      <td>32.74</td>\n",
       "      <td>4.61</td>\n",
       "      <td>321.34</td>\n",
       "      <td>21.96</td>\n",
       "      <td>45.408585</td>\n",
       "      <td>75.143041</td>\n",
       "      <td>139.65530</td>\n",
       "      <td>1411.999400</td>\n",
       "    </tr>\n",
       "    <tr>\n",
       "      <th>2</th>\n",
       "      <td>3.65</td>\n",
       "      <td>33</td>\n",
       "      <td>1035.4</td>\n",
       "      <td>0.0</td>\n",
       "      <td>0.0</td>\n",
       "      <td>0.0</td>\n",
       "      <td>0</td>\n",
       "      <td>0</td>\n",
       "      <td>0</td>\n",
       "      <td>108.58</td>\n",
       "      <td>...</td>\n",
       "      <td>270.00</td>\n",
       "      <td>3.89</td>\n",
       "      <td>56.31</td>\n",
       "      <td>3.76</td>\n",
       "      <td>286.70</td>\n",
       "      <td>14.04</td>\n",
       "      <td>32.848282</td>\n",
       "      <td>68.820648</td>\n",
       "      <td>152.53769</td>\n",
       "      <td>2214.849300</td>\n",
       "    </tr>\n",
       "    <tr>\n",
       "      <th>3</th>\n",
       "      <td>5.82</td>\n",
       "      <td>30</td>\n",
       "      <td>1035.4</td>\n",
       "      <td>0.0</td>\n",
       "      <td>0.0</td>\n",
       "      <td>0.0</td>\n",
       "      <td>0</td>\n",
       "      <td>0</td>\n",
       "      <td>0</td>\n",
       "      <td>258.10</td>\n",
       "      <td>...</td>\n",
       "      <td>323.13</td>\n",
       "      <td>3.55</td>\n",
       "      <td>23.96</td>\n",
       "      <td>3.08</td>\n",
       "      <td>339.44</td>\n",
       "      <td>19.80</td>\n",
       "      <td>22.699288</td>\n",
       "      <td>64.883536</td>\n",
       "      <td>166.90159</td>\n",
       "      <td>2527.609200</td>\n",
       "    </tr>\n",
       "    <tr>\n",
       "      <th>4</th>\n",
       "      <td>7.73</td>\n",
       "      <td>27</td>\n",
       "      <td>1034.4</td>\n",
       "      <td>0.0</td>\n",
       "      <td>0.0</td>\n",
       "      <td>0.0</td>\n",
       "      <td>0</td>\n",
       "      <td>0</td>\n",
       "      <td>0</td>\n",
       "      <td>375.58</td>\n",
       "      <td>...</td>\n",
       "      <td>10.01</td>\n",
       "      <td>6.76</td>\n",
       "      <td>25.20</td>\n",
       "      <td>6.62</td>\n",
       "      <td>22.38</td>\n",
       "      <td>16.56</td>\n",
       "      <td>19.199908</td>\n",
       "      <td>63.795208</td>\n",
       "      <td>182.13526</td>\n",
       "      <td>2640.203400</td>\n",
       "    </tr>\n",
       "    <tr>\n",
       "      <th>...</th>\n",
       "      <td>...</td>\n",
       "      <td>...</td>\n",
       "      <td>...</td>\n",
       "      <td>...</td>\n",
       "      <td>...</td>\n",
       "      <td>...</td>\n",
       "      <td>...</td>\n",
       "      <td>...</td>\n",
       "      <td>...</td>\n",
       "      <td>...</td>\n",
       "      <td>...</td>\n",
       "      <td>...</td>\n",
       "      <td>...</td>\n",
       "      <td>...</td>\n",
       "      <td>...</td>\n",
       "      <td>...</td>\n",
       "      <td>...</td>\n",
       "      <td>...</td>\n",
       "      <td>...</td>\n",
       "      <td>...</td>\n",
       "      <td>...</td>\n",
       "    </tr>\n",
       "    <tr>\n",
       "      <th>4208</th>\n",
       "      <td>8.69</td>\n",
       "      <td>66</td>\n",
       "      <td>1025.1</td>\n",
       "      <td>0.0</td>\n",
       "      <td>0.0</td>\n",
       "      <td>100.0</td>\n",
       "      <td>100</td>\n",
       "      <td>100</td>\n",
       "      <td>100</td>\n",
       "      <td>257.21</td>\n",
       "      <td>...</td>\n",
       "      <td>285.42</td>\n",
       "      <td>25.50</td>\n",
       "      <td>283.06</td>\n",
       "      <td>24.01</td>\n",
       "      <td>282.99</td>\n",
       "      <td>25.20</td>\n",
       "      <td>22.700907</td>\n",
       "      <td>64.952098</td>\n",
       "      <td>167.06794</td>\n",
       "      <td>173.410560</td>\n",
       "    </tr>\n",
       "    <tr>\n",
       "      <th>4209</th>\n",
       "      <td>7.57</td>\n",
       "      <td>90</td>\n",
       "      <td>1026.1</td>\n",
       "      <td>0.0</td>\n",
       "      <td>0.0</td>\n",
       "      <td>100.0</td>\n",
       "      <td>79</td>\n",
       "      <td>100</td>\n",
       "      <td>100</td>\n",
       "      <td>210.04</td>\n",
       "      <td>...</td>\n",
       "      <td>6.91</td>\n",
       "      <td>13.00</td>\n",
       "      <td>4.76</td>\n",
       "      <td>11.61</td>\n",
       "      <td>7.13</td>\n",
       "      <td>10.44</td>\n",
       "      <td>19.307487</td>\n",
       "      <td>63.895118</td>\n",
       "      <td>182.28247</td>\n",
       "      <td>403.792220</td>\n",
       "    </tr>\n",
       "    <tr>\n",
       "      <th>4210</th>\n",
       "      <td>7.27</td>\n",
       "      <td>90</td>\n",
       "      <td>1026.3</td>\n",
       "      <td>0.1</td>\n",
       "      <td>0.0</td>\n",
       "      <td>100.0</td>\n",
       "      <td>73</td>\n",
       "      <td>100</td>\n",
       "      <td>100</td>\n",
       "      <td>113.92</td>\n",
       "      <td>...</td>\n",
       "      <td>2.29</td>\n",
       "      <td>8.71</td>\n",
       "      <td>352.87</td>\n",
       "      <td>7.95</td>\n",
       "      <td>354.81</td>\n",
       "      <td>22.32</td>\n",
       "      <td>25.249506</td>\n",
       "      <td>65.827032</td>\n",
       "      <td>197.33868</td>\n",
       "      <td>158.367780</td>\n",
       "    </tr>\n",
       "    <tr>\n",
       "      <th>4211</th>\n",
       "      <td>8.25</td>\n",
       "      <td>81</td>\n",
       "      <td>1025.5</td>\n",
       "      <td>0.0</td>\n",
       "      <td>0.0</td>\n",
       "      <td>100.0</td>\n",
       "      <td>74</td>\n",
       "      <td>66</td>\n",
       "      <td>100</td>\n",
       "      <td>186.90</td>\n",
       "      <td>...</td>\n",
       "      <td>11.31</td>\n",
       "      <td>6.29</td>\n",
       "      <td>13.24</td>\n",
       "      <td>5.94</td>\n",
       "      <td>14.04</td>\n",
       "      <td>15.48</td>\n",
       "      <td>36.361161</td>\n",
       "      <td>70.496313</td>\n",
       "      <td>211.30027</td>\n",
       "      <td>126.953060</td>\n",
       "    </tr>\n",
       "    <tr>\n",
       "      <th>4212</th>\n",
       "      <td>8.00</td>\n",
       "      <td>80</td>\n",
       "      <td>1025.3</td>\n",
       "      <td>0.0</td>\n",
       "      <td>0.0</td>\n",
       "      <td>100.0</td>\n",
       "      <td>100</td>\n",
       "      <td>100</td>\n",
       "      <td>100</td>\n",
       "      <td>172.66</td>\n",
       "      <td>...</td>\n",
       "      <td>12.72</td>\n",
       "      <td>12.07</td>\n",
       "      <td>17.35</td>\n",
       "      <td>11.38</td>\n",
       "      <td>18.43</td>\n",
       "      <td>16.20</td>\n",
       "      <td>48.452849</td>\n",
       "      <td>76.919574</td>\n",
       "      <td>223.04931</td>\n",
       "      <td>20.055031</td>\n",
       "    </tr>\n",
       "  </tbody>\n",
       "</table>\n",
       "<p>4213 rows × 21 columns</p>\n",
       "</div>"
      ],
      "text/plain": [
       "      temperature_2_m_above_gnd  relative_humidity_2_m_above_gnd  \\\n",
       "0                          2.17                               31   \n",
       "1                          2.31                               27   \n",
       "2                          3.65                               33   \n",
       "3                          5.82                               30   \n",
       "4                          7.73                               27   \n",
       "...                         ...                              ...   \n",
       "4208                       8.69                               66   \n",
       "4209                       7.57                               90   \n",
       "4210                       7.27                               90   \n",
       "4211                       8.25                               81   \n",
       "4212                       8.00                               80   \n",
       "\n",
       "      mean_sea_level_pressure_MSL  total_precipitation_sfc  \\\n",
       "0                          1035.0                      0.0   \n",
       "1                          1035.1                      0.0   \n",
       "2                          1035.4                      0.0   \n",
       "3                          1035.4                      0.0   \n",
       "4                          1034.4                      0.0   \n",
       "...                           ...                      ...   \n",
       "4208                       1025.1                      0.0   \n",
       "4209                       1026.1                      0.0   \n",
       "4210                       1026.3                      0.1   \n",
       "4211                       1025.5                      0.0   \n",
       "4212                       1025.3                      0.0   \n",
       "\n",
       "      snowfall_amount_sfc  total_cloud_cover_sfc  \\\n",
       "0                     0.0                    0.0   \n",
       "1                     0.0                    0.0   \n",
       "2                     0.0                    0.0   \n",
       "3                     0.0                    0.0   \n",
       "4                     0.0                    0.0   \n",
       "...                   ...                    ...   \n",
       "4208                  0.0                  100.0   \n",
       "4209                  0.0                  100.0   \n",
       "4210                  0.0                  100.0   \n",
       "4211                  0.0                  100.0   \n",
       "4212                  0.0                  100.0   \n",
       "\n",
       "      high_cloud_cover_high_cld_lay  medium_cloud_cover_mid_cld_lay  \\\n",
       "0                                 0                               0   \n",
       "1                                 0                               0   \n",
       "2                                 0                               0   \n",
       "3                                 0                               0   \n",
       "4                                 0                               0   \n",
       "...                             ...                             ...   \n",
       "4208                            100                             100   \n",
       "4209                             79                             100   \n",
       "4210                             73                             100   \n",
       "4211                             74                              66   \n",
       "4212                            100                             100   \n",
       "\n",
       "      low_cloud_cover_low_cld_lay  shortwave_radiation_backwards_sfc  ...  \\\n",
       "0                               0                               0.00  ...   \n",
       "1                               0                               1.78  ...   \n",
       "2                               0                             108.58  ...   \n",
       "3                               0                             258.10  ...   \n",
       "4                               0                             375.58  ...   \n",
       "...                           ...                                ...  ...   \n",
       "4208                          100                             257.21  ...   \n",
       "4209                          100                             210.04  ...   \n",
       "4210                          100                             113.92  ...   \n",
       "4211                          100                             186.90  ...   \n",
       "4212                          100                             172.66  ...   \n",
       "\n",
       "      wind_direction_10_m_above_gnd  wind_speed_80_m_above_gnd  \\\n",
       "0                            312.71                       9.36   \n",
       "1                            294.78                       5.99   \n",
       "2                            270.00                       3.89   \n",
       "3                            323.13                       3.55   \n",
       "4                             10.01                       6.76   \n",
       "...                             ...                        ...   \n",
       "4208                         285.42                      25.50   \n",
       "4209                           6.91                      13.00   \n",
       "4210                           2.29                       8.71   \n",
       "4211                          11.31                       6.29   \n",
       "4212                          12.72                      12.07   \n",
       "\n",
       "      wind_direction_80_m_above_gnd  wind_speed_900_mb  wind_direction_900_mb  \\\n",
       "0                             22.62               6.62                 337.62   \n",
       "1                             32.74               4.61                 321.34   \n",
       "2                             56.31               3.76                 286.70   \n",
       "3                             23.96               3.08                 339.44   \n",
       "4                             25.20               6.62                  22.38   \n",
       "...                             ...                ...                    ...   \n",
       "4208                         283.06              24.01                 282.99   \n",
       "4209                           4.76              11.61                   7.13   \n",
       "4210                         352.87               7.95                 354.81   \n",
       "4211                          13.24               5.94                  14.04   \n",
       "4212                          17.35              11.38                  18.43   \n",
       "\n",
       "      wind_gust_10_m_above_gnd  angle_of_incidence     zenith    azimuth  \\\n",
       "0                        24.48           58.753108  83.237322  128.33543   \n",
       "1                        21.96           45.408585  75.143041  139.65530   \n",
       "2                        14.04           32.848282  68.820648  152.53769   \n",
       "3                        19.80           22.699288  64.883536  166.90159   \n",
       "4                        16.56           19.199908  63.795208  182.13526   \n",
       "...                        ...                 ...        ...        ...   \n",
       "4208                     25.20           22.700907  64.952098  167.06794   \n",
       "4209                     10.44           19.307487  63.895118  182.28247   \n",
       "4210                     22.32           25.249506  65.827032  197.33868   \n",
       "4211                     15.48           36.361161  70.496313  211.30027   \n",
       "4212                     16.20           48.452849  76.919574  223.04931   \n",
       "\n",
       "      generated_power_kw  \n",
       "0             454.100950  \n",
       "1            1411.999400  \n",
       "2            2214.849300  \n",
       "3            2527.609200  \n",
       "4            2640.203400  \n",
       "...                  ...  \n",
       "4208          173.410560  \n",
       "4209          403.792220  \n",
       "4210          158.367780  \n",
       "4211          126.953060  \n",
       "4212           20.055031  \n",
       "\n",
       "[4213 rows x 21 columns]"
      ]
     },
     "execution_count": 3,
     "metadata": {},
     "output_type": "execute_result"
    }
   ],
   "source": [
    "df"
   ]
  },
  {
   "cell_type": "code",
   "execution_count": 4,
   "id": "e46e03f3",
   "metadata": {},
   "outputs": [
    {
     "data": {
      "text/plain": [
       "pandas.core.frame.DataFrame"
      ]
     },
     "execution_count": 4,
     "metadata": {},
     "output_type": "execute_result"
    }
   ],
   "source": [
    "type(df)"
   ]
  },
  {
   "cell_type": "code",
   "execution_count": 5,
   "id": "a7382082",
   "metadata": {},
   "outputs": [
    {
     "data": {
      "text/plain": [
       "temperature_2_m_above_gnd            float64\n",
       "relative_humidity_2_m_above_gnd        int64\n",
       "mean_sea_level_pressure_MSL          float64\n",
       "total_precipitation_sfc              float64\n",
       "snowfall_amount_sfc                  float64\n",
       "total_cloud_cover_sfc                float64\n",
       "high_cloud_cover_high_cld_lay          int64\n",
       "medium_cloud_cover_mid_cld_lay         int64\n",
       "low_cloud_cover_low_cld_lay            int64\n",
       "shortwave_radiation_backwards_sfc    float64\n",
       "wind_speed_10_m_above_gnd            float64\n",
       "wind_direction_10_m_above_gnd        float64\n",
       "wind_speed_80_m_above_gnd            float64\n",
       "wind_direction_80_m_above_gnd        float64\n",
       "wind_speed_900_mb                    float64\n",
       "wind_direction_900_mb                float64\n",
       "wind_gust_10_m_above_gnd             float64\n",
       "angle_of_incidence                   float64\n",
       "zenith                               float64\n",
       "azimuth                              float64\n",
       "generated_power_kw                   float64\n",
       "dtype: object"
      ]
     },
     "execution_count": 5,
     "metadata": {},
     "output_type": "execute_result"
    }
   ],
   "source": [
    "df.dtypes"
   ]
  },
  {
   "cell_type": "code",
   "execution_count": 6,
   "id": "a2943d5f",
   "metadata": {},
   "outputs": [
    {
     "data": {
      "text/plain": [
       "Index(['temperature_2_m_above_gnd', 'relative_humidity_2_m_above_gnd',\n",
       "       'mean_sea_level_pressure_MSL', 'total_precipitation_sfc',\n",
       "       'snowfall_amount_sfc', 'total_cloud_cover_sfc',\n",
       "       'high_cloud_cover_high_cld_lay', 'medium_cloud_cover_mid_cld_lay',\n",
       "       'low_cloud_cover_low_cld_lay', 'shortwave_radiation_backwards_sfc',\n",
       "       'wind_speed_10_m_above_gnd', 'wind_direction_10_m_above_gnd',\n",
       "       'wind_speed_80_m_above_gnd', 'wind_direction_80_m_above_gnd',\n",
       "       'wind_speed_900_mb', 'wind_direction_900_mb',\n",
       "       'wind_gust_10_m_above_gnd', 'angle_of_incidence', 'zenith', 'azimuth',\n",
       "       'generated_power_kw'],\n",
       "      dtype='object')"
      ]
     },
     "execution_count": 6,
     "metadata": {},
     "output_type": "execute_result"
    }
   ],
   "source": [
    "df.columns"
   ]
  },
  {
   "cell_type": "code",
   "execution_count": 7,
   "id": "cda64b82",
   "metadata": {},
   "outputs": [
    {
     "name": "stdout",
     "output_type": "stream",
     "text": [
      "<class 'pandas.core.frame.DataFrame'>\n",
      "RangeIndex: 4213 entries, 0 to 4212\n",
      "Data columns (total 21 columns):\n",
      " #   Column                             Non-Null Count  Dtype  \n",
      "---  ------                             --------------  -----  \n",
      " 0   temperature_2_m_above_gnd          4213 non-null   float64\n",
      " 1   relative_humidity_2_m_above_gnd    4213 non-null   int64  \n",
      " 2   mean_sea_level_pressure_MSL        4213 non-null   float64\n",
      " 3   total_precipitation_sfc            4213 non-null   float64\n",
      " 4   snowfall_amount_sfc                4213 non-null   float64\n",
      " 5   total_cloud_cover_sfc              4213 non-null   float64\n",
      " 6   high_cloud_cover_high_cld_lay      4213 non-null   int64  \n",
      " 7   medium_cloud_cover_mid_cld_lay     4213 non-null   int64  \n",
      " 8   low_cloud_cover_low_cld_lay        4213 non-null   int64  \n",
      " 9   shortwave_radiation_backwards_sfc  4213 non-null   float64\n",
      " 10  wind_speed_10_m_above_gnd          4213 non-null   float64\n",
      " 11  wind_direction_10_m_above_gnd      4213 non-null   float64\n",
      " 12  wind_speed_80_m_above_gnd          4213 non-null   float64\n",
      " 13  wind_direction_80_m_above_gnd      4213 non-null   float64\n",
      " 14  wind_speed_900_mb                  4213 non-null   float64\n",
      " 15  wind_direction_900_mb              4213 non-null   float64\n",
      " 16  wind_gust_10_m_above_gnd           4213 non-null   float64\n",
      " 17  angle_of_incidence                 4213 non-null   float64\n",
      " 18  zenith                             4213 non-null   float64\n",
      " 19  azimuth                            4213 non-null   float64\n",
      " 20  generated_power_kw                 4213 non-null   float64\n",
      "dtypes: float64(17), int64(4)\n",
      "memory usage: 691.3 KB\n"
     ]
    }
   ],
   "source": [
    "df.info()"
   ]
  },
  {
   "cell_type": "markdown",
   "id": "5d87a505",
   "metadata": {},
   "source": [
    "#### Adding a column to the dataframe using date_range method"
   ]
  },
  {
   "cell_type": "code",
   "execution_count": 8,
   "id": "dd83524d",
   "metadata": {},
   "outputs": [],
   "source": [
    "timeseries = pd.Series(pd.date_range(\"2015-05-02 00:00:00\", periods = len(df), freq = \"H\"))"
   ]
  },
  {
   "cell_type": "code",
   "execution_count": 9,
   "id": "e457c2e3",
   "metadata": {},
   "outputs": [
    {
     "data": {
      "text/plain": [
       "0      2015-05-02 00:00:00\n",
       "1      2015-05-02 01:00:00\n",
       "2      2015-05-02 02:00:00\n",
       "3      2015-05-02 03:00:00\n",
       "4      2015-05-02 04:00:00\n",
       "               ...        \n",
       "4208   2015-10-24 08:00:00\n",
       "4209   2015-10-24 09:00:00\n",
       "4210   2015-10-24 10:00:00\n",
       "4211   2015-10-24 11:00:00\n",
       "4212   2015-10-24 12:00:00\n",
       "Length: 4213, dtype: datetime64[ns]"
      ]
     },
     "execution_count": 9,
     "metadata": {},
     "output_type": "execute_result"
    }
   ],
   "source": [
    "timeseries"
   ]
  },
  {
   "cell_type": "code",
   "execution_count": 10,
   "id": "9d663093",
   "metadata": {},
   "outputs": [],
   "source": [
    "df.insert(0,'Time', timeseries.values)"
   ]
  },
  {
   "cell_type": "code",
   "execution_count": 11,
   "id": "643ca1a7",
   "metadata": {},
   "outputs": [
    {
     "data": {
      "text/html": [
       "<div>\n",
       "<style scoped>\n",
       "    .dataframe tbody tr th:only-of-type {\n",
       "        vertical-align: middle;\n",
       "    }\n",
       "\n",
       "    .dataframe tbody tr th {\n",
       "        vertical-align: top;\n",
       "    }\n",
       "\n",
       "    .dataframe thead th {\n",
       "        text-align: right;\n",
       "    }\n",
       "</style>\n",
       "<table border=\"1\" class=\"dataframe\">\n",
       "  <thead>\n",
       "    <tr style=\"text-align: right;\">\n",
       "      <th></th>\n",
       "      <th>Time</th>\n",
       "      <th>temperature_2_m_above_gnd</th>\n",
       "      <th>relative_humidity_2_m_above_gnd</th>\n",
       "      <th>mean_sea_level_pressure_MSL</th>\n",
       "      <th>total_precipitation_sfc</th>\n",
       "      <th>snowfall_amount_sfc</th>\n",
       "      <th>total_cloud_cover_sfc</th>\n",
       "      <th>high_cloud_cover_high_cld_lay</th>\n",
       "      <th>medium_cloud_cover_mid_cld_lay</th>\n",
       "      <th>low_cloud_cover_low_cld_lay</th>\n",
       "      <th>...</th>\n",
       "      <th>wind_direction_10_m_above_gnd</th>\n",
       "      <th>wind_speed_80_m_above_gnd</th>\n",
       "      <th>wind_direction_80_m_above_gnd</th>\n",
       "      <th>wind_speed_900_mb</th>\n",
       "      <th>wind_direction_900_mb</th>\n",
       "      <th>wind_gust_10_m_above_gnd</th>\n",
       "      <th>angle_of_incidence</th>\n",
       "      <th>zenith</th>\n",
       "      <th>azimuth</th>\n",
       "      <th>generated_power_kw</th>\n",
       "    </tr>\n",
       "  </thead>\n",
       "  <tbody>\n",
       "    <tr>\n",
       "      <th>0</th>\n",
       "      <td>2015-05-02 00:00:00</td>\n",
       "      <td>2.17</td>\n",
       "      <td>31</td>\n",
       "      <td>1035.0</td>\n",
       "      <td>0.0</td>\n",
       "      <td>0.0</td>\n",
       "      <td>0.0</td>\n",
       "      <td>0</td>\n",
       "      <td>0</td>\n",
       "      <td>0</td>\n",
       "      <td>...</td>\n",
       "      <td>312.71</td>\n",
       "      <td>9.36</td>\n",
       "      <td>22.62</td>\n",
       "      <td>6.62</td>\n",
       "      <td>337.62</td>\n",
       "      <td>24.48</td>\n",
       "      <td>58.753108</td>\n",
       "      <td>83.237322</td>\n",
       "      <td>128.33543</td>\n",
       "      <td>454.100950</td>\n",
       "    </tr>\n",
       "    <tr>\n",
       "      <th>1</th>\n",
       "      <td>2015-05-02 01:00:00</td>\n",
       "      <td>2.31</td>\n",
       "      <td>27</td>\n",
       "      <td>1035.1</td>\n",
       "      <td>0.0</td>\n",
       "      <td>0.0</td>\n",
       "      <td>0.0</td>\n",
       "      <td>0</td>\n",
       "      <td>0</td>\n",
       "      <td>0</td>\n",
       "      <td>...</td>\n",
       "      <td>294.78</td>\n",
       "      <td>5.99</td>\n",
       "      <td>32.74</td>\n",
       "      <td>4.61</td>\n",
       "      <td>321.34</td>\n",
       "      <td>21.96</td>\n",
       "      <td>45.408585</td>\n",
       "      <td>75.143041</td>\n",
       "      <td>139.65530</td>\n",
       "      <td>1411.999400</td>\n",
       "    </tr>\n",
       "    <tr>\n",
       "      <th>2</th>\n",
       "      <td>2015-05-02 02:00:00</td>\n",
       "      <td>3.65</td>\n",
       "      <td>33</td>\n",
       "      <td>1035.4</td>\n",
       "      <td>0.0</td>\n",
       "      <td>0.0</td>\n",
       "      <td>0.0</td>\n",
       "      <td>0</td>\n",
       "      <td>0</td>\n",
       "      <td>0</td>\n",
       "      <td>...</td>\n",
       "      <td>270.00</td>\n",
       "      <td>3.89</td>\n",
       "      <td>56.31</td>\n",
       "      <td>3.76</td>\n",
       "      <td>286.70</td>\n",
       "      <td>14.04</td>\n",
       "      <td>32.848282</td>\n",
       "      <td>68.820648</td>\n",
       "      <td>152.53769</td>\n",
       "      <td>2214.849300</td>\n",
       "    </tr>\n",
       "    <tr>\n",
       "      <th>3</th>\n",
       "      <td>2015-05-02 03:00:00</td>\n",
       "      <td>5.82</td>\n",
       "      <td>30</td>\n",
       "      <td>1035.4</td>\n",
       "      <td>0.0</td>\n",
       "      <td>0.0</td>\n",
       "      <td>0.0</td>\n",
       "      <td>0</td>\n",
       "      <td>0</td>\n",
       "      <td>0</td>\n",
       "      <td>...</td>\n",
       "      <td>323.13</td>\n",
       "      <td>3.55</td>\n",
       "      <td>23.96</td>\n",
       "      <td>3.08</td>\n",
       "      <td>339.44</td>\n",
       "      <td>19.80</td>\n",
       "      <td>22.699288</td>\n",
       "      <td>64.883536</td>\n",
       "      <td>166.90159</td>\n",
       "      <td>2527.609200</td>\n",
       "    </tr>\n",
       "    <tr>\n",
       "      <th>4</th>\n",
       "      <td>2015-05-02 04:00:00</td>\n",
       "      <td>7.73</td>\n",
       "      <td>27</td>\n",
       "      <td>1034.4</td>\n",
       "      <td>0.0</td>\n",
       "      <td>0.0</td>\n",
       "      <td>0.0</td>\n",
       "      <td>0</td>\n",
       "      <td>0</td>\n",
       "      <td>0</td>\n",
       "      <td>...</td>\n",
       "      <td>10.01</td>\n",
       "      <td>6.76</td>\n",
       "      <td>25.20</td>\n",
       "      <td>6.62</td>\n",
       "      <td>22.38</td>\n",
       "      <td>16.56</td>\n",
       "      <td>19.199908</td>\n",
       "      <td>63.795208</td>\n",
       "      <td>182.13526</td>\n",
       "      <td>2640.203400</td>\n",
       "    </tr>\n",
       "    <tr>\n",
       "      <th>...</th>\n",
       "      <td>...</td>\n",
       "      <td>...</td>\n",
       "      <td>...</td>\n",
       "      <td>...</td>\n",
       "      <td>...</td>\n",
       "      <td>...</td>\n",
       "      <td>...</td>\n",
       "      <td>...</td>\n",
       "      <td>...</td>\n",
       "      <td>...</td>\n",
       "      <td>...</td>\n",
       "      <td>...</td>\n",
       "      <td>...</td>\n",
       "      <td>...</td>\n",
       "      <td>...</td>\n",
       "      <td>...</td>\n",
       "      <td>...</td>\n",
       "      <td>...</td>\n",
       "      <td>...</td>\n",
       "      <td>...</td>\n",
       "      <td>...</td>\n",
       "    </tr>\n",
       "    <tr>\n",
       "      <th>4208</th>\n",
       "      <td>2015-10-24 08:00:00</td>\n",
       "      <td>8.69</td>\n",
       "      <td>66</td>\n",
       "      <td>1025.1</td>\n",
       "      <td>0.0</td>\n",
       "      <td>0.0</td>\n",
       "      <td>100.0</td>\n",
       "      <td>100</td>\n",
       "      <td>100</td>\n",
       "      <td>100</td>\n",
       "      <td>...</td>\n",
       "      <td>285.42</td>\n",
       "      <td>25.50</td>\n",
       "      <td>283.06</td>\n",
       "      <td>24.01</td>\n",
       "      <td>282.99</td>\n",
       "      <td>25.20</td>\n",
       "      <td>22.700907</td>\n",
       "      <td>64.952098</td>\n",
       "      <td>167.06794</td>\n",
       "      <td>173.410560</td>\n",
       "    </tr>\n",
       "    <tr>\n",
       "      <th>4209</th>\n",
       "      <td>2015-10-24 09:00:00</td>\n",
       "      <td>7.57</td>\n",
       "      <td>90</td>\n",
       "      <td>1026.1</td>\n",
       "      <td>0.0</td>\n",
       "      <td>0.0</td>\n",
       "      <td>100.0</td>\n",
       "      <td>79</td>\n",
       "      <td>100</td>\n",
       "      <td>100</td>\n",
       "      <td>...</td>\n",
       "      <td>6.91</td>\n",
       "      <td>13.00</td>\n",
       "      <td>4.76</td>\n",
       "      <td>11.61</td>\n",
       "      <td>7.13</td>\n",
       "      <td>10.44</td>\n",
       "      <td>19.307487</td>\n",
       "      <td>63.895118</td>\n",
       "      <td>182.28247</td>\n",
       "      <td>403.792220</td>\n",
       "    </tr>\n",
       "    <tr>\n",
       "      <th>4210</th>\n",
       "      <td>2015-10-24 10:00:00</td>\n",
       "      <td>7.27</td>\n",
       "      <td>90</td>\n",
       "      <td>1026.3</td>\n",
       "      <td>0.1</td>\n",
       "      <td>0.0</td>\n",
       "      <td>100.0</td>\n",
       "      <td>73</td>\n",
       "      <td>100</td>\n",
       "      <td>100</td>\n",
       "      <td>...</td>\n",
       "      <td>2.29</td>\n",
       "      <td>8.71</td>\n",
       "      <td>352.87</td>\n",
       "      <td>7.95</td>\n",
       "      <td>354.81</td>\n",
       "      <td>22.32</td>\n",
       "      <td>25.249506</td>\n",
       "      <td>65.827032</td>\n",
       "      <td>197.33868</td>\n",
       "      <td>158.367780</td>\n",
       "    </tr>\n",
       "    <tr>\n",
       "      <th>4211</th>\n",
       "      <td>2015-10-24 11:00:00</td>\n",
       "      <td>8.25</td>\n",
       "      <td>81</td>\n",
       "      <td>1025.5</td>\n",
       "      <td>0.0</td>\n",
       "      <td>0.0</td>\n",
       "      <td>100.0</td>\n",
       "      <td>74</td>\n",
       "      <td>66</td>\n",
       "      <td>100</td>\n",
       "      <td>...</td>\n",
       "      <td>11.31</td>\n",
       "      <td>6.29</td>\n",
       "      <td>13.24</td>\n",
       "      <td>5.94</td>\n",
       "      <td>14.04</td>\n",
       "      <td>15.48</td>\n",
       "      <td>36.361161</td>\n",
       "      <td>70.496313</td>\n",
       "      <td>211.30027</td>\n",
       "      <td>126.953060</td>\n",
       "    </tr>\n",
       "    <tr>\n",
       "      <th>4212</th>\n",
       "      <td>2015-10-24 12:00:00</td>\n",
       "      <td>8.00</td>\n",
       "      <td>80</td>\n",
       "      <td>1025.3</td>\n",
       "      <td>0.0</td>\n",
       "      <td>0.0</td>\n",
       "      <td>100.0</td>\n",
       "      <td>100</td>\n",
       "      <td>100</td>\n",
       "      <td>100</td>\n",
       "      <td>...</td>\n",
       "      <td>12.72</td>\n",
       "      <td>12.07</td>\n",
       "      <td>17.35</td>\n",
       "      <td>11.38</td>\n",
       "      <td>18.43</td>\n",
       "      <td>16.20</td>\n",
       "      <td>48.452849</td>\n",
       "      <td>76.919574</td>\n",
       "      <td>223.04931</td>\n",
       "      <td>20.055031</td>\n",
       "    </tr>\n",
       "  </tbody>\n",
       "</table>\n",
       "<p>4213 rows × 22 columns</p>\n",
       "</div>"
      ],
      "text/plain": [
       "                    Time  temperature_2_m_above_gnd  \\\n",
       "0    2015-05-02 00:00:00                       2.17   \n",
       "1    2015-05-02 01:00:00                       2.31   \n",
       "2    2015-05-02 02:00:00                       3.65   \n",
       "3    2015-05-02 03:00:00                       5.82   \n",
       "4    2015-05-02 04:00:00                       7.73   \n",
       "...                  ...                        ...   \n",
       "4208 2015-10-24 08:00:00                       8.69   \n",
       "4209 2015-10-24 09:00:00                       7.57   \n",
       "4210 2015-10-24 10:00:00                       7.27   \n",
       "4211 2015-10-24 11:00:00                       8.25   \n",
       "4212 2015-10-24 12:00:00                       8.00   \n",
       "\n",
       "      relative_humidity_2_m_above_gnd  mean_sea_level_pressure_MSL  \\\n",
       "0                                  31                       1035.0   \n",
       "1                                  27                       1035.1   \n",
       "2                                  33                       1035.4   \n",
       "3                                  30                       1035.4   \n",
       "4                                  27                       1034.4   \n",
       "...                               ...                          ...   \n",
       "4208                               66                       1025.1   \n",
       "4209                               90                       1026.1   \n",
       "4210                               90                       1026.3   \n",
       "4211                               81                       1025.5   \n",
       "4212                               80                       1025.3   \n",
       "\n",
       "      total_precipitation_sfc  snowfall_amount_sfc  total_cloud_cover_sfc  \\\n",
       "0                         0.0                  0.0                    0.0   \n",
       "1                         0.0                  0.0                    0.0   \n",
       "2                         0.0                  0.0                    0.0   \n",
       "3                         0.0                  0.0                    0.0   \n",
       "4                         0.0                  0.0                    0.0   \n",
       "...                       ...                  ...                    ...   \n",
       "4208                      0.0                  0.0                  100.0   \n",
       "4209                      0.0                  0.0                  100.0   \n",
       "4210                      0.1                  0.0                  100.0   \n",
       "4211                      0.0                  0.0                  100.0   \n",
       "4212                      0.0                  0.0                  100.0   \n",
       "\n",
       "      high_cloud_cover_high_cld_lay  medium_cloud_cover_mid_cld_lay  \\\n",
       "0                                 0                               0   \n",
       "1                                 0                               0   \n",
       "2                                 0                               0   \n",
       "3                                 0                               0   \n",
       "4                                 0                               0   \n",
       "...                             ...                             ...   \n",
       "4208                            100                             100   \n",
       "4209                             79                             100   \n",
       "4210                             73                             100   \n",
       "4211                             74                              66   \n",
       "4212                            100                             100   \n",
       "\n",
       "      low_cloud_cover_low_cld_lay  ...  wind_direction_10_m_above_gnd  \\\n",
       "0                               0  ...                         312.71   \n",
       "1                               0  ...                         294.78   \n",
       "2                               0  ...                         270.00   \n",
       "3                               0  ...                         323.13   \n",
       "4                               0  ...                          10.01   \n",
       "...                           ...  ...                            ...   \n",
       "4208                          100  ...                         285.42   \n",
       "4209                          100  ...                           6.91   \n",
       "4210                          100  ...                           2.29   \n",
       "4211                          100  ...                          11.31   \n",
       "4212                          100  ...                          12.72   \n",
       "\n",
       "      wind_speed_80_m_above_gnd  wind_direction_80_m_above_gnd  \\\n",
       "0                          9.36                          22.62   \n",
       "1                          5.99                          32.74   \n",
       "2                          3.89                          56.31   \n",
       "3                          3.55                          23.96   \n",
       "4                          6.76                          25.20   \n",
       "...                         ...                            ...   \n",
       "4208                      25.50                         283.06   \n",
       "4209                      13.00                           4.76   \n",
       "4210                       8.71                         352.87   \n",
       "4211                       6.29                          13.24   \n",
       "4212                      12.07                          17.35   \n",
       "\n",
       "      wind_speed_900_mb  wind_direction_900_mb  wind_gust_10_m_above_gnd  \\\n",
       "0                  6.62                 337.62                     24.48   \n",
       "1                  4.61                 321.34                     21.96   \n",
       "2                  3.76                 286.70                     14.04   \n",
       "3                  3.08                 339.44                     19.80   \n",
       "4                  6.62                  22.38                     16.56   \n",
       "...                 ...                    ...                       ...   \n",
       "4208              24.01                 282.99                     25.20   \n",
       "4209              11.61                   7.13                     10.44   \n",
       "4210               7.95                 354.81                     22.32   \n",
       "4211               5.94                  14.04                     15.48   \n",
       "4212              11.38                  18.43                     16.20   \n",
       "\n",
       "      angle_of_incidence     zenith    azimuth  generated_power_kw  \n",
       "0              58.753108  83.237322  128.33543          454.100950  \n",
       "1              45.408585  75.143041  139.65530         1411.999400  \n",
       "2              32.848282  68.820648  152.53769         2214.849300  \n",
       "3              22.699288  64.883536  166.90159         2527.609200  \n",
       "4              19.199908  63.795208  182.13526         2640.203400  \n",
       "...                  ...        ...        ...                 ...  \n",
       "4208           22.700907  64.952098  167.06794          173.410560  \n",
       "4209           19.307487  63.895118  182.28247          403.792220  \n",
       "4210           25.249506  65.827032  197.33868          158.367780  \n",
       "4211           36.361161  70.496313  211.30027          126.953060  \n",
       "4212           48.452849  76.919574  223.04931           20.055031  \n",
       "\n",
       "[4213 rows x 22 columns]"
      ]
     },
     "execution_count": 11,
     "metadata": {},
     "output_type": "execute_result"
    }
   ],
   "source": [
    "df"
   ]
  },
  {
   "cell_type": "markdown",
   "id": "92bd1a7b",
   "metadata": {},
   "source": [
    "**Series** and **DataFrame** have extended data type support and functionality for **datetime**, **timedelta** and **Period** data when passed into those constructors. **DateOffset** data however will be stored as **object** data."
   ]
  },
  {
   "cell_type": "code",
   "execution_count": 12,
   "id": "97b2d4e9",
   "metadata": {},
   "outputs": [
    {
     "data": {
      "text/plain": [
       "pandas.core.series.Series"
      ]
     },
     "execution_count": 12,
     "metadata": {},
     "output_type": "execute_result"
    }
   ],
   "source": [
    "type(timeseries)"
   ]
  },
  {
   "cell_type": "code",
   "execution_count": 13,
   "id": "99af1440",
   "metadata": {},
   "outputs": [
    {
     "data": {
      "text/plain": [
       "0      2015-05-02 00:00:00\n",
       "1      2015-05-02 01:00:00\n",
       "2      2015-05-02 02:00:00\n",
       "3      2015-05-02 03:00:00\n",
       "4      2015-05-02 04:00:00\n",
       "               ...        \n",
       "4208   2015-10-24 08:00:00\n",
       "4209   2015-10-24 09:00:00\n",
       "4210   2015-10-24 10:00:00\n",
       "4211   2015-10-24 11:00:00\n",
       "4212   2015-10-24 12:00:00\n",
       "Length: 4213, dtype: datetime64[ns]"
      ]
     },
     "execution_count": 13,
     "metadata": {},
     "output_type": "execute_result"
    }
   ],
   "source": [
    "timeseries #date_Range"
   ]
  },
  {
   "cell_type": "markdown",
   "id": "d4619e62",
   "metadata": {},
   "source": [
    "#### As it can be observed that here datatype is datetime64[ns] (in nano seconds)"
   ]
  },
  {
   "cell_type": "markdown",
   "id": "dfb364b4",
   "metadata": {},
   "source": [
    "#### Similarly for **period_range**"
   ]
  },
  {
   "cell_type": "code",
   "execution_count": 14,
   "id": "a1dd3fbc",
   "metadata": {},
   "outputs": [
    {
     "data": {
      "text/plain": [
       "0    2022-01\n",
       "1    2022-02\n",
       "2    2022-03\n",
       "dtype: period[M]"
      ]
     },
     "execution_count": 14,
     "metadata": {},
     "output_type": "execute_result"
    }
   ],
   "source": [
    "pd.Series(pd.period_range(\"1/1/2022\", freq=\"M\", periods=3))"
   ]
  },
  {
   "cell_type": "markdown",
   "id": "9472cd01",
   "metadata": {},
   "source": [
    "#### It can be observed that the datatype is period[M]\n",
    "\n",
    "#### Which implies that **datetime**, **Period** and **timedelta** has extended data type support when passed into series and dataframe constructors."
   ]
  },
  {
   "cell_type": "code",
   "execution_count": 15,
   "id": "5798f21b",
   "metadata": {},
   "outputs": [
    {
     "data": {
      "text/plain": [
       "0         <DateOffset>\n",
       "1    <2 * DateOffsets>\n",
       "dtype: object"
      ]
     },
     "execution_count": 15,
     "metadata": {},
     "output_type": "execute_result"
    }
   ],
   "source": [
    "pd.Series([pd.DateOffset(1), pd.DateOffset(2)])"
   ]
  },
  {
   "cell_type": "markdown",
   "id": "6393ba8d",
   "metadata": {},
   "source": [
    "But as it can be observed above the **DataOffset** attribute will be stored in **object** data when passed through these series or dataframe constructors"
   ]
  },
  {
   "cell_type": "markdown",
   "id": "6e01b293",
   "metadata": {},
   "source": [
    "## Timestamps vs. time spans"
   ]
  },
  {
   "cell_type": "markdown",
   "id": "f9866b98",
   "metadata": {},
   "source": [
    "#### Timestamp and **Period** can serve as an index. Lists of **Timestamp** and **Period** are automatically coerced to **DatetimeIndex** and **PeriodIndex** respectively."
   ]
  },
  {
   "cell_type": "markdown",
   "id": "057092a7",
   "metadata": {},
   "source": [
    "#### For timestamp"
   ]
  },
  {
   "cell_type": "code",
   "execution_count": 16,
   "id": "2617d53a",
   "metadata": {},
   "outputs": [],
   "source": [
    "ts = pd.Series(np.random.randn(len(df)), df.loc[:,\"Time\"])"
   ]
  },
  {
   "cell_type": "code",
   "execution_count": 17,
   "id": "a62e1712",
   "metadata": {},
   "outputs": [
    {
     "data": {
      "text/plain": [
       "Time\n",
       "2015-05-02 00:00:00   -0.879028\n",
       "2015-05-02 01:00:00   -0.272703\n",
       "2015-05-02 02:00:00   -1.731871\n",
       "2015-05-02 03:00:00    0.143216\n",
       "2015-05-02 04:00:00   -0.281630\n",
       "                         ...   \n",
       "2015-10-24 08:00:00    0.769954\n",
       "2015-10-24 09:00:00    1.329114\n",
       "2015-10-24 10:00:00   -0.729129\n",
       "2015-10-24 11:00:00    1.236616\n",
       "2015-10-24 12:00:00    0.042773\n",
       "Length: 4213, dtype: float64"
      ]
     },
     "execution_count": 17,
     "metadata": {},
     "output_type": "execute_result"
    }
   ],
   "source": [
    "ts"
   ]
  },
  {
   "cell_type": "code",
   "execution_count": 18,
   "id": "64a83e85",
   "metadata": {},
   "outputs": [
    {
     "data": {
      "text/plain": [
       "pandas.core.indexes.datetimes.DatetimeIndex"
      ]
     },
     "execution_count": 18,
     "metadata": {},
     "output_type": "execute_result"
    }
   ],
   "source": [
    "type(ts.index)"
   ]
  },
  {
   "cell_type": "code",
   "execution_count": 19,
   "id": "d85d117e",
   "metadata": {},
   "outputs": [
    {
     "data": {
      "text/plain": [
       "Timestamp('2015-05-02 01:00:00')"
      ]
     },
     "execution_count": 19,
     "metadata": {},
     "output_type": "execute_result"
    }
   ],
   "source": [
    "df.iat[1,0] #to access a single value from a dataframe"
   ]
  },
  {
   "cell_type": "markdown",
   "id": "95eec15a",
   "metadata": {},
   "source": [
    "#### Similarly for period"
   ]
  },
  {
   "cell_type": "code",
   "execution_count": 20,
   "id": "dc4e7fbd",
   "metadata": {},
   "outputs": [],
   "source": [
    "ts1 = pd.Series(np.random.randn(3),pd.period_range(\"2022-10\", periods = 3, freq = \"M\"))"
   ]
  },
  {
   "cell_type": "code",
   "execution_count": 21,
   "id": "176e7178",
   "metadata": {},
   "outputs": [
    {
     "data": {
      "text/plain": [
       "pandas.core.indexes.period.PeriodIndex"
      ]
     },
     "execution_count": 21,
     "metadata": {},
     "output_type": "execute_result"
    }
   ],
   "source": [
    "type(ts1.index)"
   ]
  },
  {
   "cell_type": "code",
   "execution_count": 22,
   "id": "c966344a",
   "metadata": {},
   "outputs": [
    {
     "data": {
      "text/plain": [
       "2022-10    1.141777\n",
       "2022-11   -0.607684\n",
       "2022-12   -0.927996\n",
       "Freq: M, dtype: float64"
      ]
     },
     "execution_count": 22,
     "metadata": {},
     "output_type": "execute_result"
    }
   ],
   "source": [
    "ts1"
   ]
  },
  {
   "cell_type": "code",
   "execution_count": 23,
   "id": "b91f3f83",
   "metadata": {},
   "outputs": [],
   "source": [
    "k = pd.Period(\"2022-10\")"
   ]
  },
  {
   "cell_type": "code",
   "execution_count": 24,
   "id": "d3d17c18",
   "metadata": {},
   "outputs": [
    {
     "data": {
      "text/plain": [
       "pandas._libs.tslibs.period.Period"
      ]
     },
     "execution_count": 24,
     "metadata": {},
     "output_type": "execute_result"
    }
   ],
   "source": [
    "type(k)"
   ]
  },
  {
   "cell_type": "markdown",
   "id": "3cb456e8",
   "metadata": {},
   "source": [
    "#### pandas represents timestamps using instances of **Timestamp** and sequences of timestamps using instances of **DatetimeIndex**\n",
    "\n",
    "#### For regular time spans, pandas uses **Period** objects for scalar values and **PeriodIndex** for sequences of spans."
   ]
  },
  {
   "cell_type": "markdown",
   "id": "68ebd678",
   "metadata": {},
   "source": [
    "## Converting to timestamps \n"
   ]
  },
  {
   "cell_type": "code",
   "execution_count": 25,
   "id": "f8b66bf6",
   "metadata": {},
   "outputs": [
    {
     "data": {
      "text/plain": [
       "['Jul 31, 2022',\n",
       " '2022-05-10',\n",
       " None,\n",
       " None,\n",
       " None,\n",
       " None,\n",
       " None,\n",
       " None,\n",
       " None,\n",
       " None,\n",
       " None,\n",
       " None,\n",
       " None,\n",
       " None,\n",
       " None,\n",
       " None,\n",
       " None,\n",
       " None,\n",
       " None,\n",
       " None,\n",
       " None,\n",
       " None,\n",
       " None,\n",
       " None,\n",
       " None,\n",
       " None,\n",
       " None,\n",
       " None,\n",
       " None,\n",
       " None,\n",
       " None,\n",
       " None,\n",
       " None,\n",
       " None,\n",
       " None,\n",
       " None,\n",
       " None,\n",
       " None,\n",
       " None,\n",
       " None,\n",
       " None,\n",
       " None,\n",
       " None,\n",
       " None,\n",
       " None,\n",
       " None,\n",
       " None,\n",
       " None,\n",
       " None,\n",
       " None,\n",
       " None,\n",
       " None,\n",
       " None,\n",
       " None,\n",
       " None,\n",
       " None,\n",
       " None,\n",
       " None,\n",
       " None,\n",
       " None,\n",
       " None,\n",
       " None,\n",
       " None,\n",
       " None,\n",
       " None,\n",
       " None,\n",
       " None,\n",
       " None,\n",
       " None,\n",
       " None,\n",
       " None,\n",
       " None,\n",
       " None,\n",
       " None,\n",
       " None,\n",
       " None,\n",
       " None,\n",
       " None,\n",
       " None,\n",
       " None,\n",
       " None,\n",
       " None,\n",
       " None,\n",
       " None,\n",
       " None,\n",
       " None,\n",
       " None,\n",
       " None,\n",
       " None,\n",
       " None,\n",
       " None,\n",
       " None,\n",
       " None,\n",
       " None,\n",
       " None,\n",
       " None,\n",
       " None,\n",
       " None,\n",
       " None,\n",
       " None,\n",
       " None,\n",
       " None,\n",
       " None,\n",
       " None,\n",
       " None,\n",
       " None,\n",
       " None,\n",
       " None,\n",
       " None,\n",
       " None,\n",
       " None,\n",
       " None,\n",
       " None,\n",
       " None,\n",
       " None,\n",
       " None,\n",
       " None,\n",
       " None,\n",
       " None,\n",
       " None,\n",
       " None,\n",
       " None,\n",
       " None,\n",
       " None,\n",
       " None,\n",
       " None,\n",
       " None,\n",
       " None,\n",
       " None,\n",
       " None,\n",
       " None,\n",
       " None,\n",
       " None,\n",
       " None,\n",
       " None,\n",
       " None,\n",
       " None,\n",
       " None,\n",
       " None,\n",
       " None,\n",
       " None,\n",
       " None,\n",
       " None,\n",
       " None,\n",
       " None,\n",
       " None,\n",
       " None,\n",
       " None,\n",
       " None,\n",
       " None,\n",
       " None,\n",
       " None,\n",
       " None,\n",
       " None,\n",
       " None,\n",
       " None,\n",
       " None,\n",
       " None,\n",
       " None,\n",
       " None,\n",
       " None,\n",
       " None,\n",
       " None,\n",
       " None,\n",
       " None,\n",
       " None,\n",
       " None,\n",
       " None,\n",
       " None,\n",
       " None,\n",
       " None,\n",
       " None,\n",
       " None,\n",
       " None,\n",
       " None,\n",
       " None,\n",
       " None,\n",
       " None,\n",
       " None,\n",
       " None,\n",
       " None,\n",
       " None,\n",
       " None,\n",
       " None,\n",
       " None,\n",
       " None,\n",
       " None,\n",
       " None,\n",
       " None,\n",
       " None,\n",
       " None,\n",
       " None,\n",
       " None,\n",
       " None,\n",
       " None,\n",
       " None,\n",
       " None,\n",
       " None,\n",
       " None,\n",
       " None,\n",
       " None,\n",
       " None,\n",
       " None,\n",
       " None,\n",
       " None,\n",
       " None,\n",
       " None,\n",
       " None,\n",
       " None,\n",
       " None,\n",
       " None,\n",
       " None,\n",
       " None,\n",
       " None,\n",
       " None,\n",
       " None,\n",
       " None,\n",
       " None,\n",
       " None,\n",
       " None,\n",
       " None,\n",
       " None,\n",
       " None,\n",
       " None,\n",
       " None,\n",
       " None,\n",
       " None,\n",
       " None,\n",
       " None,\n",
       " None,\n",
       " None,\n",
       " None,\n",
       " None,\n",
       " None,\n",
       " None,\n",
       " None,\n",
       " None,\n",
       " None,\n",
       " None,\n",
       " None,\n",
       " None,\n",
       " None,\n",
       " None,\n",
       " None,\n",
       " None,\n",
       " None,\n",
       " None,\n",
       " None,\n",
       " None,\n",
       " None,\n",
       " None,\n",
       " None,\n",
       " None,\n",
       " None,\n",
       " None,\n",
       " None,\n",
       " None,\n",
       " None,\n",
       " None,\n",
       " None,\n",
       " None,\n",
       " None,\n",
       " None,\n",
       " None,\n",
       " None,\n",
       " None,\n",
       " None,\n",
       " None,\n",
       " None,\n",
       " None,\n",
       " None,\n",
       " None,\n",
       " None,\n",
       " None,\n",
       " None,\n",
       " None,\n",
       " None,\n",
       " None,\n",
       " None,\n",
       " None,\n",
       " None,\n",
       " None,\n",
       " None,\n",
       " None,\n",
       " None,\n",
       " None,\n",
       " None,\n",
       " None,\n",
       " None,\n",
       " None,\n",
       " None,\n",
       " None,\n",
       " None,\n",
       " None,\n",
       " None,\n",
       " None,\n",
       " None,\n",
       " None,\n",
       " None,\n",
       " None,\n",
       " None,\n",
       " None,\n",
       " None,\n",
       " None,\n",
       " None,\n",
       " None,\n",
       " None,\n",
       " None,\n",
       " None,\n",
       " None,\n",
       " None,\n",
       " None,\n",
       " None,\n",
       " None,\n",
       " None,\n",
       " None,\n",
       " None,\n",
       " None,\n",
       " None,\n",
       " None,\n",
       " None,\n",
       " None,\n",
       " None,\n",
       " None,\n",
       " None,\n",
       " None,\n",
       " None,\n",
       " None,\n",
       " None,\n",
       " None,\n",
       " None,\n",
       " None,\n",
       " None,\n",
       " None,\n",
       " None,\n",
       " None,\n",
       " None,\n",
       " None,\n",
       " None,\n",
       " None,\n",
       " None,\n",
       " None,\n",
       " None,\n",
       " None,\n",
       " None,\n",
       " None,\n",
       " None,\n",
       " None,\n",
       " None,\n",
       " None,\n",
       " None,\n",
       " None,\n",
       " None,\n",
       " None,\n",
       " None,\n",
       " None,\n",
       " None,\n",
       " None,\n",
       " None,\n",
       " None,\n",
       " None,\n",
       " None,\n",
       " None,\n",
       " None,\n",
       " None,\n",
       " None,\n",
       " None,\n",
       " None,\n",
       " None,\n",
       " None,\n",
       " None,\n",
       " None,\n",
       " None,\n",
       " None,\n",
       " None,\n",
       " None,\n",
       " None,\n",
       " None,\n",
       " None,\n",
       " None,\n",
       " None,\n",
       " None,\n",
       " None,\n",
       " None,\n",
       " None,\n",
       " None,\n",
       " None,\n",
       " None,\n",
       " None,\n",
       " None,\n",
       " None,\n",
       " None,\n",
       " None,\n",
       " None,\n",
       " None,\n",
       " None,\n",
       " None,\n",
       " None,\n",
       " None,\n",
       " None,\n",
       " None,\n",
       " None,\n",
       " None,\n",
       " None,\n",
       " None,\n",
       " None,\n",
       " None,\n",
       " None,\n",
       " None,\n",
       " None,\n",
       " None,\n",
       " None,\n",
       " None,\n",
       " None,\n",
       " None,\n",
       " None,\n",
       " None,\n",
       " None,\n",
       " None,\n",
       " None,\n",
       " None,\n",
       " None,\n",
       " None,\n",
       " None,\n",
       " None,\n",
       " None,\n",
       " None,\n",
       " None,\n",
       " None,\n",
       " None,\n",
       " None,\n",
       " None,\n",
       " None,\n",
       " None,\n",
       " None,\n",
       " None,\n",
       " None,\n",
       " None,\n",
       " None,\n",
       " None,\n",
       " None,\n",
       " None,\n",
       " None,\n",
       " None,\n",
       " None,\n",
       " None,\n",
       " None,\n",
       " None,\n",
       " None,\n",
       " None,\n",
       " None,\n",
       " None,\n",
       " None,\n",
       " None,\n",
       " None,\n",
       " None,\n",
       " None,\n",
       " None,\n",
       " None,\n",
       " None,\n",
       " None,\n",
       " None,\n",
       " None,\n",
       " None,\n",
       " None,\n",
       " None,\n",
       " None,\n",
       " None,\n",
       " None,\n",
       " None,\n",
       " None,\n",
       " None,\n",
       " None,\n",
       " None,\n",
       " None,\n",
       " None,\n",
       " None,\n",
       " None,\n",
       " None,\n",
       " None,\n",
       " None,\n",
       " None,\n",
       " None,\n",
       " None,\n",
       " None,\n",
       " None,\n",
       " None,\n",
       " None,\n",
       " None,\n",
       " None,\n",
       " None,\n",
       " None,\n",
       " None,\n",
       " None,\n",
       " None,\n",
       " None,\n",
       " None,\n",
       " None,\n",
       " None,\n",
       " None,\n",
       " None,\n",
       " None,\n",
       " None,\n",
       " None,\n",
       " None,\n",
       " None,\n",
       " None,\n",
       " None,\n",
       " None,\n",
       " None,\n",
       " None,\n",
       " None,\n",
       " None,\n",
       " None,\n",
       " None,\n",
       " None,\n",
       " None,\n",
       " None,\n",
       " None,\n",
       " None,\n",
       " None,\n",
       " None,\n",
       " None,\n",
       " None,\n",
       " None,\n",
       " None,\n",
       " None,\n",
       " None,\n",
       " None,\n",
       " None,\n",
       " None,\n",
       " None,\n",
       " None,\n",
       " None,\n",
       " None,\n",
       " None,\n",
       " None,\n",
       " None,\n",
       " None,\n",
       " None,\n",
       " None,\n",
       " None,\n",
       " None,\n",
       " None,\n",
       " None,\n",
       " None,\n",
       " None,\n",
       " None,\n",
       " None,\n",
       " None,\n",
       " None,\n",
       " None,\n",
       " None,\n",
       " None,\n",
       " None,\n",
       " None,\n",
       " None,\n",
       " None,\n",
       " None,\n",
       " None,\n",
       " None,\n",
       " None,\n",
       " None,\n",
       " None,\n",
       " None,\n",
       " None,\n",
       " None,\n",
       " None,\n",
       " None,\n",
       " None,\n",
       " None,\n",
       " None,\n",
       " None,\n",
       " None,\n",
       " None,\n",
       " None,\n",
       " None,\n",
       " None,\n",
       " None,\n",
       " None,\n",
       " None,\n",
       " None,\n",
       " None,\n",
       " None,\n",
       " None,\n",
       " None,\n",
       " None,\n",
       " None,\n",
       " None,\n",
       " None,\n",
       " None,\n",
       " None,\n",
       " None,\n",
       " None,\n",
       " None,\n",
       " None,\n",
       " None,\n",
       " None,\n",
       " None,\n",
       " None,\n",
       " None,\n",
       " None,\n",
       " None,\n",
       " None,\n",
       " None,\n",
       " None,\n",
       " None,\n",
       " None,\n",
       " None,\n",
       " None,\n",
       " None,\n",
       " None,\n",
       " None,\n",
       " None,\n",
       " None,\n",
       " None,\n",
       " None,\n",
       " None,\n",
       " None,\n",
       " None,\n",
       " None,\n",
       " None,\n",
       " None,\n",
       " None,\n",
       " None,\n",
       " None,\n",
       " None,\n",
       " None,\n",
       " None,\n",
       " None,\n",
       " None,\n",
       " None,\n",
       " None,\n",
       " None,\n",
       " None,\n",
       " None,\n",
       " None,\n",
       " None,\n",
       " None,\n",
       " None,\n",
       " None,\n",
       " None,\n",
       " None,\n",
       " None,\n",
       " None,\n",
       " None,\n",
       " None,\n",
       " None,\n",
       " None,\n",
       " None,\n",
       " None,\n",
       " None,\n",
       " None,\n",
       " None,\n",
       " None,\n",
       " None,\n",
       " None,\n",
       " None,\n",
       " None,\n",
       " None,\n",
       " None,\n",
       " None,\n",
       " None,\n",
       " None,\n",
       " None,\n",
       " None,\n",
       " None,\n",
       " None,\n",
       " None,\n",
       " None,\n",
       " None,\n",
       " None,\n",
       " None,\n",
       " None,\n",
       " None,\n",
       " None,\n",
       " None,\n",
       " None,\n",
       " None,\n",
       " None,\n",
       " None,\n",
       " None,\n",
       " None,\n",
       " None,\n",
       " None,\n",
       " None,\n",
       " None,\n",
       " None,\n",
       " None,\n",
       " None,\n",
       " None,\n",
       " None,\n",
       " None,\n",
       " None,\n",
       " None,\n",
       " None,\n",
       " None,\n",
       " None,\n",
       " None,\n",
       " None,\n",
       " None,\n",
       " None,\n",
       " None,\n",
       " None,\n",
       " None,\n",
       " None,\n",
       " None,\n",
       " None,\n",
       " None,\n",
       " None,\n",
       " None,\n",
       " None,\n",
       " None,\n",
       " None,\n",
       " None,\n",
       " None,\n",
       " None,\n",
       " None,\n",
       " None,\n",
       " None,\n",
       " None,\n",
       " None,\n",
       " None,\n",
       " None,\n",
       " None,\n",
       " None,\n",
       " None,\n",
       " None,\n",
       " None,\n",
       " None,\n",
       " None,\n",
       " None,\n",
       " None,\n",
       " None,\n",
       " None,\n",
       " None,\n",
       " None,\n",
       " None,\n",
       " None,\n",
       " None,\n",
       " None,\n",
       " None,\n",
       " None,\n",
       " None,\n",
       " None,\n",
       " None,\n",
       " None,\n",
       " None,\n",
       " None,\n",
       " None,\n",
       " None,\n",
       " None,\n",
       " None,\n",
       " None,\n",
       " None,\n",
       " None,\n",
       " None,\n",
       " None,\n",
       " None,\n",
       " None,\n",
       " None,\n",
       " None,\n",
       " None,\n",
       " None,\n",
       " None,\n",
       " None,\n",
       " None,\n",
       " None,\n",
       " None,\n",
       " None,\n",
       " None,\n",
       " None,\n",
       " None,\n",
       " None,\n",
       " None,\n",
       " None,\n",
       " None,\n",
       " None,\n",
       " None,\n",
       " None,\n",
       " None,\n",
       " None,\n",
       " None,\n",
       " None,\n",
       " None,\n",
       " None,\n",
       " None,\n",
       " None,\n",
       " None,\n",
       " None,\n",
       " None,\n",
       " None,\n",
       " None,\n",
       " None,\n",
       " None,\n",
       " None,\n",
       " None,\n",
       " None,\n",
       " None,\n",
       " None,\n",
       " None,\n",
       " None,\n",
       " None,\n",
       " None,\n",
       " None,\n",
       " None,\n",
       " None,\n",
       " None,\n",
       " None,\n",
       " None,\n",
       " None,\n",
       " None,\n",
       " None,\n",
       " None,\n",
       " None,\n",
       " None,\n",
       " None,\n",
       " None,\n",
       " None,\n",
       " None,\n",
       " None,\n",
       " None,\n",
       " None,\n",
       " None,\n",
       " None,\n",
       " None,\n",
       " None,\n",
       " None,\n",
       " None,\n",
       " None,\n",
       " None,\n",
       " None,\n",
       " None,\n",
       " None,\n",
       " None,\n",
       " None,\n",
       " None,\n",
       " None,\n",
       " None,\n",
       " None,\n",
       " None,\n",
       " None,\n",
       " None,\n",
       " None,\n",
       " None,\n",
       " None,\n",
       " None,\n",
       " None,\n",
       " None,\n",
       " None,\n",
       " None,\n",
       " None,\n",
       " None,\n",
       " None,\n",
       " None,\n",
       " None,\n",
       " None,\n",
       " None,\n",
       " None,\n",
       " None,\n",
       " None,\n",
       " None,\n",
       " None,\n",
       " None,\n",
       " None,\n",
       " None,\n",
       " None,\n",
       " None,\n",
       " None,\n",
       " None,\n",
       " None,\n",
       " None,\n",
       " None,\n",
       " None,\n",
       " None,\n",
       " None,\n",
       " None,\n",
       " None,\n",
       " None,\n",
       " None,\n",
       " None,\n",
       " None,\n",
       " None,\n",
       " None,\n",
       " None,\n",
       " None,\n",
       " None,\n",
       " None,\n",
       " None,\n",
       " None,\n",
       " None,\n",
       " None,\n",
       " None,\n",
       " None,\n",
       " None,\n",
       " None,\n",
       " None,\n",
       " None,\n",
       " None,\n",
       " None,\n",
       " None,\n",
       " None,\n",
       " None,\n",
       " None,\n",
       " None,\n",
       " None,\n",
       " None,\n",
       " None,\n",
       " None,\n",
       " None,\n",
       " None,\n",
       " None,\n",
       " None,\n",
       " None,\n",
       " None,\n",
       " None,\n",
       " None,\n",
       " None,\n",
       " None,\n",
       " None,\n",
       " None,\n",
       " None,\n",
       " None,\n",
       " None,\n",
       " None,\n",
       " None,\n",
       " None,\n",
       " None,\n",
       " None,\n",
       " None,\n",
       " None,\n",
       " None,\n",
       " None,\n",
       " None,\n",
       " None,\n",
       " None,\n",
       " None,\n",
       " None,\n",
       " None,\n",
       " None,\n",
       " None,\n",
       " None,\n",
       " None,\n",
       " None,\n",
       " None,\n",
       " None,\n",
       " None,\n",
       " None,\n",
       " None,\n",
       " None,\n",
       " None,\n",
       " None,\n",
       " None,\n",
       " None,\n",
       " None,\n",
       " None,\n",
       " None,\n",
       " None,\n",
       " None,\n",
       " None,\n",
       " None,\n",
       " None,\n",
       " None,\n",
       " None,\n",
       " None,\n",
       " None,\n",
       " None,\n",
       " None,\n",
       " None,\n",
       " None,\n",
       " None,\n",
       " None,\n",
       " None,\n",
       " None,\n",
       " None,\n",
       " None,\n",
       " None,\n",
       " None,\n",
       " None,\n",
       " None,\n",
       " None,\n",
       " None,\n",
       " None,\n",
       " None,\n",
       " None,\n",
       " None,\n",
       " None,\n",
       " None,\n",
       " None,\n",
       " None,\n",
       " None,\n",
       " None,\n",
       " None,\n",
       " None,\n",
       " None,\n",
       " None,\n",
       " None,\n",
       " None,\n",
       " None,\n",
       " None,\n",
       " ...]"
      ]
     },
     "execution_count": 25,
     "metadata": {},
     "output_type": "execute_result"
    }
   ],
   "source": [
    "randomdates = [\"Jul 31, 2022\", \"2022-05-10\", None]\n",
    "\n",
    "for i in range(len(df)-3):\n",
    "    randomdates.append(None)\n",
    "    \n",
    "randomdates"
   ]
  },
  {
   "cell_type": "code",
   "execution_count": 26,
   "id": "664897ec",
   "metadata": {},
   "outputs": [],
   "source": [
    "ser = pd.to_datetime(pd.Series(randomdates))"
   ]
  },
  {
   "cell_type": "code",
   "execution_count": 27,
   "id": "70d5bb05",
   "metadata": {},
   "outputs": [],
   "source": [
    "df.insert(1,'randTime', ser.values)"
   ]
  },
  {
   "cell_type": "code",
   "execution_count": 28,
   "id": "12b3f536",
   "metadata": {},
   "outputs": [
    {
     "data": {
      "text/html": [
       "<div>\n",
       "<style scoped>\n",
       "    .dataframe tbody tr th:only-of-type {\n",
       "        vertical-align: middle;\n",
       "    }\n",
       "\n",
       "    .dataframe tbody tr th {\n",
       "        vertical-align: top;\n",
       "    }\n",
       "\n",
       "    .dataframe thead th {\n",
       "        text-align: right;\n",
       "    }\n",
       "</style>\n",
       "<table border=\"1\" class=\"dataframe\">\n",
       "  <thead>\n",
       "    <tr style=\"text-align: right;\">\n",
       "      <th></th>\n",
       "      <th>Time</th>\n",
       "      <th>randTime</th>\n",
       "      <th>temperature_2_m_above_gnd</th>\n",
       "      <th>relative_humidity_2_m_above_gnd</th>\n",
       "      <th>mean_sea_level_pressure_MSL</th>\n",
       "      <th>total_precipitation_sfc</th>\n",
       "      <th>snowfall_amount_sfc</th>\n",
       "      <th>total_cloud_cover_sfc</th>\n",
       "      <th>high_cloud_cover_high_cld_lay</th>\n",
       "      <th>medium_cloud_cover_mid_cld_lay</th>\n",
       "      <th>...</th>\n",
       "      <th>wind_direction_10_m_above_gnd</th>\n",
       "      <th>wind_speed_80_m_above_gnd</th>\n",
       "      <th>wind_direction_80_m_above_gnd</th>\n",
       "      <th>wind_speed_900_mb</th>\n",
       "      <th>wind_direction_900_mb</th>\n",
       "      <th>wind_gust_10_m_above_gnd</th>\n",
       "      <th>angle_of_incidence</th>\n",
       "      <th>zenith</th>\n",
       "      <th>azimuth</th>\n",
       "      <th>generated_power_kw</th>\n",
       "    </tr>\n",
       "  </thead>\n",
       "  <tbody>\n",
       "    <tr>\n",
       "      <th>0</th>\n",
       "      <td>2015-05-02 00:00:00</td>\n",
       "      <td>2022-07-31</td>\n",
       "      <td>2.17</td>\n",
       "      <td>31</td>\n",
       "      <td>1035.0</td>\n",
       "      <td>0.0</td>\n",
       "      <td>0.0</td>\n",
       "      <td>0.0</td>\n",
       "      <td>0</td>\n",
       "      <td>0</td>\n",
       "      <td>...</td>\n",
       "      <td>312.71</td>\n",
       "      <td>9.36</td>\n",
       "      <td>22.62</td>\n",
       "      <td>6.62</td>\n",
       "      <td>337.62</td>\n",
       "      <td>24.48</td>\n",
       "      <td>58.753108</td>\n",
       "      <td>83.237322</td>\n",
       "      <td>128.33543</td>\n",
       "      <td>454.100950</td>\n",
       "    </tr>\n",
       "    <tr>\n",
       "      <th>1</th>\n",
       "      <td>2015-05-02 01:00:00</td>\n",
       "      <td>2022-05-10</td>\n",
       "      <td>2.31</td>\n",
       "      <td>27</td>\n",
       "      <td>1035.1</td>\n",
       "      <td>0.0</td>\n",
       "      <td>0.0</td>\n",
       "      <td>0.0</td>\n",
       "      <td>0</td>\n",
       "      <td>0</td>\n",
       "      <td>...</td>\n",
       "      <td>294.78</td>\n",
       "      <td>5.99</td>\n",
       "      <td>32.74</td>\n",
       "      <td>4.61</td>\n",
       "      <td>321.34</td>\n",
       "      <td>21.96</td>\n",
       "      <td>45.408585</td>\n",
       "      <td>75.143041</td>\n",
       "      <td>139.65530</td>\n",
       "      <td>1411.999400</td>\n",
       "    </tr>\n",
       "    <tr>\n",
       "      <th>2</th>\n",
       "      <td>2015-05-02 02:00:00</td>\n",
       "      <td>NaT</td>\n",
       "      <td>3.65</td>\n",
       "      <td>33</td>\n",
       "      <td>1035.4</td>\n",
       "      <td>0.0</td>\n",
       "      <td>0.0</td>\n",
       "      <td>0.0</td>\n",
       "      <td>0</td>\n",
       "      <td>0</td>\n",
       "      <td>...</td>\n",
       "      <td>270.00</td>\n",
       "      <td>3.89</td>\n",
       "      <td>56.31</td>\n",
       "      <td>3.76</td>\n",
       "      <td>286.70</td>\n",
       "      <td>14.04</td>\n",
       "      <td>32.848282</td>\n",
       "      <td>68.820648</td>\n",
       "      <td>152.53769</td>\n",
       "      <td>2214.849300</td>\n",
       "    </tr>\n",
       "    <tr>\n",
       "      <th>3</th>\n",
       "      <td>2015-05-02 03:00:00</td>\n",
       "      <td>NaT</td>\n",
       "      <td>5.82</td>\n",
       "      <td>30</td>\n",
       "      <td>1035.4</td>\n",
       "      <td>0.0</td>\n",
       "      <td>0.0</td>\n",
       "      <td>0.0</td>\n",
       "      <td>0</td>\n",
       "      <td>0</td>\n",
       "      <td>...</td>\n",
       "      <td>323.13</td>\n",
       "      <td>3.55</td>\n",
       "      <td>23.96</td>\n",
       "      <td>3.08</td>\n",
       "      <td>339.44</td>\n",
       "      <td>19.80</td>\n",
       "      <td>22.699288</td>\n",
       "      <td>64.883536</td>\n",
       "      <td>166.90159</td>\n",
       "      <td>2527.609200</td>\n",
       "    </tr>\n",
       "    <tr>\n",
       "      <th>4</th>\n",
       "      <td>2015-05-02 04:00:00</td>\n",
       "      <td>NaT</td>\n",
       "      <td>7.73</td>\n",
       "      <td>27</td>\n",
       "      <td>1034.4</td>\n",
       "      <td>0.0</td>\n",
       "      <td>0.0</td>\n",
       "      <td>0.0</td>\n",
       "      <td>0</td>\n",
       "      <td>0</td>\n",
       "      <td>...</td>\n",
       "      <td>10.01</td>\n",
       "      <td>6.76</td>\n",
       "      <td>25.20</td>\n",
       "      <td>6.62</td>\n",
       "      <td>22.38</td>\n",
       "      <td>16.56</td>\n",
       "      <td>19.199908</td>\n",
       "      <td>63.795208</td>\n",
       "      <td>182.13526</td>\n",
       "      <td>2640.203400</td>\n",
       "    </tr>\n",
       "    <tr>\n",
       "      <th>...</th>\n",
       "      <td>...</td>\n",
       "      <td>...</td>\n",
       "      <td>...</td>\n",
       "      <td>...</td>\n",
       "      <td>...</td>\n",
       "      <td>...</td>\n",
       "      <td>...</td>\n",
       "      <td>...</td>\n",
       "      <td>...</td>\n",
       "      <td>...</td>\n",
       "      <td>...</td>\n",
       "      <td>...</td>\n",
       "      <td>...</td>\n",
       "      <td>...</td>\n",
       "      <td>...</td>\n",
       "      <td>...</td>\n",
       "      <td>...</td>\n",
       "      <td>...</td>\n",
       "      <td>...</td>\n",
       "      <td>...</td>\n",
       "      <td>...</td>\n",
       "    </tr>\n",
       "    <tr>\n",
       "      <th>4208</th>\n",
       "      <td>2015-10-24 08:00:00</td>\n",
       "      <td>NaT</td>\n",
       "      <td>8.69</td>\n",
       "      <td>66</td>\n",
       "      <td>1025.1</td>\n",
       "      <td>0.0</td>\n",
       "      <td>0.0</td>\n",
       "      <td>100.0</td>\n",
       "      <td>100</td>\n",
       "      <td>100</td>\n",
       "      <td>...</td>\n",
       "      <td>285.42</td>\n",
       "      <td>25.50</td>\n",
       "      <td>283.06</td>\n",
       "      <td>24.01</td>\n",
       "      <td>282.99</td>\n",
       "      <td>25.20</td>\n",
       "      <td>22.700907</td>\n",
       "      <td>64.952098</td>\n",
       "      <td>167.06794</td>\n",
       "      <td>173.410560</td>\n",
       "    </tr>\n",
       "    <tr>\n",
       "      <th>4209</th>\n",
       "      <td>2015-10-24 09:00:00</td>\n",
       "      <td>NaT</td>\n",
       "      <td>7.57</td>\n",
       "      <td>90</td>\n",
       "      <td>1026.1</td>\n",
       "      <td>0.0</td>\n",
       "      <td>0.0</td>\n",
       "      <td>100.0</td>\n",
       "      <td>79</td>\n",
       "      <td>100</td>\n",
       "      <td>...</td>\n",
       "      <td>6.91</td>\n",
       "      <td>13.00</td>\n",
       "      <td>4.76</td>\n",
       "      <td>11.61</td>\n",
       "      <td>7.13</td>\n",
       "      <td>10.44</td>\n",
       "      <td>19.307487</td>\n",
       "      <td>63.895118</td>\n",
       "      <td>182.28247</td>\n",
       "      <td>403.792220</td>\n",
       "    </tr>\n",
       "    <tr>\n",
       "      <th>4210</th>\n",
       "      <td>2015-10-24 10:00:00</td>\n",
       "      <td>NaT</td>\n",
       "      <td>7.27</td>\n",
       "      <td>90</td>\n",
       "      <td>1026.3</td>\n",
       "      <td>0.1</td>\n",
       "      <td>0.0</td>\n",
       "      <td>100.0</td>\n",
       "      <td>73</td>\n",
       "      <td>100</td>\n",
       "      <td>...</td>\n",
       "      <td>2.29</td>\n",
       "      <td>8.71</td>\n",
       "      <td>352.87</td>\n",
       "      <td>7.95</td>\n",
       "      <td>354.81</td>\n",
       "      <td>22.32</td>\n",
       "      <td>25.249506</td>\n",
       "      <td>65.827032</td>\n",
       "      <td>197.33868</td>\n",
       "      <td>158.367780</td>\n",
       "    </tr>\n",
       "    <tr>\n",
       "      <th>4211</th>\n",
       "      <td>2015-10-24 11:00:00</td>\n",
       "      <td>NaT</td>\n",
       "      <td>8.25</td>\n",
       "      <td>81</td>\n",
       "      <td>1025.5</td>\n",
       "      <td>0.0</td>\n",
       "      <td>0.0</td>\n",
       "      <td>100.0</td>\n",
       "      <td>74</td>\n",
       "      <td>66</td>\n",
       "      <td>...</td>\n",
       "      <td>11.31</td>\n",
       "      <td>6.29</td>\n",
       "      <td>13.24</td>\n",
       "      <td>5.94</td>\n",
       "      <td>14.04</td>\n",
       "      <td>15.48</td>\n",
       "      <td>36.361161</td>\n",
       "      <td>70.496313</td>\n",
       "      <td>211.30027</td>\n",
       "      <td>126.953060</td>\n",
       "    </tr>\n",
       "    <tr>\n",
       "      <th>4212</th>\n",
       "      <td>2015-10-24 12:00:00</td>\n",
       "      <td>NaT</td>\n",
       "      <td>8.00</td>\n",
       "      <td>80</td>\n",
       "      <td>1025.3</td>\n",
       "      <td>0.0</td>\n",
       "      <td>0.0</td>\n",
       "      <td>100.0</td>\n",
       "      <td>100</td>\n",
       "      <td>100</td>\n",
       "      <td>...</td>\n",
       "      <td>12.72</td>\n",
       "      <td>12.07</td>\n",
       "      <td>17.35</td>\n",
       "      <td>11.38</td>\n",
       "      <td>18.43</td>\n",
       "      <td>16.20</td>\n",
       "      <td>48.452849</td>\n",
       "      <td>76.919574</td>\n",
       "      <td>223.04931</td>\n",
       "      <td>20.055031</td>\n",
       "    </tr>\n",
       "  </tbody>\n",
       "</table>\n",
       "<p>4213 rows × 23 columns</p>\n",
       "</div>"
      ],
      "text/plain": [
       "                    Time   randTime  temperature_2_m_above_gnd  \\\n",
       "0    2015-05-02 00:00:00 2022-07-31                       2.17   \n",
       "1    2015-05-02 01:00:00 2022-05-10                       2.31   \n",
       "2    2015-05-02 02:00:00        NaT                       3.65   \n",
       "3    2015-05-02 03:00:00        NaT                       5.82   \n",
       "4    2015-05-02 04:00:00        NaT                       7.73   \n",
       "...                  ...        ...                        ...   \n",
       "4208 2015-10-24 08:00:00        NaT                       8.69   \n",
       "4209 2015-10-24 09:00:00        NaT                       7.57   \n",
       "4210 2015-10-24 10:00:00        NaT                       7.27   \n",
       "4211 2015-10-24 11:00:00        NaT                       8.25   \n",
       "4212 2015-10-24 12:00:00        NaT                       8.00   \n",
       "\n",
       "      relative_humidity_2_m_above_gnd  mean_sea_level_pressure_MSL  \\\n",
       "0                                  31                       1035.0   \n",
       "1                                  27                       1035.1   \n",
       "2                                  33                       1035.4   \n",
       "3                                  30                       1035.4   \n",
       "4                                  27                       1034.4   \n",
       "...                               ...                          ...   \n",
       "4208                               66                       1025.1   \n",
       "4209                               90                       1026.1   \n",
       "4210                               90                       1026.3   \n",
       "4211                               81                       1025.5   \n",
       "4212                               80                       1025.3   \n",
       "\n",
       "      total_precipitation_sfc  snowfall_amount_sfc  total_cloud_cover_sfc  \\\n",
       "0                         0.0                  0.0                    0.0   \n",
       "1                         0.0                  0.0                    0.0   \n",
       "2                         0.0                  0.0                    0.0   \n",
       "3                         0.0                  0.0                    0.0   \n",
       "4                         0.0                  0.0                    0.0   \n",
       "...                       ...                  ...                    ...   \n",
       "4208                      0.0                  0.0                  100.0   \n",
       "4209                      0.0                  0.0                  100.0   \n",
       "4210                      0.1                  0.0                  100.0   \n",
       "4211                      0.0                  0.0                  100.0   \n",
       "4212                      0.0                  0.0                  100.0   \n",
       "\n",
       "      high_cloud_cover_high_cld_lay  medium_cloud_cover_mid_cld_lay  ...  \\\n",
       "0                                 0                               0  ...   \n",
       "1                                 0                               0  ...   \n",
       "2                                 0                               0  ...   \n",
       "3                                 0                               0  ...   \n",
       "4                                 0                               0  ...   \n",
       "...                             ...                             ...  ...   \n",
       "4208                            100                             100  ...   \n",
       "4209                             79                             100  ...   \n",
       "4210                             73                             100  ...   \n",
       "4211                             74                              66  ...   \n",
       "4212                            100                             100  ...   \n",
       "\n",
       "      wind_direction_10_m_above_gnd  wind_speed_80_m_above_gnd  \\\n",
       "0                            312.71                       9.36   \n",
       "1                            294.78                       5.99   \n",
       "2                            270.00                       3.89   \n",
       "3                            323.13                       3.55   \n",
       "4                             10.01                       6.76   \n",
       "...                             ...                        ...   \n",
       "4208                         285.42                      25.50   \n",
       "4209                           6.91                      13.00   \n",
       "4210                           2.29                       8.71   \n",
       "4211                          11.31                       6.29   \n",
       "4212                          12.72                      12.07   \n",
       "\n",
       "      wind_direction_80_m_above_gnd  wind_speed_900_mb  wind_direction_900_mb  \\\n",
       "0                             22.62               6.62                 337.62   \n",
       "1                             32.74               4.61                 321.34   \n",
       "2                             56.31               3.76                 286.70   \n",
       "3                             23.96               3.08                 339.44   \n",
       "4                             25.20               6.62                  22.38   \n",
       "...                             ...                ...                    ...   \n",
       "4208                         283.06              24.01                 282.99   \n",
       "4209                           4.76              11.61                   7.13   \n",
       "4210                         352.87               7.95                 354.81   \n",
       "4211                          13.24               5.94                  14.04   \n",
       "4212                          17.35              11.38                  18.43   \n",
       "\n",
       "      wind_gust_10_m_above_gnd  angle_of_incidence     zenith    azimuth  \\\n",
       "0                        24.48           58.753108  83.237322  128.33543   \n",
       "1                        21.96           45.408585  75.143041  139.65530   \n",
       "2                        14.04           32.848282  68.820648  152.53769   \n",
       "3                        19.80           22.699288  64.883536  166.90159   \n",
       "4                        16.56           19.199908  63.795208  182.13526   \n",
       "...                        ...                 ...        ...        ...   \n",
       "4208                     25.20           22.700907  64.952098  167.06794   \n",
       "4209                     10.44           19.307487  63.895118  182.28247   \n",
       "4210                     22.32           25.249506  65.827032  197.33868   \n",
       "4211                     15.48           36.361161  70.496313  211.30027   \n",
       "4212                     16.20           48.452849  76.919574  223.04931   \n",
       "\n",
       "      generated_power_kw  \n",
       "0             454.100950  \n",
       "1            1411.999400  \n",
       "2            2214.849300  \n",
       "3            2527.609200  \n",
       "4            2640.203400  \n",
       "...                  ...  \n",
       "4208          173.410560  \n",
       "4209          403.792220  \n",
       "4210          158.367780  \n",
       "4211          126.953060  \n",
       "4212           20.055031  \n",
       "\n",
       "[4213 rows x 23 columns]"
      ]
     },
     "execution_count": 28,
     "metadata": {},
     "output_type": "execute_result"
    }
   ],
   "source": [
    "df"
   ]
  },
  {
   "cell_type": "markdown",
   "id": "e8d54fc9",
   "metadata": {},
   "source": [
    "#### Here when you take a string like date and convert it into datetime you get the standard datetime and the ones the datetime doesn't recognize is stored as **NaT** which is similar to np.nan."
   ]
  },
  {
   "cell_type": "code",
   "execution_count": 29,
   "id": "b2a4bcee",
   "metadata": {},
   "outputs": [
    {
     "data": {
      "text/plain": [
       "DatetimeIndex(['2012-01-04 10:00:00'], dtype='datetime64[ns]', freq=None)"
      ]
     },
     "execution_count": 29,
     "metadata": {},
     "output_type": "execute_result"
    }
   ],
   "source": [
    "pd.to_datetime([\"04-01-2012 10:00\"], dayfirst=True)"
   ]
  },
  {
   "cell_type": "markdown",
   "id": "2a1e8794",
   "metadata": {},
   "source": [
    "#### If you use dates which start with the day first (i.e. European style), we can pass the dayfirst flag as done above"
   ]
  },
  {
   "cell_type": "code",
   "execution_count": 30,
   "id": "43addc9a",
   "metadata": {},
   "outputs": [
    {
     "data": {
      "text/plain": [
       "Timestamp('2010-11-12 00:00:00')"
      ]
     },
     "execution_count": 30,
     "metadata": {},
     "output_type": "execute_result"
    }
   ],
   "source": [
    "pd.to_datetime(\"2010/11/12\")"
   ]
  },
  {
   "cell_type": "code",
   "execution_count": 31,
   "id": "5da80ceb",
   "metadata": {},
   "outputs": [
    {
     "data": {
      "text/plain": [
       "Timestamp('2010-11-12 00:00:00')"
      ]
     },
     "execution_count": 31,
     "metadata": {},
     "output_type": "execute_result"
    }
   ],
   "source": [
    "pd.Timestamp(\"2010/11/12\")"
   ]
  },
  {
   "cell_type": "markdown",
   "id": "a37fe94c",
   "metadata": {},
   "source": [
    "#### If we pass a single string to **to_datetime**, it returns a single **Timestamp**. **Timestamp** can also accept string input, but it doesn’t accept string parsing options like **dayfirst** or **format**, so use **to_datetime** if these are required."
   ]
  },
  {
   "cell_type": "markdown",
   "id": "16a64081",
   "metadata": {},
   "source": [
    "#### We can also use the **DatetimeIndex** constructor directly:"
   ]
  },
  {
   "cell_type": "code",
   "execution_count": 32,
   "id": "097d7ba9",
   "metadata": {},
   "outputs": [
    {
     "data": {
      "text/plain": [
       "DatetimeIndex(['2018-01-01', '2018-01-03', '2018-01-05'], dtype='datetime64[ns]', freq=None)"
      ]
     },
     "execution_count": 32,
     "metadata": {},
     "output_type": "execute_result"
    }
   ],
   "source": [
    "pd.DatetimeIndex([\"2018-01-01\", \"2018-01-03\", \"2018-01-05\"])"
   ]
  },
  {
   "cell_type": "markdown",
   "id": "d59dd730",
   "metadata": {},
   "source": [
    "#### The string ‘infer’ can be passed in order to set the frequency of the index as the inferred frequency upon creation:"
   ]
  },
  {
   "cell_type": "code",
   "execution_count": 33,
   "id": "689d40ea",
   "metadata": {},
   "outputs": [
    {
     "data": {
      "text/plain": [
       "DatetimeIndex(['2018-01-01', '2018-01-03', '2018-01-05'], dtype='datetime64[ns]', freq='2D')"
      ]
     },
     "execution_count": 33,
     "metadata": {},
     "output_type": "execute_result"
    }
   ],
   "source": [
    "pd.DatetimeIndex([\"2018-01-01\", \"2018-01-03\", \"2018-01-05\"], freq=\"infer\")\n"
   ]
  },
  {
   "cell_type": "markdown",
   "id": "fb8e814c",
   "metadata": {},
   "source": [
    "### Providing a format argument"
   ]
  },
  {
   "cell_type": "code",
   "execution_count": 34,
   "id": "d7a1efa8",
   "metadata": {},
   "outputs": [
    {
     "data": {
      "text/plain": [
       "Timestamp('2010-11-12 00:00:00')"
      ]
     },
     "execution_count": 34,
     "metadata": {},
     "output_type": "execute_result"
    }
   ],
   "source": [
    "pd.to_datetime(\"2010/11/12\", format=\"%Y/%m/%d\")"
   ]
  },
  {
   "cell_type": "code",
   "execution_count": 35,
   "id": "c021e36a",
   "metadata": {},
   "outputs": [
    {
     "data": {
      "text/plain": [
       "Timestamp('2010-11-12 00:00:00')"
      ]
     },
     "execution_count": 35,
     "metadata": {},
     "output_type": "execute_result"
    }
   ],
   "source": [
    "pd.to_datetime(\"12-11-2010 00:00\", format=\"%d-%m-%Y %H:%M\")\n"
   ]
  },
  {
   "cell_type": "markdown",
   "id": "0e16f123",
   "metadata": {},
   "source": [
    "### Assembling datetime from multiple DataFrame columns"
   ]
  },
  {
   "cell_type": "code",
   "execution_count": 36,
   "id": "66fd3a55",
   "metadata": {},
   "outputs": [],
   "source": [
    "df1 = pd.DataFrame(\n",
    "    {\"year\": [2015, 2016], \"month\": [2, 3], \"day\": [4, 5], \"hour\": [2, 3]}\n",
    ")"
   ]
  },
  {
   "cell_type": "code",
   "execution_count": 37,
   "id": "80ec40cb",
   "metadata": {},
   "outputs": [
    {
     "data": {
      "text/plain": [
       "0   2015-02-04 02:00:00\n",
       "1   2016-03-05 03:00:00\n",
       "dtype: datetime64[ns]"
      ]
     },
     "execution_count": 37,
     "metadata": {},
     "output_type": "execute_result"
    }
   ],
   "source": [
    "pd.to_datetime(df1)"
   ]
  },
  {
   "cell_type": "markdown",
   "id": "365b2dee",
   "metadata": {},
   "source": [
    "#### You can pass only the columns that you need to assemble."
   ]
  },
  {
   "cell_type": "code",
   "execution_count": 38,
   "id": "4ef84acd",
   "metadata": {},
   "outputs": [
    {
     "data": {
      "text/plain": [
       "0   2015-02-04\n",
       "1   2016-03-05\n",
       "dtype: datetime64[ns]"
      ]
     },
     "execution_count": 38,
     "metadata": {},
     "output_type": "execute_result"
    }
   ],
   "source": [
    "pd.to_datetime(df1[[\"year\", \"month\", \"day\"]])"
   ]
  },
  {
   "cell_type": "markdown",
   "id": "f81ceb1e",
   "metadata": {},
   "source": [
    "#### Required: **year, month, day**\n",
    "\n",
    "#### Optional: **hour, minute, second, millisecond, microsecond, nanosecond**"
   ]
  },
  {
   "cell_type": "markdown",
   "id": "f29bee92",
   "metadata": {},
   "source": [
    "### Invalid data\n"
   ]
  },
  {
   "cell_type": "markdown",
   "id": "ef21ec3e",
   "metadata": {},
   "source": [
    "#### Type of errors values:\n",
    "\n",
    "**errors = \"raise\"**, raises errors if there are any errors in the code.\n",
    "\n",
    "**errors = \"ignore\"**, raises errors if there are any errors in the code.\n",
    "\n",
    "**errors = \"coerce\"**, raises errors if there are any errors in the code."
   ]
  },
  {
   "cell_type": "code",
   "execution_count": 39,
   "id": "93feb4c2",
   "metadata": {},
   "outputs": [],
   "source": [
    "df.iat[4,1] = \"asd\""
   ]
  },
  {
   "cell_type": "code",
   "execution_count": 40,
   "id": "a384e924",
   "metadata": {},
   "outputs": [
    {
     "data": {
      "text/html": [
       "<div>\n",
       "<style scoped>\n",
       "    .dataframe tbody tr th:only-of-type {\n",
       "        vertical-align: middle;\n",
       "    }\n",
       "\n",
       "    .dataframe tbody tr th {\n",
       "        vertical-align: top;\n",
       "    }\n",
       "\n",
       "    .dataframe thead th {\n",
       "        text-align: right;\n",
       "    }\n",
       "</style>\n",
       "<table border=\"1\" class=\"dataframe\">\n",
       "  <thead>\n",
       "    <tr style=\"text-align: right;\">\n",
       "      <th></th>\n",
       "      <th>Time</th>\n",
       "      <th>randTime</th>\n",
       "      <th>temperature_2_m_above_gnd</th>\n",
       "      <th>relative_humidity_2_m_above_gnd</th>\n",
       "      <th>mean_sea_level_pressure_MSL</th>\n",
       "      <th>total_precipitation_sfc</th>\n",
       "      <th>snowfall_amount_sfc</th>\n",
       "      <th>total_cloud_cover_sfc</th>\n",
       "      <th>high_cloud_cover_high_cld_lay</th>\n",
       "      <th>medium_cloud_cover_mid_cld_lay</th>\n",
       "      <th>...</th>\n",
       "      <th>wind_direction_10_m_above_gnd</th>\n",
       "      <th>wind_speed_80_m_above_gnd</th>\n",
       "      <th>wind_direction_80_m_above_gnd</th>\n",
       "      <th>wind_speed_900_mb</th>\n",
       "      <th>wind_direction_900_mb</th>\n",
       "      <th>wind_gust_10_m_above_gnd</th>\n",
       "      <th>angle_of_incidence</th>\n",
       "      <th>zenith</th>\n",
       "      <th>azimuth</th>\n",
       "      <th>generated_power_kw</th>\n",
       "    </tr>\n",
       "  </thead>\n",
       "  <tbody>\n",
       "    <tr>\n",
       "      <th>0</th>\n",
       "      <td>2015-05-02 00:00:00</td>\n",
       "      <td>2022-07-31 00:00:00</td>\n",
       "      <td>2.17</td>\n",
       "      <td>31</td>\n",
       "      <td>1035.0</td>\n",
       "      <td>0.0</td>\n",
       "      <td>0.0</td>\n",
       "      <td>0.0</td>\n",
       "      <td>0</td>\n",
       "      <td>0</td>\n",
       "      <td>...</td>\n",
       "      <td>312.71</td>\n",
       "      <td>9.36</td>\n",
       "      <td>22.62</td>\n",
       "      <td>6.62</td>\n",
       "      <td>337.62</td>\n",
       "      <td>24.48</td>\n",
       "      <td>58.753108</td>\n",
       "      <td>83.237322</td>\n",
       "      <td>128.33543</td>\n",
       "      <td>454.100950</td>\n",
       "    </tr>\n",
       "    <tr>\n",
       "      <th>1</th>\n",
       "      <td>2015-05-02 01:00:00</td>\n",
       "      <td>2022-05-10 00:00:00</td>\n",
       "      <td>2.31</td>\n",
       "      <td>27</td>\n",
       "      <td>1035.1</td>\n",
       "      <td>0.0</td>\n",
       "      <td>0.0</td>\n",
       "      <td>0.0</td>\n",
       "      <td>0</td>\n",
       "      <td>0</td>\n",
       "      <td>...</td>\n",
       "      <td>294.78</td>\n",
       "      <td>5.99</td>\n",
       "      <td>32.74</td>\n",
       "      <td>4.61</td>\n",
       "      <td>321.34</td>\n",
       "      <td>21.96</td>\n",
       "      <td>45.408585</td>\n",
       "      <td>75.143041</td>\n",
       "      <td>139.65530</td>\n",
       "      <td>1411.999400</td>\n",
       "    </tr>\n",
       "    <tr>\n",
       "      <th>2</th>\n",
       "      <td>2015-05-02 02:00:00</td>\n",
       "      <td>NaT</td>\n",
       "      <td>3.65</td>\n",
       "      <td>33</td>\n",
       "      <td>1035.4</td>\n",
       "      <td>0.0</td>\n",
       "      <td>0.0</td>\n",
       "      <td>0.0</td>\n",
       "      <td>0</td>\n",
       "      <td>0</td>\n",
       "      <td>...</td>\n",
       "      <td>270.00</td>\n",
       "      <td>3.89</td>\n",
       "      <td>56.31</td>\n",
       "      <td>3.76</td>\n",
       "      <td>286.70</td>\n",
       "      <td>14.04</td>\n",
       "      <td>32.848282</td>\n",
       "      <td>68.820648</td>\n",
       "      <td>152.53769</td>\n",
       "      <td>2214.849300</td>\n",
       "    </tr>\n",
       "    <tr>\n",
       "      <th>3</th>\n",
       "      <td>2015-05-02 03:00:00</td>\n",
       "      <td>NaT</td>\n",
       "      <td>5.82</td>\n",
       "      <td>30</td>\n",
       "      <td>1035.4</td>\n",
       "      <td>0.0</td>\n",
       "      <td>0.0</td>\n",
       "      <td>0.0</td>\n",
       "      <td>0</td>\n",
       "      <td>0</td>\n",
       "      <td>...</td>\n",
       "      <td>323.13</td>\n",
       "      <td>3.55</td>\n",
       "      <td>23.96</td>\n",
       "      <td>3.08</td>\n",
       "      <td>339.44</td>\n",
       "      <td>19.80</td>\n",
       "      <td>22.699288</td>\n",
       "      <td>64.883536</td>\n",
       "      <td>166.90159</td>\n",
       "      <td>2527.609200</td>\n",
       "    </tr>\n",
       "    <tr>\n",
       "      <th>4</th>\n",
       "      <td>2015-05-02 04:00:00</td>\n",
       "      <td>asd</td>\n",
       "      <td>7.73</td>\n",
       "      <td>27</td>\n",
       "      <td>1034.4</td>\n",
       "      <td>0.0</td>\n",
       "      <td>0.0</td>\n",
       "      <td>0.0</td>\n",
       "      <td>0</td>\n",
       "      <td>0</td>\n",
       "      <td>...</td>\n",
       "      <td>10.01</td>\n",
       "      <td>6.76</td>\n",
       "      <td>25.20</td>\n",
       "      <td>6.62</td>\n",
       "      <td>22.38</td>\n",
       "      <td>16.56</td>\n",
       "      <td>19.199908</td>\n",
       "      <td>63.795208</td>\n",
       "      <td>182.13526</td>\n",
       "      <td>2640.203400</td>\n",
       "    </tr>\n",
       "    <tr>\n",
       "      <th>...</th>\n",
       "      <td>...</td>\n",
       "      <td>...</td>\n",
       "      <td>...</td>\n",
       "      <td>...</td>\n",
       "      <td>...</td>\n",
       "      <td>...</td>\n",
       "      <td>...</td>\n",
       "      <td>...</td>\n",
       "      <td>...</td>\n",
       "      <td>...</td>\n",
       "      <td>...</td>\n",
       "      <td>...</td>\n",
       "      <td>...</td>\n",
       "      <td>...</td>\n",
       "      <td>...</td>\n",
       "      <td>...</td>\n",
       "      <td>...</td>\n",
       "      <td>...</td>\n",
       "      <td>...</td>\n",
       "      <td>...</td>\n",
       "      <td>...</td>\n",
       "    </tr>\n",
       "    <tr>\n",
       "      <th>4208</th>\n",
       "      <td>2015-10-24 08:00:00</td>\n",
       "      <td>NaN</td>\n",
       "      <td>8.69</td>\n",
       "      <td>66</td>\n",
       "      <td>1025.1</td>\n",
       "      <td>0.0</td>\n",
       "      <td>0.0</td>\n",
       "      <td>100.0</td>\n",
       "      <td>100</td>\n",
       "      <td>100</td>\n",
       "      <td>...</td>\n",
       "      <td>285.42</td>\n",
       "      <td>25.50</td>\n",
       "      <td>283.06</td>\n",
       "      <td>24.01</td>\n",
       "      <td>282.99</td>\n",
       "      <td>25.20</td>\n",
       "      <td>22.700907</td>\n",
       "      <td>64.952098</td>\n",
       "      <td>167.06794</td>\n",
       "      <td>173.410560</td>\n",
       "    </tr>\n",
       "    <tr>\n",
       "      <th>4209</th>\n",
       "      <td>2015-10-24 09:00:00</td>\n",
       "      <td>NaN</td>\n",
       "      <td>7.57</td>\n",
       "      <td>90</td>\n",
       "      <td>1026.1</td>\n",
       "      <td>0.0</td>\n",
       "      <td>0.0</td>\n",
       "      <td>100.0</td>\n",
       "      <td>79</td>\n",
       "      <td>100</td>\n",
       "      <td>...</td>\n",
       "      <td>6.91</td>\n",
       "      <td>13.00</td>\n",
       "      <td>4.76</td>\n",
       "      <td>11.61</td>\n",
       "      <td>7.13</td>\n",
       "      <td>10.44</td>\n",
       "      <td>19.307487</td>\n",
       "      <td>63.895118</td>\n",
       "      <td>182.28247</td>\n",
       "      <td>403.792220</td>\n",
       "    </tr>\n",
       "    <tr>\n",
       "      <th>4210</th>\n",
       "      <td>2015-10-24 10:00:00</td>\n",
       "      <td>NaN</td>\n",
       "      <td>7.27</td>\n",
       "      <td>90</td>\n",
       "      <td>1026.3</td>\n",
       "      <td>0.1</td>\n",
       "      <td>0.0</td>\n",
       "      <td>100.0</td>\n",
       "      <td>73</td>\n",
       "      <td>100</td>\n",
       "      <td>...</td>\n",
       "      <td>2.29</td>\n",
       "      <td>8.71</td>\n",
       "      <td>352.87</td>\n",
       "      <td>7.95</td>\n",
       "      <td>354.81</td>\n",
       "      <td>22.32</td>\n",
       "      <td>25.249506</td>\n",
       "      <td>65.827032</td>\n",
       "      <td>197.33868</td>\n",
       "      <td>158.367780</td>\n",
       "    </tr>\n",
       "    <tr>\n",
       "      <th>4211</th>\n",
       "      <td>2015-10-24 11:00:00</td>\n",
       "      <td>NaN</td>\n",
       "      <td>8.25</td>\n",
       "      <td>81</td>\n",
       "      <td>1025.5</td>\n",
       "      <td>0.0</td>\n",
       "      <td>0.0</td>\n",
       "      <td>100.0</td>\n",
       "      <td>74</td>\n",
       "      <td>66</td>\n",
       "      <td>...</td>\n",
       "      <td>11.31</td>\n",
       "      <td>6.29</td>\n",
       "      <td>13.24</td>\n",
       "      <td>5.94</td>\n",
       "      <td>14.04</td>\n",
       "      <td>15.48</td>\n",
       "      <td>36.361161</td>\n",
       "      <td>70.496313</td>\n",
       "      <td>211.30027</td>\n",
       "      <td>126.953060</td>\n",
       "    </tr>\n",
       "    <tr>\n",
       "      <th>4212</th>\n",
       "      <td>2015-10-24 12:00:00</td>\n",
       "      <td>NaN</td>\n",
       "      <td>8.00</td>\n",
       "      <td>80</td>\n",
       "      <td>1025.3</td>\n",
       "      <td>0.0</td>\n",
       "      <td>0.0</td>\n",
       "      <td>100.0</td>\n",
       "      <td>100</td>\n",
       "      <td>100</td>\n",
       "      <td>...</td>\n",
       "      <td>12.72</td>\n",
       "      <td>12.07</td>\n",
       "      <td>17.35</td>\n",
       "      <td>11.38</td>\n",
       "      <td>18.43</td>\n",
       "      <td>16.20</td>\n",
       "      <td>48.452849</td>\n",
       "      <td>76.919574</td>\n",
       "      <td>223.04931</td>\n",
       "      <td>20.055031</td>\n",
       "    </tr>\n",
       "  </tbody>\n",
       "</table>\n",
       "<p>4213 rows × 23 columns</p>\n",
       "</div>"
      ],
      "text/plain": [
       "                    Time             randTime  temperature_2_m_above_gnd  \\\n",
       "0    2015-05-02 00:00:00  2022-07-31 00:00:00                       2.17   \n",
       "1    2015-05-02 01:00:00  2022-05-10 00:00:00                       2.31   \n",
       "2    2015-05-02 02:00:00                  NaT                       3.65   \n",
       "3    2015-05-02 03:00:00                  NaT                       5.82   \n",
       "4    2015-05-02 04:00:00                  asd                       7.73   \n",
       "...                  ...                  ...                        ...   \n",
       "4208 2015-10-24 08:00:00                  NaN                       8.69   \n",
       "4209 2015-10-24 09:00:00                  NaN                       7.57   \n",
       "4210 2015-10-24 10:00:00                  NaN                       7.27   \n",
       "4211 2015-10-24 11:00:00                  NaN                       8.25   \n",
       "4212 2015-10-24 12:00:00                  NaN                       8.00   \n",
       "\n",
       "      relative_humidity_2_m_above_gnd  mean_sea_level_pressure_MSL  \\\n",
       "0                                  31                       1035.0   \n",
       "1                                  27                       1035.1   \n",
       "2                                  33                       1035.4   \n",
       "3                                  30                       1035.4   \n",
       "4                                  27                       1034.4   \n",
       "...                               ...                          ...   \n",
       "4208                               66                       1025.1   \n",
       "4209                               90                       1026.1   \n",
       "4210                               90                       1026.3   \n",
       "4211                               81                       1025.5   \n",
       "4212                               80                       1025.3   \n",
       "\n",
       "      total_precipitation_sfc  snowfall_amount_sfc  total_cloud_cover_sfc  \\\n",
       "0                         0.0                  0.0                    0.0   \n",
       "1                         0.0                  0.0                    0.0   \n",
       "2                         0.0                  0.0                    0.0   \n",
       "3                         0.0                  0.0                    0.0   \n",
       "4                         0.0                  0.0                    0.0   \n",
       "...                       ...                  ...                    ...   \n",
       "4208                      0.0                  0.0                  100.0   \n",
       "4209                      0.0                  0.0                  100.0   \n",
       "4210                      0.1                  0.0                  100.0   \n",
       "4211                      0.0                  0.0                  100.0   \n",
       "4212                      0.0                  0.0                  100.0   \n",
       "\n",
       "      high_cloud_cover_high_cld_lay  medium_cloud_cover_mid_cld_lay  ...  \\\n",
       "0                                 0                               0  ...   \n",
       "1                                 0                               0  ...   \n",
       "2                                 0                               0  ...   \n",
       "3                                 0                               0  ...   \n",
       "4                                 0                               0  ...   \n",
       "...                             ...                             ...  ...   \n",
       "4208                            100                             100  ...   \n",
       "4209                             79                             100  ...   \n",
       "4210                             73                             100  ...   \n",
       "4211                             74                              66  ...   \n",
       "4212                            100                             100  ...   \n",
       "\n",
       "      wind_direction_10_m_above_gnd  wind_speed_80_m_above_gnd  \\\n",
       "0                            312.71                       9.36   \n",
       "1                            294.78                       5.99   \n",
       "2                            270.00                       3.89   \n",
       "3                            323.13                       3.55   \n",
       "4                             10.01                       6.76   \n",
       "...                             ...                        ...   \n",
       "4208                         285.42                      25.50   \n",
       "4209                           6.91                      13.00   \n",
       "4210                           2.29                       8.71   \n",
       "4211                          11.31                       6.29   \n",
       "4212                          12.72                      12.07   \n",
       "\n",
       "      wind_direction_80_m_above_gnd  wind_speed_900_mb  wind_direction_900_mb  \\\n",
       "0                             22.62               6.62                 337.62   \n",
       "1                             32.74               4.61                 321.34   \n",
       "2                             56.31               3.76                 286.70   \n",
       "3                             23.96               3.08                 339.44   \n",
       "4                             25.20               6.62                  22.38   \n",
       "...                             ...                ...                    ...   \n",
       "4208                         283.06              24.01                 282.99   \n",
       "4209                           4.76              11.61                   7.13   \n",
       "4210                         352.87               7.95                 354.81   \n",
       "4211                          13.24               5.94                  14.04   \n",
       "4212                          17.35              11.38                  18.43   \n",
       "\n",
       "      wind_gust_10_m_above_gnd  angle_of_incidence     zenith    azimuth  \\\n",
       "0                        24.48           58.753108  83.237322  128.33543   \n",
       "1                        21.96           45.408585  75.143041  139.65530   \n",
       "2                        14.04           32.848282  68.820648  152.53769   \n",
       "3                        19.80           22.699288  64.883536  166.90159   \n",
       "4                        16.56           19.199908  63.795208  182.13526   \n",
       "...                        ...                 ...        ...        ...   \n",
       "4208                     25.20           22.700907  64.952098  167.06794   \n",
       "4209                     10.44           19.307487  63.895118  182.28247   \n",
       "4210                     22.32           25.249506  65.827032  197.33868   \n",
       "4211                     15.48           36.361161  70.496313  211.30027   \n",
       "4212                     16.20           48.452849  76.919574  223.04931   \n",
       "\n",
       "      generated_power_kw  \n",
       "0             454.100950  \n",
       "1            1411.999400  \n",
       "2            2214.849300  \n",
       "3            2527.609200  \n",
       "4            2640.203400  \n",
       "...                  ...  \n",
       "4208          173.410560  \n",
       "4209          403.792220  \n",
       "4210          158.367780  \n",
       "4211          126.953060  \n",
       "4212           20.055031  \n",
       "\n",
       "[4213 rows x 23 columns]"
      ]
     },
     "execution_count": 40,
     "metadata": {},
     "output_type": "execute_result"
    }
   ],
   "source": [
    "df"
   ]
  },
  {
   "cell_type": "code",
   "execution_count": 42,
   "id": "bafc2b3f",
   "metadata": {
    "scrolled": false
   },
   "outputs": [
    {
     "ename": "ParserError",
     "evalue": "Unknown string format: asd",
     "output_type": "error",
     "traceback": [
      "\u001b[1;31m---------------------------------------------------------------------------\u001b[0m",
      "\u001b[1;31mTypeError\u001b[0m                                 Traceback (most recent call last)",
      "File \u001b[1;32m~\\AppData\\Local\\Programs\\Python\\Python310\\lib\\site-packages\\pandas\\core\\arrays\\datetimes.py:2236\u001b[0m, in \u001b[0;36mobjects_to_datetime64ns\u001b[1;34m(data, dayfirst, yearfirst, utc, errors, require_iso8601, allow_object, allow_mixed)\u001b[0m\n\u001b[0;32m   2235\u001b[0m \u001b[38;5;28;01mtry\u001b[39;00m:\n\u001b[1;32m-> 2236\u001b[0m     values, tz_parsed \u001b[38;5;241m=\u001b[39m \u001b[43mconversion\u001b[49m\u001b[38;5;241;43m.\u001b[39;49m\u001b[43mdatetime_to_datetime64\u001b[49m\u001b[43m(\u001b[49m\u001b[43mdata\u001b[49m\u001b[38;5;241;43m.\u001b[39;49m\u001b[43mravel\u001b[49m\u001b[43m(\u001b[49m\u001b[38;5;124;43m\"\u001b[39;49m\u001b[38;5;124;43mK\u001b[39;49m\u001b[38;5;124;43m\"\u001b[39;49m\u001b[43m)\u001b[49m\u001b[43m)\u001b[49m\n\u001b[0;32m   2237\u001b[0m     \u001b[38;5;66;03m# If tzaware, these values represent unix timestamps, so we\u001b[39;00m\n\u001b[0;32m   2238\u001b[0m     \u001b[38;5;66;03m#  return them as i8 to distinguish from wall times\u001b[39;00m\n",
      "File \u001b[1;32m~\\AppData\\Local\\Programs\\Python\\Python310\\lib\\site-packages\\pandas\\_libs\\tslibs\\conversion.pyx:360\u001b[0m, in \u001b[0;36mpandas._libs.tslibs.conversion.datetime_to_datetime64\u001b[1;34m()\u001b[0m\n",
      "\u001b[1;31mTypeError\u001b[0m: Unrecognized value type: <class 'str'>",
      "\nDuring handling of the above exception, another exception occurred:\n",
      "\u001b[1;31mParserError\u001b[0m                               Traceback (most recent call last)",
      "Input \u001b[1;32mIn [42]\u001b[0m, in \u001b[0;36m<cell line: 1>\u001b[1;34m()\u001b[0m\n\u001b[1;32m----> 1\u001b[0m \u001b[43mpd\u001b[49m\u001b[38;5;241;43m.\u001b[39;49m\u001b[43mto_datetime\u001b[49m\u001b[43m(\u001b[49m\u001b[43mdf\u001b[49m\u001b[38;5;241;43m.\u001b[39;49m\u001b[43miat\u001b[49m\u001b[43m[\u001b[49m\u001b[38;5;241;43m4\u001b[39;49m\u001b[43m,\u001b[49m\u001b[38;5;241;43m1\u001b[39;49m\u001b[43m]\u001b[49m\u001b[43m,\u001b[49m\u001b[43m \u001b[49m\u001b[43merrors\u001b[49m\u001b[43m \u001b[49m\u001b[38;5;241;43m=\u001b[39;49m\u001b[43m \u001b[49m\u001b[38;5;124;43m'\u001b[39;49m\u001b[38;5;124;43mraise\u001b[39;49m\u001b[38;5;124;43m'\u001b[39;49m\u001b[43m)\u001b[49m\n",
      "File \u001b[1;32m~\\AppData\\Local\\Programs\\Python\\Python310\\lib\\site-packages\\pandas\\core\\tools\\datetimes.py:1078\u001b[0m, in \u001b[0;36mto_datetime\u001b[1;34m(arg, errors, dayfirst, yearfirst, utc, format, exact, unit, infer_datetime_format, origin, cache)\u001b[0m\n\u001b[0;32m   1076\u001b[0m         result \u001b[38;5;241m=\u001b[39m convert_listlike(arg, \u001b[38;5;28mformat\u001b[39m)\n\u001b[0;32m   1077\u001b[0m \u001b[38;5;28;01melse\u001b[39;00m:\n\u001b[1;32m-> 1078\u001b[0m     result \u001b[38;5;241m=\u001b[39m \u001b[43mconvert_listlike\u001b[49m\u001b[43m(\u001b[49m\u001b[43mnp\u001b[49m\u001b[38;5;241;43m.\u001b[39;49m\u001b[43marray\u001b[49m\u001b[43m(\u001b[49m\u001b[43m[\u001b[49m\u001b[43marg\u001b[49m\u001b[43m]\u001b[49m\u001b[43m)\u001b[49m\u001b[43m,\u001b[49m\u001b[43m \u001b[49m\u001b[38;5;28;43mformat\u001b[39;49m\u001b[43m)\u001b[49m[\u001b[38;5;241m0\u001b[39m]\n\u001b[0;32m   1080\u001b[0m \u001b[38;5;66;03m#  error: Incompatible return value type (got \"Union[Timestamp, NaTType,\u001b[39;00m\n\u001b[0;32m   1081\u001b[0m \u001b[38;5;66;03m# Series, Index]\", expected \"Union[DatetimeIndex, Series, float, str,\u001b[39;00m\n\u001b[0;32m   1082\u001b[0m \u001b[38;5;66;03m# NaTType, None]\")\u001b[39;00m\n\u001b[0;32m   1083\u001b[0m \u001b[38;5;28;01mreturn\u001b[39;00m result\n",
      "File \u001b[1;32m~\\AppData\\Local\\Programs\\Python\\Python310\\lib\\site-packages\\pandas\\core\\tools\\datetimes.py:402\u001b[0m, in \u001b[0;36m_convert_listlike_datetimes\u001b[1;34m(arg, format, name, tz, unit, errors, infer_datetime_format, dayfirst, yearfirst, exact)\u001b[0m\n\u001b[0;32m    400\u001b[0m \u001b[38;5;28;01massert\u001b[39;00m \u001b[38;5;28mformat\u001b[39m \u001b[38;5;129;01mis\u001b[39;00m \u001b[38;5;28;01mNone\u001b[39;00m \u001b[38;5;129;01mor\u001b[39;00m infer_datetime_format\n\u001b[0;32m    401\u001b[0m utc \u001b[38;5;241m=\u001b[39m tz \u001b[38;5;241m==\u001b[39m \u001b[38;5;124m\"\u001b[39m\u001b[38;5;124mutc\u001b[39m\u001b[38;5;124m\"\u001b[39m\n\u001b[1;32m--> 402\u001b[0m result, tz_parsed \u001b[38;5;241m=\u001b[39m \u001b[43mobjects_to_datetime64ns\u001b[49m\u001b[43m(\u001b[49m\n\u001b[0;32m    403\u001b[0m \u001b[43m    \u001b[49m\u001b[43marg\u001b[49m\u001b[43m,\u001b[49m\n\u001b[0;32m    404\u001b[0m \u001b[43m    \u001b[49m\u001b[43mdayfirst\u001b[49m\u001b[38;5;241;43m=\u001b[39;49m\u001b[43mdayfirst\u001b[49m\u001b[43m,\u001b[49m\n\u001b[0;32m    405\u001b[0m \u001b[43m    \u001b[49m\u001b[43myearfirst\u001b[49m\u001b[38;5;241;43m=\u001b[39;49m\u001b[43myearfirst\u001b[49m\u001b[43m,\u001b[49m\n\u001b[0;32m    406\u001b[0m \u001b[43m    \u001b[49m\u001b[43mutc\u001b[49m\u001b[38;5;241;43m=\u001b[39;49m\u001b[43mutc\u001b[49m\u001b[43m,\u001b[49m\n\u001b[0;32m    407\u001b[0m \u001b[43m    \u001b[49m\u001b[43merrors\u001b[49m\u001b[38;5;241;43m=\u001b[39;49m\u001b[43merrors\u001b[49m\u001b[43m,\u001b[49m\n\u001b[0;32m    408\u001b[0m \u001b[43m    \u001b[49m\u001b[43mrequire_iso8601\u001b[49m\u001b[38;5;241;43m=\u001b[39;49m\u001b[43mrequire_iso8601\u001b[49m\u001b[43m,\u001b[49m\n\u001b[0;32m    409\u001b[0m \u001b[43m    \u001b[49m\u001b[43mallow_object\u001b[49m\u001b[38;5;241;43m=\u001b[39;49m\u001b[38;5;28;43;01mTrue\u001b[39;49;00m\u001b[43m,\u001b[49m\n\u001b[0;32m    410\u001b[0m \u001b[43m\u001b[49m\u001b[43m)\u001b[49m\n\u001b[0;32m    412\u001b[0m \u001b[38;5;28;01mif\u001b[39;00m tz_parsed \u001b[38;5;129;01mis\u001b[39;00m \u001b[38;5;129;01mnot\u001b[39;00m \u001b[38;5;28;01mNone\u001b[39;00m:\n\u001b[0;32m    413\u001b[0m     \u001b[38;5;66;03m# We can take a shortcut since the datetime64 numpy array\u001b[39;00m\n\u001b[0;32m    414\u001b[0m     \u001b[38;5;66;03m# is in UTC\u001b[39;00m\n\u001b[0;32m    415\u001b[0m     dta \u001b[38;5;241m=\u001b[39m DatetimeArray(result, dtype\u001b[38;5;241m=\u001b[39mtz_to_dtype(tz_parsed))\n",
      "File \u001b[1;32m~\\AppData\\Local\\Programs\\Python\\Python310\\lib\\site-packages\\pandas\\core\\arrays\\datetimes.py:2242\u001b[0m, in \u001b[0;36mobjects_to_datetime64ns\u001b[1;34m(data, dayfirst, yearfirst, utc, errors, require_iso8601, allow_object, allow_mixed)\u001b[0m\n\u001b[0;32m   2240\u001b[0m         \u001b[38;5;28;01mreturn\u001b[39;00m values\u001b[38;5;241m.\u001b[39mview(\u001b[38;5;124m\"\u001b[39m\u001b[38;5;124mi8\u001b[39m\u001b[38;5;124m\"\u001b[39m), tz_parsed\n\u001b[0;32m   2241\u001b[0m     \u001b[38;5;28;01mexcept\u001b[39;00m (\u001b[38;5;167;01mValueError\u001b[39;00m, \u001b[38;5;167;01mTypeError\u001b[39;00m):\n\u001b[1;32m-> 2242\u001b[0m         \u001b[38;5;28;01mraise\u001b[39;00m err\n\u001b[0;32m   2244\u001b[0m \u001b[38;5;28;01mif\u001b[39;00m tz_parsed \u001b[38;5;129;01mis\u001b[39;00m \u001b[38;5;129;01mnot\u001b[39;00m \u001b[38;5;28;01mNone\u001b[39;00m:\n\u001b[0;32m   2245\u001b[0m     \u001b[38;5;66;03m# We can take a shortcut since the datetime64 numpy array\u001b[39;00m\n\u001b[0;32m   2246\u001b[0m     \u001b[38;5;66;03m#  is in UTC\u001b[39;00m\n\u001b[0;32m   2247\u001b[0m     \u001b[38;5;66;03m# Return i8 values to denote unix timestamps\u001b[39;00m\n\u001b[0;32m   2248\u001b[0m     \u001b[38;5;28;01mreturn\u001b[39;00m result\u001b[38;5;241m.\u001b[39mview(\u001b[38;5;124m\"\u001b[39m\u001b[38;5;124mi8\u001b[39m\u001b[38;5;124m\"\u001b[39m), tz_parsed\n",
      "File \u001b[1;32m~\\AppData\\Local\\Programs\\Python\\Python310\\lib\\site-packages\\pandas\\core\\arrays\\datetimes.py:2224\u001b[0m, in \u001b[0;36mobjects_to_datetime64ns\u001b[1;34m(data, dayfirst, yearfirst, utc, errors, require_iso8601, allow_object, allow_mixed)\u001b[0m\n\u001b[0;32m   2222\u001b[0m order: Literal[\u001b[38;5;124m\"\u001b[39m\u001b[38;5;124mF\u001b[39m\u001b[38;5;124m\"\u001b[39m, \u001b[38;5;124m\"\u001b[39m\u001b[38;5;124mC\u001b[39m\u001b[38;5;124m\"\u001b[39m] \u001b[38;5;241m=\u001b[39m \u001b[38;5;124m\"\u001b[39m\u001b[38;5;124mF\u001b[39m\u001b[38;5;124m\"\u001b[39m \u001b[38;5;28;01mif\u001b[39;00m flags\u001b[38;5;241m.\u001b[39mf_contiguous \u001b[38;5;28;01melse\u001b[39;00m \u001b[38;5;124m\"\u001b[39m\u001b[38;5;124mC\u001b[39m\u001b[38;5;124m\"\u001b[39m\n\u001b[0;32m   2223\u001b[0m \u001b[38;5;28;01mtry\u001b[39;00m:\n\u001b[1;32m-> 2224\u001b[0m     result, tz_parsed \u001b[38;5;241m=\u001b[39m \u001b[43mtslib\u001b[49m\u001b[38;5;241;43m.\u001b[39;49m\u001b[43marray_to_datetime\u001b[49m\u001b[43m(\u001b[49m\n\u001b[0;32m   2225\u001b[0m \u001b[43m        \u001b[49m\u001b[43mdata\u001b[49m\u001b[38;5;241;43m.\u001b[39;49m\u001b[43mravel\u001b[49m\u001b[43m(\u001b[49m\u001b[38;5;124;43m\"\u001b[39;49m\u001b[38;5;124;43mK\u001b[39;49m\u001b[38;5;124;43m\"\u001b[39;49m\u001b[43m)\u001b[49m\u001b[43m,\u001b[49m\n\u001b[0;32m   2226\u001b[0m \u001b[43m        \u001b[49m\u001b[43merrors\u001b[49m\u001b[38;5;241;43m=\u001b[39;49m\u001b[43merrors\u001b[49m\u001b[43m,\u001b[49m\n\u001b[0;32m   2227\u001b[0m \u001b[43m        \u001b[49m\u001b[43mutc\u001b[49m\u001b[38;5;241;43m=\u001b[39;49m\u001b[43mutc\u001b[49m\u001b[43m,\u001b[49m\n\u001b[0;32m   2228\u001b[0m \u001b[43m        \u001b[49m\u001b[43mdayfirst\u001b[49m\u001b[38;5;241;43m=\u001b[39;49m\u001b[43mdayfirst\u001b[49m\u001b[43m,\u001b[49m\n\u001b[0;32m   2229\u001b[0m \u001b[43m        \u001b[49m\u001b[43myearfirst\u001b[49m\u001b[38;5;241;43m=\u001b[39;49m\u001b[43myearfirst\u001b[49m\u001b[43m,\u001b[49m\n\u001b[0;32m   2230\u001b[0m \u001b[43m        \u001b[49m\u001b[43mrequire_iso8601\u001b[49m\u001b[38;5;241;43m=\u001b[39;49m\u001b[43mrequire_iso8601\u001b[49m\u001b[43m,\u001b[49m\n\u001b[0;32m   2231\u001b[0m \u001b[43m        \u001b[49m\u001b[43mallow_mixed\u001b[49m\u001b[38;5;241;43m=\u001b[39;49m\u001b[43mallow_mixed\u001b[49m\u001b[43m,\u001b[49m\n\u001b[0;32m   2232\u001b[0m \u001b[43m    \u001b[49m\u001b[43m)\u001b[49m\n\u001b[0;32m   2233\u001b[0m     result \u001b[38;5;241m=\u001b[39m result\u001b[38;5;241m.\u001b[39mreshape(data\u001b[38;5;241m.\u001b[39mshape, order\u001b[38;5;241m=\u001b[39morder)\n\u001b[0;32m   2234\u001b[0m \u001b[38;5;28;01mexcept\u001b[39;00m \u001b[38;5;167;01mValueError\u001b[39;00m \u001b[38;5;28;01mas\u001b[39;00m err:\n",
      "File \u001b[1;32m~\\AppData\\Local\\Programs\\Python\\Python310\\lib\\site-packages\\pandas\\_libs\\tslib.pyx:381\u001b[0m, in \u001b[0;36mpandas._libs.tslib.array_to_datetime\u001b[1;34m()\u001b[0m\n",
      "File \u001b[1;32m~\\AppData\\Local\\Programs\\Python\\Python310\\lib\\site-packages\\pandas\\_libs\\tslib.pyx:613\u001b[0m, in \u001b[0;36mpandas._libs.tslib.array_to_datetime\u001b[1;34m()\u001b[0m\n",
      "File \u001b[1;32m~\\AppData\\Local\\Programs\\Python\\Python310\\lib\\site-packages\\pandas\\_libs\\tslib.pyx:751\u001b[0m, in \u001b[0;36mpandas._libs.tslib._array_to_datetime_object\u001b[1;34m()\u001b[0m\n",
      "File \u001b[1;32m~\\AppData\\Local\\Programs\\Python\\Python310\\lib\\site-packages\\pandas\\_libs\\tslib.pyx:742\u001b[0m, in \u001b[0;36mpandas._libs.tslib._array_to_datetime_object\u001b[1;34m()\u001b[0m\n",
      "File \u001b[1;32m~\\AppData\\Local\\Programs\\Python\\Python310\\lib\\site-packages\\pandas\\_libs\\tslibs\\parsing.pyx:281\u001b[0m, in \u001b[0;36mpandas._libs.tslibs.parsing.parse_datetime_string\u001b[1;34m()\u001b[0m\n",
      "File \u001b[1;32m~\\AppData\\Local\\Programs\\Python\\Python310\\lib\\site-packages\\dateutil\\parser\\_parser.py:1368\u001b[0m, in \u001b[0;36mparse\u001b[1;34m(timestr, parserinfo, **kwargs)\u001b[0m\n\u001b[0;32m   1366\u001b[0m     \u001b[38;5;28;01mreturn\u001b[39;00m parser(parserinfo)\u001b[38;5;241m.\u001b[39mparse(timestr, \u001b[38;5;241m*\u001b[39m\u001b[38;5;241m*\u001b[39mkwargs)\n\u001b[0;32m   1367\u001b[0m \u001b[38;5;28;01melse\u001b[39;00m:\n\u001b[1;32m-> 1368\u001b[0m     \u001b[38;5;28;01mreturn\u001b[39;00m DEFAULTPARSER\u001b[38;5;241m.\u001b[39mparse(timestr, \u001b[38;5;241m*\u001b[39m\u001b[38;5;241m*\u001b[39mkwargs)\n",
      "File \u001b[1;32m~\\AppData\\Local\\Programs\\Python\\Python310\\lib\\site-packages\\dateutil\\parser\\_parser.py:643\u001b[0m, in \u001b[0;36mparser.parse\u001b[1;34m(self, timestr, default, ignoretz, tzinfos, **kwargs)\u001b[0m\n\u001b[0;32m    640\u001b[0m res, skipped_tokens \u001b[38;5;241m=\u001b[39m \u001b[38;5;28mself\u001b[39m\u001b[38;5;241m.\u001b[39m_parse(timestr, \u001b[38;5;241m*\u001b[39m\u001b[38;5;241m*\u001b[39mkwargs)\n\u001b[0;32m    642\u001b[0m \u001b[38;5;28;01mif\u001b[39;00m res \u001b[38;5;129;01mis\u001b[39;00m \u001b[38;5;28;01mNone\u001b[39;00m:\n\u001b[1;32m--> 643\u001b[0m     \u001b[38;5;28;01mraise\u001b[39;00m ParserError(\u001b[38;5;124m\"\u001b[39m\u001b[38;5;124mUnknown string format: \u001b[39m\u001b[38;5;132;01m%s\u001b[39;00m\u001b[38;5;124m\"\u001b[39m, timestr)\n\u001b[0;32m    645\u001b[0m \u001b[38;5;28;01mif\u001b[39;00m \u001b[38;5;28mlen\u001b[39m(res) \u001b[38;5;241m==\u001b[39m \u001b[38;5;241m0\u001b[39m:\n\u001b[0;32m    646\u001b[0m     \u001b[38;5;28;01mraise\u001b[39;00m ParserError(\u001b[38;5;124m\"\u001b[39m\u001b[38;5;124mString does not contain a date: \u001b[39m\u001b[38;5;132;01m%s\u001b[39;00m\u001b[38;5;124m\"\u001b[39m, timestr)\n",
      "\u001b[1;31mParserError\u001b[0m: Unknown string format: asd"
     ]
    }
   ],
   "source": [
    "pd.to_datetime(df.iat[4,1], errors = 'raise')"
   ]
  },
  {
   "cell_type": "code",
   "execution_count": null,
   "id": "fd57c966",
   "metadata": {},
   "outputs": [],
   "source": [
    "pd.to_datetime(df.iat[4,1], errors = 'ignore')"
   ]
  },
  {
   "cell_type": "code",
   "execution_count": null,
   "id": "9b306811",
   "metadata": {},
   "outputs": [],
   "source": [
    "pd.to_datetime(df.iat[4,1], errors = 'coerce')"
   ]
  },
  {
   "cell_type": "markdown",
   "id": "e1d8bb22",
   "metadata": {},
   "source": [
    "### Epoch timestamps"
   ]
  },
  {
   "cell_type": "markdown",
   "id": "628683f2",
   "metadata": {},
   "source": [
    "#### Pandas supports converting integer or float epoch times to **Timestamp** and **DatetimeIndex**. The default unit is nanoseconds, since that is how **Timestamp** objects are stored internally. However, epochs are often stored in another **unit** which can be specified. These are computed from the starting point specified by the **origin** parameter."
   ]
  },
  {
   "cell_type": "code",
   "execution_count": null,
   "id": "cd0d008f",
   "metadata": {},
   "outputs": [],
   "source": [
    "pd.to_datetime(\n",
    "    [1349720105, 1349806505, 1349892905, 1349979305, 1350065705], unit=\"s\"\n",
    ")"
   ]
  },
  {
   "cell_type": "code",
   "execution_count": null,
   "id": "4873118a",
   "metadata": {},
   "outputs": [],
   "source": [
    "pd.to_datetime(\n",
    "    [1349720105100, 1349720105200, 1349720105300, 1349720105400, 1349720105500],\n",
    "    unit=\"ms\",\n",
    ")"
   ]
  },
  {
   "cell_type": "markdown",
   "id": "ba42621a",
   "metadata": {},
   "source": [
    "#### Constructing a **Timestamp** or **DatetimeIndex** with an epoch timestamp with the **tz** argument specified will raise a ValueError. If you have epochs in wall time in another timezone, you can read the epochs as timezone-naive timestamps and then localize to the appropriate timezone:"
   ]
  },
  {
   "cell_type": "code",
   "execution_count": null,
   "id": "34fc079d",
   "metadata": {},
   "outputs": [],
   "source": [
    "pd.Timestamp(1262347200000000000).tz_localize(\"US/Pacific\")"
   ]
  },
  {
   "cell_type": "code",
   "execution_count": null,
   "id": "fea1f350",
   "metadata": {},
   "outputs": [],
   "source": [
    "pd.DatetimeIndex([1262347200000000000]).tz_localize(\"US/Pacific\")"
   ]
  },
  {
   "cell_type": "code",
   "execution_count": null,
   "id": "ef60a4aa",
   "metadata": {},
   "outputs": [],
   "source": [
    "pd.to_datetime([1490195805.433, 1490195805.433502912], unit=\"s\")"
   ]
  },
  {
   "cell_type": "code",
   "execution_count": null,
   "id": "596cf339",
   "metadata": {},
   "outputs": [],
   "source": [
    "pd.to_datetime(1490195805433502912, unit=\"ns\")"
   ]
  },
  {
   "cell_type": "markdown",
   "id": "470ab3bb",
   "metadata": {},
   "source": [
    "### From timestamps to epoch"
   ]
  },
  {
   "cell_type": "markdown",
   "id": "e7439447",
   "metadata": {},
   "source": [
    "****The Unix epoch (or Unix time or POSIX time or Unix timestamp) is the number of seconds that have elapsed since January 1, 1970 (midnight UTC/GMT), not counting leap seconds (in ISO 8601: 1970-01-01T00:00:00Z).****"
   ]
  },
  {
   "cell_type": "code",
   "execution_count": null,
   "id": "cc05f53f",
   "metadata": {},
   "outputs": [],
   "source": [
    "stamps = df.loc[:,\"Time\"]"
   ]
  },
  {
   "cell_type": "code",
   "execution_count": null,
   "id": "e2b994a8",
   "metadata": {},
   "outputs": [],
   "source": [
    "stamps"
   ]
  },
  {
   "cell_type": "code",
   "execution_count": null,
   "id": "a20af66b",
   "metadata": {},
   "outputs": [],
   "source": [
    "(stamps - pd.Timestamp(\"1970-01-01\")) // pd.Timedelta(\"1s\")"
   ]
  },
  {
   "cell_type": "markdown",
   "id": "8bc03830",
   "metadata": {},
   "source": [
    "### Using the origin parameter\n"
   ]
  },
  {
   "cell_type": "markdown",
   "id": "51e5d83b",
   "metadata": {},
   "source": [
    "#### Using the **origin** parameter, one can specify an alternative starting point for creation of a **DatetimeIndex**. For example, to use 1960-01-01 as the starting date:"
   ]
  },
  {
   "cell_type": "code",
   "execution_count": null,
   "id": "8c9e9a40",
   "metadata": {},
   "outputs": [],
   "source": [
    "pd.to_datetime([1, 2, 3], unit=\"D\", origin=pd.Timestamp(\"1960-01-01\"))"
   ]
  },
  {
   "cell_type": "markdown",
   "id": "c549e337",
   "metadata": {},
   "source": [
    "#### The default is set at **origin='unix'**, which defaults to **1970-01-01 00:00:00**. Commonly called ‘unix epoch’ or POSIX time."
   ]
  },
  {
   "cell_type": "code",
   "execution_count": null,
   "id": "6a0f2c1f",
   "metadata": {},
   "outputs": [],
   "source": [
    "pd.to_datetime([1, 2, 3], unit=\"D\")\n"
   ]
  },
  {
   "cell_type": "markdown",
   "id": "280dd422",
   "metadata": {},
   "source": [
    "## Generating ranges of timestamps"
   ]
  },
  {
   "cell_type": "markdown",
   "id": "e311d056",
   "metadata": {},
   "source": [
    "#### To generate an index with timestamps, you can use either the DatetimeIndex or Index constructor and pass in a list of datetime objects:"
   ]
  },
  {
   "cell_type": "code",
   "execution_count": null,
   "id": "a7e1e3b0",
   "metadata": {},
   "outputs": [],
   "source": [
    "dates = [\n",
    "    datetime.datetime(2012, 5, 1),\n",
    "    datetime.datetime(2012, 5, 2),\n",
    "    datetime.datetime(2012, 5, 3),\n",
    "]"
   ]
  },
  {
   "cell_type": "code",
   "execution_count": null,
   "id": "deec78ed",
   "metadata": {},
   "outputs": [],
   "source": [
    "index = pd.DatetimeIndex(dates)"
   ]
  },
  {
   "cell_type": "code",
   "execution_count": null,
   "id": "730380c7",
   "metadata": {},
   "outputs": [],
   "source": [
    "index"
   ]
  },
  {
   "cell_type": "code",
   "execution_count": null,
   "id": "b346494d",
   "metadata": {},
   "outputs": [],
   "source": [
    "index = pd.Index(dates) #automatically converted into datetimeindex"
   ]
  },
  {
   "cell_type": "code",
   "execution_count": null,
   "id": "5b69b661",
   "metadata": {},
   "outputs": [],
   "source": [
    "index"
   ]
  },
  {
   "cell_type": "markdown",
   "id": "b1223434",
   "metadata": {},
   "source": [
    "#### Using this method to generate an index with timestamps is cumbersome as in general we often need a very long index with large number of timestamps. "
   ]
  },
  {
   "cell_type": "markdown",
   "id": "ae96a3e7",
   "metadata": {},
   "source": [
    "#### If we need timestamps on a regular frequency, we can use the **date_range()** and **bdate_range()** functions to create a **DatetimeIndex**. The default frequency for ***date_range*** is a **calendar day** while the default for ***bdate_range*** is a **business day**"
   ]
  },
  {
   "cell_type": "code",
   "execution_count": null,
   "id": "8f928b67",
   "metadata": {},
   "outputs": [],
   "source": [
    "start = datetime.datetime(2011, 1, 1)\n",
    "end = datetime.datetime(2012, 1, 1)"
   ]
  },
  {
   "cell_type": "code",
   "execution_count": null,
   "id": "c1540819",
   "metadata": {},
   "outputs": [],
   "source": [
    "index = pd.date_range(start, end)"
   ]
  },
  {
   "cell_type": "code",
   "execution_count": null,
   "id": "a545eaee",
   "metadata": {},
   "outputs": [],
   "source": [
    "index"
   ]
  },
  {
   "cell_type": "code",
   "execution_count": null,
   "id": "3396ce93",
   "metadata": {},
   "outputs": [],
   "source": [
    "index_b = pd.bdate_range(start, end) #business day index"
   ]
  },
  {
   "cell_type": "code",
   "execution_count": null,
   "id": "fcb5e5f7",
   "metadata": {},
   "outputs": [],
   "source": [
    "index_b"
   ]
  },
  {
   "cell_type": "markdown",
   "id": "c30c0e53",
   "metadata": {},
   "source": [
    "#### There are lot of frequency values we can use while using **date_range** or **bdate_range** functions. "
   ]
  },
  {
   "cell_type": "code",
   "execution_count": null,
   "id": "afc07cc7",
   "metadata": {},
   "outputs": [],
   "source": [
    "pd.date_range(start, periods=1000, freq=\"M\") # month end frequency"
   ]
  },
  {
   "cell_type": "code",
   "execution_count": null,
   "id": "1d8d1152",
   "metadata": {},
   "outputs": [],
   "source": [
    "pd.bdate_range(start, periods=250, freq=\"BQS\") #business quarter start frequency"
   ]
  },
  {
   "cell_type": "code",
   "execution_count": null,
   "id": "6fc97bdd",
   "metadata": {},
   "outputs": [],
   "source": [
    "pd.date_range(start, end, freq=\"BM\") #business month end frequency"
   ]
  },
  {
   "cell_type": "code",
   "execution_count": null,
   "id": "f2a91a86",
   "metadata": {},
   "outputs": [],
   "source": [
    "pd.date_range(start, end, freq=\"W\") #weekly frequency"
   ]
  },
  {
   "cell_type": "markdown",
   "id": "7e7005ee",
   "metadata": {},
   "source": [
    "#### We can also generate periods of dates from the start or end or between any 2 dates respectively evenly spaced."
   ]
  },
  {
   "cell_type": "code",
   "execution_count": null,
   "id": "ef7cf35c",
   "metadata": {},
   "outputs": [],
   "source": [
    "pd.bdate_range(end=end, periods=20)\n"
   ]
  },
  {
   "cell_type": "code",
   "execution_count": null,
   "id": "80dc7f2b",
   "metadata": {},
   "outputs": [],
   "source": [
    "pd.bdate_range(start=start, periods=20)\n"
   ]
  },
  {
   "cell_type": "code",
   "execution_count": null,
   "id": "0c392f44",
   "metadata": {},
   "outputs": [],
   "source": [
    "pd.date_range(\"2018-01-01\", \"2018-01-05\", periods=5)\n"
   ]
  },
  {
   "cell_type": "code",
   "execution_count": null,
   "id": "45440f0e",
   "metadata": {},
   "outputs": [],
   "source": [
    "pd.date_range(\"2018-01-01\", \"2018-01-05\", periods=10)\n"
   ]
  },
  {
   "cell_type": "markdown",
   "id": "8219d506",
   "metadata": {},
   "source": [
    "### Custom frequency ranges"
   ]
  },
  {
   "cell_type": "markdown",
   "id": "25071d5b",
   "metadata": {},
   "source": [
    "#### We can use the **weekmask** and **holidays** parameters to customize the dates in **bdate_range** and is only to be used when **freq** parameter is being used."
   ]
  },
  {
   "cell_type": "code",
   "execution_count": null,
   "id": "9827c191",
   "metadata": {},
   "outputs": [],
   "source": [
    "weekmask = \"Mon Wed Fri\"\n",
    "holidays = [datetime.datetime(2022, 1, 5), datetime.datetime(2022, 3, 14)]"
   ]
  },
  {
   "cell_type": "code",
   "execution_count": null,
   "id": "d2d6ef42",
   "metadata": {},
   "outputs": [],
   "source": [
    "pd.bdate_range(start, end, freq=\"C\", weekmask=weekmask, holidays=holidays)\n",
    "# C: custom business day frequency"
   ]
  },
  {
   "cell_type": "code",
   "execution_count": null,
   "id": "7346c522",
   "metadata": {},
   "outputs": [],
   "source": [
    "pd.bdate_range(start, end, freq=\"CBMS\", weekmask=weekmask)\n",
    "# CBMS: custom business month start frequency"
   ]
  },
  {
   "cell_type": "markdown",
   "id": "25ad4ea8",
   "metadata": {},
   "source": [
    "## Timestamp limitations\n"
   ]
  },
  {
   "cell_type": "markdown",
   "id": "563271d9",
   "metadata": {},
   "source": [
    "#### Since pandas represents timestamps in nanosecond resolution, the time span that can be represented using a 64-bit integer is limited to approximately **584 years**"
   ]
  },
  {
   "cell_type": "code",
   "execution_count": 43,
   "id": "5eb44ef2",
   "metadata": {},
   "outputs": [
    {
     "data": {
      "text/plain": [
       "Timestamp('1677-09-21 00:12:43.145224193')"
      ]
     },
     "execution_count": 43,
     "metadata": {},
     "output_type": "execute_result"
    }
   ],
   "source": [
    "pd.Timestamp.min"
   ]
  },
  {
   "cell_type": "code",
   "execution_count": 44,
   "id": "02321861",
   "metadata": {},
   "outputs": [
    {
     "data": {
      "text/plain": [
       "Timestamp('2262-04-11 23:47:16.854775807')"
      ]
     },
     "execution_count": 44,
     "metadata": {},
     "output_type": "execute_result"
    }
   ],
   "source": [
    "pd.Timestamp.max"
   ]
  },
  {
   "cell_type": "markdown",
   "id": "134808a3",
   "metadata": {},
   "source": [
    "## Indexing"
   ]
  },
  {
   "cell_type": "markdown",
   "id": "9769e464",
   "metadata": {},
   "source": [
    "#### One of the main uses for **DatetimeIndex** is as an index for pandas objects. The **DatetimeIndex** class contains many time series related optimizations"
   ]
  },
  {
   "cell_type": "markdown",
   "id": "f5199a21",
   "metadata": {},
   "source": [
    "#### DatetimeIndex objects have all the basic functionality of regular **Index** objects, and a variety of advanced time series specific methods for easy frequency processing."
   ]
  },
  {
   "cell_type": "code",
   "execution_count": 45,
   "id": "abf52516",
   "metadata": {},
   "outputs": [],
   "source": [
    "df_Time = df.loc[:,\"Time\"]"
   ]
  },
  {
   "cell_type": "code",
   "execution_count": 46,
   "id": "b757bb82",
   "metadata": {},
   "outputs": [],
   "source": [
    "df_ser = pd.Series(np.random.randn(len(df)), df.loc[:,\"Time\"])"
   ]
  },
  {
   "cell_type": "code",
   "execution_count": 47,
   "id": "cfadfe26",
   "metadata": {},
   "outputs": [
    {
     "data": {
      "text/plain": [
       "Time\n",
       "2015-05-02 00:00:00    0.932816\n",
       "2015-05-02 01:00:00    0.011310\n",
       "2015-05-02 02:00:00    1.720286\n",
       "2015-05-02 03:00:00    0.078407\n",
       "2015-05-02 04:00:00   -1.229160\n",
       "                         ...   \n",
       "2015-10-24 08:00:00    1.745733\n",
       "2015-10-24 09:00:00    0.558440\n",
       "2015-10-24 10:00:00   -2.085374\n",
       "2015-10-24 11:00:00    0.510149\n",
       "2015-10-24 12:00:00    1.029666\n",
       "Length: 4213, dtype: float64"
      ]
     },
     "execution_count": 47,
     "metadata": {},
     "output_type": "execute_result"
    }
   ],
   "source": [
    "df_ser"
   ]
  },
  {
   "cell_type": "code",
   "execution_count": 48,
   "id": "328933f1",
   "metadata": {},
   "outputs": [
    {
     "data": {
      "text/plain": [
       "DatetimeIndex(['2015-05-02 00:00:00', '2015-05-02 01:00:00',\n",
       "               '2015-05-02 02:00:00', '2015-05-02 03:00:00',\n",
       "               '2015-05-02 04:00:00', '2015-05-02 05:00:00',\n",
       "               '2015-05-02 06:00:00', '2015-05-02 07:00:00',\n",
       "               '2015-05-02 08:00:00', '2015-05-02 09:00:00',\n",
       "               ...\n",
       "               '2015-10-24 03:00:00', '2015-10-24 04:00:00',\n",
       "               '2015-10-24 05:00:00', '2015-10-24 06:00:00',\n",
       "               '2015-10-24 07:00:00', '2015-10-24 08:00:00',\n",
       "               '2015-10-24 09:00:00', '2015-10-24 10:00:00',\n",
       "               '2015-10-24 11:00:00', '2015-10-24 12:00:00'],\n",
       "              dtype='datetime64[ns]', name='Time', length=4213, freq=None)"
      ]
     },
     "execution_count": 48,
     "metadata": {},
     "output_type": "execute_result"
    }
   ],
   "source": [
    "df_ser.index"
   ]
  },
  {
   "cell_type": "code",
   "execution_count": 49,
   "id": "991d9331",
   "metadata": {},
   "outputs": [
    {
     "data": {
      "text/plain": [
       "DatetimeIndex(['2015-05-02 00:00:00', '2015-05-02 01:00:00',\n",
       "               '2015-05-02 02:00:00', '2015-05-02 03:00:00',\n",
       "               '2015-05-02 04:00:00'],\n",
       "              dtype='datetime64[ns]', name='Time', freq=None)"
      ]
     },
     "execution_count": 49,
     "metadata": {},
     "output_type": "execute_result"
    }
   ],
   "source": [
    "df_ser[:5].index"
   ]
  },
  {
   "cell_type": "code",
   "execution_count": 50,
   "id": "0e20c996",
   "metadata": {},
   "outputs": [
    {
     "data": {
      "text/plain": [
       "DatetimeIndex(['2015-05-02 00:00:00', '2015-05-02 02:00:00',\n",
       "               '2015-05-02 04:00:00', '2015-05-02 06:00:00',\n",
       "               '2015-05-02 08:00:00', '2015-05-02 10:00:00',\n",
       "               '2015-05-02 12:00:00', '2015-05-02 14:00:00',\n",
       "               '2015-05-02 16:00:00', '2015-05-02 18:00:00',\n",
       "               ...\n",
       "               '2015-10-23 18:00:00', '2015-10-23 20:00:00',\n",
       "               '2015-10-23 22:00:00', '2015-10-24 00:00:00',\n",
       "               '2015-10-24 02:00:00', '2015-10-24 04:00:00',\n",
       "               '2015-10-24 06:00:00', '2015-10-24 08:00:00',\n",
       "               '2015-10-24 10:00:00', '2015-10-24 12:00:00'],\n",
       "              dtype='datetime64[ns]', name='Time', length=2107, freq=None)"
      ]
     },
     "execution_count": 50,
     "metadata": {},
     "output_type": "execute_result"
    }
   ],
   "source": [
    "df_ser[::2].index"
   ]
  },
  {
   "cell_type": "markdown",
   "id": "c919eae8",
   "metadata": {},
   "source": [
    "### Partial string indexing"
   ]
  },
  {
   "cell_type": "code",
   "execution_count": 51,
   "id": "89e9e6f2",
   "metadata": {},
   "outputs": [
    {
     "data": {
      "text/plain": [
       "0.8920374511071717"
      ]
     },
     "execution_count": 51,
     "metadata": {},
     "output_type": "execute_result"
    }
   ],
   "source": [
    "df_ser[\"2015-10-24 05:00:00\"]"
   ]
  },
  {
   "cell_type": "code",
   "execution_count": 52,
   "id": "b8a773a5",
   "metadata": {},
   "outputs": [
    {
     "data": {
      "text/plain": [
       "Time\n",
       "2015-10-22 00:00:00    0.042364\n",
       "2015-10-22 01:00:00    1.901362\n",
       "2015-10-22 02:00:00   -0.002129\n",
       "2015-10-22 03:00:00   -0.142479\n",
       "2015-10-22 04:00:00    1.678754\n",
       "                         ...   \n",
       "2015-10-24 08:00:00    1.745733\n",
       "2015-10-24 09:00:00    0.558440\n",
       "2015-10-24 10:00:00   -2.085374\n",
       "2015-10-24 11:00:00    0.510149\n",
       "2015-10-24 12:00:00    1.029666\n",
       "Length: 61, dtype: float64"
      ]
     },
     "execution_count": 52,
     "metadata": {},
     "output_type": "execute_result"
    }
   ],
   "source": [
    "df_ser[datetime.datetime(2015, 10, 22):]"
   ]
  },
  {
   "cell_type": "code",
   "execution_count": 53,
   "id": "4846fb67",
   "metadata": {
    "scrolled": true
   },
   "outputs": [
    {
     "data": {
      "text/plain": [
       "Time\n",
       "2015-10-22 00:00:00    0.042364\n",
       "2015-10-22 01:00:00    1.901362\n",
       "2015-10-22 02:00:00   -0.002129\n",
       "2015-10-22 03:00:00   -0.142479\n",
       "2015-10-22 04:00:00    1.678754\n",
       "2015-10-22 05:00:00   -0.400665\n",
       "2015-10-22 06:00:00    1.679410\n",
       "2015-10-22 07:00:00    1.197448\n",
       "2015-10-22 08:00:00    1.166137\n",
       "2015-10-22 09:00:00   -1.244254\n",
       "2015-10-22 10:00:00   -1.854270\n",
       "2015-10-22 11:00:00    2.284689\n",
       "2015-10-22 12:00:00   -0.236776\n",
       "2015-10-22 13:00:00   -0.487805\n",
       "2015-10-22 14:00:00    0.087282\n",
       "2015-10-22 15:00:00    1.364226\n",
       "2015-10-22 16:00:00   -0.099761\n",
       "2015-10-22 17:00:00    1.443609\n",
       "2015-10-22 18:00:00   -0.780816\n",
       "2015-10-22 19:00:00    0.262277\n",
       "2015-10-22 20:00:00    1.091570\n",
       "2015-10-22 21:00:00    0.327569\n",
       "2015-10-22 22:00:00   -1.298351\n",
       "2015-10-22 23:00:00   -1.604891\n",
       "2015-10-23 00:00:00    0.704172\n",
       "2015-10-23 01:00:00   -1.880864\n",
       "2015-10-23 02:00:00    0.521882\n",
       "2015-10-23 03:00:00   -2.251269\n",
       "2015-10-23 04:00:00    0.526005\n",
       "2015-10-23 05:00:00   -0.514141\n",
       "2015-10-23 06:00:00   -0.031147\n",
       "2015-10-23 07:00:00   -1.237139\n",
       "2015-10-23 08:00:00   -1.455791\n",
       "2015-10-23 09:00:00   -0.332300\n",
       "2015-10-23 10:00:00   -1.358677\n",
       "2015-10-23 11:00:00    0.676003\n",
       "2015-10-23 12:00:00   -0.082210\n",
       "2015-10-23 13:00:00    0.804658\n",
       "2015-10-23 14:00:00   -0.188512\n",
       "2015-10-23 15:00:00   -1.396443\n",
       "2015-10-23 16:00:00   -1.045720\n",
       "2015-10-23 17:00:00    0.542512\n",
       "2015-10-23 18:00:00   -1.287418\n",
       "2015-10-23 19:00:00    1.439428\n",
       "2015-10-23 20:00:00    1.356268\n",
       "2015-10-23 21:00:00    1.050306\n",
       "2015-10-23 22:00:00   -0.541374\n",
       "2015-10-23 23:00:00   -0.647405\n",
       "dtype: float64"
      ]
     },
     "execution_count": 53,
     "metadata": {},
     "output_type": "execute_result"
    }
   ],
   "source": [
    "df_ser[\"2015/10/22\":\"2015/10/23\"]"
   ]
  },
  {
   "cell_type": "markdown",
   "id": "d4062969",
   "metadata": {},
   "source": [
    "#### To provide convenience for accessing longer time series, you can also pass in the year or year and month as strings"
   ]
  },
  {
   "cell_type": "code",
   "execution_count": 54,
   "id": "dfb4e023",
   "metadata": {},
   "outputs": [
    {
     "data": {
      "text/plain": [
       "Time\n",
       "2015-05-02 00:00:00    0.932816\n",
       "2015-05-02 01:00:00    0.011310\n",
       "2015-05-02 02:00:00    1.720286\n",
       "2015-05-02 03:00:00    0.078407\n",
       "2015-05-02 04:00:00   -1.229160\n",
       "                         ...   \n",
       "2015-10-24 08:00:00    1.745733\n",
       "2015-10-24 09:00:00    0.558440\n",
       "2015-10-24 10:00:00   -2.085374\n",
       "2015-10-24 11:00:00    0.510149\n",
       "2015-10-24 12:00:00    1.029666\n",
       "Length: 4213, dtype: float64"
      ]
     },
     "execution_count": 54,
     "metadata": {},
     "output_type": "execute_result"
    }
   ],
   "source": [
    "df_ser[\"2015\"]"
   ]
  },
  {
   "cell_type": "code",
   "execution_count": 55,
   "id": "959a8672",
   "metadata": {},
   "outputs": [
    {
     "data": {
      "text/plain": [
       "Time\n",
       "2015-10-01 00:00:00   -0.040547\n",
       "2015-10-01 01:00:00    0.163139\n",
       "2015-10-01 02:00:00   -0.308947\n",
       "2015-10-01 03:00:00   -1.119768\n",
       "2015-10-01 04:00:00   -0.258740\n",
       "                         ...   \n",
       "2015-10-24 08:00:00    1.745733\n",
       "2015-10-24 09:00:00    0.558440\n",
       "2015-10-24 10:00:00   -2.085374\n",
       "2015-10-24 11:00:00    0.510149\n",
       "2015-10-24 12:00:00    1.029666\n",
       "Length: 565, dtype: float64"
      ]
     },
     "execution_count": 55,
     "metadata": {},
     "output_type": "execute_result"
    }
   ],
   "source": [
    "df_ser[\"2015-10\"]"
   ]
  },
  {
   "cell_type": "markdown",
   "id": "22e4cbeb",
   "metadata": {},
   "source": [
    "#### Indexing done till now is done on series but this type of thing can be done on dataframes as well"
   ]
  },
  {
   "cell_type": "markdown",
   "id": "7350a43c",
   "metadata": {},
   "source": [
    "#### Since the partial string selection is a form of label slicing, the endpoints will be included. This would include matching times on an included date"
   ]
  },
  {
   "cell_type": "markdown",
   "id": "66c532a7",
   "metadata": {},
   "source": [
    "#### Let's first make the **\"Time\"** column as index in the dataframe"
   ]
  },
  {
   "cell_type": "code",
   "execution_count": 56,
   "id": "b90122c6",
   "metadata": {},
   "outputs": [],
   "source": [
    "df = df.set_index(\"Time\")"
   ]
  },
  {
   "cell_type": "code",
   "execution_count": 57,
   "id": "b6860ab1",
   "metadata": {},
   "outputs": [
    {
     "data": {
      "text/html": [
       "<div>\n",
       "<style scoped>\n",
       "    .dataframe tbody tr th:only-of-type {\n",
       "        vertical-align: middle;\n",
       "    }\n",
       "\n",
       "    .dataframe tbody tr th {\n",
       "        vertical-align: top;\n",
       "    }\n",
       "\n",
       "    .dataframe thead th {\n",
       "        text-align: right;\n",
       "    }\n",
       "</style>\n",
       "<table border=\"1\" class=\"dataframe\">\n",
       "  <thead>\n",
       "    <tr style=\"text-align: right;\">\n",
       "      <th></th>\n",
       "      <th>randTime</th>\n",
       "      <th>temperature_2_m_above_gnd</th>\n",
       "      <th>relative_humidity_2_m_above_gnd</th>\n",
       "      <th>mean_sea_level_pressure_MSL</th>\n",
       "      <th>total_precipitation_sfc</th>\n",
       "      <th>snowfall_amount_sfc</th>\n",
       "      <th>total_cloud_cover_sfc</th>\n",
       "      <th>high_cloud_cover_high_cld_lay</th>\n",
       "      <th>medium_cloud_cover_mid_cld_lay</th>\n",
       "      <th>low_cloud_cover_low_cld_lay</th>\n",
       "      <th>...</th>\n",
       "      <th>wind_direction_10_m_above_gnd</th>\n",
       "      <th>wind_speed_80_m_above_gnd</th>\n",
       "      <th>wind_direction_80_m_above_gnd</th>\n",
       "      <th>wind_speed_900_mb</th>\n",
       "      <th>wind_direction_900_mb</th>\n",
       "      <th>wind_gust_10_m_above_gnd</th>\n",
       "      <th>angle_of_incidence</th>\n",
       "      <th>zenith</th>\n",
       "      <th>azimuth</th>\n",
       "      <th>generated_power_kw</th>\n",
       "    </tr>\n",
       "    <tr>\n",
       "      <th>Time</th>\n",
       "      <th></th>\n",
       "      <th></th>\n",
       "      <th></th>\n",
       "      <th></th>\n",
       "      <th></th>\n",
       "      <th></th>\n",
       "      <th></th>\n",
       "      <th></th>\n",
       "      <th></th>\n",
       "      <th></th>\n",
       "      <th></th>\n",
       "      <th></th>\n",
       "      <th></th>\n",
       "      <th></th>\n",
       "      <th></th>\n",
       "      <th></th>\n",
       "      <th></th>\n",
       "      <th></th>\n",
       "      <th></th>\n",
       "      <th></th>\n",
       "      <th></th>\n",
       "    </tr>\n",
       "  </thead>\n",
       "  <tbody>\n",
       "    <tr>\n",
       "      <th>2015-05-02 00:00:00</th>\n",
       "      <td>2022-07-31 00:00:00</td>\n",
       "      <td>2.17</td>\n",
       "      <td>31</td>\n",
       "      <td>1035.0</td>\n",
       "      <td>0.0</td>\n",
       "      <td>0.0</td>\n",
       "      <td>0.0</td>\n",
       "      <td>0</td>\n",
       "      <td>0</td>\n",
       "      <td>0</td>\n",
       "      <td>...</td>\n",
       "      <td>312.71</td>\n",
       "      <td>9.36</td>\n",
       "      <td>22.62</td>\n",
       "      <td>6.62</td>\n",
       "      <td>337.62</td>\n",
       "      <td>24.48</td>\n",
       "      <td>58.753108</td>\n",
       "      <td>83.237322</td>\n",
       "      <td>128.33543</td>\n",
       "      <td>454.100950</td>\n",
       "    </tr>\n",
       "    <tr>\n",
       "      <th>2015-05-02 01:00:00</th>\n",
       "      <td>2022-05-10 00:00:00</td>\n",
       "      <td>2.31</td>\n",
       "      <td>27</td>\n",
       "      <td>1035.1</td>\n",
       "      <td>0.0</td>\n",
       "      <td>0.0</td>\n",
       "      <td>0.0</td>\n",
       "      <td>0</td>\n",
       "      <td>0</td>\n",
       "      <td>0</td>\n",
       "      <td>...</td>\n",
       "      <td>294.78</td>\n",
       "      <td>5.99</td>\n",
       "      <td>32.74</td>\n",
       "      <td>4.61</td>\n",
       "      <td>321.34</td>\n",
       "      <td>21.96</td>\n",
       "      <td>45.408585</td>\n",
       "      <td>75.143041</td>\n",
       "      <td>139.65530</td>\n",
       "      <td>1411.999400</td>\n",
       "    </tr>\n",
       "    <tr>\n",
       "      <th>2015-05-02 02:00:00</th>\n",
       "      <td>NaT</td>\n",
       "      <td>3.65</td>\n",
       "      <td>33</td>\n",
       "      <td>1035.4</td>\n",
       "      <td>0.0</td>\n",
       "      <td>0.0</td>\n",
       "      <td>0.0</td>\n",
       "      <td>0</td>\n",
       "      <td>0</td>\n",
       "      <td>0</td>\n",
       "      <td>...</td>\n",
       "      <td>270.00</td>\n",
       "      <td>3.89</td>\n",
       "      <td>56.31</td>\n",
       "      <td>3.76</td>\n",
       "      <td>286.70</td>\n",
       "      <td>14.04</td>\n",
       "      <td>32.848282</td>\n",
       "      <td>68.820648</td>\n",
       "      <td>152.53769</td>\n",
       "      <td>2214.849300</td>\n",
       "    </tr>\n",
       "    <tr>\n",
       "      <th>2015-05-02 03:00:00</th>\n",
       "      <td>NaT</td>\n",
       "      <td>5.82</td>\n",
       "      <td>30</td>\n",
       "      <td>1035.4</td>\n",
       "      <td>0.0</td>\n",
       "      <td>0.0</td>\n",
       "      <td>0.0</td>\n",
       "      <td>0</td>\n",
       "      <td>0</td>\n",
       "      <td>0</td>\n",
       "      <td>...</td>\n",
       "      <td>323.13</td>\n",
       "      <td>3.55</td>\n",
       "      <td>23.96</td>\n",
       "      <td>3.08</td>\n",
       "      <td>339.44</td>\n",
       "      <td>19.80</td>\n",
       "      <td>22.699288</td>\n",
       "      <td>64.883536</td>\n",
       "      <td>166.90159</td>\n",
       "      <td>2527.609200</td>\n",
       "    </tr>\n",
       "    <tr>\n",
       "      <th>2015-05-02 04:00:00</th>\n",
       "      <td>asd</td>\n",
       "      <td>7.73</td>\n",
       "      <td>27</td>\n",
       "      <td>1034.4</td>\n",
       "      <td>0.0</td>\n",
       "      <td>0.0</td>\n",
       "      <td>0.0</td>\n",
       "      <td>0</td>\n",
       "      <td>0</td>\n",
       "      <td>0</td>\n",
       "      <td>...</td>\n",
       "      <td>10.01</td>\n",
       "      <td>6.76</td>\n",
       "      <td>25.20</td>\n",
       "      <td>6.62</td>\n",
       "      <td>22.38</td>\n",
       "      <td>16.56</td>\n",
       "      <td>19.199908</td>\n",
       "      <td>63.795208</td>\n",
       "      <td>182.13526</td>\n",
       "      <td>2640.203400</td>\n",
       "    </tr>\n",
       "    <tr>\n",
       "      <th>...</th>\n",
       "      <td>...</td>\n",
       "      <td>...</td>\n",
       "      <td>...</td>\n",
       "      <td>...</td>\n",
       "      <td>...</td>\n",
       "      <td>...</td>\n",
       "      <td>...</td>\n",
       "      <td>...</td>\n",
       "      <td>...</td>\n",
       "      <td>...</td>\n",
       "      <td>...</td>\n",
       "      <td>...</td>\n",
       "      <td>...</td>\n",
       "      <td>...</td>\n",
       "      <td>...</td>\n",
       "      <td>...</td>\n",
       "      <td>...</td>\n",
       "      <td>...</td>\n",
       "      <td>...</td>\n",
       "      <td>...</td>\n",
       "      <td>...</td>\n",
       "    </tr>\n",
       "    <tr>\n",
       "      <th>2015-10-24 08:00:00</th>\n",
       "      <td>NaN</td>\n",
       "      <td>8.69</td>\n",
       "      <td>66</td>\n",
       "      <td>1025.1</td>\n",
       "      <td>0.0</td>\n",
       "      <td>0.0</td>\n",
       "      <td>100.0</td>\n",
       "      <td>100</td>\n",
       "      <td>100</td>\n",
       "      <td>100</td>\n",
       "      <td>...</td>\n",
       "      <td>285.42</td>\n",
       "      <td>25.50</td>\n",
       "      <td>283.06</td>\n",
       "      <td>24.01</td>\n",
       "      <td>282.99</td>\n",
       "      <td>25.20</td>\n",
       "      <td>22.700907</td>\n",
       "      <td>64.952098</td>\n",
       "      <td>167.06794</td>\n",
       "      <td>173.410560</td>\n",
       "    </tr>\n",
       "    <tr>\n",
       "      <th>2015-10-24 09:00:00</th>\n",
       "      <td>NaN</td>\n",
       "      <td>7.57</td>\n",
       "      <td>90</td>\n",
       "      <td>1026.1</td>\n",
       "      <td>0.0</td>\n",
       "      <td>0.0</td>\n",
       "      <td>100.0</td>\n",
       "      <td>79</td>\n",
       "      <td>100</td>\n",
       "      <td>100</td>\n",
       "      <td>...</td>\n",
       "      <td>6.91</td>\n",
       "      <td>13.00</td>\n",
       "      <td>4.76</td>\n",
       "      <td>11.61</td>\n",
       "      <td>7.13</td>\n",
       "      <td>10.44</td>\n",
       "      <td>19.307487</td>\n",
       "      <td>63.895118</td>\n",
       "      <td>182.28247</td>\n",
       "      <td>403.792220</td>\n",
       "    </tr>\n",
       "    <tr>\n",
       "      <th>2015-10-24 10:00:00</th>\n",
       "      <td>NaN</td>\n",
       "      <td>7.27</td>\n",
       "      <td>90</td>\n",
       "      <td>1026.3</td>\n",
       "      <td>0.1</td>\n",
       "      <td>0.0</td>\n",
       "      <td>100.0</td>\n",
       "      <td>73</td>\n",
       "      <td>100</td>\n",
       "      <td>100</td>\n",
       "      <td>...</td>\n",
       "      <td>2.29</td>\n",
       "      <td>8.71</td>\n",
       "      <td>352.87</td>\n",
       "      <td>7.95</td>\n",
       "      <td>354.81</td>\n",
       "      <td>22.32</td>\n",
       "      <td>25.249506</td>\n",
       "      <td>65.827032</td>\n",
       "      <td>197.33868</td>\n",
       "      <td>158.367780</td>\n",
       "    </tr>\n",
       "    <tr>\n",
       "      <th>2015-10-24 11:00:00</th>\n",
       "      <td>NaN</td>\n",
       "      <td>8.25</td>\n",
       "      <td>81</td>\n",
       "      <td>1025.5</td>\n",
       "      <td>0.0</td>\n",
       "      <td>0.0</td>\n",
       "      <td>100.0</td>\n",
       "      <td>74</td>\n",
       "      <td>66</td>\n",
       "      <td>100</td>\n",
       "      <td>...</td>\n",
       "      <td>11.31</td>\n",
       "      <td>6.29</td>\n",
       "      <td>13.24</td>\n",
       "      <td>5.94</td>\n",
       "      <td>14.04</td>\n",
       "      <td>15.48</td>\n",
       "      <td>36.361161</td>\n",
       "      <td>70.496313</td>\n",
       "      <td>211.30027</td>\n",
       "      <td>126.953060</td>\n",
       "    </tr>\n",
       "    <tr>\n",
       "      <th>2015-10-24 12:00:00</th>\n",
       "      <td>NaN</td>\n",
       "      <td>8.00</td>\n",
       "      <td>80</td>\n",
       "      <td>1025.3</td>\n",
       "      <td>0.0</td>\n",
       "      <td>0.0</td>\n",
       "      <td>100.0</td>\n",
       "      <td>100</td>\n",
       "      <td>100</td>\n",
       "      <td>100</td>\n",
       "      <td>...</td>\n",
       "      <td>12.72</td>\n",
       "      <td>12.07</td>\n",
       "      <td>17.35</td>\n",
       "      <td>11.38</td>\n",
       "      <td>18.43</td>\n",
       "      <td>16.20</td>\n",
       "      <td>48.452849</td>\n",
       "      <td>76.919574</td>\n",
       "      <td>223.04931</td>\n",
       "      <td>20.055031</td>\n",
       "    </tr>\n",
       "  </tbody>\n",
       "</table>\n",
       "<p>4213 rows × 22 columns</p>\n",
       "</div>"
      ],
      "text/plain": [
       "                                randTime  temperature_2_m_above_gnd  \\\n",
       "Time                                                                  \n",
       "2015-05-02 00:00:00  2022-07-31 00:00:00                       2.17   \n",
       "2015-05-02 01:00:00  2022-05-10 00:00:00                       2.31   \n",
       "2015-05-02 02:00:00                  NaT                       3.65   \n",
       "2015-05-02 03:00:00                  NaT                       5.82   \n",
       "2015-05-02 04:00:00                  asd                       7.73   \n",
       "...                                  ...                        ...   \n",
       "2015-10-24 08:00:00                  NaN                       8.69   \n",
       "2015-10-24 09:00:00                  NaN                       7.57   \n",
       "2015-10-24 10:00:00                  NaN                       7.27   \n",
       "2015-10-24 11:00:00                  NaN                       8.25   \n",
       "2015-10-24 12:00:00                  NaN                       8.00   \n",
       "\n",
       "                     relative_humidity_2_m_above_gnd  \\\n",
       "Time                                                   \n",
       "2015-05-02 00:00:00                               31   \n",
       "2015-05-02 01:00:00                               27   \n",
       "2015-05-02 02:00:00                               33   \n",
       "2015-05-02 03:00:00                               30   \n",
       "2015-05-02 04:00:00                               27   \n",
       "...                                              ...   \n",
       "2015-10-24 08:00:00                               66   \n",
       "2015-10-24 09:00:00                               90   \n",
       "2015-10-24 10:00:00                               90   \n",
       "2015-10-24 11:00:00                               81   \n",
       "2015-10-24 12:00:00                               80   \n",
       "\n",
       "                     mean_sea_level_pressure_MSL  total_precipitation_sfc  \\\n",
       "Time                                                                        \n",
       "2015-05-02 00:00:00                       1035.0                      0.0   \n",
       "2015-05-02 01:00:00                       1035.1                      0.0   \n",
       "2015-05-02 02:00:00                       1035.4                      0.0   \n",
       "2015-05-02 03:00:00                       1035.4                      0.0   \n",
       "2015-05-02 04:00:00                       1034.4                      0.0   \n",
       "...                                          ...                      ...   \n",
       "2015-10-24 08:00:00                       1025.1                      0.0   \n",
       "2015-10-24 09:00:00                       1026.1                      0.0   \n",
       "2015-10-24 10:00:00                       1026.3                      0.1   \n",
       "2015-10-24 11:00:00                       1025.5                      0.0   \n",
       "2015-10-24 12:00:00                       1025.3                      0.0   \n",
       "\n",
       "                     snowfall_amount_sfc  total_cloud_cover_sfc  \\\n",
       "Time                                                              \n",
       "2015-05-02 00:00:00                  0.0                    0.0   \n",
       "2015-05-02 01:00:00                  0.0                    0.0   \n",
       "2015-05-02 02:00:00                  0.0                    0.0   \n",
       "2015-05-02 03:00:00                  0.0                    0.0   \n",
       "2015-05-02 04:00:00                  0.0                    0.0   \n",
       "...                                  ...                    ...   \n",
       "2015-10-24 08:00:00                  0.0                  100.0   \n",
       "2015-10-24 09:00:00                  0.0                  100.0   \n",
       "2015-10-24 10:00:00                  0.0                  100.0   \n",
       "2015-10-24 11:00:00                  0.0                  100.0   \n",
       "2015-10-24 12:00:00                  0.0                  100.0   \n",
       "\n",
       "                     high_cloud_cover_high_cld_lay  \\\n",
       "Time                                                 \n",
       "2015-05-02 00:00:00                              0   \n",
       "2015-05-02 01:00:00                              0   \n",
       "2015-05-02 02:00:00                              0   \n",
       "2015-05-02 03:00:00                              0   \n",
       "2015-05-02 04:00:00                              0   \n",
       "...                                            ...   \n",
       "2015-10-24 08:00:00                            100   \n",
       "2015-10-24 09:00:00                             79   \n",
       "2015-10-24 10:00:00                             73   \n",
       "2015-10-24 11:00:00                             74   \n",
       "2015-10-24 12:00:00                            100   \n",
       "\n",
       "                     medium_cloud_cover_mid_cld_lay  \\\n",
       "Time                                                  \n",
       "2015-05-02 00:00:00                               0   \n",
       "2015-05-02 01:00:00                               0   \n",
       "2015-05-02 02:00:00                               0   \n",
       "2015-05-02 03:00:00                               0   \n",
       "2015-05-02 04:00:00                               0   \n",
       "...                                             ...   \n",
       "2015-10-24 08:00:00                             100   \n",
       "2015-10-24 09:00:00                             100   \n",
       "2015-10-24 10:00:00                             100   \n",
       "2015-10-24 11:00:00                              66   \n",
       "2015-10-24 12:00:00                             100   \n",
       "\n",
       "                     low_cloud_cover_low_cld_lay  ...  \\\n",
       "Time                                              ...   \n",
       "2015-05-02 00:00:00                            0  ...   \n",
       "2015-05-02 01:00:00                            0  ...   \n",
       "2015-05-02 02:00:00                            0  ...   \n",
       "2015-05-02 03:00:00                            0  ...   \n",
       "2015-05-02 04:00:00                            0  ...   \n",
       "...                                          ...  ...   \n",
       "2015-10-24 08:00:00                          100  ...   \n",
       "2015-10-24 09:00:00                          100  ...   \n",
       "2015-10-24 10:00:00                          100  ...   \n",
       "2015-10-24 11:00:00                          100  ...   \n",
       "2015-10-24 12:00:00                          100  ...   \n",
       "\n",
       "                     wind_direction_10_m_above_gnd  wind_speed_80_m_above_gnd  \\\n",
       "Time                                                                            \n",
       "2015-05-02 00:00:00                         312.71                       9.36   \n",
       "2015-05-02 01:00:00                         294.78                       5.99   \n",
       "2015-05-02 02:00:00                         270.00                       3.89   \n",
       "2015-05-02 03:00:00                         323.13                       3.55   \n",
       "2015-05-02 04:00:00                          10.01                       6.76   \n",
       "...                                            ...                        ...   \n",
       "2015-10-24 08:00:00                         285.42                      25.50   \n",
       "2015-10-24 09:00:00                           6.91                      13.00   \n",
       "2015-10-24 10:00:00                           2.29                       8.71   \n",
       "2015-10-24 11:00:00                          11.31                       6.29   \n",
       "2015-10-24 12:00:00                          12.72                      12.07   \n",
       "\n",
       "                     wind_direction_80_m_above_gnd  wind_speed_900_mb  \\\n",
       "Time                                                                    \n",
       "2015-05-02 00:00:00                          22.62               6.62   \n",
       "2015-05-02 01:00:00                          32.74               4.61   \n",
       "2015-05-02 02:00:00                          56.31               3.76   \n",
       "2015-05-02 03:00:00                          23.96               3.08   \n",
       "2015-05-02 04:00:00                          25.20               6.62   \n",
       "...                                            ...                ...   \n",
       "2015-10-24 08:00:00                         283.06              24.01   \n",
       "2015-10-24 09:00:00                           4.76              11.61   \n",
       "2015-10-24 10:00:00                         352.87               7.95   \n",
       "2015-10-24 11:00:00                          13.24               5.94   \n",
       "2015-10-24 12:00:00                          17.35              11.38   \n",
       "\n",
       "                     wind_direction_900_mb  wind_gust_10_m_above_gnd  \\\n",
       "Time                                                                   \n",
       "2015-05-02 00:00:00                 337.62                     24.48   \n",
       "2015-05-02 01:00:00                 321.34                     21.96   \n",
       "2015-05-02 02:00:00                 286.70                     14.04   \n",
       "2015-05-02 03:00:00                 339.44                     19.80   \n",
       "2015-05-02 04:00:00                  22.38                     16.56   \n",
       "...                                    ...                       ...   \n",
       "2015-10-24 08:00:00                 282.99                     25.20   \n",
       "2015-10-24 09:00:00                   7.13                     10.44   \n",
       "2015-10-24 10:00:00                 354.81                     22.32   \n",
       "2015-10-24 11:00:00                  14.04                     15.48   \n",
       "2015-10-24 12:00:00                  18.43                     16.20   \n",
       "\n",
       "                     angle_of_incidence     zenith    azimuth  \\\n",
       "Time                                                            \n",
       "2015-05-02 00:00:00           58.753108  83.237322  128.33543   \n",
       "2015-05-02 01:00:00           45.408585  75.143041  139.65530   \n",
       "2015-05-02 02:00:00           32.848282  68.820648  152.53769   \n",
       "2015-05-02 03:00:00           22.699288  64.883536  166.90159   \n",
       "2015-05-02 04:00:00           19.199908  63.795208  182.13526   \n",
       "...                                 ...        ...        ...   \n",
       "2015-10-24 08:00:00           22.700907  64.952098  167.06794   \n",
       "2015-10-24 09:00:00           19.307487  63.895118  182.28247   \n",
       "2015-10-24 10:00:00           25.249506  65.827032  197.33868   \n",
       "2015-10-24 11:00:00           36.361161  70.496313  211.30027   \n",
       "2015-10-24 12:00:00           48.452849  76.919574  223.04931   \n",
       "\n",
       "                     generated_power_kw  \n",
       "Time                                     \n",
       "2015-05-02 00:00:00          454.100950  \n",
       "2015-05-02 01:00:00         1411.999400  \n",
       "2015-05-02 02:00:00         2214.849300  \n",
       "2015-05-02 03:00:00         2527.609200  \n",
       "2015-05-02 04:00:00         2640.203400  \n",
       "...                                 ...  \n",
       "2015-10-24 08:00:00          173.410560  \n",
       "2015-10-24 09:00:00          403.792220  \n",
       "2015-10-24 10:00:00          158.367780  \n",
       "2015-10-24 11:00:00          126.953060  \n",
       "2015-10-24 12:00:00           20.055031  \n",
       "\n",
       "[4213 rows x 22 columns]"
      ]
     },
     "execution_count": 57,
     "metadata": {},
     "output_type": "execute_result"
    }
   ],
   "source": [
    "df"
   ]
  },
  {
   "cell_type": "code",
   "execution_count": 58,
   "id": "6592ec2e",
   "metadata": {},
   "outputs": [
    {
     "data": {
      "text/html": [
       "<div>\n",
       "<style scoped>\n",
       "    .dataframe tbody tr th:only-of-type {\n",
       "        vertical-align: middle;\n",
       "    }\n",
       "\n",
       "    .dataframe tbody tr th {\n",
       "        vertical-align: top;\n",
       "    }\n",
       "\n",
       "    .dataframe thead th {\n",
       "        text-align: right;\n",
       "    }\n",
       "</style>\n",
       "<table border=\"1\" class=\"dataframe\">\n",
       "  <thead>\n",
       "    <tr style=\"text-align: right;\">\n",
       "      <th></th>\n",
       "      <th>randTime</th>\n",
       "      <th>temperature_2_m_above_gnd</th>\n",
       "      <th>relative_humidity_2_m_above_gnd</th>\n",
       "      <th>mean_sea_level_pressure_MSL</th>\n",
       "      <th>total_precipitation_sfc</th>\n",
       "      <th>snowfall_amount_sfc</th>\n",
       "      <th>total_cloud_cover_sfc</th>\n",
       "      <th>high_cloud_cover_high_cld_lay</th>\n",
       "      <th>medium_cloud_cover_mid_cld_lay</th>\n",
       "      <th>low_cloud_cover_low_cld_lay</th>\n",
       "      <th>...</th>\n",
       "      <th>wind_direction_10_m_above_gnd</th>\n",
       "      <th>wind_speed_80_m_above_gnd</th>\n",
       "      <th>wind_direction_80_m_above_gnd</th>\n",
       "      <th>wind_speed_900_mb</th>\n",
       "      <th>wind_direction_900_mb</th>\n",
       "      <th>wind_gust_10_m_above_gnd</th>\n",
       "      <th>angle_of_incidence</th>\n",
       "      <th>zenith</th>\n",
       "      <th>azimuth</th>\n",
       "      <th>generated_power_kw</th>\n",
       "    </tr>\n",
       "    <tr>\n",
       "      <th>Time</th>\n",
       "      <th></th>\n",
       "      <th></th>\n",
       "      <th></th>\n",
       "      <th></th>\n",
       "      <th></th>\n",
       "      <th></th>\n",
       "      <th></th>\n",
       "      <th></th>\n",
       "      <th></th>\n",
       "      <th></th>\n",
       "      <th></th>\n",
       "      <th></th>\n",
       "      <th></th>\n",
       "      <th></th>\n",
       "      <th></th>\n",
       "      <th></th>\n",
       "      <th></th>\n",
       "      <th></th>\n",
       "      <th></th>\n",
       "      <th></th>\n",
       "      <th></th>\n",
       "    </tr>\n",
       "  </thead>\n",
       "  <tbody>\n",
       "    <tr>\n",
       "      <th>2015-05-02 00:00:00</th>\n",
       "      <td>2022-07-31 00:00:00</td>\n",
       "      <td>2.17</td>\n",
       "      <td>31</td>\n",
       "      <td>1035.0</td>\n",
       "      <td>0.0</td>\n",
       "      <td>0.0</td>\n",
       "      <td>0.0</td>\n",
       "      <td>0</td>\n",
       "      <td>0</td>\n",
       "      <td>0</td>\n",
       "      <td>...</td>\n",
       "      <td>312.71</td>\n",
       "      <td>9.36</td>\n",
       "      <td>22.62</td>\n",
       "      <td>6.62</td>\n",
       "      <td>337.62</td>\n",
       "      <td>24.48</td>\n",
       "      <td>58.753108</td>\n",
       "      <td>83.237322</td>\n",
       "      <td>128.33543</td>\n",
       "      <td>454.100950</td>\n",
       "    </tr>\n",
       "    <tr>\n",
       "      <th>2015-05-02 01:00:00</th>\n",
       "      <td>2022-05-10 00:00:00</td>\n",
       "      <td>2.31</td>\n",
       "      <td>27</td>\n",
       "      <td>1035.1</td>\n",
       "      <td>0.0</td>\n",
       "      <td>0.0</td>\n",
       "      <td>0.0</td>\n",
       "      <td>0</td>\n",
       "      <td>0</td>\n",
       "      <td>0</td>\n",
       "      <td>...</td>\n",
       "      <td>294.78</td>\n",
       "      <td>5.99</td>\n",
       "      <td>32.74</td>\n",
       "      <td>4.61</td>\n",
       "      <td>321.34</td>\n",
       "      <td>21.96</td>\n",
       "      <td>45.408585</td>\n",
       "      <td>75.143041</td>\n",
       "      <td>139.65530</td>\n",
       "      <td>1411.999400</td>\n",
       "    </tr>\n",
       "    <tr>\n",
       "      <th>2015-05-02 02:00:00</th>\n",
       "      <td>NaT</td>\n",
       "      <td>3.65</td>\n",
       "      <td>33</td>\n",
       "      <td>1035.4</td>\n",
       "      <td>0.0</td>\n",
       "      <td>0.0</td>\n",
       "      <td>0.0</td>\n",
       "      <td>0</td>\n",
       "      <td>0</td>\n",
       "      <td>0</td>\n",
       "      <td>...</td>\n",
       "      <td>270.00</td>\n",
       "      <td>3.89</td>\n",
       "      <td>56.31</td>\n",
       "      <td>3.76</td>\n",
       "      <td>286.70</td>\n",
       "      <td>14.04</td>\n",
       "      <td>32.848282</td>\n",
       "      <td>68.820648</td>\n",
       "      <td>152.53769</td>\n",
       "      <td>2214.849300</td>\n",
       "    </tr>\n",
       "    <tr>\n",
       "      <th>2015-05-02 03:00:00</th>\n",
       "      <td>NaT</td>\n",
       "      <td>5.82</td>\n",
       "      <td>30</td>\n",
       "      <td>1035.4</td>\n",
       "      <td>0.0</td>\n",
       "      <td>0.0</td>\n",
       "      <td>0.0</td>\n",
       "      <td>0</td>\n",
       "      <td>0</td>\n",
       "      <td>0</td>\n",
       "      <td>...</td>\n",
       "      <td>323.13</td>\n",
       "      <td>3.55</td>\n",
       "      <td>23.96</td>\n",
       "      <td>3.08</td>\n",
       "      <td>339.44</td>\n",
       "      <td>19.80</td>\n",
       "      <td>22.699288</td>\n",
       "      <td>64.883536</td>\n",
       "      <td>166.90159</td>\n",
       "      <td>2527.609200</td>\n",
       "    </tr>\n",
       "    <tr>\n",
       "      <th>2015-05-02 04:00:00</th>\n",
       "      <td>asd</td>\n",
       "      <td>7.73</td>\n",
       "      <td>27</td>\n",
       "      <td>1034.4</td>\n",
       "      <td>0.0</td>\n",
       "      <td>0.0</td>\n",
       "      <td>0.0</td>\n",
       "      <td>0</td>\n",
       "      <td>0</td>\n",
       "      <td>0</td>\n",
       "      <td>...</td>\n",
       "      <td>10.01</td>\n",
       "      <td>6.76</td>\n",
       "      <td>25.20</td>\n",
       "      <td>6.62</td>\n",
       "      <td>22.38</td>\n",
       "      <td>16.56</td>\n",
       "      <td>19.199908</td>\n",
       "      <td>63.795208</td>\n",
       "      <td>182.13526</td>\n",
       "      <td>2640.203400</td>\n",
       "    </tr>\n",
       "    <tr>\n",
       "      <th>...</th>\n",
       "      <td>...</td>\n",
       "      <td>...</td>\n",
       "      <td>...</td>\n",
       "      <td>...</td>\n",
       "      <td>...</td>\n",
       "      <td>...</td>\n",
       "      <td>...</td>\n",
       "      <td>...</td>\n",
       "      <td>...</td>\n",
       "      <td>...</td>\n",
       "      <td>...</td>\n",
       "      <td>...</td>\n",
       "      <td>...</td>\n",
       "      <td>...</td>\n",
       "      <td>...</td>\n",
       "      <td>...</td>\n",
       "      <td>...</td>\n",
       "      <td>...</td>\n",
       "      <td>...</td>\n",
       "      <td>...</td>\n",
       "      <td>...</td>\n",
       "    </tr>\n",
       "    <tr>\n",
       "      <th>2015-10-24 08:00:00</th>\n",
       "      <td>NaN</td>\n",
       "      <td>8.69</td>\n",
       "      <td>66</td>\n",
       "      <td>1025.1</td>\n",
       "      <td>0.0</td>\n",
       "      <td>0.0</td>\n",
       "      <td>100.0</td>\n",
       "      <td>100</td>\n",
       "      <td>100</td>\n",
       "      <td>100</td>\n",
       "      <td>...</td>\n",
       "      <td>285.42</td>\n",
       "      <td>25.50</td>\n",
       "      <td>283.06</td>\n",
       "      <td>24.01</td>\n",
       "      <td>282.99</td>\n",
       "      <td>25.20</td>\n",
       "      <td>22.700907</td>\n",
       "      <td>64.952098</td>\n",
       "      <td>167.06794</td>\n",
       "      <td>173.410560</td>\n",
       "    </tr>\n",
       "    <tr>\n",
       "      <th>2015-10-24 09:00:00</th>\n",
       "      <td>NaN</td>\n",
       "      <td>7.57</td>\n",
       "      <td>90</td>\n",
       "      <td>1026.1</td>\n",
       "      <td>0.0</td>\n",
       "      <td>0.0</td>\n",
       "      <td>100.0</td>\n",
       "      <td>79</td>\n",
       "      <td>100</td>\n",
       "      <td>100</td>\n",
       "      <td>...</td>\n",
       "      <td>6.91</td>\n",
       "      <td>13.00</td>\n",
       "      <td>4.76</td>\n",
       "      <td>11.61</td>\n",
       "      <td>7.13</td>\n",
       "      <td>10.44</td>\n",
       "      <td>19.307487</td>\n",
       "      <td>63.895118</td>\n",
       "      <td>182.28247</td>\n",
       "      <td>403.792220</td>\n",
       "    </tr>\n",
       "    <tr>\n",
       "      <th>2015-10-24 10:00:00</th>\n",
       "      <td>NaN</td>\n",
       "      <td>7.27</td>\n",
       "      <td>90</td>\n",
       "      <td>1026.3</td>\n",
       "      <td>0.1</td>\n",
       "      <td>0.0</td>\n",
       "      <td>100.0</td>\n",
       "      <td>73</td>\n",
       "      <td>100</td>\n",
       "      <td>100</td>\n",
       "      <td>...</td>\n",
       "      <td>2.29</td>\n",
       "      <td>8.71</td>\n",
       "      <td>352.87</td>\n",
       "      <td>7.95</td>\n",
       "      <td>354.81</td>\n",
       "      <td>22.32</td>\n",
       "      <td>25.249506</td>\n",
       "      <td>65.827032</td>\n",
       "      <td>197.33868</td>\n",
       "      <td>158.367780</td>\n",
       "    </tr>\n",
       "    <tr>\n",
       "      <th>2015-10-24 11:00:00</th>\n",
       "      <td>NaN</td>\n",
       "      <td>8.25</td>\n",
       "      <td>81</td>\n",
       "      <td>1025.5</td>\n",
       "      <td>0.0</td>\n",
       "      <td>0.0</td>\n",
       "      <td>100.0</td>\n",
       "      <td>74</td>\n",
       "      <td>66</td>\n",
       "      <td>100</td>\n",
       "      <td>...</td>\n",
       "      <td>11.31</td>\n",
       "      <td>6.29</td>\n",
       "      <td>13.24</td>\n",
       "      <td>5.94</td>\n",
       "      <td>14.04</td>\n",
       "      <td>15.48</td>\n",
       "      <td>36.361161</td>\n",
       "      <td>70.496313</td>\n",
       "      <td>211.30027</td>\n",
       "      <td>126.953060</td>\n",
       "    </tr>\n",
       "    <tr>\n",
       "      <th>2015-10-24 12:00:00</th>\n",
       "      <td>NaN</td>\n",
       "      <td>8.00</td>\n",
       "      <td>80</td>\n",
       "      <td>1025.3</td>\n",
       "      <td>0.0</td>\n",
       "      <td>0.0</td>\n",
       "      <td>100.0</td>\n",
       "      <td>100</td>\n",
       "      <td>100</td>\n",
       "      <td>100</td>\n",
       "      <td>...</td>\n",
       "      <td>12.72</td>\n",
       "      <td>12.07</td>\n",
       "      <td>17.35</td>\n",
       "      <td>11.38</td>\n",
       "      <td>18.43</td>\n",
       "      <td>16.20</td>\n",
       "      <td>48.452849</td>\n",
       "      <td>76.919574</td>\n",
       "      <td>223.04931</td>\n",
       "      <td>20.055031</td>\n",
       "    </tr>\n",
       "  </tbody>\n",
       "</table>\n",
       "<p>4213 rows × 22 columns</p>\n",
       "</div>"
      ],
      "text/plain": [
       "                                randTime  temperature_2_m_above_gnd  \\\n",
       "Time                                                                  \n",
       "2015-05-02 00:00:00  2022-07-31 00:00:00                       2.17   \n",
       "2015-05-02 01:00:00  2022-05-10 00:00:00                       2.31   \n",
       "2015-05-02 02:00:00                  NaT                       3.65   \n",
       "2015-05-02 03:00:00                  NaT                       5.82   \n",
       "2015-05-02 04:00:00                  asd                       7.73   \n",
       "...                                  ...                        ...   \n",
       "2015-10-24 08:00:00                  NaN                       8.69   \n",
       "2015-10-24 09:00:00                  NaN                       7.57   \n",
       "2015-10-24 10:00:00                  NaN                       7.27   \n",
       "2015-10-24 11:00:00                  NaN                       8.25   \n",
       "2015-10-24 12:00:00                  NaN                       8.00   \n",
       "\n",
       "                     relative_humidity_2_m_above_gnd  \\\n",
       "Time                                                   \n",
       "2015-05-02 00:00:00                               31   \n",
       "2015-05-02 01:00:00                               27   \n",
       "2015-05-02 02:00:00                               33   \n",
       "2015-05-02 03:00:00                               30   \n",
       "2015-05-02 04:00:00                               27   \n",
       "...                                              ...   \n",
       "2015-10-24 08:00:00                               66   \n",
       "2015-10-24 09:00:00                               90   \n",
       "2015-10-24 10:00:00                               90   \n",
       "2015-10-24 11:00:00                               81   \n",
       "2015-10-24 12:00:00                               80   \n",
       "\n",
       "                     mean_sea_level_pressure_MSL  total_precipitation_sfc  \\\n",
       "Time                                                                        \n",
       "2015-05-02 00:00:00                       1035.0                      0.0   \n",
       "2015-05-02 01:00:00                       1035.1                      0.0   \n",
       "2015-05-02 02:00:00                       1035.4                      0.0   \n",
       "2015-05-02 03:00:00                       1035.4                      0.0   \n",
       "2015-05-02 04:00:00                       1034.4                      0.0   \n",
       "...                                          ...                      ...   \n",
       "2015-10-24 08:00:00                       1025.1                      0.0   \n",
       "2015-10-24 09:00:00                       1026.1                      0.0   \n",
       "2015-10-24 10:00:00                       1026.3                      0.1   \n",
       "2015-10-24 11:00:00                       1025.5                      0.0   \n",
       "2015-10-24 12:00:00                       1025.3                      0.0   \n",
       "\n",
       "                     snowfall_amount_sfc  total_cloud_cover_sfc  \\\n",
       "Time                                                              \n",
       "2015-05-02 00:00:00                  0.0                    0.0   \n",
       "2015-05-02 01:00:00                  0.0                    0.0   \n",
       "2015-05-02 02:00:00                  0.0                    0.0   \n",
       "2015-05-02 03:00:00                  0.0                    0.0   \n",
       "2015-05-02 04:00:00                  0.0                    0.0   \n",
       "...                                  ...                    ...   \n",
       "2015-10-24 08:00:00                  0.0                  100.0   \n",
       "2015-10-24 09:00:00                  0.0                  100.0   \n",
       "2015-10-24 10:00:00                  0.0                  100.0   \n",
       "2015-10-24 11:00:00                  0.0                  100.0   \n",
       "2015-10-24 12:00:00                  0.0                  100.0   \n",
       "\n",
       "                     high_cloud_cover_high_cld_lay  \\\n",
       "Time                                                 \n",
       "2015-05-02 00:00:00                              0   \n",
       "2015-05-02 01:00:00                              0   \n",
       "2015-05-02 02:00:00                              0   \n",
       "2015-05-02 03:00:00                              0   \n",
       "2015-05-02 04:00:00                              0   \n",
       "...                                            ...   \n",
       "2015-10-24 08:00:00                            100   \n",
       "2015-10-24 09:00:00                             79   \n",
       "2015-10-24 10:00:00                             73   \n",
       "2015-10-24 11:00:00                             74   \n",
       "2015-10-24 12:00:00                            100   \n",
       "\n",
       "                     medium_cloud_cover_mid_cld_lay  \\\n",
       "Time                                                  \n",
       "2015-05-02 00:00:00                               0   \n",
       "2015-05-02 01:00:00                               0   \n",
       "2015-05-02 02:00:00                               0   \n",
       "2015-05-02 03:00:00                               0   \n",
       "2015-05-02 04:00:00                               0   \n",
       "...                                             ...   \n",
       "2015-10-24 08:00:00                             100   \n",
       "2015-10-24 09:00:00                             100   \n",
       "2015-10-24 10:00:00                             100   \n",
       "2015-10-24 11:00:00                              66   \n",
       "2015-10-24 12:00:00                             100   \n",
       "\n",
       "                     low_cloud_cover_low_cld_lay  ...  \\\n",
       "Time                                              ...   \n",
       "2015-05-02 00:00:00                            0  ...   \n",
       "2015-05-02 01:00:00                            0  ...   \n",
       "2015-05-02 02:00:00                            0  ...   \n",
       "2015-05-02 03:00:00                            0  ...   \n",
       "2015-05-02 04:00:00                            0  ...   \n",
       "...                                          ...  ...   \n",
       "2015-10-24 08:00:00                          100  ...   \n",
       "2015-10-24 09:00:00                          100  ...   \n",
       "2015-10-24 10:00:00                          100  ...   \n",
       "2015-10-24 11:00:00                          100  ...   \n",
       "2015-10-24 12:00:00                          100  ...   \n",
       "\n",
       "                     wind_direction_10_m_above_gnd  wind_speed_80_m_above_gnd  \\\n",
       "Time                                                                            \n",
       "2015-05-02 00:00:00                         312.71                       9.36   \n",
       "2015-05-02 01:00:00                         294.78                       5.99   \n",
       "2015-05-02 02:00:00                         270.00                       3.89   \n",
       "2015-05-02 03:00:00                         323.13                       3.55   \n",
       "2015-05-02 04:00:00                          10.01                       6.76   \n",
       "...                                            ...                        ...   \n",
       "2015-10-24 08:00:00                         285.42                      25.50   \n",
       "2015-10-24 09:00:00                           6.91                      13.00   \n",
       "2015-10-24 10:00:00                           2.29                       8.71   \n",
       "2015-10-24 11:00:00                          11.31                       6.29   \n",
       "2015-10-24 12:00:00                          12.72                      12.07   \n",
       "\n",
       "                     wind_direction_80_m_above_gnd  wind_speed_900_mb  \\\n",
       "Time                                                                    \n",
       "2015-05-02 00:00:00                          22.62               6.62   \n",
       "2015-05-02 01:00:00                          32.74               4.61   \n",
       "2015-05-02 02:00:00                          56.31               3.76   \n",
       "2015-05-02 03:00:00                          23.96               3.08   \n",
       "2015-05-02 04:00:00                          25.20               6.62   \n",
       "...                                            ...                ...   \n",
       "2015-10-24 08:00:00                         283.06              24.01   \n",
       "2015-10-24 09:00:00                           4.76              11.61   \n",
       "2015-10-24 10:00:00                         352.87               7.95   \n",
       "2015-10-24 11:00:00                          13.24               5.94   \n",
       "2015-10-24 12:00:00                          17.35              11.38   \n",
       "\n",
       "                     wind_direction_900_mb  wind_gust_10_m_above_gnd  \\\n",
       "Time                                                                   \n",
       "2015-05-02 00:00:00                 337.62                     24.48   \n",
       "2015-05-02 01:00:00                 321.34                     21.96   \n",
       "2015-05-02 02:00:00                 286.70                     14.04   \n",
       "2015-05-02 03:00:00                 339.44                     19.80   \n",
       "2015-05-02 04:00:00                  22.38                     16.56   \n",
       "...                                    ...                       ...   \n",
       "2015-10-24 08:00:00                 282.99                     25.20   \n",
       "2015-10-24 09:00:00                   7.13                     10.44   \n",
       "2015-10-24 10:00:00                 354.81                     22.32   \n",
       "2015-10-24 11:00:00                  14.04                     15.48   \n",
       "2015-10-24 12:00:00                  18.43                     16.20   \n",
       "\n",
       "                     angle_of_incidence     zenith    azimuth  \\\n",
       "Time                                                            \n",
       "2015-05-02 00:00:00           58.753108  83.237322  128.33543   \n",
       "2015-05-02 01:00:00           45.408585  75.143041  139.65530   \n",
       "2015-05-02 02:00:00           32.848282  68.820648  152.53769   \n",
       "2015-05-02 03:00:00           22.699288  64.883536  166.90159   \n",
       "2015-05-02 04:00:00           19.199908  63.795208  182.13526   \n",
       "...                                 ...        ...        ...   \n",
       "2015-10-24 08:00:00           22.700907  64.952098  167.06794   \n",
       "2015-10-24 09:00:00           19.307487  63.895118  182.28247   \n",
       "2015-10-24 10:00:00           25.249506  65.827032  197.33868   \n",
       "2015-10-24 11:00:00           36.361161  70.496313  211.30027   \n",
       "2015-10-24 12:00:00           48.452849  76.919574  223.04931   \n",
       "\n",
       "                     generated_power_kw  \n",
       "Time                                     \n",
       "2015-05-02 00:00:00          454.100950  \n",
       "2015-05-02 01:00:00         1411.999400  \n",
       "2015-05-02 02:00:00         2214.849300  \n",
       "2015-05-02 03:00:00         2527.609200  \n",
       "2015-05-02 04:00:00         2640.203400  \n",
       "...                                 ...  \n",
       "2015-10-24 08:00:00          173.410560  \n",
       "2015-10-24 09:00:00          403.792220  \n",
       "2015-10-24 10:00:00          158.367780  \n",
       "2015-10-24 11:00:00          126.953060  \n",
       "2015-10-24 12:00:00           20.055031  \n",
       "\n",
       "[4213 rows x 22 columns]"
      ]
     },
     "execution_count": 58,
     "metadata": {},
     "output_type": "execute_result"
    }
   ],
   "source": [
    "df.loc[\"2015\"]"
   ]
  },
  {
   "cell_type": "markdown",
   "id": "c5ad1802",
   "metadata": {},
   "source": [
    "#### The below one starts on the very first time in the month, and includes the last date and time for the month:"
   ]
  },
  {
   "cell_type": "code",
   "execution_count": 59,
   "id": "4ea58df7",
   "metadata": {},
   "outputs": [
    {
     "data": {
      "text/html": [
       "<div>\n",
       "<style scoped>\n",
       "    .dataframe tbody tr th:only-of-type {\n",
       "        vertical-align: middle;\n",
       "    }\n",
       "\n",
       "    .dataframe tbody tr th {\n",
       "        vertical-align: top;\n",
       "    }\n",
       "\n",
       "    .dataframe thead th {\n",
       "        text-align: right;\n",
       "    }\n",
       "</style>\n",
       "<table border=\"1\" class=\"dataframe\">\n",
       "  <thead>\n",
       "    <tr style=\"text-align: right;\">\n",
       "      <th></th>\n",
       "      <th>randTime</th>\n",
       "      <th>temperature_2_m_above_gnd</th>\n",
       "      <th>relative_humidity_2_m_above_gnd</th>\n",
       "      <th>mean_sea_level_pressure_MSL</th>\n",
       "      <th>total_precipitation_sfc</th>\n",
       "      <th>snowfall_amount_sfc</th>\n",
       "      <th>total_cloud_cover_sfc</th>\n",
       "      <th>high_cloud_cover_high_cld_lay</th>\n",
       "      <th>medium_cloud_cover_mid_cld_lay</th>\n",
       "      <th>low_cloud_cover_low_cld_lay</th>\n",
       "      <th>...</th>\n",
       "      <th>wind_direction_10_m_above_gnd</th>\n",
       "      <th>wind_speed_80_m_above_gnd</th>\n",
       "      <th>wind_direction_80_m_above_gnd</th>\n",
       "      <th>wind_speed_900_mb</th>\n",
       "      <th>wind_direction_900_mb</th>\n",
       "      <th>wind_gust_10_m_above_gnd</th>\n",
       "      <th>angle_of_incidence</th>\n",
       "      <th>zenith</th>\n",
       "      <th>azimuth</th>\n",
       "      <th>generated_power_kw</th>\n",
       "    </tr>\n",
       "    <tr>\n",
       "      <th>Time</th>\n",
       "      <th></th>\n",
       "      <th></th>\n",
       "      <th></th>\n",
       "      <th></th>\n",
       "      <th></th>\n",
       "      <th></th>\n",
       "      <th></th>\n",
       "      <th></th>\n",
       "      <th></th>\n",
       "      <th></th>\n",
       "      <th></th>\n",
       "      <th></th>\n",
       "      <th></th>\n",
       "      <th></th>\n",
       "      <th></th>\n",
       "      <th></th>\n",
       "      <th></th>\n",
       "      <th></th>\n",
       "      <th></th>\n",
       "      <th></th>\n",
       "      <th></th>\n",
       "    </tr>\n",
       "  </thead>\n",
       "  <tbody>\n",
       "    <tr>\n",
       "      <th>2015-06-01 00:00:00</th>\n",
       "      <td>NaN</td>\n",
       "      <td>9.29</td>\n",
       "      <td>33</td>\n",
       "      <td>1015.8</td>\n",
       "      <td>0.0</td>\n",
       "      <td>0.0</td>\n",
       "      <td>0.0</td>\n",
       "      <td>0</td>\n",
       "      <td>0</td>\n",
       "      <td>0</td>\n",
       "      <td>...</td>\n",
       "      <td>162.12</td>\n",
       "      <td>12.76</td>\n",
       "      <td>163.61</td>\n",
       "      <td>12.52</td>\n",
       "      <td>161.57</td>\n",
       "      <td>11.88</td>\n",
       "      <td>30.834489</td>\n",
       "      <td>50.901216</td>\n",
       "      <td>221.13622</td>\n",
       "      <td>2651.586600</td>\n",
       "    </tr>\n",
       "    <tr>\n",
       "      <th>2015-06-01 01:00:00</th>\n",
       "      <td>NaN</td>\n",
       "      <td>9.87</td>\n",
       "      <td>32</td>\n",
       "      <td>1015.5</td>\n",
       "      <td>0.0</td>\n",
       "      <td>0.0</td>\n",
       "      <td>0.0</td>\n",
       "      <td>0</td>\n",
       "      <td>0</td>\n",
       "      <td>0</td>\n",
       "      <td>...</td>\n",
       "      <td>165.62</td>\n",
       "      <td>15.54</td>\n",
       "      <td>166.61</td>\n",
       "      <td>14.49</td>\n",
       "      <td>165.62</td>\n",
       "      <td>15.12</td>\n",
       "      <td>45.768773</td>\n",
       "      <td>59.412694</td>\n",
       "      <td>236.23563</td>\n",
       "      <td>2153.084300</td>\n",
       "    </tr>\n",
       "    <tr>\n",
       "      <th>2015-06-01 02:00:00</th>\n",
       "      <td>NaN</td>\n",
       "      <td>10.03</td>\n",
       "      <td>33</td>\n",
       "      <td>1014.6</td>\n",
       "      <td>0.0</td>\n",
       "      <td>0.0</td>\n",
       "      <td>0.0</td>\n",
       "      <td>0</td>\n",
       "      <td>0</td>\n",
       "      <td>0</td>\n",
       "      <td>...</td>\n",
       "      <td>168.18</td>\n",
       "      <td>17.16</td>\n",
       "      <td>170.34</td>\n",
       "      <td>16.17</td>\n",
       "      <td>168.44</td>\n",
       "      <td>16.92</td>\n",
       "      <td>60.713240</td>\n",
       "      <td>69.448275</td>\n",
       "      <td>248.62163</td>\n",
       "      <td>1179.081100</td>\n",
       "    </tr>\n",
       "    <tr>\n",
       "      <th>2015-06-01 03:00:00</th>\n",
       "      <td>NaN</td>\n",
       "      <td>9.79</td>\n",
       "      <td>34</td>\n",
       "      <td>1014.6</td>\n",
       "      <td>0.0</td>\n",
       "      <td>0.0</td>\n",
       "      <td>0.0</td>\n",
       "      <td>0</td>\n",
       "      <td>0</td>\n",
       "      <td>0</td>\n",
       "      <td>...</td>\n",
       "      <td>169.16</td>\n",
       "      <td>19.35</td>\n",
       "      <td>170.36</td>\n",
       "      <td>17.94</td>\n",
       "      <td>169.59</td>\n",
       "      <td>18.36</td>\n",
       "      <td>75.632314</td>\n",
       "      <td>80.290352</td>\n",
       "      <td>259.32746</td>\n",
       "      <td>213.976410</td>\n",
       "    </tr>\n",
       "    <tr>\n",
       "      <th>2015-06-01 04:00:00</th>\n",
       "      <td>NaN</td>\n",
       "      <td>9.08</td>\n",
       "      <td>36</td>\n",
       "      <td>1015.1</td>\n",
       "      <td>0.0</td>\n",
       "      <td>0.0</td>\n",
       "      <td>0.0</td>\n",
       "      <td>0</td>\n",
       "      <td>0</td>\n",
       "      <td>0</td>\n",
       "      <td>...</td>\n",
       "      <td>169.16</td>\n",
       "      <td>19.42</td>\n",
       "      <td>169.32</td>\n",
       "      <td>17.30</td>\n",
       "      <td>167.99</td>\n",
       "      <td>16.20</td>\n",
       "      <td>85.944587</td>\n",
       "      <td>87.943014</td>\n",
       "      <td>266.32075</td>\n",
       "      <td>3.745139</td>\n",
       "    </tr>\n",
       "    <tr>\n",
       "      <th>...</th>\n",
       "      <td>...</td>\n",
       "      <td>...</td>\n",
       "      <td>...</td>\n",
       "      <td>...</td>\n",
       "      <td>...</td>\n",
       "      <td>...</td>\n",
       "      <td>...</td>\n",
       "      <td>...</td>\n",
       "      <td>...</td>\n",
       "      <td>...</td>\n",
       "      <td>...</td>\n",
       "      <td>...</td>\n",
       "      <td>...</td>\n",
       "      <td>...</td>\n",
       "      <td>...</td>\n",
       "      <td>...</td>\n",
       "      <td>...</td>\n",
       "      <td>...</td>\n",
       "      <td>...</td>\n",
       "      <td>...</td>\n",
       "      <td>...</td>\n",
       "    </tr>\n",
       "    <tr>\n",
       "      <th>2015-08-31 19:00:00</th>\n",
       "      <td>NaN</td>\n",
       "      <td>24.08</td>\n",
       "      <td>56</td>\n",
       "      <td>1014.1</td>\n",
       "      <td>0.0</td>\n",
       "      <td>0.0</td>\n",
       "      <td>100.0</td>\n",
       "      <td>100</td>\n",
       "      <td>100</td>\n",
       "      <td>0</td>\n",
       "      <td>...</td>\n",
       "      <td>198.15</td>\n",
       "      <td>25.28</td>\n",
       "      <td>199.98</td>\n",
       "      <td>22.77</td>\n",
       "      <td>198.43</td>\n",
       "      <td>25.20</td>\n",
       "      <td>30.099626</td>\n",
       "      <td>40.160273</td>\n",
       "      <td>135.72332</td>\n",
       "      <td>305.316620</td>\n",
       "    </tr>\n",
       "    <tr>\n",
       "      <th>2015-08-31 20:00:00</th>\n",
       "      <td>NaN</td>\n",
       "      <td>25.46</td>\n",
       "      <td>47</td>\n",
       "      <td>1013.7</td>\n",
       "      <td>0.0</td>\n",
       "      <td>0.0</td>\n",
       "      <td>100.0</td>\n",
       "      <td>100</td>\n",
       "      <td>100</td>\n",
       "      <td>0</td>\n",
       "      <td>...</td>\n",
       "      <td>208.37</td>\n",
       "      <td>22.10</td>\n",
       "      <td>210.32</td>\n",
       "      <td>20.46</td>\n",
       "      <td>208.37</td>\n",
       "      <td>25.92</td>\n",
       "      <td>18.061232</td>\n",
       "      <td>33.971865</td>\n",
       "      <td>158.23295</td>\n",
       "      <td>272.775280</td>\n",
       "    </tr>\n",
       "    <tr>\n",
       "      <th>2015-08-31 21:00:00</th>\n",
       "      <td>NaN</td>\n",
       "      <td>23.47</td>\n",
       "      <td>45</td>\n",
       "      <td>1015.6</td>\n",
       "      <td>1.3</td>\n",
       "      <td>0.0</td>\n",
       "      <td>100.0</td>\n",
       "      <td>100</td>\n",
       "      <td>100</td>\n",
       "      <td>85</td>\n",
       "      <td>...</td>\n",
       "      <td>336.80</td>\n",
       "      <td>7.42</td>\n",
       "      <td>337.17</td>\n",
       "      <td>6.95</td>\n",
       "      <td>338.75</td>\n",
       "      <td>28.08</td>\n",
       "      <td>13.936486</td>\n",
       "      <td>32.345608</td>\n",
       "      <td>185.23239</td>\n",
       "      <td>1821.294800</td>\n",
       "    </tr>\n",
       "    <tr>\n",
       "      <th>2015-08-31 22:00:00</th>\n",
       "      <td>NaN</td>\n",
       "      <td>23.07</td>\n",
       "      <td>48</td>\n",
       "      <td>1015.7</td>\n",
       "      <td>1.5</td>\n",
       "      <td>0.0</td>\n",
       "      <td>100.0</td>\n",
       "      <td>90</td>\n",
       "      <td>100</td>\n",
       "      <td>100</td>\n",
       "      <td>...</td>\n",
       "      <td>354.81</td>\n",
       "      <td>12.24</td>\n",
       "      <td>360.00</td>\n",
       "      <td>12.24</td>\n",
       "      <td>360.00</td>\n",
       "      <td>30.96</td>\n",
       "      <td>22.171194</td>\n",
       "      <td>35.904986</td>\n",
       "      <td>210.98474</td>\n",
       "      <td>561.156940</td>\n",
       "    </tr>\n",
       "    <tr>\n",
       "      <th>2015-08-31 23:00:00</th>\n",
       "      <td>NaN</td>\n",
       "      <td>22.11</td>\n",
       "      <td>53</td>\n",
       "      <td>1016.0</td>\n",
       "      <td>1.1</td>\n",
       "      <td>0.0</td>\n",
       "      <td>79.0</td>\n",
       "      <td>79</td>\n",
       "      <td>79</td>\n",
       "      <td>79</td>\n",
       "      <td>...</td>\n",
       "      <td>360.00</td>\n",
       "      <td>9.36</td>\n",
       "      <td>360.00</td>\n",
       "      <td>9.36</td>\n",
       "      <td>360.00</td>\n",
       "      <td>31.68</td>\n",
       "      <td>35.255182</td>\n",
       "      <td>43.390778</td>\n",
       "      <td>231.21352</td>\n",
       "      <td>1084.925600</td>\n",
       "    </tr>\n",
       "  </tbody>\n",
       "</table>\n",
       "<p>2208 rows × 22 columns</p>\n",
       "</div>"
      ],
      "text/plain": [
       "                    randTime  temperature_2_m_above_gnd  \\\n",
       "Time                                                      \n",
       "2015-06-01 00:00:00      NaN                       9.29   \n",
       "2015-06-01 01:00:00      NaN                       9.87   \n",
       "2015-06-01 02:00:00      NaN                      10.03   \n",
       "2015-06-01 03:00:00      NaN                       9.79   \n",
       "2015-06-01 04:00:00      NaN                       9.08   \n",
       "...                      ...                        ...   \n",
       "2015-08-31 19:00:00      NaN                      24.08   \n",
       "2015-08-31 20:00:00      NaN                      25.46   \n",
       "2015-08-31 21:00:00      NaN                      23.47   \n",
       "2015-08-31 22:00:00      NaN                      23.07   \n",
       "2015-08-31 23:00:00      NaN                      22.11   \n",
       "\n",
       "                     relative_humidity_2_m_above_gnd  \\\n",
       "Time                                                   \n",
       "2015-06-01 00:00:00                               33   \n",
       "2015-06-01 01:00:00                               32   \n",
       "2015-06-01 02:00:00                               33   \n",
       "2015-06-01 03:00:00                               34   \n",
       "2015-06-01 04:00:00                               36   \n",
       "...                                              ...   \n",
       "2015-08-31 19:00:00                               56   \n",
       "2015-08-31 20:00:00                               47   \n",
       "2015-08-31 21:00:00                               45   \n",
       "2015-08-31 22:00:00                               48   \n",
       "2015-08-31 23:00:00                               53   \n",
       "\n",
       "                     mean_sea_level_pressure_MSL  total_precipitation_sfc  \\\n",
       "Time                                                                        \n",
       "2015-06-01 00:00:00                       1015.8                      0.0   \n",
       "2015-06-01 01:00:00                       1015.5                      0.0   \n",
       "2015-06-01 02:00:00                       1014.6                      0.0   \n",
       "2015-06-01 03:00:00                       1014.6                      0.0   \n",
       "2015-06-01 04:00:00                       1015.1                      0.0   \n",
       "...                                          ...                      ...   \n",
       "2015-08-31 19:00:00                       1014.1                      0.0   \n",
       "2015-08-31 20:00:00                       1013.7                      0.0   \n",
       "2015-08-31 21:00:00                       1015.6                      1.3   \n",
       "2015-08-31 22:00:00                       1015.7                      1.5   \n",
       "2015-08-31 23:00:00                       1016.0                      1.1   \n",
       "\n",
       "                     snowfall_amount_sfc  total_cloud_cover_sfc  \\\n",
       "Time                                                              \n",
       "2015-06-01 00:00:00                  0.0                    0.0   \n",
       "2015-06-01 01:00:00                  0.0                    0.0   \n",
       "2015-06-01 02:00:00                  0.0                    0.0   \n",
       "2015-06-01 03:00:00                  0.0                    0.0   \n",
       "2015-06-01 04:00:00                  0.0                    0.0   \n",
       "...                                  ...                    ...   \n",
       "2015-08-31 19:00:00                  0.0                  100.0   \n",
       "2015-08-31 20:00:00                  0.0                  100.0   \n",
       "2015-08-31 21:00:00                  0.0                  100.0   \n",
       "2015-08-31 22:00:00                  0.0                  100.0   \n",
       "2015-08-31 23:00:00                  0.0                   79.0   \n",
       "\n",
       "                     high_cloud_cover_high_cld_lay  \\\n",
       "Time                                                 \n",
       "2015-06-01 00:00:00                              0   \n",
       "2015-06-01 01:00:00                              0   \n",
       "2015-06-01 02:00:00                              0   \n",
       "2015-06-01 03:00:00                              0   \n",
       "2015-06-01 04:00:00                              0   \n",
       "...                                            ...   \n",
       "2015-08-31 19:00:00                            100   \n",
       "2015-08-31 20:00:00                            100   \n",
       "2015-08-31 21:00:00                            100   \n",
       "2015-08-31 22:00:00                             90   \n",
       "2015-08-31 23:00:00                             79   \n",
       "\n",
       "                     medium_cloud_cover_mid_cld_lay  \\\n",
       "Time                                                  \n",
       "2015-06-01 00:00:00                               0   \n",
       "2015-06-01 01:00:00                               0   \n",
       "2015-06-01 02:00:00                               0   \n",
       "2015-06-01 03:00:00                               0   \n",
       "2015-06-01 04:00:00                               0   \n",
       "...                                             ...   \n",
       "2015-08-31 19:00:00                             100   \n",
       "2015-08-31 20:00:00                             100   \n",
       "2015-08-31 21:00:00                             100   \n",
       "2015-08-31 22:00:00                             100   \n",
       "2015-08-31 23:00:00                              79   \n",
       "\n",
       "                     low_cloud_cover_low_cld_lay  ...  \\\n",
       "Time                                              ...   \n",
       "2015-06-01 00:00:00                            0  ...   \n",
       "2015-06-01 01:00:00                            0  ...   \n",
       "2015-06-01 02:00:00                            0  ...   \n",
       "2015-06-01 03:00:00                            0  ...   \n",
       "2015-06-01 04:00:00                            0  ...   \n",
       "...                                          ...  ...   \n",
       "2015-08-31 19:00:00                            0  ...   \n",
       "2015-08-31 20:00:00                            0  ...   \n",
       "2015-08-31 21:00:00                           85  ...   \n",
       "2015-08-31 22:00:00                          100  ...   \n",
       "2015-08-31 23:00:00                           79  ...   \n",
       "\n",
       "                     wind_direction_10_m_above_gnd  wind_speed_80_m_above_gnd  \\\n",
       "Time                                                                            \n",
       "2015-06-01 00:00:00                         162.12                      12.76   \n",
       "2015-06-01 01:00:00                         165.62                      15.54   \n",
       "2015-06-01 02:00:00                         168.18                      17.16   \n",
       "2015-06-01 03:00:00                         169.16                      19.35   \n",
       "2015-06-01 04:00:00                         169.16                      19.42   \n",
       "...                                            ...                        ...   \n",
       "2015-08-31 19:00:00                         198.15                      25.28   \n",
       "2015-08-31 20:00:00                         208.37                      22.10   \n",
       "2015-08-31 21:00:00                         336.80                       7.42   \n",
       "2015-08-31 22:00:00                         354.81                      12.24   \n",
       "2015-08-31 23:00:00                         360.00                       9.36   \n",
       "\n",
       "                     wind_direction_80_m_above_gnd  wind_speed_900_mb  \\\n",
       "Time                                                                    \n",
       "2015-06-01 00:00:00                         163.61              12.52   \n",
       "2015-06-01 01:00:00                         166.61              14.49   \n",
       "2015-06-01 02:00:00                         170.34              16.17   \n",
       "2015-06-01 03:00:00                         170.36              17.94   \n",
       "2015-06-01 04:00:00                         169.32              17.30   \n",
       "...                                            ...                ...   \n",
       "2015-08-31 19:00:00                         199.98              22.77   \n",
       "2015-08-31 20:00:00                         210.32              20.46   \n",
       "2015-08-31 21:00:00                         337.17               6.95   \n",
       "2015-08-31 22:00:00                         360.00              12.24   \n",
       "2015-08-31 23:00:00                         360.00               9.36   \n",
       "\n",
       "                     wind_direction_900_mb  wind_gust_10_m_above_gnd  \\\n",
       "Time                                                                   \n",
       "2015-06-01 00:00:00                 161.57                     11.88   \n",
       "2015-06-01 01:00:00                 165.62                     15.12   \n",
       "2015-06-01 02:00:00                 168.44                     16.92   \n",
       "2015-06-01 03:00:00                 169.59                     18.36   \n",
       "2015-06-01 04:00:00                 167.99                     16.20   \n",
       "...                                    ...                       ...   \n",
       "2015-08-31 19:00:00                 198.43                     25.20   \n",
       "2015-08-31 20:00:00                 208.37                     25.92   \n",
       "2015-08-31 21:00:00                 338.75                     28.08   \n",
       "2015-08-31 22:00:00                 360.00                     30.96   \n",
       "2015-08-31 23:00:00                 360.00                     31.68   \n",
       "\n",
       "                     angle_of_incidence     zenith    azimuth  \\\n",
       "Time                                                            \n",
       "2015-06-01 00:00:00           30.834489  50.901216  221.13622   \n",
       "2015-06-01 01:00:00           45.768773  59.412694  236.23563   \n",
       "2015-06-01 02:00:00           60.713240  69.448275  248.62163   \n",
       "2015-06-01 03:00:00           75.632314  80.290352  259.32746   \n",
       "2015-06-01 04:00:00           85.944587  87.943014  266.32075   \n",
       "...                                 ...        ...        ...   \n",
       "2015-08-31 19:00:00           30.099626  40.160273  135.72332   \n",
       "2015-08-31 20:00:00           18.061232  33.971865  158.23295   \n",
       "2015-08-31 21:00:00           13.936486  32.345608  185.23239   \n",
       "2015-08-31 22:00:00           22.171194  35.904986  210.98474   \n",
       "2015-08-31 23:00:00           35.255182  43.390778  231.21352   \n",
       "\n",
       "                     generated_power_kw  \n",
       "Time                                     \n",
       "2015-06-01 00:00:00         2651.586600  \n",
       "2015-06-01 01:00:00         2153.084300  \n",
       "2015-06-01 02:00:00         1179.081100  \n",
       "2015-06-01 03:00:00          213.976410  \n",
       "2015-06-01 04:00:00            3.745139  \n",
       "...                                 ...  \n",
       "2015-08-31 19:00:00          305.316620  \n",
       "2015-08-31 20:00:00          272.775280  \n",
       "2015-08-31 21:00:00         1821.294800  \n",
       "2015-08-31 22:00:00          561.156940  \n",
       "2015-08-31 23:00:00         1084.925600  \n",
       "\n",
       "[2208 rows x 22 columns]"
      ]
     },
     "execution_count": 59,
     "metadata": {},
     "output_type": "execute_result"
    }
   ],
   "source": [
    "df[\"2015-06\":\"2015-08\"]"
   ]
  },
  {
   "cell_type": "markdown",
   "id": "e3c52848",
   "metadata": {},
   "source": [
    "#### Here we are specifying the exact stop time"
   ]
  },
  {
   "cell_type": "code",
   "execution_count": 60,
   "id": "53c8a508",
   "metadata": {},
   "outputs": [
    {
     "data": {
      "text/html": [
       "<div>\n",
       "<style scoped>\n",
       "    .dataframe tbody tr th:only-of-type {\n",
       "        vertical-align: middle;\n",
       "    }\n",
       "\n",
       "    .dataframe tbody tr th {\n",
       "        vertical-align: top;\n",
       "    }\n",
       "\n",
       "    .dataframe thead th {\n",
       "        text-align: right;\n",
       "    }\n",
       "</style>\n",
       "<table border=\"1\" class=\"dataframe\">\n",
       "  <thead>\n",
       "    <tr style=\"text-align: right;\">\n",
       "      <th></th>\n",
       "      <th>randTime</th>\n",
       "      <th>temperature_2_m_above_gnd</th>\n",
       "      <th>relative_humidity_2_m_above_gnd</th>\n",
       "      <th>mean_sea_level_pressure_MSL</th>\n",
       "      <th>total_precipitation_sfc</th>\n",
       "      <th>snowfall_amount_sfc</th>\n",
       "      <th>total_cloud_cover_sfc</th>\n",
       "      <th>high_cloud_cover_high_cld_lay</th>\n",
       "      <th>medium_cloud_cover_mid_cld_lay</th>\n",
       "      <th>low_cloud_cover_low_cld_lay</th>\n",
       "      <th>...</th>\n",
       "      <th>wind_direction_10_m_above_gnd</th>\n",
       "      <th>wind_speed_80_m_above_gnd</th>\n",
       "      <th>wind_direction_80_m_above_gnd</th>\n",
       "      <th>wind_speed_900_mb</th>\n",
       "      <th>wind_direction_900_mb</th>\n",
       "      <th>wind_gust_10_m_above_gnd</th>\n",
       "      <th>angle_of_incidence</th>\n",
       "      <th>zenith</th>\n",
       "      <th>azimuth</th>\n",
       "      <th>generated_power_kw</th>\n",
       "    </tr>\n",
       "    <tr>\n",
       "      <th>Time</th>\n",
       "      <th></th>\n",
       "      <th></th>\n",
       "      <th></th>\n",
       "      <th></th>\n",
       "      <th></th>\n",
       "      <th></th>\n",
       "      <th></th>\n",
       "      <th></th>\n",
       "      <th></th>\n",
       "      <th></th>\n",
       "      <th></th>\n",
       "      <th></th>\n",
       "      <th></th>\n",
       "      <th></th>\n",
       "      <th></th>\n",
       "      <th></th>\n",
       "      <th></th>\n",
       "      <th></th>\n",
       "      <th></th>\n",
       "      <th></th>\n",
       "      <th></th>\n",
       "    </tr>\n",
       "  </thead>\n",
       "  <tbody>\n",
       "    <tr>\n",
       "      <th>2015-06-01 00:00:00</th>\n",
       "      <td>NaN</td>\n",
       "      <td>9.29</td>\n",
       "      <td>33</td>\n",
       "      <td>1015.8</td>\n",
       "      <td>0.0</td>\n",
       "      <td>0.0</td>\n",
       "      <td>0.0</td>\n",
       "      <td>0</td>\n",
       "      <td>0</td>\n",
       "      <td>0</td>\n",
       "      <td>...</td>\n",
       "      <td>162.12</td>\n",
       "      <td>12.76</td>\n",
       "      <td>163.61</td>\n",
       "      <td>12.52</td>\n",
       "      <td>161.57</td>\n",
       "      <td>11.88</td>\n",
       "      <td>30.834489</td>\n",
       "      <td>50.901216</td>\n",
       "      <td>221.13622</td>\n",
       "      <td>2651.586600</td>\n",
       "    </tr>\n",
       "    <tr>\n",
       "      <th>2015-06-01 01:00:00</th>\n",
       "      <td>NaN</td>\n",
       "      <td>9.87</td>\n",
       "      <td>32</td>\n",
       "      <td>1015.5</td>\n",
       "      <td>0.0</td>\n",
       "      <td>0.0</td>\n",
       "      <td>0.0</td>\n",
       "      <td>0</td>\n",
       "      <td>0</td>\n",
       "      <td>0</td>\n",
       "      <td>...</td>\n",
       "      <td>165.62</td>\n",
       "      <td>15.54</td>\n",
       "      <td>166.61</td>\n",
       "      <td>14.49</td>\n",
       "      <td>165.62</td>\n",
       "      <td>15.12</td>\n",
       "      <td>45.768773</td>\n",
       "      <td>59.412694</td>\n",
       "      <td>236.23563</td>\n",
       "      <td>2153.084300</td>\n",
       "    </tr>\n",
       "    <tr>\n",
       "      <th>2015-06-01 02:00:00</th>\n",
       "      <td>NaN</td>\n",
       "      <td>10.03</td>\n",
       "      <td>33</td>\n",
       "      <td>1014.6</td>\n",
       "      <td>0.0</td>\n",
       "      <td>0.0</td>\n",
       "      <td>0.0</td>\n",
       "      <td>0</td>\n",
       "      <td>0</td>\n",
       "      <td>0</td>\n",
       "      <td>...</td>\n",
       "      <td>168.18</td>\n",
       "      <td>17.16</td>\n",
       "      <td>170.34</td>\n",
       "      <td>16.17</td>\n",
       "      <td>168.44</td>\n",
       "      <td>16.92</td>\n",
       "      <td>60.713240</td>\n",
       "      <td>69.448275</td>\n",
       "      <td>248.62163</td>\n",
       "      <td>1179.081100</td>\n",
       "    </tr>\n",
       "    <tr>\n",
       "      <th>2015-06-01 03:00:00</th>\n",
       "      <td>NaN</td>\n",
       "      <td>9.79</td>\n",
       "      <td>34</td>\n",
       "      <td>1014.6</td>\n",
       "      <td>0.0</td>\n",
       "      <td>0.0</td>\n",
       "      <td>0.0</td>\n",
       "      <td>0</td>\n",
       "      <td>0</td>\n",
       "      <td>0</td>\n",
       "      <td>...</td>\n",
       "      <td>169.16</td>\n",
       "      <td>19.35</td>\n",
       "      <td>170.36</td>\n",
       "      <td>17.94</td>\n",
       "      <td>169.59</td>\n",
       "      <td>18.36</td>\n",
       "      <td>75.632314</td>\n",
       "      <td>80.290352</td>\n",
       "      <td>259.32746</td>\n",
       "      <td>213.976410</td>\n",
       "    </tr>\n",
       "    <tr>\n",
       "      <th>2015-06-01 04:00:00</th>\n",
       "      <td>NaN</td>\n",
       "      <td>9.08</td>\n",
       "      <td>36</td>\n",
       "      <td>1015.1</td>\n",
       "      <td>0.0</td>\n",
       "      <td>0.0</td>\n",
       "      <td>0.0</td>\n",
       "      <td>0</td>\n",
       "      <td>0</td>\n",
       "      <td>0</td>\n",
       "      <td>...</td>\n",
       "      <td>169.16</td>\n",
       "      <td>19.42</td>\n",
       "      <td>169.32</td>\n",
       "      <td>17.30</td>\n",
       "      <td>167.99</td>\n",
       "      <td>16.20</td>\n",
       "      <td>85.944587</td>\n",
       "      <td>87.943014</td>\n",
       "      <td>266.32075</td>\n",
       "      <td>3.745139</td>\n",
       "    </tr>\n",
       "    <tr>\n",
       "      <th>...</th>\n",
       "      <td>...</td>\n",
       "      <td>...</td>\n",
       "      <td>...</td>\n",
       "      <td>...</td>\n",
       "      <td>...</td>\n",
       "      <td>...</td>\n",
       "      <td>...</td>\n",
       "      <td>...</td>\n",
       "      <td>...</td>\n",
       "      <td>...</td>\n",
       "      <td>...</td>\n",
       "      <td>...</td>\n",
       "      <td>...</td>\n",
       "      <td>...</td>\n",
       "      <td>...</td>\n",
       "      <td>...</td>\n",
       "      <td>...</td>\n",
       "      <td>...</td>\n",
       "      <td>...</td>\n",
       "      <td>...</td>\n",
       "      <td>...</td>\n",
       "    </tr>\n",
       "    <tr>\n",
       "      <th>2015-08-30 20:00:00</th>\n",
       "      <td>NaN</td>\n",
       "      <td>31.20</td>\n",
       "      <td>23</td>\n",
       "      <td>1015.3</td>\n",
       "      <td>0.0</td>\n",
       "      <td>0.0</td>\n",
       "      <td>4.5</td>\n",
       "      <td>15</td>\n",
       "      <td>0</td>\n",
       "      <td>0</td>\n",
       "      <td>...</td>\n",
       "      <td>180.83</td>\n",
       "      <td>26.65</td>\n",
       "      <td>181.55</td>\n",
       "      <td>24.84</td>\n",
       "      <td>180.83</td>\n",
       "      <td>25.92</td>\n",
       "      <td>22.481375</td>\n",
       "      <td>35.190516</td>\n",
       "      <td>211.22663</td>\n",
       "      <td>2239.977200</td>\n",
       "    </tr>\n",
       "    <tr>\n",
       "      <th>2015-08-30 21:00:00</th>\n",
       "      <td>NaN</td>\n",
       "      <td>31.87</td>\n",
       "      <td>21</td>\n",
       "      <td>1014.7</td>\n",
       "      <td>0.0</td>\n",
       "      <td>0.0</td>\n",
       "      <td>6.3</td>\n",
       "      <td>21</td>\n",
       "      <td>0</td>\n",
       "      <td>0</td>\n",
       "      <td>...</td>\n",
       "      <td>185.71</td>\n",
       "      <td>27.19</td>\n",
       "      <td>186.84</td>\n",
       "      <td>25.33</td>\n",
       "      <td>185.71</td>\n",
       "      <td>28.08</td>\n",
       "      <td>35.371488</td>\n",
       "      <td>42.727790</td>\n",
       "      <td>231.66136</td>\n",
       "      <td>1721.691900</td>\n",
       "    </tr>\n",
       "    <tr>\n",
       "      <th>2015-08-30 22:00:00</th>\n",
       "      <td>NaN</td>\n",
       "      <td>31.83</td>\n",
       "      <td>20</td>\n",
       "      <td>1014.1</td>\n",
       "      <td>0.0</td>\n",
       "      <td>0.0</td>\n",
       "      <td>4.8</td>\n",
       "      <td>16</td>\n",
       "      <td>0</td>\n",
       "      <td>0</td>\n",
       "      <td>...</td>\n",
       "      <td>194.66</td>\n",
       "      <td>26.21</td>\n",
       "      <td>195.95</td>\n",
       "      <td>24.38</td>\n",
       "      <td>196.29</td>\n",
       "      <td>27.00</td>\n",
       "      <td>49.462203</td>\n",
       "      <td>52.491240</td>\n",
       "      <td>246.85338</td>\n",
       "      <td>1197.756700</td>\n",
       "    </tr>\n",
       "    <tr>\n",
       "      <th>2015-08-30 23:00:00</th>\n",
       "      <td>NaN</td>\n",
       "      <td>31.59</td>\n",
       "      <td>19</td>\n",
       "      <td>1013.7</td>\n",
       "      <td>0.0</td>\n",
       "      <td>0.0</td>\n",
       "      <td>6.3</td>\n",
       "      <td>21</td>\n",
       "      <td>0</td>\n",
       "      <td>0</td>\n",
       "      <td>...</td>\n",
       "      <td>199.54</td>\n",
       "      <td>26.08</td>\n",
       "      <td>200.19</td>\n",
       "      <td>23.81</td>\n",
       "      <td>200.35</td>\n",
       "      <td>24.48</td>\n",
       "      <td>63.942621</td>\n",
       "      <td>63.334084</td>\n",
       "      <td>258.81408</td>\n",
       "      <td>466.430230</td>\n",
       "    </tr>\n",
       "    <tr>\n",
       "      <th>2015-08-31 00:00:00</th>\n",
       "      <td>NaN</td>\n",
       "      <td>30.93</td>\n",
       "      <td>20</td>\n",
       "      <td>1013.8</td>\n",
       "      <td>0.0</td>\n",
       "      <td>0.0</td>\n",
       "      <td>30.0</td>\n",
       "      <td>100</td>\n",
       "      <td>10</td>\n",
       "      <td>0</td>\n",
       "      <td>...</td>\n",
       "      <td>203.20</td>\n",
       "      <td>24.34</td>\n",
       "      <td>203.53</td>\n",
       "      <td>22.26</td>\n",
       "      <td>202.83</td>\n",
       "      <td>20.16</td>\n",
       "      <td>77.847685</td>\n",
       "      <td>74.037301</td>\n",
       "      <td>268.62401</td>\n",
       "      <td>18.702344</td>\n",
       "    </tr>\n",
       "  </tbody>\n",
       "</table>\n",
       "<p>2185 rows × 22 columns</p>\n",
       "</div>"
      ],
      "text/plain": [
       "                    randTime  temperature_2_m_above_gnd  \\\n",
       "Time                                                      \n",
       "2015-06-01 00:00:00      NaN                       9.29   \n",
       "2015-06-01 01:00:00      NaN                       9.87   \n",
       "2015-06-01 02:00:00      NaN                      10.03   \n",
       "2015-06-01 03:00:00      NaN                       9.79   \n",
       "2015-06-01 04:00:00      NaN                       9.08   \n",
       "...                      ...                        ...   \n",
       "2015-08-30 20:00:00      NaN                      31.20   \n",
       "2015-08-30 21:00:00      NaN                      31.87   \n",
       "2015-08-30 22:00:00      NaN                      31.83   \n",
       "2015-08-30 23:00:00      NaN                      31.59   \n",
       "2015-08-31 00:00:00      NaN                      30.93   \n",
       "\n",
       "                     relative_humidity_2_m_above_gnd  \\\n",
       "Time                                                   \n",
       "2015-06-01 00:00:00                               33   \n",
       "2015-06-01 01:00:00                               32   \n",
       "2015-06-01 02:00:00                               33   \n",
       "2015-06-01 03:00:00                               34   \n",
       "2015-06-01 04:00:00                               36   \n",
       "...                                              ...   \n",
       "2015-08-30 20:00:00                               23   \n",
       "2015-08-30 21:00:00                               21   \n",
       "2015-08-30 22:00:00                               20   \n",
       "2015-08-30 23:00:00                               19   \n",
       "2015-08-31 00:00:00                               20   \n",
       "\n",
       "                     mean_sea_level_pressure_MSL  total_precipitation_sfc  \\\n",
       "Time                                                                        \n",
       "2015-06-01 00:00:00                       1015.8                      0.0   \n",
       "2015-06-01 01:00:00                       1015.5                      0.0   \n",
       "2015-06-01 02:00:00                       1014.6                      0.0   \n",
       "2015-06-01 03:00:00                       1014.6                      0.0   \n",
       "2015-06-01 04:00:00                       1015.1                      0.0   \n",
       "...                                          ...                      ...   \n",
       "2015-08-30 20:00:00                       1015.3                      0.0   \n",
       "2015-08-30 21:00:00                       1014.7                      0.0   \n",
       "2015-08-30 22:00:00                       1014.1                      0.0   \n",
       "2015-08-30 23:00:00                       1013.7                      0.0   \n",
       "2015-08-31 00:00:00                       1013.8                      0.0   \n",
       "\n",
       "                     snowfall_amount_sfc  total_cloud_cover_sfc  \\\n",
       "Time                                                              \n",
       "2015-06-01 00:00:00                  0.0                    0.0   \n",
       "2015-06-01 01:00:00                  0.0                    0.0   \n",
       "2015-06-01 02:00:00                  0.0                    0.0   \n",
       "2015-06-01 03:00:00                  0.0                    0.0   \n",
       "2015-06-01 04:00:00                  0.0                    0.0   \n",
       "...                                  ...                    ...   \n",
       "2015-08-30 20:00:00                  0.0                    4.5   \n",
       "2015-08-30 21:00:00                  0.0                    6.3   \n",
       "2015-08-30 22:00:00                  0.0                    4.8   \n",
       "2015-08-30 23:00:00                  0.0                    6.3   \n",
       "2015-08-31 00:00:00                  0.0                   30.0   \n",
       "\n",
       "                     high_cloud_cover_high_cld_lay  \\\n",
       "Time                                                 \n",
       "2015-06-01 00:00:00                              0   \n",
       "2015-06-01 01:00:00                              0   \n",
       "2015-06-01 02:00:00                              0   \n",
       "2015-06-01 03:00:00                              0   \n",
       "2015-06-01 04:00:00                              0   \n",
       "...                                            ...   \n",
       "2015-08-30 20:00:00                             15   \n",
       "2015-08-30 21:00:00                             21   \n",
       "2015-08-30 22:00:00                             16   \n",
       "2015-08-30 23:00:00                             21   \n",
       "2015-08-31 00:00:00                            100   \n",
       "\n",
       "                     medium_cloud_cover_mid_cld_lay  \\\n",
       "Time                                                  \n",
       "2015-06-01 00:00:00                               0   \n",
       "2015-06-01 01:00:00                               0   \n",
       "2015-06-01 02:00:00                               0   \n",
       "2015-06-01 03:00:00                               0   \n",
       "2015-06-01 04:00:00                               0   \n",
       "...                                             ...   \n",
       "2015-08-30 20:00:00                               0   \n",
       "2015-08-30 21:00:00                               0   \n",
       "2015-08-30 22:00:00                               0   \n",
       "2015-08-30 23:00:00                               0   \n",
       "2015-08-31 00:00:00                              10   \n",
       "\n",
       "                     low_cloud_cover_low_cld_lay  ...  \\\n",
       "Time                                              ...   \n",
       "2015-06-01 00:00:00                            0  ...   \n",
       "2015-06-01 01:00:00                            0  ...   \n",
       "2015-06-01 02:00:00                            0  ...   \n",
       "2015-06-01 03:00:00                            0  ...   \n",
       "2015-06-01 04:00:00                            0  ...   \n",
       "...                                          ...  ...   \n",
       "2015-08-30 20:00:00                            0  ...   \n",
       "2015-08-30 21:00:00                            0  ...   \n",
       "2015-08-30 22:00:00                            0  ...   \n",
       "2015-08-30 23:00:00                            0  ...   \n",
       "2015-08-31 00:00:00                            0  ...   \n",
       "\n",
       "                     wind_direction_10_m_above_gnd  wind_speed_80_m_above_gnd  \\\n",
       "Time                                                                            \n",
       "2015-06-01 00:00:00                         162.12                      12.76   \n",
       "2015-06-01 01:00:00                         165.62                      15.54   \n",
       "2015-06-01 02:00:00                         168.18                      17.16   \n",
       "2015-06-01 03:00:00                         169.16                      19.35   \n",
       "2015-06-01 04:00:00                         169.16                      19.42   \n",
       "...                                            ...                        ...   \n",
       "2015-08-30 20:00:00                         180.83                      26.65   \n",
       "2015-08-30 21:00:00                         185.71                      27.19   \n",
       "2015-08-30 22:00:00                         194.66                      26.21   \n",
       "2015-08-30 23:00:00                         199.54                      26.08   \n",
       "2015-08-31 00:00:00                         203.20                      24.34   \n",
       "\n",
       "                     wind_direction_80_m_above_gnd  wind_speed_900_mb  \\\n",
       "Time                                                                    \n",
       "2015-06-01 00:00:00                         163.61              12.52   \n",
       "2015-06-01 01:00:00                         166.61              14.49   \n",
       "2015-06-01 02:00:00                         170.34              16.17   \n",
       "2015-06-01 03:00:00                         170.36              17.94   \n",
       "2015-06-01 04:00:00                         169.32              17.30   \n",
       "...                                            ...                ...   \n",
       "2015-08-30 20:00:00                         181.55              24.84   \n",
       "2015-08-30 21:00:00                         186.84              25.33   \n",
       "2015-08-30 22:00:00                         195.95              24.38   \n",
       "2015-08-30 23:00:00                         200.19              23.81   \n",
       "2015-08-31 00:00:00                         203.53              22.26   \n",
       "\n",
       "                     wind_direction_900_mb  wind_gust_10_m_above_gnd  \\\n",
       "Time                                                                   \n",
       "2015-06-01 00:00:00                 161.57                     11.88   \n",
       "2015-06-01 01:00:00                 165.62                     15.12   \n",
       "2015-06-01 02:00:00                 168.44                     16.92   \n",
       "2015-06-01 03:00:00                 169.59                     18.36   \n",
       "2015-06-01 04:00:00                 167.99                     16.20   \n",
       "...                                    ...                       ...   \n",
       "2015-08-30 20:00:00                 180.83                     25.92   \n",
       "2015-08-30 21:00:00                 185.71                     28.08   \n",
       "2015-08-30 22:00:00                 196.29                     27.00   \n",
       "2015-08-30 23:00:00                 200.35                     24.48   \n",
       "2015-08-31 00:00:00                 202.83                     20.16   \n",
       "\n",
       "                     angle_of_incidence     zenith    azimuth  \\\n",
       "Time                                                            \n",
       "2015-06-01 00:00:00           30.834489  50.901216  221.13622   \n",
       "2015-06-01 01:00:00           45.768773  59.412694  236.23563   \n",
       "2015-06-01 02:00:00           60.713240  69.448275  248.62163   \n",
       "2015-06-01 03:00:00           75.632314  80.290352  259.32746   \n",
       "2015-06-01 04:00:00           85.944587  87.943014  266.32075   \n",
       "...                                 ...        ...        ...   \n",
       "2015-08-30 20:00:00           22.481375  35.190516  211.22663   \n",
       "2015-08-30 21:00:00           35.371488  42.727790  231.66136   \n",
       "2015-08-30 22:00:00           49.462203  52.491240  246.85338   \n",
       "2015-08-30 23:00:00           63.942621  63.334084  258.81408   \n",
       "2015-08-31 00:00:00           77.847685  74.037301  268.62401   \n",
       "\n",
       "                     generated_power_kw  \n",
       "Time                                     \n",
       "2015-06-01 00:00:00         2651.586600  \n",
       "2015-06-01 01:00:00         2153.084300  \n",
       "2015-06-01 02:00:00         1179.081100  \n",
       "2015-06-01 03:00:00          213.976410  \n",
       "2015-06-01 04:00:00            3.745139  \n",
       "...                                 ...  \n",
       "2015-08-30 20:00:00         2239.977200  \n",
       "2015-08-30 21:00:00         1721.691900  \n",
       "2015-08-30 22:00:00         1197.756700  \n",
       "2015-08-30 23:00:00          466.430230  \n",
       "2015-08-31 00:00:00           18.702344  \n",
       "\n",
       "[2185 rows x 22 columns]"
      ]
     },
     "execution_count": 60,
     "metadata": {},
     "output_type": "execute_result"
    }
   ],
   "source": [
    "df[\"2015-06\":\"2015-08-31 00:00:00\"]"
   ]
  },
  {
   "cell_type": "markdown",
   "id": "b0ed8d75",
   "metadata": {},
   "source": [
    "#### The partial string indexing done above works on the multi index as done above and also on the single index dataframe"
   ]
  },
  {
   "cell_type": "markdown",
   "id": "3de2059e",
   "metadata": {},
   "source": [
    "#### UTC Offset is also honored by string indexing"
   ]
  },
  {
   "cell_type": "code",
   "execution_count": 61,
   "id": "8769ec1c",
   "metadata": {},
   "outputs": [],
   "source": [
    "df3 = pd.DataFrame([0], index=pd.DatetimeIndex([\"2019-01-01\"], tz=\"US/Pacific\"))"
   ]
  },
  {
   "cell_type": "code",
   "execution_count": 62,
   "id": "bce51e76",
   "metadata": {},
   "outputs": [
    {
     "data": {
      "text/html": [
       "<div>\n",
       "<style scoped>\n",
       "    .dataframe tbody tr th:only-of-type {\n",
       "        vertical-align: middle;\n",
       "    }\n",
       "\n",
       "    .dataframe tbody tr th {\n",
       "        vertical-align: top;\n",
       "    }\n",
       "\n",
       "    .dataframe thead th {\n",
       "        text-align: right;\n",
       "    }\n",
       "</style>\n",
       "<table border=\"1\" class=\"dataframe\">\n",
       "  <thead>\n",
       "    <tr style=\"text-align: right;\">\n",
       "      <th></th>\n",
       "      <th>0</th>\n",
       "    </tr>\n",
       "  </thead>\n",
       "  <tbody>\n",
       "    <tr>\n",
       "      <th>2019-01-01 00:00:00-08:00</th>\n",
       "      <td>0</td>\n",
       "    </tr>\n",
       "  </tbody>\n",
       "</table>\n",
       "</div>"
      ],
      "text/plain": [
       "                           0\n",
       "2019-01-01 00:00:00-08:00  0"
      ]
     },
     "execution_count": 62,
     "metadata": {},
     "output_type": "execute_result"
    }
   ],
   "source": [
    "df3"
   ]
  },
  {
   "cell_type": "code",
   "execution_count": 63,
   "id": "3f412148",
   "metadata": {},
   "outputs": [
    {
     "data": {
      "text/html": [
       "<div>\n",
       "<style scoped>\n",
       "    .dataframe tbody tr th:only-of-type {\n",
       "        vertical-align: middle;\n",
       "    }\n",
       "\n",
       "    .dataframe tbody tr th {\n",
       "        vertical-align: top;\n",
       "    }\n",
       "\n",
       "    .dataframe thead th {\n",
       "        text-align: right;\n",
       "    }\n",
       "</style>\n",
       "<table border=\"1\" class=\"dataframe\">\n",
       "  <thead>\n",
       "    <tr style=\"text-align: right;\">\n",
       "      <th></th>\n",
       "      <th>0</th>\n",
       "    </tr>\n",
       "  </thead>\n",
       "  <tbody>\n",
       "    <tr>\n",
       "      <th>2019-01-01 00:00:00-08:00</th>\n",
       "      <td>0</td>\n",
       "    </tr>\n",
       "  </tbody>\n",
       "</table>\n",
       "</div>"
      ],
      "text/plain": [
       "                           0\n",
       "2019-01-01 00:00:00-08:00  0"
      ]
     },
     "execution_count": 63,
     "metadata": {},
     "output_type": "execute_result"
    }
   ],
   "source": [
    "df3[\"2019-01-01 12:00:00+04:00\":\"2019-01-01 13:00:00+04:00\"]"
   ]
  },
  {
   "cell_type": "markdown",
   "id": "18e0dfb9",
   "metadata": {},
   "source": [
    "### Slice vs. exact match\n"
   ]
  },
  {
   "cell_type": "markdown",
   "id": "297aee31",
   "metadata": {},
   "source": [
    "#### The same string used as an indexing parameter can be treated either as a slice or as an exact match depending on the resolution of the index. If the string is less accurate than the index, it will be treated as a slice, otherwise as an exact match.\n",
    "\n"
   ]
  },
  {
   "cell_type": "markdown",
   "id": "9e2fe6ac",
   "metadata": {},
   "source": [
    "#### Now, let us consider a **Series** object with a minute resolution index"
   ]
  },
  {
   "cell_type": "code",
   "execution_count": 64,
   "id": "38706f29",
   "metadata": {},
   "outputs": [],
   "source": [
    "series_minute = pd.Series(\n",
    "    [1, 2, 3],\n",
    "    pd.DatetimeIndex(\n",
    "        [\"2011-12-31 23:59:00\", \"2012-01-01 00:00:00\", \"2012-01-01 00:02:00\"]\n",
    "    ),\n",
    ")"
   ]
  },
  {
   "cell_type": "code",
   "execution_count": 65,
   "id": "15557aa6",
   "metadata": {},
   "outputs": [
    {
     "data": {
      "text/plain": [
       "2011-12-31 23:59:00    1\n",
       "2012-01-01 00:00:00    2\n",
       "2012-01-01 00:02:00    3\n",
       "dtype: int64"
      ]
     },
     "execution_count": 65,
     "metadata": {},
     "output_type": "execute_result"
    }
   ],
   "source": [
    "series_minute"
   ]
  },
  {
   "cell_type": "code",
   "execution_count": 66,
   "id": "d4e1beac",
   "metadata": {},
   "outputs": [
    {
     "data": {
      "text/plain": [
       "'minute'"
      ]
     },
     "execution_count": 66,
     "metadata": {},
     "output_type": "execute_result"
    }
   ],
   "source": [
    "series_minute.index.resolution"
   ]
  },
  {
   "cell_type": "markdown",
   "id": "76402fa2",
   "metadata": {},
   "source": [
    "#### Now if we want to access a timestamp with a timestamp string less accurate than a minute, it returns a **Series** object."
   ]
  },
  {
   "cell_type": "code",
   "execution_count": 67,
   "id": "a995b32d",
   "metadata": {},
   "outputs": [
    {
     "data": {
      "text/plain": [
       "2011-12-31 23:59:00    1\n",
       "dtype: int64"
      ]
     },
     "execution_count": 67,
     "metadata": {},
     "output_type": "execute_result"
    }
   ],
   "source": [
    "series_minute[\"2011-12-31 23\"]\n"
   ]
  },
  {
   "cell_type": "markdown",
   "id": "a821214b",
   "metadata": {},
   "source": [
    "#### A timestamp string with minute resolution (or more accurate), gives a scalar instead, i.e. it is not casted to a slice."
   ]
  },
  {
   "cell_type": "code",
   "execution_count": 68,
   "id": "755b98b5",
   "metadata": {},
   "outputs": [
    {
     "data": {
      "text/plain": [
       "1"
      ]
     },
     "execution_count": 68,
     "metadata": {},
     "output_type": "execute_result"
    }
   ],
   "source": [
    "series_minute[\"2011-12-31 23:59\"]"
   ]
  },
  {
   "cell_type": "code",
   "execution_count": 69,
   "id": "7b5c4b7c",
   "metadata": {},
   "outputs": [
    {
     "data": {
      "text/plain": [
       "1"
      ]
     },
     "execution_count": 69,
     "metadata": {},
     "output_type": "execute_result"
    }
   ],
   "source": [
    "series_minute[\"2011-12-31 23:59:00\"]"
   ]
  },
  {
   "cell_type": "markdown",
   "id": "3b4291e7",
   "metadata": {},
   "source": [
    "#### If the index resolution is **\"SECOND\"**, then the minute-accurate timestamp gives a **Series**."
   ]
  },
  {
   "cell_type": "code",
   "execution_count": 70,
   "id": "74dde507",
   "metadata": {},
   "outputs": [],
   "source": [
    "series_second = pd.Series(\n",
    "    [1, 2, 3],\n",
    "    pd.DatetimeIndex(\n",
    "        [\"2011-12-31 23:59:59\", \"2012-01-01 00:00:00\", \"2012-01-01 00:00:01\"]\n",
    "    ),\n",
    ")"
   ]
  },
  {
   "cell_type": "code",
   "execution_count": 71,
   "id": "bc79d6a7",
   "metadata": {},
   "outputs": [
    {
     "data": {
      "text/plain": [
       "2011-12-31 23:59:59    1\n",
       "2012-01-01 00:00:00    2\n",
       "2012-01-01 00:00:01    3\n",
       "dtype: int64"
      ]
     },
     "execution_count": 71,
     "metadata": {},
     "output_type": "execute_result"
    }
   ],
   "source": [
    "series_second"
   ]
  },
  {
   "cell_type": "code",
   "execution_count": 72,
   "id": "565fb3be",
   "metadata": {},
   "outputs": [
    {
     "data": {
      "text/plain": [
       "'second'"
      ]
     },
     "execution_count": 72,
     "metadata": {},
     "output_type": "execute_result"
    }
   ],
   "source": [
    "series_second.index.resolution"
   ]
  },
  {
   "cell_type": "code",
   "execution_count": 73,
   "id": "9a4f95d5",
   "metadata": {},
   "outputs": [
    {
     "data": {
      "text/plain": [
       "2011-12-31 23:59:59    1\n",
       "dtype: int64"
      ]
     },
     "execution_count": 73,
     "metadata": {},
     "output_type": "execute_result"
    }
   ],
   "source": [
    "series_second[\"2011-12-31 23:59\"]"
   ]
  },
  {
   "cell_type": "markdown",
   "id": "e6687a53",
   "metadata": {},
   "source": [
    "#### If the timestamp string is treated as a slice, it can be used to index **DataFrame** with **.loc[]** as well."
   ]
  },
  {
   "cell_type": "code",
   "execution_count": 74,
   "id": "c9602277",
   "metadata": {},
   "outputs": [],
   "source": [
    "dft_minute = pd.DataFrame(\n",
    "    {\"a\": [1, 2, 3], \"b\": [4, 5, 6]}, index=series_minute.index\n",
    ")"
   ]
  },
  {
   "cell_type": "code",
   "execution_count": 75,
   "id": "b760adaa",
   "metadata": {},
   "outputs": [
    {
     "data": {
      "text/html": [
       "<div>\n",
       "<style scoped>\n",
       "    .dataframe tbody tr th:only-of-type {\n",
       "        vertical-align: middle;\n",
       "    }\n",
       "\n",
       "    .dataframe tbody tr th {\n",
       "        vertical-align: top;\n",
       "    }\n",
       "\n",
       "    .dataframe thead th {\n",
       "        text-align: right;\n",
       "    }\n",
       "</style>\n",
       "<table border=\"1\" class=\"dataframe\">\n",
       "  <thead>\n",
       "    <tr style=\"text-align: right;\">\n",
       "      <th></th>\n",
       "      <th>a</th>\n",
       "      <th>b</th>\n",
       "    </tr>\n",
       "  </thead>\n",
       "  <tbody>\n",
       "    <tr>\n",
       "      <th>2011-12-31 23:59:00</th>\n",
       "      <td>1</td>\n",
       "      <td>4</td>\n",
       "    </tr>\n",
       "    <tr>\n",
       "      <th>2012-01-01 00:00:00</th>\n",
       "      <td>2</td>\n",
       "      <td>5</td>\n",
       "    </tr>\n",
       "    <tr>\n",
       "      <th>2012-01-01 00:02:00</th>\n",
       "      <td>3</td>\n",
       "      <td>6</td>\n",
       "    </tr>\n",
       "  </tbody>\n",
       "</table>\n",
       "</div>"
      ],
      "text/plain": [
       "                     a  b\n",
       "2011-12-31 23:59:00  1  4\n",
       "2012-01-01 00:00:00  2  5\n",
       "2012-01-01 00:02:00  3  6"
      ]
     },
     "execution_count": 75,
     "metadata": {},
     "output_type": "execute_result"
    }
   ],
   "source": [
    "dft_minute"
   ]
  },
  {
   "cell_type": "markdown",
   "id": "01e7793c",
   "metadata": {},
   "source": [
    "#### As we can have flexibility of \"Hour\", \"Minute\" and \"Second\" accuracy with **Timestamp**"
   ]
  },
  {
   "cell_type": "markdown",
   "id": "20ae5d2e",
   "metadata": {},
   "source": [
    "#### It is to be also noted that **Datetimeindex** resolution cannot be less precise than day."
   ]
  },
  {
   "cell_type": "code",
   "execution_count": 76,
   "id": "79aaa1c8",
   "metadata": {},
   "outputs": [],
   "source": [
    "series_monthly = pd.Series(\n",
    "    [1, 2, 3], pd.DatetimeIndex([\"2011-12\", \"2012-01\", \"2012-02\"])\n",
    ")"
   ]
  },
  {
   "cell_type": "code",
   "execution_count": 77,
   "id": "1e7c5285",
   "metadata": {},
   "outputs": [
    {
     "data": {
      "text/plain": [
       "2011-12-01    1\n",
       "2012-01-01    2\n",
       "2012-02-01    3\n",
       "dtype: int64"
      ]
     },
     "execution_count": 77,
     "metadata": {},
     "output_type": "execute_result"
    }
   ],
   "source": [
    "series_monthly"
   ]
  },
  {
   "cell_type": "code",
   "execution_count": 78,
   "id": "0cb2bdb2",
   "metadata": {},
   "outputs": [
    {
     "data": {
      "text/plain": [
       "'day'"
      ]
     },
     "execution_count": 78,
     "metadata": {},
     "output_type": "execute_result"
    }
   ],
   "source": [
    "series_monthly.index.resolution"
   ]
  },
  {
   "cell_type": "code",
   "execution_count": 79,
   "id": "3277dcb1",
   "metadata": {},
   "outputs": [
    {
     "data": {
      "text/plain": [
       "2011-12-01    1\n",
       "dtype: int64"
      ]
     },
     "execution_count": 79,
     "metadata": {},
     "output_type": "execute_result"
    }
   ],
   "source": [
    "series_monthly[\"2011-12\"]  # returns Series"
   ]
  },
  {
   "cell_type": "markdown",
   "id": "d5f70744",
   "metadata": {},
   "source": [
    "### Exact indexing"
   ]
  },
  {
   "cell_type": "code",
   "execution_count": 80,
   "id": "8fc14bbf",
   "metadata": {},
   "outputs": [
    {
     "data": {
      "text/plain": [
       "Time\n",
       "2015-06-30 00:00:00    0.262966\n",
       "2015-06-30 01:00:00   -1.034580\n",
       "2015-06-30 02:00:00   -1.418419\n",
       "2015-06-30 03:00:00    1.165410\n",
       "2015-06-30 04:00:00   -0.302133\n",
       "                         ...   \n",
       "2015-08-30 20:00:00    1.725081\n",
       "2015-08-30 21:00:00    0.384302\n",
       "2015-08-30 22:00:00   -1.123577\n",
       "2015-08-30 23:00:00   -1.175073\n",
       "2015-08-31 00:00:00    1.294957\n",
       "Length: 1489, dtype: float64"
      ]
     },
     "execution_count": 80,
     "metadata": {},
     "output_type": "execute_result"
    }
   ],
   "source": [
    "df_ser[datetime.datetime(2015,6,30):datetime.datetime(2015,8,31)]"
   ]
  },
  {
   "cell_type": "code",
   "execution_count": 81,
   "id": "79b2a84d",
   "metadata": {},
   "outputs": [
    {
     "data": {
      "text/plain": [
       "Time\n",
       "2015-06-30 10:00:00    0.621268\n",
       "2015-06-30 11:00:00   -1.018289\n",
       "2015-06-30 12:00:00    0.716484\n",
       "2015-06-30 13:00:00    0.639723\n",
       "2015-06-30 14:00:00   -0.295461\n",
       "                         ...   \n",
       "2015-08-31 08:00:00    1.750968\n",
       "2015-08-31 09:00:00   -1.361725\n",
       "2015-08-31 10:00:00    0.715409\n",
       "2015-08-31 11:00:00    3.007038\n",
       "2015-08-31 12:00:00   -1.657371\n",
       "Length: 1491, dtype: float64"
      ]
     },
     "execution_count": 81,
     "metadata": {},
     "output_type": "execute_result"
    }
   ],
   "source": [
    "df_ser[datetime.datetime(2015,6,30,10,0,0):datetime.datetime(2015,8,31,12,0,0)]"
   ]
  },
  {
   "cell_type": "markdown",
   "id": "067c2b1f",
   "metadata": {},
   "source": [
    "### Truncating & fancy indexing"
   ]
  },
  {
   "cell_type": "markdown",
   "id": "1a15a6c3",
   "metadata": {},
   "source": [
    "#### A **truncate()** convenience function is provided that is similar to slicing. Note that **truncate** assumes a **0** value for any unspecified date component in a **DatetimeIndex** in contrast to slicing which returns any partially matching dates"
   ]
  },
  {
   "cell_type": "code",
   "execution_count": 82,
   "id": "9f2de256",
   "metadata": {},
   "outputs": [
    {
     "data": {
      "text/plain": [
       "Time\n",
       "2015-07-01 00:00:00    0.469198\n",
       "2015-07-01 01:00:00    0.491168\n",
       "2015-07-01 02:00:00   -0.996886\n",
       "2015-07-01 03:00:00   -0.227539\n",
       "2015-07-01 04:00:00   -0.758910\n",
       "                         ...   \n",
       "2015-08-31 20:00:00    1.087267\n",
       "2015-08-31 21:00:00    0.112531\n",
       "2015-08-31 22:00:00    0.202905\n",
       "2015-08-31 23:00:00    0.147924\n",
       "2015-09-01 00:00:00   -0.497387\n",
       "Length: 1489, dtype: float64"
      ]
     },
     "execution_count": 82,
     "metadata": {},
     "output_type": "execute_result"
    }
   ],
   "source": [
    "df_ser.truncate(before = \"2015-07\", after =\"2015-09\")"
   ]
  },
  {
   "cell_type": "code",
   "execution_count": 83,
   "id": "707cdb32",
   "metadata": {},
   "outputs": [
    {
     "data": {
      "text/plain": [
       "Time\n",
       "2015-07-01 00:00:00    0.469198\n",
       "2015-07-01 01:00:00    0.491168\n",
       "2015-07-01 02:00:00   -0.996886\n",
       "2015-07-01 03:00:00   -0.227539\n",
       "2015-07-01 04:00:00   -0.758910\n",
       "                         ...   \n",
       "2015-09-30 19:00:00   -0.190716\n",
       "2015-09-30 20:00:00    1.490352\n",
       "2015-09-30 21:00:00    2.357368\n",
       "2015-09-30 22:00:00   -0.159341\n",
       "2015-09-30 23:00:00    0.276011\n",
       "Length: 2208, dtype: float64"
      ]
     },
     "execution_count": 83,
     "metadata": {},
     "output_type": "execute_result"
    }
   ],
   "source": [
    "df_ser[\"2015-07\":\"2015-09\"]"
   ]
  },
  {
   "cell_type": "markdown",
   "id": "6eb38a43",
   "metadata": {},
   "source": [
    "#### Here it can be observed when truncated between the same dates as slicing. The length of the series returned is different. So, truncate function assumes a 0 value for any unspecified date componenent. It depends on the freq we set."
   ]
  },
  {
   "cell_type": "markdown",
   "id": "914038a4",
   "metadata": {},
   "source": [
    "## Time/date components\n"
   ]
  },
  {
   "cell_type": "markdown",
   "id": "40a04822",
   "metadata": {},
   "source": [
    "#### There are several time/date properties that one can access from **Timestamp** or a collection of timestamps like a **DatetimeIndex**."
   ]
  },
  {
   "cell_type": "markdown",
   "id": "fb1ae357",
   "metadata": {},
   "source": [
    "#### It can be found here - https://pandas.pydata.org/docs/user_guide/timeseries.html#time-date-components:~:text=Property,a%20leap%20year"
   ]
  },
  {
   "cell_type": "markdown",
   "id": "361c57ec",
   "metadata": {},
   "source": [
    "#### We can obtain the year, week and day components of the ISO year from the ISO 8601 standard:"
   ]
  },
  {
   "cell_type": "code",
   "execution_count": 84,
   "id": "24b78f72",
   "metadata": {},
   "outputs": [],
   "source": [
    "idx = pd.date_range(start=\"2019-12-29\", freq=\"D\", periods=4)"
   ]
  },
  {
   "cell_type": "code",
   "execution_count": 85,
   "id": "bbe63571",
   "metadata": {},
   "outputs": [
    {
     "data": {
      "text/plain": [
       "DatetimeIndex(['2019-12-29', '2019-12-30', '2019-12-31', '2020-01-01'], dtype='datetime64[ns]', freq='D')"
      ]
     },
     "execution_count": 85,
     "metadata": {},
     "output_type": "execute_result"
    }
   ],
   "source": [
    "idx"
   ]
  },
  {
   "cell_type": "code",
   "execution_count": 86,
   "id": "0ed1f143",
   "metadata": {},
   "outputs": [
    {
     "data": {
      "text/html": [
       "<div>\n",
       "<style scoped>\n",
       "    .dataframe tbody tr th:only-of-type {\n",
       "        vertical-align: middle;\n",
       "    }\n",
       "\n",
       "    .dataframe tbody tr th {\n",
       "        vertical-align: top;\n",
       "    }\n",
       "\n",
       "    .dataframe thead th {\n",
       "        text-align: right;\n",
       "    }\n",
       "</style>\n",
       "<table border=\"1\" class=\"dataframe\">\n",
       "  <thead>\n",
       "    <tr style=\"text-align: right;\">\n",
       "      <th></th>\n",
       "      <th>year</th>\n",
       "      <th>week</th>\n",
       "      <th>day</th>\n",
       "    </tr>\n",
       "  </thead>\n",
       "  <tbody>\n",
       "    <tr>\n",
       "      <th>2019-12-29</th>\n",
       "      <td>2019</td>\n",
       "      <td>52</td>\n",
       "      <td>7</td>\n",
       "    </tr>\n",
       "    <tr>\n",
       "      <th>2019-12-30</th>\n",
       "      <td>2020</td>\n",
       "      <td>1</td>\n",
       "      <td>1</td>\n",
       "    </tr>\n",
       "    <tr>\n",
       "      <th>2019-12-31</th>\n",
       "      <td>2020</td>\n",
       "      <td>1</td>\n",
       "      <td>2</td>\n",
       "    </tr>\n",
       "    <tr>\n",
       "      <th>2020-01-01</th>\n",
       "      <td>2020</td>\n",
       "      <td>1</td>\n",
       "      <td>3</td>\n",
       "    </tr>\n",
       "  </tbody>\n",
       "</table>\n",
       "</div>"
      ],
      "text/plain": [
       "            year  week  day\n",
       "2019-12-29  2019    52    7\n",
       "2019-12-30  2020     1    1\n",
       "2019-12-31  2020     1    2\n",
       "2020-01-01  2020     1    3"
      ]
     },
     "execution_count": 86,
     "metadata": {},
     "output_type": "execute_result"
    }
   ],
   "source": [
    "idx.isocalendar()"
   ]
  },
  {
   "cell_type": "code",
   "execution_count": 87,
   "id": "11e09e9c",
   "metadata": {
    "scrolled": true
   },
   "outputs": [
    {
     "data": {
      "text/html": [
       "<div>\n",
       "<style scoped>\n",
       "    .dataframe tbody tr th:only-of-type {\n",
       "        vertical-align: middle;\n",
       "    }\n",
       "\n",
       "    .dataframe tbody tr th {\n",
       "        vertical-align: top;\n",
       "    }\n",
       "\n",
       "    .dataframe thead th {\n",
       "        text-align: right;\n",
       "    }\n",
       "</style>\n",
       "<table border=\"1\" class=\"dataframe\">\n",
       "  <thead>\n",
       "    <tr style=\"text-align: right;\">\n",
       "      <th></th>\n",
       "      <th>year</th>\n",
       "      <th>week</th>\n",
       "      <th>day</th>\n",
       "    </tr>\n",
       "    <tr>\n",
       "      <th>Time</th>\n",
       "      <th></th>\n",
       "      <th></th>\n",
       "      <th></th>\n",
       "    </tr>\n",
       "  </thead>\n",
       "  <tbody>\n",
       "    <tr>\n",
       "      <th>2015-05-02 00:00:00</th>\n",
       "      <td>2015</td>\n",
       "      <td>18</td>\n",
       "      <td>6</td>\n",
       "    </tr>\n",
       "    <tr>\n",
       "      <th>2015-05-02 01:00:00</th>\n",
       "      <td>2015</td>\n",
       "      <td>18</td>\n",
       "      <td>6</td>\n",
       "    </tr>\n",
       "    <tr>\n",
       "      <th>2015-05-02 02:00:00</th>\n",
       "      <td>2015</td>\n",
       "      <td>18</td>\n",
       "      <td>6</td>\n",
       "    </tr>\n",
       "    <tr>\n",
       "      <th>2015-05-02 03:00:00</th>\n",
       "      <td>2015</td>\n",
       "      <td>18</td>\n",
       "      <td>6</td>\n",
       "    </tr>\n",
       "    <tr>\n",
       "      <th>2015-05-02 04:00:00</th>\n",
       "      <td>2015</td>\n",
       "      <td>18</td>\n",
       "      <td>6</td>\n",
       "    </tr>\n",
       "    <tr>\n",
       "      <th>...</th>\n",
       "      <td>...</td>\n",
       "      <td>...</td>\n",
       "      <td>...</td>\n",
       "    </tr>\n",
       "    <tr>\n",
       "      <th>2015-10-24 08:00:00</th>\n",
       "      <td>2015</td>\n",
       "      <td>43</td>\n",
       "      <td>6</td>\n",
       "    </tr>\n",
       "    <tr>\n",
       "      <th>2015-10-24 09:00:00</th>\n",
       "      <td>2015</td>\n",
       "      <td>43</td>\n",
       "      <td>6</td>\n",
       "    </tr>\n",
       "    <tr>\n",
       "      <th>2015-10-24 10:00:00</th>\n",
       "      <td>2015</td>\n",
       "      <td>43</td>\n",
       "      <td>6</td>\n",
       "    </tr>\n",
       "    <tr>\n",
       "      <th>2015-10-24 11:00:00</th>\n",
       "      <td>2015</td>\n",
       "      <td>43</td>\n",
       "      <td>6</td>\n",
       "    </tr>\n",
       "    <tr>\n",
       "      <th>2015-10-24 12:00:00</th>\n",
       "      <td>2015</td>\n",
       "      <td>43</td>\n",
       "      <td>6</td>\n",
       "    </tr>\n",
       "  </tbody>\n",
       "</table>\n",
       "<p>4213 rows × 3 columns</p>\n",
       "</div>"
      ],
      "text/plain": [
       "                     year  week  day\n",
       "Time                                \n",
       "2015-05-02 00:00:00  2015    18    6\n",
       "2015-05-02 01:00:00  2015    18    6\n",
       "2015-05-02 02:00:00  2015    18    6\n",
       "2015-05-02 03:00:00  2015    18    6\n",
       "2015-05-02 04:00:00  2015    18    6\n",
       "...                   ...   ...  ...\n",
       "2015-10-24 08:00:00  2015    43    6\n",
       "2015-10-24 09:00:00  2015    43    6\n",
       "2015-10-24 10:00:00  2015    43    6\n",
       "2015-10-24 11:00:00  2015    43    6\n",
       "2015-10-24 12:00:00  2015    43    6\n",
       "\n",
       "[4213 rows x 3 columns]"
      ]
     },
     "execution_count": 87,
     "metadata": {},
     "output_type": "execute_result"
    }
   ],
   "source": [
    "df_ser.index.isocalendar()"
   ]
  },
  {
   "cell_type": "markdown",
   "id": "ea7f6bd7",
   "metadata": {},
   "source": [
    "## DateOffset objects\n"
   ]
  },
  {
   "cell_type": "markdown",
   "id": "e74e2107",
   "metadata": {},
   "source": [
    "#### The frequency **\"freq\"** parameter that we use to generate times or dates with a particular frequency map to a **DataOffset** object and its subclasses. **DataOffset** is similar to **Timedelta** but it follows a specific calendar duration rules. "
   ]
  },
  {
   "cell_type": "markdown",
   "id": "b5171b14",
   "metadata": {},
   "source": [
    "#### However, all **DateOffset** subclasses that are an hour or smaller (Hour, Minute, Second, Milli, Micro, Nano) behave like **Timedelta** and respect absolute time."
   ]
  },
  {
   "cell_type": "code",
   "execution_count": 88,
   "id": "51493e47",
   "metadata": {},
   "outputs": [],
   "source": [
    "#let's select a particular day that contains a day light savings time transition\n",
    "tp = pd.Timestamp(\"2016-10-30 00:00:00\", tz=\"Europe/Helsinki\")"
   ]
  },
  {
   "cell_type": "code",
   "execution_count": 89,
   "id": "dbc5ed37",
   "metadata": {},
   "outputs": [
    {
     "data": {
      "text/plain": [
       "Timestamp('2016-10-30 00:00:00+0300', tz='Europe/Helsinki')"
      ]
     },
     "execution_count": 89,
     "metadata": {},
     "output_type": "execute_result"
    }
   ],
   "source": [
    "tp"
   ]
  },
  {
   "cell_type": "code",
   "execution_count": 90,
   "id": "319758f8",
   "metadata": {},
   "outputs": [
    {
     "data": {
      "text/plain": [
       "Timestamp('2016-10-30 23:00:00+0200', tz='Europe/Helsinki')"
      ]
     },
     "execution_count": 90,
     "metadata": {},
     "output_type": "execute_result"
    }
   ],
   "source": [
    "tp + pd.Timedelta(days=1) #respects absolute time"
   ]
  },
  {
   "cell_type": "code",
   "execution_count": 91,
   "id": "33c9ba68",
   "metadata": {},
   "outputs": [
    {
     "data": {
      "text/plain": [
       "Timestamp('2016-10-31 00:00:00+0200', tz='Europe/Helsinki')"
      ]
     },
     "execution_count": 91,
     "metadata": {},
     "output_type": "execute_result"
    }
   ],
   "source": [
    "tp + pd.DateOffset(days=1) # Respects calendar time"
   ]
  },
  {
   "cell_type": "markdown",
   "id": "954c9d19",
   "metadata": {},
   "source": [
    "#### Most **DateOffsets** have associated frequencies strings, or offset aliases, that can be passed into **freq** keyword arguments. The available date offsets and associated frequency strings can be found here - https://pandas.pydata.org/docs/user_guide/timeseries.html#dateoffset-objects:~:text=Date%20Offset,one%20nanosecond"
   ]
  },
  {
   "cell_type": "markdown",
   "id": "ad1c1850",
   "metadata": {},
   "source": [
    "### Parametric offsets"
   ]
  },
  {
   "cell_type": "markdown",
   "id": "e3539472",
   "metadata": {},
   "source": [
    "#### Some of the offsets that are used can be parameterized when created to result in different behaviours"
   ]
  },
  {
   "cell_type": "markdown",
   "id": "b93da646",
   "metadata": {},
   "source": [
    " #### For example, the **Week** offset for generating weekly data accepts a **weekday** parameter which results in the generated dates always lying on a particular day of the week:"
   ]
  },
  {
   "cell_type": "code",
   "execution_count": 92,
   "id": "1c2e4842",
   "metadata": {},
   "outputs": [],
   "source": [
    "d = datetime.datetime(2008, 8, 18, 9, 0)"
   ]
  },
  {
   "cell_type": "code",
   "execution_count": 93,
   "id": "0e022e74",
   "metadata": {},
   "outputs": [
    {
     "data": {
      "text/plain": [
       "datetime.datetime(2008, 8, 18, 9, 0)"
      ]
     },
     "execution_count": 93,
     "metadata": {},
     "output_type": "execute_result"
    }
   ],
   "source": [
    "d"
   ]
  },
  {
   "cell_type": "code",
   "execution_count": 94,
   "id": "b6156346",
   "metadata": {},
   "outputs": [
    {
     "data": {
      "text/plain": [
       "Timestamp('2008-08-25 09:00:00')"
      ]
     },
     "execution_count": 94,
     "metadata": {},
     "output_type": "execute_result"
    }
   ],
   "source": [
    "d + pd.offsets.Week()"
   ]
  },
  {
   "cell_type": "code",
   "execution_count": 95,
   "id": "9ae56d58",
   "metadata": {},
   "outputs": [
    {
     "data": {
      "text/plain": [
       "Timestamp('2008-08-22 09:00:00')"
      ]
     },
     "execution_count": 95,
     "metadata": {},
     "output_type": "execute_result"
    }
   ],
   "source": [
    "d + pd.offsets.Week(weekday=4)"
   ]
  },
  {
   "cell_type": "code",
   "execution_count": 96,
   "id": "6cbdec7a",
   "metadata": {},
   "outputs": [
    {
     "data": {
      "text/plain": [
       "Timestamp('2008-08-11 09:00:00')"
      ]
     },
     "execution_count": 96,
     "metadata": {},
     "output_type": "execute_result"
    }
   ],
   "source": [
    "d - pd.offsets.Week()"
   ]
  },
  {
   "cell_type": "markdown",
   "id": "8edc2f49",
   "metadata": {},
   "source": [
    "#### The **normalize** option will be effective for addition and subtraction. Normalize will generally reset the time to midnight."
   ]
  },
  {
   "cell_type": "code",
   "execution_count": 97,
   "id": "03af0413",
   "metadata": {},
   "outputs": [
    {
     "data": {
      "text/plain": [
       "Timestamp('2008-08-25 00:00:00')"
      ]
     },
     "execution_count": 97,
     "metadata": {},
     "output_type": "execute_result"
    }
   ],
   "source": [
    "d + pd.offsets.Week(normalize=True)"
   ]
  },
  {
   "cell_type": "code",
   "execution_count": 98,
   "id": "c314e5fd",
   "metadata": {},
   "outputs": [
    {
     "data": {
      "text/plain": [
       "Timestamp('2008-08-11 00:00:00')"
      ]
     },
     "execution_count": 98,
     "metadata": {},
     "output_type": "execute_result"
    }
   ],
   "source": [
    "d - pd.offsets.Week(normalize=True)"
   ]
  },
  {
   "cell_type": "markdown",
   "id": "ad302823",
   "metadata": {},
   "source": [
    "### Using offsets with Series / DatetimeIndex\n"
   ]
  },
  {
   "cell_type": "markdown",
   "id": "590ba097",
   "metadata": {},
   "source": [
    "#### Offsets can be used with either a **Series** or **DatetimeIndex** to apply the offset to each element."
   ]
  },
  {
   "cell_type": "code",
   "execution_count": 99,
   "id": "02c4e48a",
   "metadata": {},
   "outputs": [
    {
     "data": {
      "text/plain": [
       "Time\n",
       "2015-05-02 00:00:00    0.932816\n",
       "2015-05-02 01:00:00    0.011310\n",
       "2015-05-02 02:00:00    1.720286\n",
       "2015-05-02 03:00:00    0.078407\n",
       "2015-05-02 04:00:00   -1.229160\n",
       "                         ...   \n",
       "2015-10-24 08:00:00    1.745733\n",
       "2015-10-24 09:00:00    0.558440\n",
       "2015-10-24 10:00:00   -2.085374\n",
       "2015-10-24 11:00:00    0.510149\n",
       "2015-10-24 12:00:00    1.029666\n",
       "Length: 4213, dtype: float64"
      ]
     },
     "execution_count": 99,
     "metadata": {},
     "output_type": "execute_result"
    }
   ],
   "source": [
    "df_ser"
   ]
  },
  {
   "cell_type": "code",
   "execution_count": 100,
   "id": "a0b661da",
   "metadata": {},
   "outputs": [
    {
     "data": {
      "text/plain": [
       "DatetimeIndex(['2015-07-02 00:00:00', '2015-07-02 01:00:00',\n",
       "               '2015-07-02 02:00:00', '2015-07-02 03:00:00',\n",
       "               '2015-07-02 04:00:00', '2015-07-02 05:00:00',\n",
       "               '2015-07-02 06:00:00', '2015-07-02 07:00:00',\n",
       "               '2015-07-02 08:00:00', '2015-07-02 09:00:00',\n",
       "               ...\n",
       "               '2015-12-24 03:00:00', '2015-12-24 04:00:00',\n",
       "               '2015-12-24 05:00:00', '2015-12-24 06:00:00',\n",
       "               '2015-12-24 07:00:00', '2015-12-24 08:00:00',\n",
       "               '2015-12-24 09:00:00', '2015-12-24 10:00:00',\n",
       "               '2015-12-24 11:00:00', '2015-12-24 12:00:00'],\n",
       "              dtype='datetime64[ns]', name='Time', length=4213, freq=None)"
      ]
     },
     "execution_count": 100,
     "metadata": {},
     "output_type": "execute_result"
    }
   ],
   "source": [
    "df_ser.index + pd.DateOffset(months = 2)"
   ]
  },
  {
   "cell_type": "code",
   "execution_count": 101,
   "id": "22710d28",
   "metadata": {},
   "outputs": [
    {
     "data": {
      "text/plain": [
       "DatetimeIndex(['2015-03-02 00:00:00', '2015-03-02 01:00:00',\n",
       "               '2015-03-02 02:00:00', '2015-03-02 03:00:00',\n",
       "               '2015-03-02 04:00:00', '2015-03-02 05:00:00',\n",
       "               '2015-03-02 06:00:00', '2015-03-02 07:00:00',\n",
       "               '2015-03-02 08:00:00', '2015-03-02 09:00:00',\n",
       "               ...\n",
       "               '2015-08-24 03:00:00', '2015-08-24 04:00:00',\n",
       "               '2015-08-24 05:00:00', '2015-08-24 06:00:00',\n",
       "               '2015-08-24 07:00:00', '2015-08-24 08:00:00',\n",
       "               '2015-08-24 09:00:00', '2015-08-24 10:00:00',\n",
       "               '2015-08-24 11:00:00', '2015-08-24 12:00:00'],\n",
       "              dtype='datetime64[ns]', name='Time', length=4213, freq=None)"
      ]
     },
     "execution_count": 101,
     "metadata": {},
     "output_type": "execute_result"
    }
   ],
   "source": [
    "df_ser.index - pd.DateOffset(months = 2)"
   ]
  },
  {
   "cell_type": "markdown",
   "id": "b83b9f59",
   "metadata": {},
   "source": [
    "#### For datetimeindex"
   ]
  },
  {
   "cell_type": "code",
   "execution_count": 102,
   "id": "1d045e13",
   "metadata": {},
   "outputs": [],
   "source": [
    "rng = pd.date_range(\"2012-01-01\", \"2012-01-03\")"
   ]
  },
  {
   "cell_type": "code",
   "execution_count": 103,
   "id": "2da3c25d",
   "metadata": {},
   "outputs": [
    {
     "data": {
      "text/plain": [
       "DatetimeIndex(['2012-03-01', '2012-03-02', '2012-03-03'], dtype='datetime64[ns]', freq=None)"
      ]
     },
     "execution_count": 103,
     "metadata": {},
     "output_type": "execute_result"
    }
   ],
   "source": [
    "rng + pd.DateOffset(months=2)"
   ]
  },
  {
   "cell_type": "markdown",
   "id": "fc9d5491",
   "metadata": {},
   "source": [
    "### Custom business days\n"
   ]
  },
  {
   "cell_type": "markdown",
   "id": "366cc560",
   "metadata": {},
   "source": [
    "#### The CDay or CustomBusinessDay class provides a parametric BusinessDay class which can be used to create customized business day calendars which account for local holidays and local weekend conventions"
   ]
  },
  {
   "cell_type": "markdown",
   "id": "301e0b85",
   "metadata": {},
   "source": [
    "#### Let's assume a \"Sat Sun weekend\""
   ]
  },
  {
   "cell_type": "code",
   "execution_count": 104,
   "id": "bd6375c7",
   "metadata": {},
   "outputs": [],
   "source": [
    "weekmask_ss = \"Sun Mon Tue Wed Thu Fri\""
   ]
  },
  {
   "cell_type": "code",
   "execution_count": 105,
   "id": "499f0c11",
   "metadata": {},
   "outputs": [],
   "source": [
    "holidays = [\n",
    "    \"2022-05-03\",\n",
    "    datetime.datetime(2022, 5, 1),\n",
    "    np.datetime64(\"2022-05-01\"),\n",
    "]\n"
   ]
  },
  {
   "cell_type": "code",
   "execution_count": 106,
   "id": "41c37164",
   "metadata": {},
   "outputs": [],
   "source": [
    "bday_ss = pd.offsets.CustomBusinessDay(\n",
    "    holidays=holidays,\n",
    "    weekmask=weekmask_ss,\n",
    ")"
   ]
  },
  {
   "cell_type": "code",
   "execution_count": 107,
   "id": "08d8af3c",
   "metadata": {},
   "outputs": [],
   "source": [
    "dt = datetime.datetime(2022, 4, 30) #saturday"
   ]
  },
  {
   "cell_type": "code",
   "execution_count": 108,
   "id": "4de4cb18",
   "metadata": {},
   "outputs": [
    {
     "data": {
      "text/plain": [
       "Timestamp('2022-05-04 00:00:00')"
      ]
     },
     "execution_count": 108,
     "metadata": {},
     "output_type": "execute_result"
    }
   ],
   "source": [
    "dt + 2 * bday_ss #wednesday becuase tuesday is a holiday"
   ]
  },
  {
   "cell_type": "markdown",
   "id": "5f5cd804",
   "metadata": {},
   "source": [
    "#### Holiday calendars can also be used to porvide the list of holidays"
   ]
  },
  {
   "cell_type": "markdown",
   "id": "f9a3edf4",
   "metadata": {},
   "source": [
    "## Business hour"
   ]
  },
  {
   "cell_type": "markdown",
   "id": "f6a449bc",
   "metadata": {},
   "source": [
    "#### The **BusinessHour** class provides a business hour representation on **BusinessDay**, allowing to use specific start and end times."
   ]
  },
  {
   "cell_type": "markdown",
   "id": "73184d51",
   "metadata": {},
   "source": [
    "#### By default, BusinessHour uses 9:00 - 17:00 as business hours"
   ]
  },
  {
   "cell_type": "code",
   "execution_count": 109,
   "id": "69d77e29",
   "metadata": {},
   "outputs": [],
   "source": [
    "bh = pd.offsets.BusinessHour()"
   ]
  },
  {
   "cell_type": "code",
   "execution_count": 110,
   "id": "7633c42f",
   "metadata": {},
   "outputs": [
    {
     "data": {
      "text/plain": [
       "<BusinessHour: BH=09:00-17:00>"
      ]
     },
     "execution_count": 110,
     "metadata": {},
     "output_type": "execute_result"
    }
   ],
   "source": [
    "bh"
   ]
  },
  {
   "cell_type": "code",
   "execution_count": 111,
   "id": "78039603",
   "metadata": {},
   "outputs": [
    {
     "data": {
      "text/plain": [
       "4"
      ]
     },
     "execution_count": 111,
     "metadata": {},
     "output_type": "execute_result"
    }
   ],
   "source": [
    "pd.Timestamp(\"2014-08-01 10:00\").weekday() #it is a friday"
   ]
  },
  {
   "cell_type": "code",
   "execution_count": 112,
   "id": "a8495270",
   "metadata": {},
   "outputs": [
    {
     "data": {
      "text/plain": [
       "Timestamp('2014-08-01 11:00:00')"
      ]
     },
     "execution_count": 112,
     "metadata": {},
     "output_type": "execute_result"
    }
   ],
   "source": [
    "pd.Timestamp(\"2014-08-01 10:00\") + bh"
   ]
  },
  {
   "cell_type": "markdown",
   "id": "59d0a19d",
   "metadata": {},
   "source": [
    "#### Below example is the same as: pd.Timestamp('2014-08-01 09:00') + bh"
   ]
  },
  {
   "cell_type": "code",
   "execution_count": 113,
   "id": "06669bc2",
   "metadata": {
    "scrolled": true
   },
   "outputs": [
    {
     "data": {
      "text/plain": [
       "Timestamp('2014-08-01 10:00:00')"
      ]
     },
     "execution_count": 113,
     "metadata": {},
     "output_type": "execute_result"
    }
   ],
   "source": [
    "pd.Timestamp(\"2014-08-01 08:00\") + bh"
   ]
  },
  {
   "cell_type": "markdown",
   "id": "9904fa15",
   "metadata": {},
   "source": [
    "#### If the results is on the end time, move to the next business day\n"
   ]
  },
  {
   "cell_type": "code",
   "execution_count": 114,
   "id": "4bfaffee",
   "metadata": {},
   "outputs": [
    {
     "data": {
      "text/plain": [
       "Timestamp('2014-08-04 09:00:00')"
      ]
     },
     "execution_count": 114,
     "metadata": {},
     "output_type": "execute_result"
    }
   ],
   "source": [
    "pd.Timestamp(\"2014-08-01 16:00\") + bh"
   ]
  },
  {
   "cell_type": "markdown",
   "id": "e639a796",
   "metadata": {},
   "source": [
    "#### Remainings are added to the next day"
   ]
  },
  {
   "cell_type": "code",
   "execution_count": 115,
   "id": "a4aea984",
   "metadata": {},
   "outputs": [
    {
     "data": {
      "text/plain": [
       "Timestamp('2014-08-04 09:30:00')"
      ]
     },
     "execution_count": 115,
     "metadata": {},
     "output_type": "execute_result"
    }
   ],
   "source": [
    "pd.Timestamp(\"2014-08-01 16:30\") + bh"
   ]
  },
  {
   "cell_type": "markdown",
   "id": "ea4f70b1",
   "metadata": {},
   "source": [
    "#### Adding 2 business hours"
   ]
  },
  {
   "cell_type": "code",
   "execution_count": 116,
   "id": "87d527e0",
   "metadata": {},
   "outputs": [
    {
     "data": {
      "text/plain": [
       "Timestamp('2014-08-01 12:00:00')"
      ]
     },
     "execution_count": 116,
     "metadata": {},
     "output_type": "execute_result"
    }
   ],
   "source": [
    "pd.Timestamp(\"2014-08-01 10:00\") + pd.offsets.BusinessHour(2)"
   ]
  },
  {
   "cell_type": "markdown",
   "id": "fdb4b439",
   "metadata": {},
   "source": [
    "#### Subtracting 3 business hours"
   ]
  },
  {
   "cell_type": "code",
   "execution_count": 117,
   "id": "e575e2ff",
   "metadata": {},
   "outputs": [
    {
     "data": {
      "text/plain": [
       "Timestamp('2014-07-31 15:00:00')"
      ]
     },
     "execution_count": 117,
     "metadata": {},
     "output_type": "execute_result"
    }
   ],
   "source": [
    "pd.Timestamp(\"2014-08-01 10:00\") + pd.offsets.BusinessHour(-3)"
   ]
  },
  {
   "cell_type": "markdown",
   "id": "8c22b3b2",
   "metadata": {},
   "source": [
    "#### We can also specify **start** and **end** time by keywords. The argument must be a **str** with an **hour:minute** representation or a **datetime.time** instance. Specifying seconds, microseconds and nanoseconds as business hour results in **ValueError**."
   ]
  },
  {
   "cell_type": "code",
   "execution_count": 118,
   "id": "972b5bed",
   "metadata": {},
   "outputs": [],
   "source": [
    "bh = pd.offsets.BusinessHour(start=\"11:00\", end=datetime.time(23, 0))"
   ]
  },
  {
   "cell_type": "code",
   "execution_count": 119,
   "id": "a96e3da4",
   "metadata": {},
   "outputs": [
    {
     "data": {
      "text/plain": [
       "<BusinessHour: BH=11:00-23:00>"
      ]
     },
     "execution_count": 119,
     "metadata": {},
     "output_type": "execute_result"
    }
   ],
   "source": [
    "bh"
   ]
  },
  {
   "cell_type": "code",
   "execution_count": 120,
   "id": "4a6d3af4",
   "metadata": {},
   "outputs": [
    {
     "data": {
      "text/plain": [
       "Timestamp('2015-05-02 01:00:00')"
      ]
     },
     "execution_count": 120,
     "metadata": {},
     "output_type": "execute_result"
    }
   ],
   "source": [
    "df.index[1]"
   ]
  },
  {
   "cell_type": "code",
   "execution_count": 121,
   "id": "6b8c129b",
   "metadata": {},
   "outputs": [
    {
     "data": {
      "text/plain": [
       "Timestamp('2015-05-04 12:00:00')"
      ]
     },
     "execution_count": 121,
     "metadata": {},
     "output_type": "execute_result"
    }
   ],
   "source": [
    "df.index[1] + bh"
   ]
  },
  {
   "cell_type": "code",
   "execution_count": 122,
   "id": "91f3713e",
   "metadata": {},
   "outputs": [
    {
     "data": {
      "text/plain": [
       "Timestamp('2015-05-02 02:00:00')"
      ]
     },
     "execution_count": 122,
     "metadata": {},
     "output_type": "execute_result"
    }
   ],
   "source": [
    "df.index[2]"
   ]
  },
  {
   "cell_type": "code",
   "execution_count": 123,
   "id": "bc142b70",
   "metadata": {},
   "outputs": [
    {
     "data": {
      "text/plain": [
       "Timestamp('2015-05-04 12:00:00')"
      ]
     },
     "execution_count": 123,
     "metadata": {},
     "output_type": "execute_result"
    }
   ],
   "source": [
    "df.index[2] + bh"
   ]
  },
  {
   "cell_type": "code",
   "execution_count": 125,
   "id": "b1fe2932",
   "metadata": {},
   "outputs": [
    {
     "ename": "ValueError",
     "evalue": "time data must match '%H:%M' format",
     "output_type": "error",
     "traceback": [
      "\u001b[1;31m---------------------------------------------------------------------------\u001b[0m",
      "\u001b[1;31mValueError\u001b[0m                                Traceback (most recent call last)",
      "File \u001b[1;32m~\\AppData\\Local\\Programs\\Python\\Python310\\lib\\site-packages\\pandas\\_libs\\tslibs\\offsets.pyx:292\u001b[0m, in \u001b[0;36mpandas._libs.tslibs.offsets._validate_business_time\u001b[1;34m()\u001b[0m\n",
      "File \u001b[1;32m~\\AppData\\Local\\Programs\\Python\\Python310\\lib\\_strptime.py:562\u001b[0m, in \u001b[0;36m_strptime_time\u001b[1;34m(data_string, format)\u001b[0m\n\u001b[0;32m    560\u001b[0m \u001b[38;5;124;03m\"\"\"Return a time struct based on the input string and the\u001b[39;00m\n\u001b[0;32m    561\u001b[0m \u001b[38;5;124;03mformat string.\"\"\"\u001b[39;00m\n\u001b[1;32m--> 562\u001b[0m tt \u001b[38;5;241m=\u001b[39m \u001b[43m_strptime\u001b[49m\u001b[43m(\u001b[49m\u001b[43mdata_string\u001b[49m\u001b[43m,\u001b[49m\u001b[43m \u001b[49m\u001b[38;5;28;43mformat\u001b[39;49m\u001b[43m)\u001b[49m[\u001b[38;5;241m0\u001b[39m]\n\u001b[0;32m    563\u001b[0m \u001b[38;5;28;01mreturn\u001b[39;00m time\u001b[38;5;241m.\u001b[39mstruct_time(tt[:time\u001b[38;5;241m.\u001b[39m_STRUCT_TM_ITEMS])\n",
      "File \u001b[1;32m~\\AppData\\Local\\Programs\\Python\\Python310\\lib\\_strptime.py:352\u001b[0m, in \u001b[0;36m_strptime\u001b[1;34m(data_string, format)\u001b[0m\n\u001b[0;32m    351\u001b[0m \u001b[38;5;28;01mif\u001b[39;00m \u001b[38;5;28mlen\u001b[39m(data_string) \u001b[38;5;241m!=\u001b[39m found\u001b[38;5;241m.\u001b[39mend():\n\u001b[1;32m--> 352\u001b[0m     \u001b[38;5;28;01mraise\u001b[39;00m \u001b[38;5;167;01mValueError\u001b[39;00m(\u001b[38;5;124m\"\u001b[39m\u001b[38;5;124munconverted data remains: \u001b[39m\u001b[38;5;132;01m%s\u001b[39;00m\u001b[38;5;124m\"\u001b[39m \u001b[38;5;241m%\u001b[39m\n\u001b[0;32m    353\u001b[0m                       data_string[found\u001b[38;5;241m.\u001b[39mend():])\n\u001b[0;32m    355\u001b[0m iso_year \u001b[38;5;241m=\u001b[39m year \u001b[38;5;241m=\u001b[39m \u001b[38;5;28;01mNone\u001b[39;00m\n",
      "\u001b[1;31mValueError\u001b[0m: unconverted data remains: :30",
      "\nDuring handling of the above exception, another exception occurred:\n",
      "\u001b[1;31mValueError\u001b[0m                                Traceback (most recent call last)",
      "Input \u001b[1;32mIn [125]\u001b[0m, in \u001b[0;36m<cell line: 1>\u001b[1;34m()\u001b[0m\n\u001b[1;32m----> 1\u001b[0m bh1 \u001b[38;5;241m=\u001b[39m \u001b[43mpd\u001b[49m\u001b[38;5;241;43m.\u001b[39;49m\u001b[43moffsets\u001b[49m\u001b[38;5;241;43m.\u001b[39;49m\u001b[43mBusinessHour\u001b[49m\u001b[43m(\u001b[49m\u001b[43mstart\u001b[49m\u001b[38;5;241;43m=\u001b[39;49m\u001b[38;5;124;43m\"\u001b[39;49m\u001b[38;5;124;43m11:00:30\u001b[39;49m\u001b[38;5;124;43m\"\u001b[39;49m\u001b[43m,\u001b[49m\u001b[43m \u001b[49m\u001b[43mend\u001b[49m\u001b[38;5;241;43m=\u001b[39;49m\u001b[43mdatetime\u001b[49m\u001b[38;5;241;43m.\u001b[39;49m\u001b[43mtime\u001b[49m\u001b[43m(\u001b[49m\u001b[38;5;241;43m23\u001b[39;49m\u001b[43m,\u001b[49m\u001b[43m \u001b[49m\u001b[38;5;241;43m0\u001b[39;49m\u001b[43m)\u001b[49m\u001b[43m)\u001b[49m\n",
      "File \u001b[1;32m~\\AppData\\Local\\Programs\\Python\\Python310\\lib\\site-packages\\pandas\\_libs\\tslibs\\offsets.pyx:1506\u001b[0m, in \u001b[0;36mpandas._libs.tslibs.offsets.BusinessHour.__init__\u001b[1;34m()\u001b[0m\n",
      "File \u001b[1;32m~\\AppData\\Local\\Programs\\Python\\Python310\\lib\\site-packages\\pandas\\_libs\\tslibs\\offsets.pyx:295\u001b[0m, in \u001b[0;36mpandas._libs.tslibs.offsets._validate_business_time\u001b[1;34m()\u001b[0m\n",
      "\u001b[1;31mValueError\u001b[0m: time data must match '%H:%M' format"
     ]
    }
   ],
   "source": [
    "bh1 = pd.offsets.BusinessHour(start=\"11:00:30\", end=datetime.time(23, 0))"
   ]
  },
  {
   "cell_type": "markdown",
   "id": "88d79901",
   "metadata": {},
   "source": [
    "### Custom business hour\n"
   ]
  },
  {
   "cell_type": "markdown",
   "id": "9fcabc60",
   "metadata": {},
   "source": [
    "#### The **CustomBusinessHour** is a mixture of **BusinessHour** and **CustomBusinessDay** which allows you to specify arbitrary holidays. **CustomBusinessHour** works as the same as **BusinessHour** except that it skips specified custom holidays."
   ]
  },
  {
   "cell_type": "code",
   "execution_count": null,
   "id": "5f559928",
   "metadata": {},
   "outputs": [],
   "source": [
    "from pandas.tseries.holiday import USFederalHolidayCalendar"
   ]
  },
  {
   "cell_type": "code",
   "execution_count": null,
   "id": "dc47f8c2",
   "metadata": {},
   "outputs": [],
   "source": [
    "bday_us = pd.offsets.CustomBusinessDay(calendar=USFederalHolidayCalendar())"
   ]
  },
  {
   "cell_type": "code",
   "execution_count": null,
   "id": "516531c3",
   "metadata": {},
   "outputs": [],
   "source": [
    "dt = datetime.datetime(2014, 1, 17) #friday"
   ]
  },
  {
   "cell_type": "code",
   "execution_count": null,
   "id": "22e798de",
   "metadata": {},
   "outputs": [],
   "source": [
    "dt + bday_us #gives tuesday because monday is a national holiday in US"
   ]
  },
  {
   "cell_type": "markdown",
   "id": "7988fe46",
   "metadata": {},
   "source": [
    "### Offset Aliases"
   ]
  },
  {
   "cell_type": "markdown",
   "id": "c258c9fb",
   "metadata": {},
   "source": [
    "#### A number of string aliases are given to useful common time series frequencies. We will refer to these aliases as offset aliases."
   ]
  },
  {
   "cell_type": "markdown",
   "id": "b43d4967",
   "metadata": {},
   "source": [
    "#### It can be found here - https://pandas.pydata.org/docs/user_guide/timeseries.html#using-offsets-with-series-datetimeindex:~:text=Alias,nanoseconds"
   ]
  },
  {
   "cell_type": "markdown",
   "id": "91d675c4",
   "metadata": {},
   "source": [
    "### Combining aliases"
   ]
  },
  {
   "cell_type": "markdown",
   "id": "2b31bb8b",
   "metadata": {},
   "source": [
    "#### As we have seen previously, the alias and the offset instance are fungible in most functions:\n",
    "\n"
   ]
  },
  {
   "cell_type": "code",
   "execution_count": null,
   "id": "8a0ff33c",
   "metadata": {},
   "outputs": [],
   "source": [
    "pd.date_range(start, periods=5, freq=\"B\")"
   ]
  },
  {
   "cell_type": "code",
   "execution_count": null,
   "id": "de639857",
   "metadata": {
    "scrolled": true
   },
   "outputs": [],
   "source": [
    "pd.date_range(start, periods=5, freq=pd.offsets.BDay())\n"
   ]
  },
  {
   "cell_type": "markdown",
   "id": "fb2ae6b0",
   "metadata": {},
   "source": [
    "#### After combining aliases"
   ]
  },
  {
   "cell_type": "code",
   "execution_count": null,
   "id": "fa726ec7",
   "metadata": {},
   "outputs": [],
   "source": [
    "pd.date_range(start, periods=10, freq=\"2h20min\")"
   ]
  },
  {
   "cell_type": "code",
   "execution_count": null,
   "id": "2da3d8a4",
   "metadata": {},
   "outputs": [],
   "source": [
    "pd.date_range(start, periods=10, freq=\"1D10U\")"
   ]
  },
  {
   "cell_type": "markdown",
   "id": "ec44d935",
   "metadata": {},
   "source": [
    "### Anchored offsets"
   ]
  },
  {
   "cell_type": "markdown",
   "id": "5e27bb6f",
   "metadata": {},
   "source": [
    "#### For some frequencies you can specify an anchoring suffix respective to the days you want:"
   ]
  },
  {
   "cell_type": "markdown",
   "id": "277d5b9a",
   "metadata": {},
   "source": [
    "#### It can be found here - https://pandas.pydata.org/docs/user_guide/timeseries.html#using-offsets-with-series-datetimeindex:~:text=an%20anchoring%20suffix%3A-,Alias,annual%20frequency%2C%20anchored%20end%20of%20November,-These%20can%20be"
   ]
  },
  {
   "cell_type": "markdown",
   "id": "9ca938a3",
   "metadata": {},
   "source": [
    "### Anchored offset semantics"
   ]
  },
  {
   "cell_type": "markdown",
   "id": "1f0dc266",
   "metadata": {},
   "source": [
    "#### For those offsets that are anchored to the start or end of specific frequency (MonthEnd, MonthBegin, WeekEnd, etc), the following rules apply to rolling forward and backwards."
   ]
  },
  {
   "cell_type": "markdown",
   "id": "197e8138",
   "metadata": {},
   "source": [
    "#### 1. When n is not 0, if the given date is not on an anchor point, it snapped to the next(previous) anchor point, and moved |n|-1 additional steps forwards or backwards.\n",
    "#### 2. If the given date is on an anchor point, it is moved |n| points forwards or backwards.\n",
    "#### 3. For the case when n=0, the date is not moved if on an anchor point, otherwise it is rolled forward to the next anchor point."
   ]
  },
  {
   "cell_type": "code",
   "execution_count": null,
   "id": "f81d2bf1",
   "metadata": {},
   "outputs": [],
   "source": [
    "pd.Timestamp(\"2014-01-02\") + pd.offsets.MonthBegin(n=1)"
   ]
  },
  {
   "cell_type": "code",
   "execution_count": null,
   "id": "aab11946",
   "metadata": {},
   "outputs": [],
   "source": [
    "pd.Timestamp(\"2014-01-02\") - pd.offsets.MonthBegin(n=1)"
   ]
  },
  {
   "cell_type": "code",
   "execution_count": null,
   "id": "515bb74e",
   "metadata": {},
   "outputs": [],
   "source": [
    "pd.Timestamp(\"2014-01-02\") + pd.offsets.MonthBegin(n=4)"
   ]
  },
  {
   "cell_type": "code",
   "execution_count": null,
   "id": "f5c3ec6c",
   "metadata": {},
   "outputs": [],
   "source": [
    "pd.Timestamp(\"2014-01-02\") + pd.offsets.MonthEnd(n=1)"
   ]
  },
  {
   "cell_type": "code",
   "execution_count": null,
   "id": "945c1340",
   "metadata": {},
   "outputs": [],
   "source": [
    "pd.Timestamp(\"2014-01-02\") - pd.offsets.MonthEnd(n=1)"
   ]
  },
  {
   "cell_type": "markdown",
   "id": "2adc3d28",
   "metadata": {},
   "source": [
    "#### On anchor points"
   ]
  },
  {
   "cell_type": "code",
   "execution_count": null,
   "id": "6e980da8",
   "metadata": {},
   "outputs": [],
   "source": [
    "pd.Timestamp(\"2014-01-01\") + pd.offsets.MonthBegin(n=1)"
   ]
  },
  {
   "cell_type": "code",
   "execution_count": null,
   "id": "d9756b9c",
   "metadata": {},
   "outputs": [],
   "source": [
    "pd.Timestamp(\"2014-01-01\") - pd.offsets.MonthBegin(n=1)"
   ]
  },
  {
   "cell_type": "code",
   "execution_count": null,
   "id": "892f3871",
   "metadata": {},
   "outputs": [],
   "source": [
    "pd.Timestamp(\"2014-01-01\") + pd.offsets.MonthBegin(n=4)"
   ]
  },
  {
   "cell_type": "code",
   "execution_count": null,
   "id": "8c7044ed",
   "metadata": {},
   "outputs": [],
   "source": [
    "pd.Timestamp(\"2014-01-31\") + pd.offsets.MonthEnd(n=1)"
   ]
  },
  {
   "cell_type": "code",
   "execution_count": null,
   "id": "7e5affc3",
   "metadata": {},
   "outputs": [],
   "source": [
    "pd.Timestamp(\"2014-01-31\") - pd.offsets.MonthEnd(n=1)"
   ]
  },
  {
   "cell_type": "markdown",
   "id": "b98baa1c",
   "metadata": {},
   "source": [
    "#### n = 0"
   ]
  },
  {
   "cell_type": "code",
   "execution_count": null,
   "id": "11852380",
   "metadata": {},
   "outputs": [],
   "source": [
    "pd.Timestamp(\"2014-01-02\") + pd.offsets.MonthBegin(n=0)"
   ]
  },
  {
   "cell_type": "code",
   "execution_count": null,
   "id": "321697f7",
   "metadata": {},
   "outputs": [],
   "source": [
    "pd.Timestamp(\"2014-01-01\") + pd.offsets.MonthBegin(n=0)"
   ]
  },
  {
   "cell_type": "markdown",
   "id": "210c5895",
   "metadata": {},
   "source": [
    "## Time Series-related instance methods"
   ]
  },
  {
   "cell_type": "markdown",
   "id": "23e4d4d8",
   "metadata": {},
   "source": [
    "### Shifting / lagging"
   ]
  },
  {
   "cell_type": "markdown",
   "id": "854bad38",
   "metadata": {},
   "source": [
    "#### We may want to shift or lag the values in a time series back and forward in time. The method for this is **shift()**."
   ]
  },
  {
   "cell_type": "code",
   "execution_count": 126,
   "id": "4872df42",
   "metadata": {},
   "outputs": [
    {
     "data": {
      "text/plain": [
       "Time\n",
       "2015-05-02 00:00:00    0.932816\n",
       "2015-05-02 01:00:00    0.011310\n",
       "2015-05-02 02:00:00    1.720286\n",
       "2015-05-02 03:00:00    0.078407\n",
       "2015-05-02 04:00:00   -1.229160\n",
       "                         ...   \n",
       "2015-10-24 08:00:00    1.745733\n",
       "2015-10-24 09:00:00    0.558440\n",
       "2015-10-24 10:00:00   -2.085374\n",
       "2015-10-24 11:00:00    0.510149\n",
       "2015-10-24 12:00:00    1.029666\n",
       "Length: 4213, dtype: float64"
      ]
     },
     "execution_count": 126,
     "metadata": {},
     "output_type": "execute_result"
    }
   ],
   "source": [
    "df_ser"
   ]
  },
  {
   "cell_type": "code",
   "execution_count": 127,
   "id": "85ea7f50",
   "metadata": {},
   "outputs": [],
   "source": [
    "df_ser1 = df_ser[:5]"
   ]
  },
  {
   "cell_type": "code",
   "execution_count": 128,
   "id": "030e37cf",
   "metadata": {},
   "outputs": [
    {
     "data": {
      "text/plain": [
       "Time\n",
       "2015-05-02 00:00:00    0.932816\n",
       "2015-05-02 01:00:00    0.011310\n",
       "2015-05-02 02:00:00    1.720286\n",
       "2015-05-02 03:00:00    0.078407\n",
       "2015-05-02 04:00:00   -1.229160\n",
       "dtype: float64"
      ]
     },
     "execution_count": 128,
     "metadata": {},
     "output_type": "execute_result"
    }
   ],
   "source": [
    "df_ser1"
   ]
  },
  {
   "cell_type": "code",
   "execution_count": 129,
   "id": "433e7c89",
   "metadata": {},
   "outputs": [
    {
     "data": {
      "text/plain": [
       "Time\n",
       "2015-05-02 00:00:00         NaN\n",
       "2015-05-02 01:00:00    0.932816\n",
       "2015-05-02 02:00:00    0.011310\n",
       "2015-05-02 03:00:00    1.720286\n",
       "2015-05-02 04:00:00    0.078407\n",
       "dtype: float64"
      ]
     },
     "execution_count": 129,
     "metadata": {},
     "output_type": "execute_result"
    }
   ],
   "source": [
    "df_ser1.shift(1)"
   ]
  },
  {
   "cell_type": "markdown",
   "id": "24adddd8",
   "metadata": {},
   "source": [
    "#### If we want to change the date by 1 day then we have to specify the freq parameter."
   ]
  },
  {
   "cell_type": "code",
   "execution_count": 130,
   "id": "6e94aa87",
   "metadata": {},
   "outputs": [
    {
     "data": {
      "text/plain": [
       "Time\n",
       "2015-05-03 00:00:00    0.932816\n",
       "2015-05-03 01:00:00    0.011310\n",
       "2015-05-03 02:00:00    1.720286\n",
       "2015-05-03 03:00:00    0.078407\n",
       "2015-05-03 04:00:00   -1.229160\n",
       "dtype: float64"
      ]
     },
     "execution_count": 130,
     "metadata": {},
     "output_type": "execute_result"
    }
   ],
   "source": [
    "df_ser1.shift(1, freq = \"D\")"
   ]
  },
  {
   "cell_type": "markdown",
   "id": "02d09010",
   "metadata": {},
   "source": [
    "#### Here we can observe that the data associated with the time didnot change because - When **freq** is specified, **shift** method changes all the dates in the index rather than changing the alignment of the data and the index."
   ]
  },
  {
   "cell_type": "markdown",
   "id": "59e44c6c",
   "metadata": {},
   "source": [
    "### Frequency conversion"
   ]
  },
  {
   "cell_type": "markdown",
   "id": "cafcaa39",
   "metadata": {},
   "source": [
    "#### The primary function for changing frequencies is the **asfreq()** method. For a **DatetimeIndex**, this is basically just a thin, but convenient wrapper around **reindex()** which generates a **date_range** and calls **reindex**."
   ]
  },
  {
   "cell_type": "code",
   "execution_count": 131,
   "id": "ee0c7f33",
   "metadata": {},
   "outputs": [],
   "source": [
    "dr = pd.date_range(\"1/1/2010\", periods=3, freq=3 * pd.offsets.BDay())"
   ]
  },
  {
   "cell_type": "code",
   "execution_count": 132,
   "id": "10d3e8d1",
   "metadata": {},
   "outputs": [],
   "source": [
    "ts = pd.Series(np.random.randn(3), index=dr)"
   ]
  },
  {
   "cell_type": "code",
   "execution_count": 133,
   "id": "ce830e11",
   "metadata": {},
   "outputs": [
    {
     "data": {
      "text/plain": [
       "2010-01-01   -1.066885\n",
       "2010-01-06   -0.997949\n",
       "2010-01-11    1.217910\n",
       "Freq: 3B, dtype: float64"
      ]
     },
     "execution_count": 133,
     "metadata": {},
     "output_type": "execute_result"
    }
   ],
   "source": [
    "ts"
   ]
  },
  {
   "cell_type": "code",
   "execution_count": 134,
   "id": "5e9a5ade",
   "metadata": {},
   "outputs": [
    {
     "data": {
      "text/plain": [
       "2010-01-01   -1.066885\n",
       "2010-01-04         NaN\n",
       "2010-01-05         NaN\n",
       "2010-01-06   -0.997949\n",
       "2010-01-07         NaN\n",
       "2010-01-08         NaN\n",
       "2010-01-11    1.217910\n",
       "Freq: B, dtype: float64"
      ]
     },
     "execution_count": 134,
     "metadata": {},
     "output_type": "execute_result"
    }
   ],
   "source": [
    "ts.asfreq(pd.offsets.BDay())"
   ]
  },
  {
   "cell_type": "markdown",
   "id": "8ea1e9fa",
   "metadata": {},
   "source": [
    "#### There is also a method for filling out this gaps, such as interpolation. This method is **asfreq**, this fills out the values in the gaps that may appear after frequency conversion. This is similar to **fillna()** method."
   ]
  },
  {
   "cell_type": "code",
   "execution_count": 135,
   "id": "bb57638a",
   "metadata": {},
   "outputs": [
    {
     "data": {
      "text/plain": [
       "2010-01-01   -1.066885\n",
       "2010-01-04   -1.066885\n",
       "2010-01-05   -1.066885\n",
       "2010-01-06   -0.997949\n",
       "2010-01-07   -0.997949\n",
       "2010-01-08   -0.997949\n",
       "2010-01-11    1.217910\n",
       "Freq: B, dtype: float64"
      ]
     },
     "execution_count": 135,
     "metadata": {},
     "output_type": "execute_result"
    }
   ],
   "source": [
    "ts.asfreq(pd.offsets.BDay(), method=\"pad\")"
   ]
  },
  {
   "cell_type": "markdown",
   "id": "2c8c287e",
   "metadata": {},
   "source": [
    "## Resampling"
   ]
  },
  {
   "cell_type": "markdown",
   "id": "06cf2816",
   "metadata": {},
   "source": [
    "#### resample() is like a time-based groupby, followed by a reduction method on each of its groups. \n",
    "\n"
   ]
  },
  {
   "cell_type": "code",
   "execution_count": 136,
   "id": "b0a11191",
   "metadata": {},
   "outputs": [],
   "source": [
    "rng = pd.date_range(\"1/1/2012\", periods=100, freq=\"S\")"
   ]
  },
  {
   "cell_type": "code",
   "execution_count": 137,
   "id": "0877b3c2",
   "metadata": {},
   "outputs": [
    {
     "data": {
      "text/plain": [
       "DatetimeIndex(['2012-01-01 00:00:00', '2012-01-01 00:00:01',\n",
       "               '2012-01-01 00:00:02', '2012-01-01 00:00:03',\n",
       "               '2012-01-01 00:00:04', '2012-01-01 00:00:05',\n",
       "               '2012-01-01 00:00:06', '2012-01-01 00:00:07',\n",
       "               '2012-01-01 00:00:08', '2012-01-01 00:00:09',\n",
       "               '2012-01-01 00:00:10', '2012-01-01 00:00:11',\n",
       "               '2012-01-01 00:00:12', '2012-01-01 00:00:13',\n",
       "               '2012-01-01 00:00:14', '2012-01-01 00:00:15',\n",
       "               '2012-01-01 00:00:16', '2012-01-01 00:00:17',\n",
       "               '2012-01-01 00:00:18', '2012-01-01 00:00:19',\n",
       "               '2012-01-01 00:00:20', '2012-01-01 00:00:21',\n",
       "               '2012-01-01 00:00:22', '2012-01-01 00:00:23',\n",
       "               '2012-01-01 00:00:24', '2012-01-01 00:00:25',\n",
       "               '2012-01-01 00:00:26', '2012-01-01 00:00:27',\n",
       "               '2012-01-01 00:00:28', '2012-01-01 00:00:29',\n",
       "               '2012-01-01 00:00:30', '2012-01-01 00:00:31',\n",
       "               '2012-01-01 00:00:32', '2012-01-01 00:00:33',\n",
       "               '2012-01-01 00:00:34', '2012-01-01 00:00:35',\n",
       "               '2012-01-01 00:00:36', '2012-01-01 00:00:37',\n",
       "               '2012-01-01 00:00:38', '2012-01-01 00:00:39',\n",
       "               '2012-01-01 00:00:40', '2012-01-01 00:00:41',\n",
       "               '2012-01-01 00:00:42', '2012-01-01 00:00:43',\n",
       "               '2012-01-01 00:00:44', '2012-01-01 00:00:45',\n",
       "               '2012-01-01 00:00:46', '2012-01-01 00:00:47',\n",
       "               '2012-01-01 00:00:48', '2012-01-01 00:00:49',\n",
       "               '2012-01-01 00:00:50', '2012-01-01 00:00:51',\n",
       "               '2012-01-01 00:00:52', '2012-01-01 00:00:53',\n",
       "               '2012-01-01 00:00:54', '2012-01-01 00:00:55',\n",
       "               '2012-01-01 00:00:56', '2012-01-01 00:00:57',\n",
       "               '2012-01-01 00:00:58', '2012-01-01 00:00:59',\n",
       "               '2012-01-01 00:01:00', '2012-01-01 00:01:01',\n",
       "               '2012-01-01 00:01:02', '2012-01-01 00:01:03',\n",
       "               '2012-01-01 00:01:04', '2012-01-01 00:01:05',\n",
       "               '2012-01-01 00:01:06', '2012-01-01 00:01:07',\n",
       "               '2012-01-01 00:01:08', '2012-01-01 00:01:09',\n",
       "               '2012-01-01 00:01:10', '2012-01-01 00:01:11',\n",
       "               '2012-01-01 00:01:12', '2012-01-01 00:01:13',\n",
       "               '2012-01-01 00:01:14', '2012-01-01 00:01:15',\n",
       "               '2012-01-01 00:01:16', '2012-01-01 00:01:17',\n",
       "               '2012-01-01 00:01:18', '2012-01-01 00:01:19',\n",
       "               '2012-01-01 00:01:20', '2012-01-01 00:01:21',\n",
       "               '2012-01-01 00:01:22', '2012-01-01 00:01:23',\n",
       "               '2012-01-01 00:01:24', '2012-01-01 00:01:25',\n",
       "               '2012-01-01 00:01:26', '2012-01-01 00:01:27',\n",
       "               '2012-01-01 00:01:28', '2012-01-01 00:01:29',\n",
       "               '2012-01-01 00:01:30', '2012-01-01 00:01:31',\n",
       "               '2012-01-01 00:01:32', '2012-01-01 00:01:33',\n",
       "               '2012-01-01 00:01:34', '2012-01-01 00:01:35',\n",
       "               '2012-01-01 00:01:36', '2012-01-01 00:01:37',\n",
       "               '2012-01-01 00:01:38', '2012-01-01 00:01:39'],\n",
       "              dtype='datetime64[ns]', freq='S')"
      ]
     },
     "execution_count": 137,
     "metadata": {},
     "output_type": "execute_result"
    }
   ],
   "source": [
    "rng"
   ]
  },
  {
   "cell_type": "code",
   "execution_count": 138,
   "id": "6a7a7288",
   "metadata": {},
   "outputs": [],
   "source": [
    "ts = pd.Series(np.random.randint(0, 500, len(rng)), index=rng)"
   ]
  },
  {
   "cell_type": "code",
   "execution_count": 139,
   "id": "bb416b67",
   "metadata": {},
   "outputs": [
    {
     "data": {
      "text/plain": [
       "2012-01-01 00:00:00    294\n",
       "2012-01-01 00:00:01    259\n",
       "2012-01-01 00:00:02    467\n",
       "2012-01-01 00:00:03     51\n",
       "2012-01-01 00:00:04    227\n",
       "                      ... \n",
       "2012-01-01 00:01:35    466\n",
       "2012-01-01 00:01:36    163\n",
       "2012-01-01 00:01:37    469\n",
       "2012-01-01 00:01:38    197\n",
       "2012-01-01 00:01:39    377\n",
       "Freq: S, Length: 100, dtype: int32"
      ]
     },
     "execution_count": 139,
     "metadata": {},
     "output_type": "execute_result"
    }
   ],
   "source": [
    "ts"
   ]
  },
  {
   "cell_type": "code",
   "execution_count": 140,
   "id": "e2cb5fee",
   "metadata": {},
   "outputs": [
    {
     "data": {
      "text/plain": [
       "2012-01-01    23324\n",
       "Freq: 5T, dtype: int32"
      ]
     },
     "execution_count": 140,
     "metadata": {},
     "output_type": "execute_result"
    }
   ],
   "source": [
    "ts.resample(\"5Min\").sum()"
   ]
  },
  {
   "cell_type": "code",
   "execution_count": 141,
   "id": "69488567",
   "metadata": {},
   "outputs": [
    {
     "data": {
      "text/plain": [
       "2012-01-01 00:00:00    13977\n",
       "2012-01-01 00:01:00     9347\n",
       "Freq: T, dtype: int32"
      ]
     },
     "execution_count": 141,
     "metadata": {},
     "output_type": "execute_result"
    }
   ],
   "source": [
    "ts.resample(\"1Min\").sum()"
   ]
  },
  {
   "cell_type": "code",
   "execution_count": 142,
   "id": "30c3a061",
   "metadata": {},
   "outputs": [
    {
     "data": {
      "text/plain": [
       "2012-01-01    233.24\n",
       "Freq: 5T, dtype: float64"
      ]
     },
     "execution_count": 142,
     "metadata": {},
     "output_type": "execute_result"
    }
   ],
   "source": [
    "ts.resample(\"5Min\").mean()"
   ]
  },
  {
   "cell_type": "code",
   "execution_count": 143,
   "id": "cfc4676e",
   "metadata": {},
   "outputs": [
    {
     "data": {
      "text/html": [
       "<div>\n",
       "<style scoped>\n",
       "    .dataframe tbody tr th:only-of-type {\n",
       "        vertical-align: middle;\n",
       "    }\n",
       "\n",
       "    .dataframe tbody tr th {\n",
       "        vertical-align: top;\n",
       "    }\n",
       "\n",
       "    .dataframe thead th {\n",
       "        text-align: right;\n",
       "    }\n",
       "</style>\n",
       "<table border=\"1\" class=\"dataframe\">\n",
       "  <thead>\n",
       "    <tr style=\"text-align: right;\">\n",
       "      <th></th>\n",
       "      <th>open</th>\n",
       "      <th>high</th>\n",
       "      <th>low</th>\n",
       "      <th>close</th>\n",
       "    </tr>\n",
       "  </thead>\n",
       "  <tbody>\n",
       "    <tr>\n",
       "      <th>2012-01-01</th>\n",
       "      <td>294</td>\n",
       "      <td>498</td>\n",
       "      <td>6</td>\n",
       "      <td>377</td>\n",
       "    </tr>\n",
       "  </tbody>\n",
       "</table>\n",
       "</div>"
      ],
      "text/plain": [
       "            open  high  low  close\n",
       "2012-01-01   294   498    6    377"
      ]
     },
     "execution_count": 143,
     "metadata": {},
     "output_type": "execute_result"
    }
   ],
   "source": [
    "ts.resample(\"5Min\").ohlc()"
   ]
  },
  {
   "cell_type": "code",
   "execution_count": 144,
   "id": "1e07578c",
   "metadata": {},
   "outputs": [
    {
     "data": {
      "text/plain": [
       "2012-01-01    498\n",
       "Freq: 5T, dtype: int32"
      ]
     },
     "execution_count": 144,
     "metadata": {},
     "output_type": "execute_result"
    }
   ],
   "source": [
    "ts.resample(\"5Min\").max()"
   ]
  },
  {
   "cell_type": "markdown",
   "id": "5747a7c2",
   "metadata": {},
   "source": [
    "## Upsampling"
   ]
  },
  {
   "cell_type": "markdown",
   "id": "ce2d7d35",
   "metadata": {},
   "source": [
    "#### For upsampling, we can specify a way to upsample and the **limit** parameter to interpolate over the gaps that are created:\n"
   ]
  },
  {
   "cell_type": "code",
   "execution_count": 145,
   "id": "51f470ea",
   "metadata": {},
   "outputs": [
    {
     "data": {
      "text/plain": [
       "2012-01-01 00:00:00.000    294.0\n",
       "2012-01-01 00:00:00.250      NaN\n",
       "2012-01-01 00:00:00.500      NaN\n",
       "2012-01-01 00:00:00.750      NaN\n",
       "2012-01-01 00:00:01.000    259.0\n",
       "Freq: 250L, dtype: float64"
      ]
     },
     "execution_count": 145,
     "metadata": {},
     "output_type": "execute_result"
    }
   ],
   "source": [
    "ts[:2].resample(\"250L\").asfreq() # from secondly to every 250 milliseconds"
   ]
  },
  {
   "cell_type": "code",
   "execution_count": 146,
   "id": "306ef905",
   "metadata": {},
   "outputs": [
    {
     "data": {
      "text/plain": [
       "2012-01-01 00:00:00.000    294\n",
       "2012-01-01 00:00:00.250    294\n",
       "2012-01-01 00:00:00.500    294\n",
       "2012-01-01 00:00:00.750    294\n",
       "2012-01-01 00:00:01.000    259\n",
       "Freq: 250L, dtype: int32"
      ]
     },
     "execution_count": 146,
     "metadata": {},
     "output_type": "execute_result"
    }
   ],
   "source": [
    "ts[:2].resample(\"250L\").ffill()"
   ]
  },
  {
   "cell_type": "code",
   "execution_count": 147,
   "id": "e412fe07",
   "metadata": {},
   "outputs": [
    {
     "data": {
      "text/plain": [
       "2012-01-01 00:00:00.000    294.0\n",
       "2012-01-01 00:00:00.250    294.0\n",
       "2012-01-01 00:00:00.500    294.0\n",
       "2012-01-01 00:00:00.750      NaN\n",
       "2012-01-01 00:00:01.000    259.0\n",
       "Freq: 250L, dtype: float64"
      ]
     },
     "execution_count": 147,
     "metadata": {},
     "output_type": "execute_result"
    }
   ],
   "source": [
    "ts[:2].resample(\"250L\").ffill(limit=2)"
   ]
  },
  {
   "cell_type": "markdown",
   "id": "86c569af",
   "metadata": {},
   "source": [
    "## Aggregation"
   ]
  },
  {
   "cell_type": "code",
   "execution_count": 148,
   "id": "a30308fa",
   "metadata": {},
   "outputs": [],
   "source": [
    "dfnew = df.drop(\"randTime\", axis = 1)"
   ]
  },
  {
   "cell_type": "code",
   "execution_count": 149,
   "id": "02efb146",
   "metadata": {},
   "outputs": [
    {
     "data": {
      "text/html": [
       "<div>\n",
       "<style scoped>\n",
       "    .dataframe tbody tr th:only-of-type {\n",
       "        vertical-align: middle;\n",
       "    }\n",
       "\n",
       "    .dataframe tbody tr th {\n",
       "        vertical-align: top;\n",
       "    }\n",
       "\n",
       "    .dataframe thead th {\n",
       "        text-align: right;\n",
       "    }\n",
       "</style>\n",
       "<table border=\"1\" class=\"dataframe\">\n",
       "  <thead>\n",
       "    <tr style=\"text-align: right;\">\n",
       "      <th></th>\n",
       "      <th>temperature_2_m_above_gnd</th>\n",
       "      <th>relative_humidity_2_m_above_gnd</th>\n",
       "      <th>mean_sea_level_pressure_MSL</th>\n",
       "      <th>total_precipitation_sfc</th>\n",
       "      <th>snowfall_amount_sfc</th>\n",
       "      <th>total_cloud_cover_sfc</th>\n",
       "      <th>high_cloud_cover_high_cld_lay</th>\n",
       "      <th>medium_cloud_cover_mid_cld_lay</th>\n",
       "      <th>low_cloud_cover_low_cld_lay</th>\n",
       "      <th>shortwave_radiation_backwards_sfc</th>\n",
       "      <th>...</th>\n",
       "      <th>wind_direction_10_m_above_gnd</th>\n",
       "      <th>wind_speed_80_m_above_gnd</th>\n",
       "      <th>wind_direction_80_m_above_gnd</th>\n",
       "      <th>wind_speed_900_mb</th>\n",
       "      <th>wind_direction_900_mb</th>\n",
       "      <th>wind_gust_10_m_above_gnd</th>\n",
       "      <th>angle_of_incidence</th>\n",
       "      <th>zenith</th>\n",
       "      <th>azimuth</th>\n",
       "      <th>generated_power_kw</th>\n",
       "    </tr>\n",
       "    <tr>\n",
       "      <th>Time</th>\n",
       "      <th></th>\n",
       "      <th></th>\n",
       "      <th></th>\n",
       "      <th></th>\n",
       "      <th></th>\n",
       "      <th></th>\n",
       "      <th></th>\n",
       "      <th></th>\n",
       "      <th></th>\n",
       "      <th></th>\n",
       "      <th></th>\n",
       "      <th></th>\n",
       "      <th></th>\n",
       "      <th></th>\n",
       "      <th></th>\n",
       "      <th></th>\n",
       "      <th></th>\n",
       "      <th></th>\n",
       "      <th></th>\n",
       "      <th></th>\n",
       "      <th></th>\n",
       "    </tr>\n",
       "  </thead>\n",
       "  <tbody>\n",
       "    <tr>\n",
       "      <th>2015-05-02 00:00:00</th>\n",
       "      <td>2.17</td>\n",
       "      <td>31</td>\n",
       "      <td>1035.0</td>\n",
       "      <td>0.0</td>\n",
       "      <td>0.0</td>\n",
       "      <td>0.0</td>\n",
       "      <td>0</td>\n",
       "      <td>0</td>\n",
       "      <td>0</td>\n",
       "      <td>0.00</td>\n",
       "      <td>...</td>\n",
       "      <td>312.71</td>\n",
       "      <td>9.36</td>\n",
       "      <td>22.62</td>\n",
       "      <td>6.62</td>\n",
       "      <td>337.62</td>\n",
       "      <td>24.48</td>\n",
       "      <td>58.753108</td>\n",
       "      <td>83.237322</td>\n",
       "      <td>128.33543</td>\n",
       "      <td>454.100950</td>\n",
       "    </tr>\n",
       "    <tr>\n",
       "      <th>2015-05-02 01:00:00</th>\n",
       "      <td>2.31</td>\n",
       "      <td>27</td>\n",
       "      <td>1035.1</td>\n",
       "      <td>0.0</td>\n",
       "      <td>0.0</td>\n",
       "      <td>0.0</td>\n",
       "      <td>0</td>\n",
       "      <td>0</td>\n",
       "      <td>0</td>\n",
       "      <td>1.78</td>\n",
       "      <td>...</td>\n",
       "      <td>294.78</td>\n",
       "      <td>5.99</td>\n",
       "      <td>32.74</td>\n",
       "      <td>4.61</td>\n",
       "      <td>321.34</td>\n",
       "      <td>21.96</td>\n",
       "      <td>45.408585</td>\n",
       "      <td>75.143041</td>\n",
       "      <td>139.65530</td>\n",
       "      <td>1411.999400</td>\n",
       "    </tr>\n",
       "    <tr>\n",
       "      <th>2015-05-02 02:00:00</th>\n",
       "      <td>3.65</td>\n",
       "      <td>33</td>\n",
       "      <td>1035.4</td>\n",
       "      <td>0.0</td>\n",
       "      <td>0.0</td>\n",
       "      <td>0.0</td>\n",
       "      <td>0</td>\n",
       "      <td>0</td>\n",
       "      <td>0</td>\n",
       "      <td>108.58</td>\n",
       "      <td>...</td>\n",
       "      <td>270.00</td>\n",
       "      <td>3.89</td>\n",
       "      <td>56.31</td>\n",
       "      <td>3.76</td>\n",
       "      <td>286.70</td>\n",
       "      <td>14.04</td>\n",
       "      <td>32.848282</td>\n",
       "      <td>68.820648</td>\n",
       "      <td>152.53769</td>\n",
       "      <td>2214.849300</td>\n",
       "    </tr>\n",
       "    <tr>\n",
       "      <th>2015-05-02 03:00:00</th>\n",
       "      <td>5.82</td>\n",
       "      <td>30</td>\n",
       "      <td>1035.4</td>\n",
       "      <td>0.0</td>\n",
       "      <td>0.0</td>\n",
       "      <td>0.0</td>\n",
       "      <td>0</td>\n",
       "      <td>0</td>\n",
       "      <td>0</td>\n",
       "      <td>258.10</td>\n",
       "      <td>...</td>\n",
       "      <td>323.13</td>\n",
       "      <td>3.55</td>\n",
       "      <td>23.96</td>\n",
       "      <td>3.08</td>\n",
       "      <td>339.44</td>\n",
       "      <td>19.80</td>\n",
       "      <td>22.699288</td>\n",
       "      <td>64.883536</td>\n",
       "      <td>166.90159</td>\n",
       "      <td>2527.609200</td>\n",
       "    </tr>\n",
       "    <tr>\n",
       "      <th>2015-05-02 04:00:00</th>\n",
       "      <td>7.73</td>\n",
       "      <td>27</td>\n",
       "      <td>1034.4</td>\n",
       "      <td>0.0</td>\n",
       "      <td>0.0</td>\n",
       "      <td>0.0</td>\n",
       "      <td>0</td>\n",
       "      <td>0</td>\n",
       "      <td>0</td>\n",
       "      <td>375.58</td>\n",
       "      <td>...</td>\n",
       "      <td>10.01</td>\n",
       "      <td>6.76</td>\n",
       "      <td>25.20</td>\n",
       "      <td>6.62</td>\n",
       "      <td>22.38</td>\n",
       "      <td>16.56</td>\n",
       "      <td>19.199908</td>\n",
       "      <td>63.795208</td>\n",
       "      <td>182.13526</td>\n",
       "      <td>2640.203400</td>\n",
       "    </tr>\n",
       "    <tr>\n",
       "      <th>...</th>\n",
       "      <td>...</td>\n",
       "      <td>...</td>\n",
       "      <td>...</td>\n",
       "      <td>...</td>\n",
       "      <td>...</td>\n",
       "      <td>...</td>\n",
       "      <td>...</td>\n",
       "      <td>...</td>\n",
       "      <td>...</td>\n",
       "      <td>...</td>\n",
       "      <td>...</td>\n",
       "      <td>...</td>\n",
       "      <td>...</td>\n",
       "      <td>...</td>\n",
       "      <td>...</td>\n",
       "      <td>...</td>\n",
       "      <td>...</td>\n",
       "      <td>...</td>\n",
       "      <td>...</td>\n",
       "      <td>...</td>\n",
       "      <td>...</td>\n",
       "    </tr>\n",
       "    <tr>\n",
       "      <th>2015-10-24 08:00:00</th>\n",
       "      <td>8.69</td>\n",
       "      <td>66</td>\n",
       "      <td>1025.1</td>\n",
       "      <td>0.0</td>\n",
       "      <td>0.0</td>\n",
       "      <td>100.0</td>\n",
       "      <td>100</td>\n",
       "      <td>100</td>\n",
       "      <td>100</td>\n",
       "      <td>257.21</td>\n",
       "      <td>...</td>\n",
       "      <td>285.42</td>\n",
       "      <td>25.50</td>\n",
       "      <td>283.06</td>\n",
       "      <td>24.01</td>\n",
       "      <td>282.99</td>\n",
       "      <td>25.20</td>\n",
       "      <td>22.700907</td>\n",
       "      <td>64.952098</td>\n",
       "      <td>167.06794</td>\n",
       "      <td>173.410560</td>\n",
       "    </tr>\n",
       "    <tr>\n",
       "      <th>2015-10-24 09:00:00</th>\n",
       "      <td>7.57</td>\n",
       "      <td>90</td>\n",
       "      <td>1026.1</td>\n",
       "      <td>0.0</td>\n",
       "      <td>0.0</td>\n",
       "      <td>100.0</td>\n",
       "      <td>79</td>\n",
       "      <td>100</td>\n",
       "      <td>100</td>\n",
       "      <td>210.04</td>\n",
       "      <td>...</td>\n",
       "      <td>6.91</td>\n",
       "      <td>13.00</td>\n",
       "      <td>4.76</td>\n",
       "      <td>11.61</td>\n",
       "      <td>7.13</td>\n",
       "      <td>10.44</td>\n",
       "      <td>19.307487</td>\n",
       "      <td>63.895118</td>\n",
       "      <td>182.28247</td>\n",
       "      <td>403.792220</td>\n",
       "    </tr>\n",
       "    <tr>\n",
       "      <th>2015-10-24 10:00:00</th>\n",
       "      <td>7.27</td>\n",
       "      <td>90</td>\n",
       "      <td>1026.3</td>\n",
       "      <td>0.1</td>\n",
       "      <td>0.0</td>\n",
       "      <td>100.0</td>\n",
       "      <td>73</td>\n",
       "      <td>100</td>\n",
       "      <td>100</td>\n",
       "      <td>113.92</td>\n",
       "      <td>...</td>\n",
       "      <td>2.29</td>\n",
       "      <td>8.71</td>\n",
       "      <td>352.87</td>\n",
       "      <td>7.95</td>\n",
       "      <td>354.81</td>\n",
       "      <td>22.32</td>\n",
       "      <td>25.249506</td>\n",
       "      <td>65.827032</td>\n",
       "      <td>197.33868</td>\n",
       "      <td>158.367780</td>\n",
       "    </tr>\n",
       "    <tr>\n",
       "      <th>2015-10-24 11:00:00</th>\n",
       "      <td>8.25</td>\n",
       "      <td>81</td>\n",
       "      <td>1025.5</td>\n",
       "      <td>0.0</td>\n",
       "      <td>0.0</td>\n",
       "      <td>100.0</td>\n",
       "      <td>74</td>\n",
       "      <td>66</td>\n",
       "      <td>100</td>\n",
       "      <td>186.90</td>\n",
       "      <td>...</td>\n",
       "      <td>11.31</td>\n",
       "      <td>6.29</td>\n",
       "      <td>13.24</td>\n",
       "      <td>5.94</td>\n",
       "      <td>14.04</td>\n",
       "      <td>15.48</td>\n",
       "      <td>36.361161</td>\n",
       "      <td>70.496313</td>\n",
       "      <td>211.30027</td>\n",
       "      <td>126.953060</td>\n",
       "    </tr>\n",
       "    <tr>\n",
       "      <th>2015-10-24 12:00:00</th>\n",
       "      <td>8.00</td>\n",
       "      <td>80</td>\n",
       "      <td>1025.3</td>\n",
       "      <td>0.0</td>\n",
       "      <td>0.0</td>\n",
       "      <td>100.0</td>\n",
       "      <td>100</td>\n",
       "      <td>100</td>\n",
       "      <td>100</td>\n",
       "      <td>172.66</td>\n",
       "      <td>...</td>\n",
       "      <td>12.72</td>\n",
       "      <td>12.07</td>\n",
       "      <td>17.35</td>\n",
       "      <td>11.38</td>\n",
       "      <td>18.43</td>\n",
       "      <td>16.20</td>\n",
       "      <td>48.452849</td>\n",
       "      <td>76.919574</td>\n",
       "      <td>223.04931</td>\n",
       "      <td>20.055031</td>\n",
       "    </tr>\n",
       "  </tbody>\n",
       "</table>\n",
       "<p>4213 rows × 21 columns</p>\n",
       "</div>"
      ],
      "text/plain": [
       "                     temperature_2_m_above_gnd  \\\n",
       "Time                                             \n",
       "2015-05-02 00:00:00                       2.17   \n",
       "2015-05-02 01:00:00                       2.31   \n",
       "2015-05-02 02:00:00                       3.65   \n",
       "2015-05-02 03:00:00                       5.82   \n",
       "2015-05-02 04:00:00                       7.73   \n",
       "...                                        ...   \n",
       "2015-10-24 08:00:00                       8.69   \n",
       "2015-10-24 09:00:00                       7.57   \n",
       "2015-10-24 10:00:00                       7.27   \n",
       "2015-10-24 11:00:00                       8.25   \n",
       "2015-10-24 12:00:00                       8.00   \n",
       "\n",
       "                     relative_humidity_2_m_above_gnd  \\\n",
       "Time                                                   \n",
       "2015-05-02 00:00:00                               31   \n",
       "2015-05-02 01:00:00                               27   \n",
       "2015-05-02 02:00:00                               33   \n",
       "2015-05-02 03:00:00                               30   \n",
       "2015-05-02 04:00:00                               27   \n",
       "...                                              ...   \n",
       "2015-10-24 08:00:00                               66   \n",
       "2015-10-24 09:00:00                               90   \n",
       "2015-10-24 10:00:00                               90   \n",
       "2015-10-24 11:00:00                               81   \n",
       "2015-10-24 12:00:00                               80   \n",
       "\n",
       "                     mean_sea_level_pressure_MSL  total_precipitation_sfc  \\\n",
       "Time                                                                        \n",
       "2015-05-02 00:00:00                       1035.0                      0.0   \n",
       "2015-05-02 01:00:00                       1035.1                      0.0   \n",
       "2015-05-02 02:00:00                       1035.4                      0.0   \n",
       "2015-05-02 03:00:00                       1035.4                      0.0   \n",
       "2015-05-02 04:00:00                       1034.4                      0.0   \n",
       "...                                          ...                      ...   \n",
       "2015-10-24 08:00:00                       1025.1                      0.0   \n",
       "2015-10-24 09:00:00                       1026.1                      0.0   \n",
       "2015-10-24 10:00:00                       1026.3                      0.1   \n",
       "2015-10-24 11:00:00                       1025.5                      0.0   \n",
       "2015-10-24 12:00:00                       1025.3                      0.0   \n",
       "\n",
       "                     snowfall_amount_sfc  total_cloud_cover_sfc  \\\n",
       "Time                                                              \n",
       "2015-05-02 00:00:00                  0.0                    0.0   \n",
       "2015-05-02 01:00:00                  0.0                    0.0   \n",
       "2015-05-02 02:00:00                  0.0                    0.0   \n",
       "2015-05-02 03:00:00                  0.0                    0.0   \n",
       "2015-05-02 04:00:00                  0.0                    0.0   \n",
       "...                                  ...                    ...   \n",
       "2015-10-24 08:00:00                  0.0                  100.0   \n",
       "2015-10-24 09:00:00                  0.0                  100.0   \n",
       "2015-10-24 10:00:00                  0.0                  100.0   \n",
       "2015-10-24 11:00:00                  0.0                  100.0   \n",
       "2015-10-24 12:00:00                  0.0                  100.0   \n",
       "\n",
       "                     high_cloud_cover_high_cld_lay  \\\n",
       "Time                                                 \n",
       "2015-05-02 00:00:00                              0   \n",
       "2015-05-02 01:00:00                              0   \n",
       "2015-05-02 02:00:00                              0   \n",
       "2015-05-02 03:00:00                              0   \n",
       "2015-05-02 04:00:00                              0   \n",
       "...                                            ...   \n",
       "2015-10-24 08:00:00                            100   \n",
       "2015-10-24 09:00:00                             79   \n",
       "2015-10-24 10:00:00                             73   \n",
       "2015-10-24 11:00:00                             74   \n",
       "2015-10-24 12:00:00                            100   \n",
       "\n",
       "                     medium_cloud_cover_mid_cld_lay  \\\n",
       "Time                                                  \n",
       "2015-05-02 00:00:00                               0   \n",
       "2015-05-02 01:00:00                               0   \n",
       "2015-05-02 02:00:00                               0   \n",
       "2015-05-02 03:00:00                               0   \n",
       "2015-05-02 04:00:00                               0   \n",
       "...                                             ...   \n",
       "2015-10-24 08:00:00                             100   \n",
       "2015-10-24 09:00:00                             100   \n",
       "2015-10-24 10:00:00                             100   \n",
       "2015-10-24 11:00:00                              66   \n",
       "2015-10-24 12:00:00                             100   \n",
       "\n",
       "                     low_cloud_cover_low_cld_lay  \\\n",
       "Time                                               \n",
       "2015-05-02 00:00:00                            0   \n",
       "2015-05-02 01:00:00                            0   \n",
       "2015-05-02 02:00:00                            0   \n",
       "2015-05-02 03:00:00                            0   \n",
       "2015-05-02 04:00:00                            0   \n",
       "...                                          ...   \n",
       "2015-10-24 08:00:00                          100   \n",
       "2015-10-24 09:00:00                          100   \n",
       "2015-10-24 10:00:00                          100   \n",
       "2015-10-24 11:00:00                          100   \n",
       "2015-10-24 12:00:00                          100   \n",
       "\n",
       "                     shortwave_radiation_backwards_sfc  ...  \\\n",
       "Time                                                    ...   \n",
       "2015-05-02 00:00:00                               0.00  ...   \n",
       "2015-05-02 01:00:00                               1.78  ...   \n",
       "2015-05-02 02:00:00                             108.58  ...   \n",
       "2015-05-02 03:00:00                             258.10  ...   \n",
       "2015-05-02 04:00:00                             375.58  ...   \n",
       "...                                                ...  ...   \n",
       "2015-10-24 08:00:00                             257.21  ...   \n",
       "2015-10-24 09:00:00                             210.04  ...   \n",
       "2015-10-24 10:00:00                             113.92  ...   \n",
       "2015-10-24 11:00:00                             186.90  ...   \n",
       "2015-10-24 12:00:00                             172.66  ...   \n",
       "\n",
       "                     wind_direction_10_m_above_gnd  wind_speed_80_m_above_gnd  \\\n",
       "Time                                                                            \n",
       "2015-05-02 00:00:00                         312.71                       9.36   \n",
       "2015-05-02 01:00:00                         294.78                       5.99   \n",
       "2015-05-02 02:00:00                         270.00                       3.89   \n",
       "2015-05-02 03:00:00                         323.13                       3.55   \n",
       "2015-05-02 04:00:00                          10.01                       6.76   \n",
       "...                                            ...                        ...   \n",
       "2015-10-24 08:00:00                         285.42                      25.50   \n",
       "2015-10-24 09:00:00                           6.91                      13.00   \n",
       "2015-10-24 10:00:00                           2.29                       8.71   \n",
       "2015-10-24 11:00:00                          11.31                       6.29   \n",
       "2015-10-24 12:00:00                          12.72                      12.07   \n",
       "\n",
       "                     wind_direction_80_m_above_gnd  wind_speed_900_mb  \\\n",
       "Time                                                                    \n",
       "2015-05-02 00:00:00                          22.62               6.62   \n",
       "2015-05-02 01:00:00                          32.74               4.61   \n",
       "2015-05-02 02:00:00                          56.31               3.76   \n",
       "2015-05-02 03:00:00                          23.96               3.08   \n",
       "2015-05-02 04:00:00                          25.20               6.62   \n",
       "...                                            ...                ...   \n",
       "2015-10-24 08:00:00                         283.06              24.01   \n",
       "2015-10-24 09:00:00                           4.76              11.61   \n",
       "2015-10-24 10:00:00                         352.87               7.95   \n",
       "2015-10-24 11:00:00                          13.24               5.94   \n",
       "2015-10-24 12:00:00                          17.35              11.38   \n",
       "\n",
       "                     wind_direction_900_mb  wind_gust_10_m_above_gnd  \\\n",
       "Time                                                                   \n",
       "2015-05-02 00:00:00                 337.62                     24.48   \n",
       "2015-05-02 01:00:00                 321.34                     21.96   \n",
       "2015-05-02 02:00:00                 286.70                     14.04   \n",
       "2015-05-02 03:00:00                 339.44                     19.80   \n",
       "2015-05-02 04:00:00                  22.38                     16.56   \n",
       "...                                    ...                       ...   \n",
       "2015-10-24 08:00:00                 282.99                     25.20   \n",
       "2015-10-24 09:00:00                   7.13                     10.44   \n",
       "2015-10-24 10:00:00                 354.81                     22.32   \n",
       "2015-10-24 11:00:00                  14.04                     15.48   \n",
       "2015-10-24 12:00:00                  18.43                     16.20   \n",
       "\n",
       "                     angle_of_incidence     zenith    azimuth  \\\n",
       "Time                                                            \n",
       "2015-05-02 00:00:00           58.753108  83.237322  128.33543   \n",
       "2015-05-02 01:00:00           45.408585  75.143041  139.65530   \n",
       "2015-05-02 02:00:00           32.848282  68.820648  152.53769   \n",
       "2015-05-02 03:00:00           22.699288  64.883536  166.90159   \n",
       "2015-05-02 04:00:00           19.199908  63.795208  182.13526   \n",
       "...                                 ...        ...        ...   \n",
       "2015-10-24 08:00:00           22.700907  64.952098  167.06794   \n",
       "2015-10-24 09:00:00           19.307487  63.895118  182.28247   \n",
       "2015-10-24 10:00:00           25.249506  65.827032  197.33868   \n",
       "2015-10-24 11:00:00           36.361161  70.496313  211.30027   \n",
       "2015-10-24 12:00:00           48.452849  76.919574  223.04931   \n",
       "\n",
       "                     generated_power_kw  \n",
       "Time                                     \n",
       "2015-05-02 00:00:00          454.100950  \n",
       "2015-05-02 01:00:00         1411.999400  \n",
       "2015-05-02 02:00:00         2214.849300  \n",
       "2015-05-02 03:00:00         2527.609200  \n",
       "2015-05-02 04:00:00         2640.203400  \n",
       "...                                 ...  \n",
       "2015-10-24 08:00:00          173.410560  \n",
       "2015-10-24 09:00:00          403.792220  \n",
       "2015-10-24 10:00:00          158.367780  \n",
       "2015-10-24 11:00:00          126.953060  \n",
       "2015-10-24 12:00:00           20.055031  \n",
       "\n",
       "[4213 rows x 21 columns]"
      ]
     },
     "execution_count": 149,
     "metadata": {},
     "output_type": "execute_result"
    }
   ],
   "source": [
    "dfnew"
   ]
  },
  {
   "cell_type": "code",
   "execution_count": 150,
   "id": "3beb9294",
   "metadata": {},
   "outputs": [],
   "source": [
    "rs = dfnew.resample(\"2H\")"
   ]
  },
  {
   "cell_type": "code",
   "execution_count": 151,
   "id": "4de32d52",
   "metadata": {},
   "outputs": [
    {
     "data": {
      "text/html": [
       "<div>\n",
       "<style scoped>\n",
       "    .dataframe tbody tr th:only-of-type {\n",
       "        vertical-align: middle;\n",
       "    }\n",
       "\n",
       "    .dataframe tbody tr th {\n",
       "        vertical-align: top;\n",
       "    }\n",
       "\n",
       "    .dataframe thead th {\n",
       "        text-align: right;\n",
       "    }\n",
       "</style>\n",
       "<table border=\"1\" class=\"dataframe\">\n",
       "  <thead>\n",
       "    <tr style=\"text-align: right;\">\n",
       "      <th></th>\n",
       "      <th>temperature_2_m_above_gnd</th>\n",
       "      <th>relative_humidity_2_m_above_gnd</th>\n",
       "      <th>mean_sea_level_pressure_MSL</th>\n",
       "      <th>total_precipitation_sfc</th>\n",
       "      <th>snowfall_amount_sfc</th>\n",
       "      <th>total_cloud_cover_sfc</th>\n",
       "      <th>high_cloud_cover_high_cld_lay</th>\n",
       "      <th>medium_cloud_cover_mid_cld_lay</th>\n",
       "      <th>low_cloud_cover_low_cld_lay</th>\n",
       "      <th>shortwave_radiation_backwards_sfc</th>\n",
       "      <th>...</th>\n",
       "      <th>wind_direction_10_m_above_gnd</th>\n",
       "      <th>wind_speed_80_m_above_gnd</th>\n",
       "      <th>wind_direction_80_m_above_gnd</th>\n",
       "      <th>wind_speed_900_mb</th>\n",
       "      <th>wind_direction_900_mb</th>\n",
       "      <th>wind_gust_10_m_above_gnd</th>\n",
       "      <th>angle_of_incidence</th>\n",
       "      <th>zenith</th>\n",
       "      <th>azimuth</th>\n",
       "      <th>generated_power_kw</th>\n",
       "    </tr>\n",
       "    <tr>\n",
       "      <th>Time</th>\n",
       "      <th></th>\n",
       "      <th></th>\n",
       "      <th></th>\n",
       "      <th></th>\n",
       "      <th></th>\n",
       "      <th></th>\n",
       "      <th></th>\n",
       "      <th></th>\n",
       "      <th></th>\n",
       "      <th></th>\n",
       "      <th></th>\n",
       "      <th></th>\n",
       "      <th></th>\n",
       "      <th></th>\n",
       "      <th></th>\n",
       "      <th></th>\n",
       "      <th></th>\n",
       "      <th></th>\n",
       "      <th></th>\n",
       "      <th></th>\n",
       "      <th></th>\n",
       "    </tr>\n",
       "  </thead>\n",
       "  <tbody>\n",
       "    <tr>\n",
       "      <th>2015-05-02 00:00:00</th>\n",
       "      <td>2.240</td>\n",
       "      <td>29.0</td>\n",
       "      <td>1035.05</td>\n",
       "      <td>0.00</td>\n",
       "      <td>0.0</td>\n",
       "      <td>0.0</td>\n",
       "      <td>0.0</td>\n",
       "      <td>0.0</td>\n",
       "      <td>0.0</td>\n",
       "      <td>0.890</td>\n",
       "      <td>...</td>\n",
       "      <td>303.745</td>\n",
       "      <td>7.675</td>\n",
       "      <td>27.680</td>\n",
       "      <td>5.615</td>\n",
       "      <td>329.480</td>\n",
       "      <td>23.22</td>\n",
       "      <td>52.080846</td>\n",
       "      <td>79.190181</td>\n",
       "      <td>133.995365</td>\n",
       "      <td>933.050175</td>\n",
       "    </tr>\n",
       "    <tr>\n",
       "      <th>2015-05-02 02:00:00</th>\n",
       "      <td>4.735</td>\n",
       "      <td>31.5</td>\n",
       "      <td>1035.40</td>\n",
       "      <td>0.00</td>\n",
       "      <td>0.0</td>\n",
       "      <td>0.0</td>\n",
       "      <td>0.0</td>\n",
       "      <td>0.0</td>\n",
       "      <td>0.0</td>\n",
       "      <td>183.340</td>\n",
       "      <td>...</td>\n",
       "      <td>296.565</td>\n",
       "      <td>3.720</td>\n",
       "      <td>40.135</td>\n",
       "      <td>3.420</td>\n",
       "      <td>313.070</td>\n",
       "      <td>16.92</td>\n",
       "      <td>27.773785</td>\n",
       "      <td>66.852092</td>\n",
       "      <td>159.719640</td>\n",
       "      <td>2371.229250</td>\n",
       "    </tr>\n",
       "    <tr>\n",
       "      <th>2015-05-02 04:00:00</th>\n",
       "      <td>8.210</td>\n",
       "      <td>28.0</td>\n",
       "      <td>1034.50</td>\n",
       "      <td>0.00</td>\n",
       "      <td>0.0</td>\n",
       "      <td>0.0</td>\n",
       "      <td>0.0</td>\n",
       "      <td>0.0</td>\n",
       "      <td>0.0</td>\n",
       "      <td>412.515</td>\n",
       "      <td>...</td>\n",
       "      <td>16.820</td>\n",
       "      <td>6.930</td>\n",
       "      <td>27.835</td>\n",
       "      <td>6.770</td>\n",
       "      <td>25.140</td>\n",
       "      <td>16.92</td>\n",
       "      <td>22.144037</td>\n",
       "      <td>64.748034</td>\n",
       "      <td>189.677940</td>\n",
       "      <td>2593.142500</td>\n",
       "    </tr>\n",
       "    <tr>\n",
       "      <th>2015-05-02 06:00:00</th>\n",
       "      <td>9.895</td>\n",
       "      <td>27.5</td>\n",
       "      <td>1034.05</td>\n",
       "      <td>0.00</td>\n",
       "      <td>0.0</td>\n",
       "      <td>0.0</td>\n",
       "      <td>0.0</td>\n",
       "      <td>0.0</td>\n",
       "      <td>0.0</td>\n",
       "      <td>453.455</td>\n",
       "      <td>...</td>\n",
       "      <td>19.880</td>\n",
       "      <td>7.120</td>\n",
       "      <td>24.325</td>\n",
       "      <td>6.980</td>\n",
       "      <td>21.635</td>\n",
       "      <td>11.88</td>\n",
       "      <td>42.635261</td>\n",
       "      <td>73.790139</td>\n",
       "      <td>217.435315</td>\n",
       "      <td>1667.075450</td>\n",
       "    </tr>\n",
       "    <tr>\n",
       "      <th>2015-05-02 08:00:00</th>\n",
       "      <td>7.960</td>\n",
       "      <td>39.5</td>\n",
       "      <td>1034.50</td>\n",
       "      <td>0.00</td>\n",
       "      <td>0.0</td>\n",
       "      <td>0.0</td>\n",
       "      <td>0.0</td>\n",
       "      <td>0.0</td>\n",
       "      <td>0.0</td>\n",
       "      <td>291.030</td>\n",
       "      <td>...</td>\n",
       "      <td>183.290</td>\n",
       "      <td>11.375</td>\n",
       "      <td>3.795</td>\n",
       "      <td>10.835</td>\n",
       "      <td>3.955</td>\n",
       "      <td>11.88</td>\n",
       "      <td>84.118850</td>\n",
       "      <td>103.524295</td>\n",
       "      <td>225.285320</td>\n",
       "      <td>48.242139</td>\n",
       "    </tr>\n",
       "    <tr>\n",
       "      <th>...</th>\n",
       "      <td>...</td>\n",
       "      <td>...</td>\n",
       "      <td>...</td>\n",
       "      <td>...</td>\n",
       "      <td>...</td>\n",
       "      <td>...</td>\n",
       "      <td>...</td>\n",
       "      <td>...</td>\n",
       "      <td>...</td>\n",
       "      <td>...</td>\n",
       "      <td>...</td>\n",
       "      <td>...</td>\n",
       "      <td>...</td>\n",
       "      <td>...</td>\n",
       "      <td>...</td>\n",
       "      <td>...</td>\n",
       "      <td>...</td>\n",
       "      <td>...</td>\n",
       "      <td>...</td>\n",
       "      <td>...</td>\n",
       "      <td>...</td>\n",
       "    </tr>\n",
       "    <tr>\n",
       "      <th>2015-10-24 04:00:00</th>\n",
       "      <td>1.930</td>\n",
       "      <td>96.5</td>\n",
       "      <td>1026.60</td>\n",
       "      <td>0.00</td>\n",
       "      <td>0.0</td>\n",
       "      <td>40.0</td>\n",
       "      <td>23.0</td>\n",
       "      <td>40.0</td>\n",
       "      <td>0.0</td>\n",
       "      <td>1.335</td>\n",
       "      <td>...</td>\n",
       "      <td>230.145</td>\n",
       "      <td>18.140</td>\n",
       "      <td>249.420</td>\n",
       "      <td>14.730</td>\n",
       "      <td>225.050</td>\n",
       "      <td>25.74</td>\n",
       "      <td>65.417816</td>\n",
       "      <td>87.871359</td>\n",
       "      <td>123.485335</td>\n",
       "      <td>71.981529</td>\n",
       "    </tr>\n",
       "    <tr>\n",
       "      <th>2015-10-24 06:00:00</th>\n",
       "      <td>6.260</td>\n",
       "      <td>75.0</td>\n",
       "      <td>1026.70</td>\n",
       "      <td>0.00</td>\n",
       "      <td>0.0</td>\n",
       "      <td>100.0</td>\n",
       "      <td>61.0</td>\n",
       "      <td>51.0</td>\n",
       "      <td>100.0</td>\n",
       "      <td>123.710</td>\n",
       "      <td>...</td>\n",
       "      <td>279.215</td>\n",
       "      <td>13.830</td>\n",
       "      <td>281.890</td>\n",
       "      <td>9.395</td>\n",
       "      <td>274.935</td>\n",
       "      <td>12.06</td>\n",
       "      <td>39.045016</td>\n",
       "      <td>72.004143</td>\n",
       "      <td>146.268535</td>\n",
       "      <td>456.446805</td>\n",
       "    </tr>\n",
       "    <tr>\n",
       "      <th>2015-10-24 08:00:00</th>\n",
       "      <td>8.130</td>\n",
       "      <td>78.0</td>\n",
       "      <td>1025.60</td>\n",
       "      <td>0.00</td>\n",
       "      <td>0.0</td>\n",
       "      <td>100.0</td>\n",
       "      <td>89.5</td>\n",
       "      <td>100.0</td>\n",
       "      <td>100.0</td>\n",
       "      <td>233.625</td>\n",
       "      <td>...</td>\n",
       "      <td>146.165</td>\n",
       "      <td>19.250</td>\n",
       "      <td>143.910</td>\n",
       "      <td>17.810</td>\n",
       "      <td>145.060</td>\n",
       "      <td>17.82</td>\n",
       "      <td>21.004197</td>\n",
       "      <td>64.423608</td>\n",
       "      <td>174.675205</td>\n",
       "      <td>288.601390</td>\n",
       "    </tr>\n",
       "    <tr>\n",
       "      <th>2015-10-24 10:00:00</th>\n",
       "      <td>7.760</td>\n",
       "      <td>85.5</td>\n",
       "      <td>1025.90</td>\n",
       "      <td>0.05</td>\n",
       "      <td>0.0</td>\n",
       "      <td>100.0</td>\n",
       "      <td>73.5</td>\n",
       "      <td>83.0</td>\n",
       "      <td>100.0</td>\n",
       "      <td>150.410</td>\n",
       "      <td>...</td>\n",
       "      <td>6.800</td>\n",
       "      <td>7.500</td>\n",
       "      <td>183.055</td>\n",
       "      <td>6.945</td>\n",
       "      <td>184.425</td>\n",
       "      <td>18.90</td>\n",
       "      <td>30.805334</td>\n",
       "      <td>68.161673</td>\n",
       "      <td>204.319475</td>\n",
       "      <td>142.660420</td>\n",
       "    </tr>\n",
       "    <tr>\n",
       "      <th>2015-10-24 12:00:00</th>\n",
       "      <td>8.000</td>\n",
       "      <td>80.0</td>\n",
       "      <td>1025.30</td>\n",
       "      <td>0.00</td>\n",
       "      <td>0.0</td>\n",
       "      <td>100.0</td>\n",
       "      <td>100.0</td>\n",
       "      <td>100.0</td>\n",
       "      <td>100.0</td>\n",
       "      <td>172.660</td>\n",
       "      <td>...</td>\n",
       "      <td>12.720</td>\n",
       "      <td>12.070</td>\n",
       "      <td>17.350</td>\n",
       "      <td>11.380</td>\n",
       "      <td>18.430</td>\n",
       "      <td>16.20</td>\n",
       "      <td>48.452849</td>\n",
       "      <td>76.919574</td>\n",
       "      <td>223.049310</td>\n",
       "      <td>20.055031</td>\n",
       "    </tr>\n",
       "  </tbody>\n",
       "</table>\n",
       "<p>2107 rows × 21 columns</p>\n",
       "</div>"
      ],
      "text/plain": [
       "                     temperature_2_m_above_gnd  \\\n",
       "Time                                             \n",
       "2015-05-02 00:00:00                      2.240   \n",
       "2015-05-02 02:00:00                      4.735   \n",
       "2015-05-02 04:00:00                      8.210   \n",
       "2015-05-02 06:00:00                      9.895   \n",
       "2015-05-02 08:00:00                      7.960   \n",
       "...                                        ...   \n",
       "2015-10-24 04:00:00                      1.930   \n",
       "2015-10-24 06:00:00                      6.260   \n",
       "2015-10-24 08:00:00                      8.130   \n",
       "2015-10-24 10:00:00                      7.760   \n",
       "2015-10-24 12:00:00                      8.000   \n",
       "\n",
       "                     relative_humidity_2_m_above_gnd  \\\n",
       "Time                                                   \n",
       "2015-05-02 00:00:00                             29.0   \n",
       "2015-05-02 02:00:00                             31.5   \n",
       "2015-05-02 04:00:00                             28.0   \n",
       "2015-05-02 06:00:00                             27.5   \n",
       "2015-05-02 08:00:00                             39.5   \n",
       "...                                              ...   \n",
       "2015-10-24 04:00:00                             96.5   \n",
       "2015-10-24 06:00:00                             75.0   \n",
       "2015-10-24 08:00:00                             78.0   \n",
       "2015-10-24 10:00:00                             85.5   \n",
       "2015-10-24 12:00:00                             80.0   \n",
       "\n",
       "                     mean_sea_level_pressure_MSL  total_precipitation_sfc  \\\n",
       "Time                                                                        \n",
       "2015-05-02 00:00:00                      1035.05                     0.00   \n",
       "2015-05-02 02:00:00                      1035.40                     0.00   \n",
       "2015-05-02 04:00:00                      1034.50                     0.00   \n",
       "2015-05-02 06:00:00                      1034.05                     0.00   \n",
       "2015-05-02 08:00:00                      1034.50                     0.00   \n",
       "...                                          ...                      ...   \n",
       "2015-10-24 04:00:00                      1026.60                     0.00   \n",
       "2015-10-24 06:00:00                      1026.70                     0.00   \n",
       "2015-10-24 08:00:00                      1025.60                     0.00   \n",
       "2015-10-24 10:00:00                      1025.90                     0.05   \n",
       "2015-10-24 12:00:00                      1025.30                     0.00   \n",
       "\n",
       "                     snowfall_amount_sfc  total_cloud_cover_sfc  \\\n",
       "Time                                                              \n",
       "2015-05-02 00:00:00                  0.0                    0.0   \n",
       "2015-05-02 02:00:00                  0.0                    0.0   \n",
       "2015-05-02 04:00:00                  0.0                    0.0   \n",
       "2015-05-02 06:00:00                  0.0                    0.0   \n",
       "2015-05-02 08:00:00                  0.0                    0.0   \n",
       "...                                  ...                    ...   \n",
       "2015-10-24 04:00:00                  0.0                   40.0   \n",
       "2015-10-24 06:00:00                  0.0                  100.0   \n",
       "2015-10-24 08:00:00                  0.0                  100.0   \n",
       "2015-10-24 10:00:00                  0.0                  100.0   \n",
       "2015-10-24 12:00:00                  0.0                  100.0   \n",
       "\n",
       "                     high_cloud_cover_high_cld_lay  \\\n",
       "Time                                                 \n",
       "2015-05-02 00:00:00                            0.0   \n",
       "2015-05-02 02:00:00                            0.0   \n",
       "2015-05-02 04:00:00                            0.0   \n",
       "2015-05-02 06:00:00                            0.0   \n",
       "2015-05-02 08:00:00                            0.0   \n",
       "...                                            ...   \n",
       "2015-10-24 04:00:00                           23.0   \n",
       "2015-10-24 06:00:00                           61.0   \n",
       "2015-10-24 08:00:00                           89.5   \n",
       "2015-10-24 10:00:00                           73.5   \n",
       "2015-10-24 12:00:00                          100.0   \n",
       "\n",
       "                     medium_cloud_cover_mid_cld_lay  \\\n",
       "Time                                                  \n",
       "2015-05-02 00:00:00                             0.0   \n",
       "2015-05-02 02:00:00                             0.0   \n",
       "2015-05-02 04:00:00                             0.0   \n",
       "2015-05-02 06:00:00                             0.0   \n",
       "2015-05-02 08:00:00                             0.0   \n",
       "...                                             ...   \n",
       "2015-10-24 04:00:00                            40.0   \n",
       "2015-10-24 06:00:00                            51.0   \n",
       "2015-10-24 08:00:00                           100.0   \n",
       "2015-10-24 10:00:00                            83.0   \n",
       "2015-10-24 12:00:00                           100.0   \n",
       "\n",
       "                     low_cloud_cover_low_cld_lay  \\\n",
       "Time                                               \n",
       "2015-05-02 00:00:00                          0.0   \n",
       "2015-05-02 02:00:00                          0.0   \n",
       "2015-05-02 04:00:00                          0.0   \n",
       "2015-05-02 06:00:00                          0.0   \n",
       "2015-05-02 08:00:00                          0.0   \n",
       "...                                          ...   \n",
       "2015-10-24 04:00:00                          0.0   \n",
       "2015-10-24 06:00:00                        100.0   \n",
       "2015-10-24 08:00:00                        100.0   \n",
       "2015-10-24 10:00:00                        100.0   \n",
       "2015-10-24 12:00:00                        100.0   \n",
       "\n",
       "                     shortwave_radiation_backwards_sfc  ...  \\\n",
       "Time                                                    ...   \n",
       "2015-05-02 00:00:00                              0.890  ...   \n",
       "2015-05-02 02:00:00                            183.340  ...   \n",
       "2015-05-02 04:00:00                            412.515  ...   \n",
       "2015-05-02 06:00:00                            453.455  ...   \n",
       "2015-05-02 08:00:00                            291.030  ...   \n",
       "...                                                ...  ...   \n",
       "2015-10-24 04:00:00                              1.335  ...   \n",
       "2015-10-24 06:00:00                            123.710  ...   \n",
       "2015-10-24 08:00:00                            233.625  ...   \n",
       "2015-10-24 10:00:00                            150.410  ...   \n",
       "2015-10-24 12:00:00                            172.660  ...   \n",
       "\n",
       "                     wind_direction_10_m_above_gnd  wind_speed_80_m_above_gnd  \\\n",
       "Time                                                                            \n",
       "2015-05-02 00:00:00                        303.745                      7.675   \n",
       "2015-05-02 02:00:00                        296.565                      3.720   \n",
       "2015-05-02 04:00:00                         16.820                      6.930   \n",
       "2015-05-02 06:00:00                         19.880                      7.120   \n",
       "2015-05-02 08:00:00                        183.290                     11.375   \n",
       "...                                            ...                        ...   \n",
       "2015-10-24 04:00:00                        230.145                     18.140   \n",
       "2015-10-24 06:00:00                        279.215                     13.830   \n",
       "2015-10-24 08:00:00                        146.165                     19.250   \n",
       "2015-10-24 10:00:00                          6.800                      7.500   \n",
       "2015-10-24 12:00:00                         12.720                     12.070   \n",
       "\n",
       "                     wind_direction_80_m_above_gnd  wind_speed_900_mb  \\\n",
       "Time                                                                    \n",
       "2015-05-02 00:00:00                         27.680              5.615   \n",
       "2015-05-02 02:00:00                         40.135              3.420   \n",
       "2015-05-02 04:00:00                         27.835              6.770   \n",
       "2015-05-02 06:00:00                         24.325              6.980   \n",
       "2015-05-02 08:00:00                          3.795             10.835   \n",
       "...                                            ...                ...   \n",
       "2015-10-24 04:00:00                        249.420             14.730   \n",
       "2015-10-24 06:00:00                        281.890              9.395   \n",
       "2015-10-24 08:00:00                        143.910             17.810   \n",
       "2015-10-24 10:00:00                        183.055              6.945   \n",
       "2015-10-24 12:00:00                         17.350             11.380   \n",
       "\n",
       "                     wind_direction_900_mb  wind_gust_10_m_above_gnd  \\\n",
       "Time                                                                   \n",
       "2015-05-02 00:00:00                329.480                     23.22   \n",
       "2015-05-02 02:00:00                313.070                     16.92   \n",
       "2015-05-02 04:00:00                 25.140                     16.92   \n",
       "2015-05-02 06:00:00                 21.635                     11.88   \n",
       "2015-05-02 08:00:00                  3.955                     11.88   \n",
       "...                                    ...                       ...   \n",
       "2015-10-24 04:00:00                225.050                     25.74   \n",
       "2015-10-24 06:00:00                274.935                     12.06   \n",
       "2015-10-24 08:00:00                145.060                     17.82   \n",
       "2015-10-24 10:00:00                184.425                     18.90   \n",
       "2015-10-24 12:00:00                 18.430                     16.20   \n",
       "\n",
       "                     angle_of_incidence      zenith     azimuth  \\\n",
       "Time                                                              \n",
       "2015-05-02 00:00:00           52.080846   79.190181  133.995365   \n",
       "2015-05-02 02:00:00           27.773785   66.852092  159.719640   \n",
       "2015-05-02 04:00:00           22.144037   64.748034  189.677940   \n",
       "2015-05-02 06:00:00           42.635261   73.790139  217.435315   \n",
       "2015-05-02 08:00:00           84.118850  103.524295  225.285320   \n",
       "...                                 ...         ...         ...   \n",
       "2015-10-24 04:00:00           65.417816   87.871359  123.485335   \n",
       "2015-10-24 06:00:00           39.045016   72.004143  146.268535   \n",
       "2015-10-24 08:00:00           21.004197   64.423608  174.675205   \n",
       "2015-10-24 10:00:00           30.805334   68.161673  204.319475   \n",
       "2015-10-24 12:00:00           48.452849   76.919574  223.049310   \n",
       "\n",
       "                     generated_power_kw  \n",
       "Time                                     \n",
       "2015-05-02 00:00:00          933.050175  \n",
       "2015-05-02 02:00:00         2371.229250  \n",
       "2015-05-02 04:00:00         2593.142500  \n",
       "2015-05-02 06:00:00         1667.075450  \n",
       "2015-05-02 08:00:00           48.242139  \n",
       "...                                 ...  \n",
       "2015-10-24 04:00:00           71.981529  \n",
       "2015-10-24 06:00:00          456.446805  \n",
       "2015-10-24 08:00:00          288.601390  \n",
       "2015-10-24 10:00:00          142.660420  \n",
       "2015-10-24 12:00:00           20.055031  \n",
       "\n",
       "[2107 rows x 21 columns]"
      ]
     },
     "execution_count": 151,
     "metadata": {},
     "output_type": "execute_result"
    }
   ],
   "source": [
    "rs.mean()"
   ]
  },
  {
   "cell_type": "code",
   "execution_count": 152,
   "id": "25457ca5",
   "metadata": {},
   "outputs": [
    {
     "data": {
      "text/plain": [
       "Time\n",
       "2015-05-02 00:00:00    2.240\n",
       "2015-05-02 02:00:00    4.735\n",
       "2015-05-02 04:00:00    8.210\n",
       "2015-05-02 06:00:00    9.895\n",
       "2015-05-02 08:00:00    7.960\n",
       "                       ...  \n",
       "2015-10-24 04:00:00    1.930\n",
       "2015-10-24 06:00:00    6.260\n",
       "2015-10-24 08:00:00    8.130\n",
       "2015-10-24 10:00:00    7.760\n",
       "2015-10-24 12:00:00    8.000\n",
       "Freq: 2H, Name: temperature_2_m_above_gnd, Length: 2107, dtype: float64"
      ]
     },
     "execution_count": 152,
     "metadata": {},
     "output_type": "execute_result"
    }
   ],
   "source": [
    "rs[\"temperature_2_m_above_gnd\"].mean()"
   ]
  },
  {
   "cell_type": "code",
   "execution_count": 153,
   "id": "85adf249",
   "metadata": {},
   "outputs": [
    {
     "data": {
      "text/html": [
       "<div>\n",
       "<style scoped>\n",
       "    .dataframe tbody tr th:only-of-type {\n",
       "        vertical-align: middle;\n",
       "    }\n",
       "\n",
       "    .dataframe tbody tr th {\n",
       "        vertical-align: top;\n",
       "    }\n",
       "\n",
       "    .dataframe thead th {\n",
       "        text-align: right;\n",
       "    }\n",
       "</style>\n",
       "<table border=\"1\" class=\"dataframe\">\n",
       "  <thead>\n",
       "    <tr style=\"text-align: right;\">\n",
       "      <th></th>\n",
       "      <th>temperature_2_m_above_gnd</th>\n",
       "      <th>relative_humidity_2_m_above_gnd</th>\n",
       "    </tr>\n",
       "    <tr>\n",
       "      <th>Time</th>\n",
       "      <th></th>\n",
       "      <th></th>\n",
       "    </tr>\n",
       "  </thead>\n",
       "  <tbody>\n",
       "    <tr>\n",
       "      <th>2015-05-02 00:00:00</th>\n",
       "      <td>2.240</td>\n",
       "      <td>29.0</td>\n",
       "    </tr>\n",
       "    <tr>\n",
       "      <th>2015-05-02 02:00:00</th>\n",
       "      <td>4.735</td>\n",
       "      <td>31.5</td>\n",
       "    </tr>\n",
       "    <tr>\n",
       "      <th>2015-05-02 04:00:00</th>\n",
       "      <td>8.210</td>\n",
       "      <td>28.0</td>\n",
       "    </tr>\n",
       "    <tr>\n",
       "      <th>2015-05-02 06:00:00</th>\n",
       "      <td>9.895</td>\n",
       "      <td>27.5</td>\n",
       "    </tr>\n",
       "    <tr>\n",
       "      <th>2015-05-02 08:00:00</th>\n",
       "      <td>7.960</td>\n",
       "      <td>39.5</td>\n",
       "    </tr>\n",
       "    <tr>\n",
       "      <th>...</th>\n",
       "      <td>...</td>\n",
       "      <td>...</td>\n",
       "    </tr>\n",
       "    <tr>\n",
       "      <th>2015-10-24 04:00:00</th>\n",
       "      <td>1.930</td>\n",
       "      <td>96.5</td>\n",
       "    </tr>\n",
       "    <tr>\n",
       "      <th>2015-10-24 06:00:00</th>\n",
       "      <td>6.260</td>\n",
       "      <td>75.0</td>\n",
       "    </tr>\n",
       "    <tr>\n",
       "      <th>2015-10-24 08:00:00</th>\n",
       "      <td>8.130</td>\n",
       "      <td>78.0</td>\n",
       "    </tr>\n",
       "    <tr>\n",
       "      <th>2015-10-24 10:00:00</th>\n",
       "      <td>7.760</td>\n",
       "      <td>85.5</td>\n",
       "    </tr>\n",
       "    <tr>\n",
       "      <th>2015-10-24 12:00:00</th>\n",
       "      <td>8.000</td>\n",
       "      <td>80.0</td>\n",
       "    </tr>\n",
       "  </tbody>\n",
       "</table>\n",
       "<p>2107 rows × 2 columns</p>\n",
       "</div>"
      ],
      "text/plain": [
       "                     temperature_2_m_above_gnd  \\\n",
       "Time                                             \n",
       "2015-05-02 00:00:00                      2.240   \n",
       "2015-05-02 02:00:00                      4.735   \n",
       "2015-05-02 04:00:00                      8.210   \n",
       "2015-05-02 06:00:00                      9.895   \n",
       "2015-05-02 08:00:00                      7.960   \n",
       "...                                        ...   \n",
       "2015-10-24 04:00:00                      1.930   \n",
       "2015-10-24 06:00:00                      6.260   \n",
       "2015-10-24 08:00:00                      8.130   \n",
       "2015-10-24 10:00:00                      7.760   \n",
       "2015-10-24 12:00:00                      8.000   \n",
       "\n",
       "                     relative_humidity_2_m_above_gnd  \n",
       "Time                                                  \n",
       "2015-05-02 00:00:00                             29.0  \n",
       "2015-05-02 02:00:00                             31.5  \n",
       "2015-05-02 04:00:00                             28.0  \n",
       "2015-05-02 06:00:00                             27.5  \n",
       "2015-05-02 08:00:00                             39.5  \n",
       "...                                              ...  \n",
       "2015-10-24 04:00:00                             96.5  \n",
       "2015-10-24 06:00:00                             75.0  \n",
       "2015-10-24 08:00:00                             78.0  \n",
       "2015-10-24 10:00:00                             85.5  \n",
       "2015-10-24 12:00:00                             80.0  \n",
       "\n",
       "[2107 rows x 2 columns]"
      ]
     },
     "execution_count": 153,
     "metadata": {},
     "output_type": "execute_result"
    }
   ],
   "source": [
    "rs[[\"temperature_2_m_above_gnd\",\"relative_humidity_2_m_above_gnd\"]].mean()"
   ]
  },
  {
   "cell_type": "code",
   "execution_count": 154,
   "id": "659bfa5d",
   "metadata": {},
   "outputs": [
    {
     "data": {
      "text/html": [
       "<div>\n",
       "<style scoped>\n",
       "    .dataframe tbody tr th:only-of-type {\n",
       "        vertical-align: middle;\n",
       "    }\n",
       "\n",
       "    .dataframe tbody tr th {\n",
       "        vertical-align: top;\n",
       "    }\n",
       "\n",
       "    .dataframe thead th {\n",
       "        text-align: right;\n",
       "    }\n",
       "</style>\n",
       "<table border=\"1\" class=\"dataframe\">\n",
       "  <thead>\n",
       "    <tr style=\"text-align: right;\">\n",
       "      <th></th>\n",
       "      <th>sum</th>\n",
       "      <th>mean</th>\n",
       "      <th>std</th>\n",
       "    </tr>\n",
       "    <tr>\n",
       "      <th>Time</th>\n",
       "      <th></th>\n",
       "      <th></th>\n",
       "      <th></th>\n",
       "    </tr>\n",
       "  </thead>\n",
       "  <tbody>\n",
       "    <tr>\n",
       "      <th>2015-05-02 00:00:00</th>\n",
       "      <td>4.48</td>\n",
       "      <td>2.240</td>\n",
       "      <td>0.098995</td>\n",
       "    </tr>\n",
       "    <tr>\n",
       "      <th>2015-05-02 02:00:00</th>\n",
       "      <td>9.47</td>\n",
       "      <td>4.735</td>\n",
       "      <td>1.534422</td>\n",
       "    </tr>\n",
       "    <tr>\n",
       "      <th>2015-05-02 04:00:00</th>\n",
       "      <td>16.42</td>\n",
       "      <td>8.210</td>\n",
       "      <td>0.678823</td>\n",
       "    </tr>\n",
       "    <tr>\n",
       "      <th>2015-05-02 06:00:00</th>\n",
       "      <td>19.79</td>\n",
       "      <td>9.895</td>\n",
       "      <td>0.247487</td>\n",
       "    </tr>\n",
       "    <tr>\n",
       "      <th>2015-05-02 08:00:00</th>\n",
       "      <td>15.92</td>\n",
       "      <td>7.960</td>\n",
       "      <td>2.008183</td>\n",
       "    </tr>\n",
       "    <tr>\n",
       "      <th>...</th>\n",
       "      <td>...</td>\n",
       "      <td>...</td>\n",
       "      <td>...</td>\n",
       "    </tr>\n",
       "    <tr>\n",
       "      <th>2015-10-24 04:00:00</th>\n",
       "      <td>3.86</td>\n",
       "      <td>1.930</td>\n",
       "      <td>1.697056</td>\n",
       "    </tr>\n",
       "    <tr>\n",
       "      <th>2015-10-24 06:00:00</th>\n",
       "      <td>12.52</td>\n",
       "      <td>6.260</td>\n",
       "      <td>1.767767</td>\n",
       "    </tr>\n",
       "    <tr>\n",
       "      <th>2015-10-24 08:00:00</th>\n",
       "      <td>16.26</td>\n",
       "      <td>8.130</td>\n",
       "      <td>0.791960</td>\n",
       "    </tr>\n",
       "    <tr>\n",
       "      <th>2015-10-24 10:00:00</th>\n",
       "      <td>15.52</td>\n",
       "      <td>7.760</td>\n",
       "      <td>0.692965</td>\n",
       "    </tr>\n",
       "    <tr>\n",
       "      <th>2015-10-24 12:00:00</th>\n",
       "      <td>8.00</td>\n",
       "      <td>8.000</td>\n",
       "      <td>NaN</td>\n",
       "    </tr>\n",
       "  </tbody>\n",
       "</table>\n",
       "<p>2107 rows × 3 columns</p>\n",
       "</div>"
      ],
      "text/plain": [
       "                       sum   mean       std\n",
       "Time                                       \n",
       "2015-05-02 00:00:00   4.48  2.240  0.098995\n",
       "2015-05-02 02:00:00   9.47  4.735  1.534422\n",
       "2015-05-02 04:00:00  16.42  8.210  0.678823\n",
       "2015-05-02 06:00:00  19.79  9.895  0.247487\n",
       "2015-05-02 08:00:00  15.92  7.960  2.008183\n",
       "...                    ...    ...       ...\n",
       "2015-10-24 04:00:00   3.86  1.930  1.697056\n",
       "2015-10-24 06:00:00  12.52  6.260  1.767767\n",
       "2015-10-24 08:00:00  16.26  8.130  0.791960\n",
       "2015-10-24 10:00:00  15.52  7.760  0.692965\n",
       "2015-10-24 12:00:00   8.00  8.000       NaN\n",
       "\n",
       "[2107 rows x 3 columns]"
      ]
     },
     "execution_count": 154,
     "metadata": {},
     "output_type": "execute_result"
    }
   ],
   "source": [
    "rs[\"temperature_2_m_above_gnd\"].agg([np.sum, np.mean, np.std])"
   ]
  },
  {
   "cell_type": "code",
   "execution_count": 155,
   "id": "67f77906",
   "metadata": {},
   "outputs": [
    {
     "data": {
      "text/html": [
       "<div>\n",
       "<style scoped>\n",
       "    .dataframe tbody tr th:only-of-type {\n",
       "        vertical-align: middle;\n",
       "    }\n",
       "\n",
       "    .dataframe tbody tr th {\n",
       "        vertical-align: top;\n",
       "    }\n",
       "\n",
       "    .dataframe thead tr th {\n",
       "        text-align: left;\n",
       "    }\n",
       "\n",
       "    .dataframe thead tr:last-of-type th {\n",
       "        text-align: right;\n",
       "    }\n",
       "</style>\n",
       "<table border=\"1\" class=\"dataframe\">\n",
       "  <thead>\n",
       "    <tr>\n",
       "      <th></th>\n",
       "      <th colspan=\"3\" halign=\"left\">temperature_2_m_above_gnd</th>\n",
       "      <th colspan=\"3\" halign=\"left\">relative_humidity_2_m_above_gnd</th>\n",
       "    </tr>\n",
       "    <tr>\n",
       "      <th></th>\n",
       "      <th>sum</th>\n",
       "      <th>mean</th>\n",
       "      <th>std</th>\n",
       "      <th>sum</th>\n",
       "      <th>mean</th>\n",
       "      <th>std</th>\n",
       "    </tr>\n",
       "    <tr>\n",
       "      <th>Time</th>\n",
       "      <th></th>\n",
       "      <th></th>\n",
       "      <th></th>\n",
       "      <th></th>\n",
       "      <th></th>\n",
       "      <th></th>\n",
       "    </tr>\n",
       "  </thead>\n",
       "  <tbody>\n",
       "    <tr>\n",
       "      <th>2015-05-02 00:00:00</th>\n",
       "      <td>4.48</td>\n",
       "      <td>2.240</td>\n",
       "      <td>0.098995</td>\n",
       "      <td>58</td>\n",
       "      <td>29.0</td>\n",
       "      <td>2.828427</td>\n",
       "    </tr>\n",
       "    <tr>\n",
       "      <th>2015-05-02 02:00:00</th>\n",
       "      <td>9.47</td>\n",
       "      <td>4.735</td>\n",
       "      <td>1.534422</td>\n",
       "      <td>63</td>\n",
       "      <td>31.5</td>\n",
       "      <td>2.121320</td>\n",
       "    </tr>\n",
       "    <tr>\n",
       "      <th>2015-05-02 04:00:00</th>\n",
       "      <td>16.42</td>\n",
       "      <td>8.210</td>\n",
       "      <td>0.678823</td>\n",
       "      <td>56</td>\n",
       "      <td>28.0</td>\n",
       "      <td>1.414214</td>\n",
       "    </tr>\n",
       "    <tr>\n",
       "      <th>2015-05-02 06:00:00</th>\n",
       "      <td>19.79</td>\n",
       "      <td>9.895</td>\n",
       "      <td>0.247487</td>\n",
       "      <td>55</td>\n",
       "      <td>27.5</td>\n",
       "      <td>0.707107</td>\n",
       "    </tr>\n",
       "    <tr>\n",
       "      <th>2015-05-02 08:00:00</th>\n",
       "      <td>15.92</td>\n",
       "      <td>7.960</td>\n",
       "      <td>2.008183</td>\n",
       "      <td>79</td>\n",
       "      <td>39.5</td>\n",
       "      <td>10.606602</td>\n",
       "    </tr>\n",
       "    <tr>\n",
       "      <th>...</th>\n",
       "      <td>...</td>\n",
       "      <td>...</td>\n",
       "      <td>...</td>\n",
       "      <td>...</td>\n",
       "      <td>...</td>\n",
       "      <td>...</td>\n",
       "    </tr>\n",
       "    <tr>\n",
       "      <th>2015-10-24 04:00:00</th>\n",
       "      <td>3.86</td>\n",
       "      <td>1.930</td>\n",
       "      <td>1.697056</td>\n",
       "      <td>193</td>\n",
       "      <td>96.5</td>\n",
       "      <td>3.535534</td>\n",
       "    </tr>\n",
       "    <tr>\n",
       "      <th>2015-10-24 06:00:00</th>\n",
       "      <td>12.52</td>\n",
       "      <td>6.260</td>\n",
       "      <td>1.767767</td>\n",
       "      <td>150</td>\n",
       "      <td>75.0</td>\n",
       "      <td>4.242641</td>\n",
       "    </tr>\n",
       "    <tr>\n",
       "      <th>2015-10-24 08:00:00</th>\n",
       "      <td>16.26</td>\n",
       "      <td>8.130</td>\n",
       "      <td>0.791960</td>\n",
       "      <td>156</td>\n",
       "      <td>78.0</td>\n",
       "      <td>16.970563</td>\n",
       "    </tr>\n",
       "    <tr>\n",
       "      <th>2015-10-24 10:00:00</th>\n",
       "      <td>15.52</td>\n",
       "      <td>7.760</td>\n",
       "      <td>0.692965</td>\n",
       "      <td>171</td>\n",
       "      <td>85.5</td>\n",
       "      <td>6.363961</td>\n",
       "    </tr>\n",
       "    <tr>\n",
       "      <th>2015-10-24 12:00:00</th>\n",
       "      <td>8.00</td>\n",
       "      <td>8.000</td>\n",
       "      <td>NaN</td>\n",
       "      <td>80</td>\n",
       "      <td>80.0</td>\n",
       "      <td>NaN</td>\n",
       "    </tr>\n",
       "  </tbody>\n",
       "</table>\n",
       "<p>2107 rows × 6 columns</p>\n",
       "</div>"
      ],
      "text/plain": [
       "                    temperature_2_m_above_gnd                   \\\n",
       "                                          sum   mean       std   \n",
       "Time                                                             \n",
       "2015-05-02 00:00:00                      4.48  2.240  0.098995   \n",
       "2015-05-02 02:00:00                      9.47  4.735  1.534422   \n",
       "2015-05-02 04:00:00                     16.42  8.210  0.678823   \n",
       "2015-05-02 06:00:00                     19.79  9.895  0.247487   \n",
       "2015-05-02 08:00:00                     15.92  7.960  2.008183   \n",
       "...                                       ...    ...       ...   \n",
       "2015-10-24 04:00:00                      3.86  1.930  1.697056   \n",
       "2015-10-24 06:00:00                     12.52  6.260  1.767767   \n",
       "2015-10-24 08:00:00                     16.26  8.130  0.791960   \n",
       "2015-10-24 10:00:00                     15.52  7.760  0.692965   \n",
       "2015-10-24 12:00:00                      8.00  8.000       NaN   \n",
       "\n",
       "                    relative_humidity_2_m_above_gnd                   \n",
       "                                                sum  mean        std  \n",
       "Time                                                                  \n",
       "2015-05-02 00:00:00                              58  29.0   2.828427  \n",
       "2015-05-02 02:00:00                              63  31.5   2.121320  \n",
       "2015-05-02 04:00:00                              56  28.0   1.414214  \n",
       "2015-05-02 06:00:00                              55  27.5   0.707107  \n",
       "2015-05-02 08:00:00                              79  39.5  10.606602  \n",
       "...                                             ...   ...        ...  \n",
       "2015-10-24 04:00:00                             193  96.5   3.535534  \n",
       "2015-10-24 06:00:00                             150  75.0   4.242641  \n",
       "2015-10-24 08:00:00                             156  78.0  16.970563  \n",
       "2015-10-24 10:00:00                             171  85.5   6.363961  \n",
       "2015-10-24 12:00:00                              80  80.0        NaN  \n",
       "\n",
       "[2107 rows x 6 columns]"
      ]
     },
     "execution_count": 155,
     "metadata": {},
     "output_type": "execute_result"
    }
   ],
   "source": [
    "rs[[\"temperature_2_m_above_gnd\",\"relative_humidity_2_m_above_gnd\"]].agg([np.sum, np.mean, np.std])"
   ]
  },
  {
   "cell_type": "code",
   "execution_count": 156,
   "id": "2d8e6c7c",
   "metadata": {},
   "outputs": [
    {
     "data": {
      "text/html": [
       "<div>\n",
       "<style scoped>\n",
       "    .dataframe tbody tr th:only-of-type {\n",
       "        vertical-align: middle;\n",
       "    }\n",
       "\n",
       "    .dataframe tbody tr th {\n",
       "        vertical-align: top;\n",
       "    }\n",
       "\n",
       "    .dataframe thead tr th {\n",
       "        text-align: left;\n",
       "    }\n",
       "\n",
       "    .dataframe thead tr:last-of-type th {\n",
       "        text-align: right;\n",
       "    }\n",
       "</style>\n",
       "<table border=\"1\" class=\"dataframe\">\n",
       "  <thead>\n",
       "    <tr>\n",
       "      <th></th>\n",
       "      <th colspan=\"2\" halign=\"left\">temperature_2_m_above_gnd</th>\n",
       "      <th colspan=\"2\" halign=\"left\">relative_humidity_2_m_above_gnd</th>\n",
       "      <th colspan=\"2\" halign=\"left\">mean_sea_level_pressure_MSL</th>\n",
       "      <th colspan=\"2\" halign=\"left\">total_precipitation_sfc</th>\n",
       "      <th colspan=\"2\" halign=\"left\">snowfall_amount_sfc</th>\n",
       "      <th>...</th>\n",
       "      <th colspan=\"2\" halign=\"left\">wind_gust_10_m_above_gnd</th>\n",
       "      <th colspan=\"2\" halign=\"left\">angle_of_incidence</th>\n",
       "      <th colspan=\"2\" halign=\"left\">zenith</th>\n",
       "      <th colspan=\"2\" halign=\"left\">azimuth</th>\n",
       "      <th colspan=\"2\" halign=\"left\">generated_power_kw</th>\n",
       "    </tr>\n",
       "    <tr>\n",
       "      <th></th>\n",
       "      <th>sum</th>\n",
       "      <th>mean</th>\n",
       "      <th>sum</th>\n",
       "      <th>mean</th>\n",
       "      <th>sum</th>\n",
       "      <th>mean</th>\n",
       "      <th>sum</th>\n",
       "      <th>mean</th>\n",
       "      <th>sum</th>\n",
       "      <th>mean</th>\n",
       "      <th>...</th>\n",
       "      <th>sum</th>\n",
       "      <th>mean</th>\n",
       "      <th>sum</th>\n",
       "      <th>mean</th>\n",
       "      <th>sum</th>\n",
       "      <th>mean</th>\n",
       "      <th>sum</th>\n",
       "      <th>mean</th>\n",
       "      <th>sum</th>\n",
       "      <th>mean</th>\n",
       "    </tr>\n",
       "    <tr>\n",
       "      <th>Time</th>\n",
       "      <th></th>\n",
       "      <th></th>\n",
       "      <th></th>\n",
       "      <th></th>\n",
       "      <th></th>\n",
       "      <th></th>\n",
       "      <th></th>\n",
       "      <th></th>\n",
       "      <th></th>\n",
       "      <th></th>\n",
       "      <th></th>\n",
       "      <th></th>\n",
       "      <th></th>\n",
       "      <th></th>\n",
       "      <th></th>\n",
       "      <th></th>\n",
       "      <th></th>\n",
       "      <th></th>\n",
       "      <th></th>\n",
       "      <th></th>\n",
       "      <th></th>\n",
       "    </tr>\n",
       "  </thead>\n",
       "  <tbody>\n",
       "    <tr>\n",
       "      <th>2015-05-02 00:00:00</th>\n",
       "      <td>4.48</td>\n",
       "      <td>2.240</td>\n",
       "      <td>58</td>\n",
       "      <td>29.0</td>\n",
       "      <td>2070.1</td>\n",
       "      <td>1035.05</td>\n",
       "      <td>0.0</td>\n",
       "      <td>0.00</td>\n",
       "      <td>0.0</td>\n",
       "      <td>0.0</td>\n",
       "      <td>...</td>\n",
       "      <td>46.44</td>\n",
       "      <td>23.22</td>\n",
       "      <td>104.161693</td>\n",
       "      <td>52.080846</td>\n",
       "      <td>158.380363</td>\n",
       "      <td>79.190181</td>\n",
       "      <td>267.99073</td>\n",
       "      <td>133.995365</td>\n",
       "      <td>1866.100350</td>\n",
       "      <td>933.050175</td>\n",
       "    </tr>\n",
       "    <tr>\n",
       "      <th>2015-05-02 02:00:00</th>\n",
       "      <td>9.47</td>\n",
       "      <td>4.735</td>\n",
       "      <td>63</td>\n",
       "      <td>31.5</td>\n",
       "      <td>2070.8</td>\n",
       "      <td>1035.40</td>\n",
       "      <td>0.0</td>\n",
       "      <td>0.00</td>\n",
       "      <td>0.0</td>\n",
       "      <td>0.0</td>\n",
       "      <td>...</td>\n",
       "      <td>33.84</td>\n",
       "      <td>16.92</td>\n",
       "      <td>55.547570</td>\n",
       "      <td>27.773785</td>\n",
       "      <td>133.704184</td>\n",
       "      <td>66.852092</td>\n",
       "      <td>319.43928</td>\n",
       "      <td>159.719640</td>\n",
       "      <td>4742.458500</td>\n",
       "      <td>2371.229250</td>\n",
       "    </tr>\n",
       "    <tr>\n",
       "      <th>2015-05-02 04:00:00</th>\n",
       "      <td>16.42</td>\n",
       "      <td>8.210</td>\n",
       "      <td>56</td>\n",
       "      <td>28.0</td>\n",
       "      <td>2069.0</td>\n",
       "      <td>1034.50</td>\n",
       "      <td>0.0</td>\n",
       "      <td>0.00</td>\n",
       "      <td>0.0</td>\n",
       "      <td>0.0</td>\n",
       "      <td>...</td>\n",
       "      <td>33.84</td>\n",
       "      <td>16.92</td>\n",
       "      <td>44.288075</td>\n",
       "      <td>22.144037</td>\n",
       "      <td>129.496068</td>\n",
       "      <td>64.748034</td>\n",
       "      <td>379.35588</td>\n",
       "      <td>189.677940</td>\n",
       "      <td>5186.285000</td>\n",
       "      <td>2593.142500</td>\n",
       "    </tr>\n",
       "    <tr>\n",
       "      <th>2015-05-02 06:00:00</th>\n",
       "      <td>19.79</td>\n",
       "      <td>9.895</td>\n",
       "      <td>55</td>\n",
       "      <td>27.5</td>\n",
       "      <td>2068.1</td>\n",
       "      <td>1034.05</td>\n",
       "      <td>0.0</td>\n",
       "      <td>0.00</td>\n",
       "      <td>0.0</td>\n",
       "      <td>0.0</td>\n",
       "      <td>...</td>\n",
       "      <td>23.76</td>\n",
       "      <td>11.88</td>\n",
       "      <td>85.270522</td>\n",
       "      <td>42.635261</td>\n",
       "      <td>147.580277</td>\n",
       "      <td>73.790139</td>\n",
       "      <td>434.87063</td>\n",
       "      <td>217.435315</td>\n",
       "      <td>3334.150900</td>\n",
       "      <td>1667.075450</td>\n",
       "    </tr>\n",
       "    <tr>\n",
       "      <th>2015-05-02 08:00:00</th>\n",
       "      <td>15.92</td>\n",
       "      <td>7.960</td>\n",
       "      <td>79</td>\n",
       "      <td>39.5</td>\n",
       "      <td>2069.0</td>\n",
       "      <td>1034.50</td>\n",
       "      <td>0.0</td>\n",
       "      <td>0.00</td>\n",
       "      <td>0.0</td>\n",
       "      <td>0.0</td>\n",
       "      <td>...</td>\n",
       "      <td>23.76</td>\n",
       "      <td>11.88</td>\n",
       "      <td>168.237700</td>\n",
       "      <td>84.118850</td>\n",
       "      <td>207.048591</td>\n",
       "      <td>103.524295</td>\n",
       "      <td>450.57064</td>\n",
       "      <td>225.285320</td>\n",
       "      <td>96.484278</td>\n",
       "      <td>48.242139</td>\n",
       "    </tr>\n",
       "    <tr>\n",
       "      <th>...</th>\n",
       "      <td>...</td>\n",
       "      <td>...</td>\n",
       "      <td>...</td>\n",
       "      <td>...</td>\n",
       "      <td>...</td>\n",
       "      <td>...</td>\n",
       "      <td>...</td>\n",
       "      <td>...</td>\n",
       "      <td>...</td>\n",
       "      <td>...</td>\n",
       "      <td>...</td>\n",
       "      <td>...</td>\n",
       "      <td>...</td>\n",
       "      <td>...</td>\n",
       "      <td>...</td>\n",
       "      <td>...</td>\n",
       "      <td>...</td>\n",
       "      <td>...</td>\n",
       "      <td>...</td>\n",
       "      <td>...</td>\n",
       "      <td>...</td>\n",
       "    </tr>\n",
       "    <tr>\n",
       "      <th>2015-10-24 04:00:00</th>\n",
       "      <td>3.86</td>\n",
       "      <td>1.930</td>\n",
       "      <td>193</td>\n",
       "      <td>96.5</td>\n",
       "      <td>2053.2</td>\n",
       "      <td>1026.60</td>\n",
       "      <td>0.0</td>\n",
       "      <td>0.00</td>\n",
       "      <td>0.0</td>\n",
       "      <td>0.0</td>\n",
       "      <td>...</td>\n",
       "      <td>51.48</td>\n",
       "      <td>25.74</td>\n",
       "      <td>130.835631</td>\n",
       "      <td>65.417816</td>\n",
       "      <td>175.742718</td>\n",
       "      <td>87.871359</td>\n",
       "      <td>246.97067</td>\n",
       "      <td>123.485335</td>\n",
       "      <td>143.963059</td>\n",
       "      <td>71.981529</td>\n",
       "    </tr>\n",
       "    <tr>\n",
       "      <th>2015-10-24 06:00:00</th>\n",
       "      <td>12.52</td>\n",
       "      <td>6.260</td>\n",
       "      <td>150</td>\n",
       "      <td>75.0</td>\n",
       "      <td>2053.4</td>\n",
       "      <td>1026.70</td>\n",
       "      <td>0.0</td>\n",
       "      <td>0.00</td>\n",
       "      <td>0.0</td>\n",
       "      <td>0.0</td>\n",
       "      <td>...</td>\n",
       "      <td>24.12</td>\n",
       "      <td>12.06</td>\n",
       "      <td>78.090031</td>\n",
       "      <td>39.045016</td>\n",
       "      <td>144.008286</td>\n",
       "      <td>72.004143</td>\n",
       "      <td>292.53707</td>\n",
       "      <td>146.268535</td>\n",
       "      <td>912.893610</td>\n",
       "      <td>456.446805</td>\n",
       "    </tr>\n",
       "    <tr>\n",
       "      <th>2015-10-24 08:00:00</th>\n",
       "      <td>16.26</td>\n",
       "      <td>8.130</td>\n",
       "      <td>156</td>\n",
       "      <td>78.0</td>\n",
       "      <td>2051.2</td>\n",
       "      <td>1025.60</td>\n",
       "      <td>0.0</td>\n",
       "      <td>0.00</td>\n",
       "      <td>0.0</td>\n",
       "      <td>0.0</td>\n",
       "      <td>...</td>\n",
       "      <td>35.64</td>\n",
       "      <td>17.82</td>\n",
       "      <td>42.008394</td>\n",
       "      <td>21.004197</td>\n",
       "      <td>128.847216</td>\n",
       "      <td>64.423608</td>\n",
       "      <td>349.35041</td>\n",
       "      <td>174.675205</td>\n",
       "      <td>577.202780</td>\n",
       "      <td>288.601390</td>\n",
       "    </tr>\n",
       "    <tr>\n",
       "      <th>2015-10-24 10:00:00</th>\n",
       "      <td>15.52</td>\n",
       "      <td>7.760</td>\n",
       "      <td>171</td>\n",
       "      <td>85.5</td>\n",
       "      <td>2051.8</td>\n",
       "      <td>1025.90</td>\n",
       "      <td>0.1</td>\n",
       "      <td>0.05</td>\n",
       "      <td>0.0</td>\n",
       "      <td>0.0</td>\n",
       "      <td>...</td>\n",
       "      <td>37.80</td>\n",
       "      <td>18.90</td>\n",
       "      <td>61.610667</td>\n",
       "      <td>30.805334</td>\n",
       "      <td>136.323345</td>\n",
       "      <td>68.161673</td>\n",
       "      <td>408.63895</td>\n",
       "      <td>204.319475</td>\n",
       "      <td>285.320840</td>\n",
       "      <td>142.660420</td>\n",
       "    </tr>\n",
       "    <tr>\n",
       "      <th>2015-10-24 12:00:00</th>\n",
       "      <td>8.00</td>\n",
       "      <td>8.000</td>\n",
       "      <td>80</td>\n",
       "      <td>80.0</td>\n",
       "      <td>1025.3</td>\n",
       "      <td>1025.30</td>\n",
       "      <td>0.0</td>\n",
       "      <td>0.00</td>\n",
       "      <td>0.0</td>\n",
       "      <td>0.0</td>\n",
       "      <td>...</td>\n",
       "      <td>16.20</td>\n",
       "      <td>16.20</td>\n",
       "      <td>48.452849</td>\n",
       "      <td>48.452849</td>\n",
       "      <td>76.919574</td>\n",
       "      <td>76.919574</td>\n",
       "      <td>223.04931</td>\n",
       "      <td>223.049310</td>\n",
       "      <td>20.055031</td>\n",
       "      <td>20.055031</td>\n",
       "    </tr>\n",
       "  </tbody>\n",
       "</table>\n",
       "<p>2107 rows × 42 columns</p>\n",
       "</div>"
      ],
      "text/plain": [
       "                    temperature_2_m_above_gnd         \\\n",
       "                                          sum   mean   \n",
       "Time                                                   \n",
       "2015-05-02 00:00:00                      4.48  2.240   \n",
       "2015-05-02 02:00:00                      9.47  4.735   \n",
       "2015-05-02 04:00:00                     16.42  8.210   \n",
       "2015-05-02 06:00:00                     19.79  9.895   \n",
       "2015-05-02 08:00:00                     15.92  7.960   \n",
       "...                                       ...    ...   \n",
       "2015-10-24 04:00:00                      3.86  1.930   \n",
       "2015-10-24 06:00:00                     12.52  6.260   \n",
       "2015-10-24 08:00:00                     16.26  8.130   \n",
       "2015-10-24 10:00:00                     15.52  7.760   \n",
       "2015-10-24 12:00:00                      8.00  8.000   \n",
       "\n",
       "                    relative_humidity_2_m_above_gnd        \\\n",
       "                                                sum  mean   \n",
       "Time                                                        \n",
       "2015-05-02 00:00:00                              58  29.0   \n",
       "2015-05-02 02:00:00                              63  31.5   \n",
       "2015-05-02 04:00:00                              56  28.0   \n",
       "2015-05-02 06:00:00                              55  27.5   \n",
       "2015-05-02 08:00:00                              79  39.5   \n",
       "...                                             ...   ...   \n",
       "2015-10-24 04:00:00                             193  96.5   \n",
       "2015-10-24 06:00:00                             150  75.0   \n",
       "2015-10-24 08:00:00                             156  78.0   \n",
       "2015-10-24 10:00:00                             171  85.5   \n",
       "2015-10-24 12:00:00                              80  80.0   \n",
       "\n",
       "                    mean_sea_level_pressure_MSL           \\\n",
       "                                            sum     mean   \n",
       "Time                                                       \n",
       "2015-05-02 00:00:00                      2070.1  1035.05   \n",
       "2015-05-02 02:00:00                      2070.8  1035.40   \n",
       "2015-05-02 04:00:00                      2069.0  1034.50   \n",
       "2015-05-02 06:00:00                      2068.1  1034.05   \n",
       "2015-05-02 08:00:00                      2069.0  1034.50   \n",
       "...                                         ...      ...   \n",
       "2015-10-24 04:00:00                      2053.2  1026.60   \n",
       "2015-10-24 06:00:00                      2053.4  1026.70   \n",
       "2015-10-24 08:00:00                      2051.2  1025.60   \n",
       "2015-10-24 10:00:00                      2051.8  1025.90   \n",
       "2015-10-24 12:00:00                      1025.3  1025.30   \n",
       "\n",
       "                    total_precipitation_sfc       snowfall_amount_sfc       \\\n",
       "                                        sum  mean                 sum mean   \n",
       "Time                                                                         \n",
       "2015-05-02 00:00:00                     0.0  0.00                 0.0  0.0   \n",
       "2015-05-02 02:00:00                     0.0  0.00                 0.0  0.0   \n",
       "2015-05-02 04:00:00                     0.0  0.00                 0.0  0.0   \n",
       "2015-05-02 06:00:00                     0.0  0.00                 0.0  0.0   \n",
       "2015-05-02 08:00:00                     0.0  0.00                 0.0  0.0   \n",
       "...                                     ...   ...                 ...  ...   \n",
       "2015-10-24 04:00:00                     0.0  0.00                 0.0  0.0   \n",
       "2015-10-24 06:00:00                     0.0  0.00                 0.0  0.0   \n",
       "2015-10-24 08:00:00                     0.0  0.00                 0.0  0.0   \n",
       "2015-10-24 10:00:00                     0.1  0.05                 0.0  0.0   \n",
       "2015-10-24 12:00:00                     0.0  0.00                 0.0  0.0   \n",
       "\n",
       "                     ... wind_gust_10_m_above_gnd        angle_of_incidence  \\\n",
       "                     ...                      sum   mean                sum   \n",
       "Time                 ...                                                      \n",
       "2015-05-02 00:00:00  ...                    46.44  23.22         104.161693   \n",
       "2015-05-02 02:00:00  ...                    33.84  16.92          55.547570   \n",
       "2015-05-02 04:00:00  ...                    33.84  16.92          44.288075   \n",
       "2015-05-02 06:00:00  ...                    23.76  11.88          85.270522   \n",
       "2015-05-02 08:00:00  ...                    23.76  11.88         168.237700   \n",
       "...                  ...                      ...    ...                ...   \n",
       "2015-10-24 04:00:00  ...                    51.48  25.74         130.835631   \n",
       "2015-10-24 06:00:00  ...                    24.12  12.06          78.090031   \n",
       "2015-10-24 08:00:00  ...                    35.64  17.82          42.008394   \n",
       "2015-10-24 10:00:00  ...                    37.80  18.90          61.610667   \n",
       "2015-10-24 12:00:00  ...                    16.20  16.20          48.452849   \n",
       "\n",
       "                                    zenith                azimuth              \\\n",
       "                          mean         sum        mean        sum        mean   \n",
       "Time                                                                            \n",
       "2015-05-02 00:00:00  52.080846  158.380363   79.190181  267.99073  133.995365   \n",
       "2015-05-02 02:00:00  27.773785  133.704184   66.852092  319.43928  159.719640   \n",
       "2015-05-02 04:00:00  22.144037  129.496068   64.748034  379.35588  189.677940   \n",
       "2015-05-02 06:00:00  42.635261  147.580277   73.790139  434.87063  217.435315   \n",
       "2015-05-02 08:00:00  84.118850  207.048591  103.524295  450.57064  225.285320   \n",
       "...                        ...         ...         ...        ...         ...   \n",
       "2015-10-24 04:00:00  65.417816  175.742718   87.871359  246.97067  123.485335   \n",
       "2015-10-24 06:00:00  39.045016  144.008286   72.004143  292.53707  146.268535   \n",
       "2015-10-24 08:00:00  21.004197  128.847216   64.423608  349.35041  174.675205   \n",
       "2015-10-24 10:00:00  30.805334  136.323345   68.161673  408.63895  204.319475   \n",
       "2015-10-24 12:00:00  48.452849   76.919574   76.919574  223.04931  223.049310   \n",
       "\n",
       "                    generated_power_kw               \n",
       "                                   sum         mean  \n",
       "Time                                                 \n",
       "2015-05-02 00:00:00        1866.100350   933.050175  \n",
       "2015-05-02 02:00:00        4742.458500  2371.229250  \n",
       "2015-05-02 04:00:00        5186.285000  2593.142500  \n",
       "2015-05-02 06:00:00        3334.150900  1667.075450  \n",
       "2015-05-02 08:00:00          96.484278    48.242139  \n",
       "...                                ...          ...  \n",
       "2015-10-24 04:00:00         143.963059    71.981529  \n",
       "2015-10-24 06:00:00         912.893610   456.446805  \n",
       "2015-10-24 08:00:00         577.202780   288.601390  \n",
       "2015-10-24 10:00:00         285.320840   142.660420  \n",
       "2015-10-24 12:00:00          20.055031    20.055031  \n",
       "\n",
       "[2107 rows x 42 columns]"
      ]
     },
     "execution_count": 156,
     "metadata": {},
     "output_type": "execute_result"
    }
   ],
   "source": [
    "rs.agg([np.sum, np.mean])"
   ]
  },
  {
   "cell_type": "code",
   "execution_count": 157,
   "id": "512be220",
   "metadata": {},
   "outputs": [
    {
     "data": {
      "text/html": [
       "<div>\n",
       "<style scoped>\n",
       "    .dataframe tbody tr th:only-of-type {\n",
       "        vertical-align: middle;\n",
       "    }\n",
       "\n",
       "    .dataframe tbody tr th {\n",
       "        vertical-align: top;\n",
       "    }\n",
       "\n",
       "    .dataframe thead th {\n",
       "        text-align: right;\n",
       "    }\n",
       "</style>\n",
       "<table border=\"1\" class=\"dataframe\">\n",
       "  <thead>\n",
       "    <tr style=\"text-align: right;\">\n",
       "      <th></th>\n",
       "      <th>temperature_2_m_above_gnd</th>\n",
       "      <th>relative_humidity_2_m_above_gnd</th>\n",
       "    </tr>\n",
       "    <tr>\n",
       "      <th>Time</th>\n",
       "      <th></th>\n",
       "      <th></th>\n",
       "    </tr>\n",
       "  </thead>\n",
       "  <tbody>\n",
       "    <tr>\n",
       "      <th>2015-05-02 00:00:00</th>\n",
       "      <td>4.48</td>\n",
       "      <td>2.828427</td>\n",
       "    </tr>\n",
       "    <tr>\n",
       "      <th>2015-05-02 02:00:00</th>\n",
       "      <td>9.47</td>\n",
       "      <td>2.121320</td>\n",
       "    </tr>\n",
       "    <tr>\n",
       "      <th>2015-05-02 04:00:00</th>\n",
       "      <td>16.42</td>\n",
       "      <td>1.414214</td>\n",
       "    </tr>\n",
       "    <tr>\n",
       "      <th>2015-05-02 06:00:00</th>\n",
       "      <td>19.79</td>\n",
       "      <td>0.707107</td>\n",
       "    </tr>\n",
       "    <tr>\n",
       "      <th>2015-05-02 08:00:00</th>\n",
       "      <td>15.92</td>\n",
       "      <td>10.606602</td>\n",
       "    </tr>\n",
       "    <tr>\n",
       "      <th>...</th>\n",
       "      <td>...</td>\n",
       "      <td>...</td>\n",
       "    </tr>\n",
       "    <tr>\n",
       "      <th>2015-10-24 04:00:00</th>\n",
       "      <td>3.86</td>\n",
       "      <td>3.535534</td>\n",
       "    </tr>\n",
       "    <tr>\n",
       "      <th>2015-10-24 06:00:00</th>\n",
       "      <td>12.52</td>\n",
       "      <td>4.242641</td>\n",
       "    </tr>\n",
       "    <tr>\n",
       "      <th>2015-10-24 08:00:00</th>\n",
       "      <td>16.26</td>\n",
       "      <td>16.970563</td>\n",
       "    </tr>\n",
       "    <tr>\n",
       "      <th>2015-10-24 10:00:00</th>\n",
       "      <td>15.52</td>\n",
       "      <td>6.363961</td>\n",
       "    </tr>\n",
       "    <tr>\n",
       "      <th>2015-10-24 12:00:00</th>\n",
       "      <td>8.00</td>\n",
       "      <td>NaN</td>\n",
       "    </tr>\n",
       "  </tbody>\n",
       "</table>\n",
       "<p>2107 rows × 2 columns</p>\n",
       "</div>"
      ],
      "text/plain": [
       "                     temperature_2_m_above_gnd  \\\n",
       "Time                                             \n",
       "2015-05-02 00:00:00                       4.48   \n",
       "2015-05-02 02:00:00                       9.47   \n",
       "2015-05-02 04:00:00                      16.42   \n",
       "2015-05-02 06:00:00                      19.79   \n",
       "2015-05-02 08:00:00                      15.92   \n",
       "...                                        ...   \n",
       "2015-10-24 04:00:00                       3.86   \n",
       "2015-10-24 06:00:00                      12.52   \n",
       "2015-10-24 08:00:00                      16.26   \n",
       "2015-10-24 10:00:00                      15.52   \n",
       "2015-10-24 12:00:00                       8.00   \n",
       "\n",
       "                     relative_humidity_2_m_above_gnd  \n",
       "Time                                                  \n",
       "2015-05-02 00:00:00                         2.828427  \n",
       "2015-05-02 02:00:00                         2.121320  \n",
       "2015-05-02 04:00:00                         1.414214  \n",
       "2015-05-02 06:00:00                         0.707107  \n",
       "2015-05-02 08:00:00                        10.606602  \n",
       "...                                              ...  \n",
       "2015-10-24 04:00:00                         3.535534  \n",
       "2015-10-24 06:00:00                         4.242641  \n",
       "2015-10-24 08:00:00                        16.970563  \n",
       "2015-10-24 10:00:00                         6.363961  \n",
       "2015-10-24 12:00:00                              NaN  \n",
       "\n",
       "[2107 rows x 2 columns]"
      ]
     },
     "execution_count": 157,
     "metadata": {},
     "output_type": "execute_result"
    }
   ],
   "source": [
    "rs.agg({\"temperature_2_m_above_gnd\": np.sum, \"relative_humidity_2_m_above_gnd\": lambda x: np.std(x, ddof=1)})"
   ]
  },
  {
   "cell_type": "markdown",
   "id": "95af14a9",
   "metadata": {},
   "source": [
    "#### If you want to do resampling on the datetimelike index in the dataframe, you can use **on** keyword."
   ]
  },
  {
   "cell_type": "code",
   "execution_count": 158,
   "id": "e442457b",
   "metadata": {},
   "outputs": [
    {
     "data": {
      "text/html": [
       "<div>\n",
       "<style scoped>\n",
       "    .dataframe tbody tr th:only-of-type {\n",
       "        vertical-align: middle;\n",
       "    }\n",
       "\n",
       "    .dataframe tbody tr th {\n",
       "        vertical-align: top;\n",
       "    }\n",
       "\n",
       "    .dataframe thead th {\n",
       "        text-align: right;\n",
       "    }\n",
       "</style>\n",
       "<table border=\"1\" class=\"dataframe\">\n",
       "  <thead>\n",
       "    <tr style=\"text-align: right;\">\n",
       "      <th></th>\n",
       "      <th>randTime</th>\n",
       "      <th>temperature_2_m_above_gnd</th>\n",
       "      <th>relative_humidity_2_m_above_gnd</th>\n",
       "      <th>mean_sea_level_pressure_MSL</th>\n",
       "      <th>total_precipitation_sfc</th>\n",
       "      <th>snowfall_amount_sfc</th>\n",
       "      <th>total_cloud_cover_sfc</th>\n",
       "      <th>high_cloud_cover_high_cld_lay</th>\n",
       "      <th>medium_cloud_cover_mid_cld_lay</th>\n",
       "      <th>low_cloud_cover_low_cld_lay</th>\n",
       "      <th>...</th>\n",
       "      <th>wind_direction_10_m_above_gnd</th>\n",
       "      <th>wind_speed_80_m_above_gnd</th>\n",
       "      <th>wind_direction_80_m_above_gnd</th>\n",
       "      <th>wind_speed_900_mb</th>\n",
       "      <th>wind_direction_900_mb</th>\n",
       "      <th>wind_gust_10_m_above_gnd</th>\n",
       "      <th>angle_of_incidence</th>\n",
       "      <th>zenith</th>\n",
       "      <th>azimuth</th>\n",
       "      <th>generated_power_kw</th>\n",
       "    </tr>\n",
       "    <tr>\n",
       "      <th>Time</th>\n",
       "      <th></th>\n",
       "      <th></th>\n",
       "      <th></th>\n",
       "      <th></th>\n",
       "      <th></th>\n",
       "      <th></th>\n",
       "      <th></th>\n",
       "      <th></th>\n",
       "      <th></th>\n",
       "      <th></th>\n",
       "      <th></th>\n",
       "      <th></th>\n",
       "      <th></th>\n",
       "      <th></th>\n",
       "      <th></th>\n",
       "      <th></th>\n",
       "      <th></th>\n",
       "      <th></th>\n",
       "      <th></th>\n",
       "      <th></th>\n",
       "      <th></th>\n",
       "    </tr>\n",
       "  </thead>\n",
       "  <tbody>\n",
       "    <tr>\n",
       "      <th>2015-05-02 00:00:00</th>\n",
       "      <td>2022-07-31 00:00:00</td>\n",
       "      <td>2.17</td>\n",
       "      <td>31</td>\n",
       "      <td>1035.0</td>\n",
       "      <td>0.0</td>\n",
       "      <td>0.0</td>\n",
       "      <td>0.0</td>\n",
       "      <td>0</td>\n",
       "      <td>0</td>\n",
       "      <td>0</td>\n",
       "      <td>...</td>\n",
       "      <td>312.71</td>\n",
       "      <td>9.36</td>\n",
       "      <td>22.62</td>\n",
       "      <td>6.62</td>\n",
       "      <td>337.62</td>\n",
       "      <td>24.48</td>\n",
       "      <td>58.753108</td>\n",
       "      <td>83.237322</td>\n",
       "      <td>128.33543</td>\n",
       "      <td>454.100950</td>\n",
       "    </tr>\n",
       "    <tr>\n",
       "      <th>2015-05-02 01:00:00</th>\n",
       "      <td>2022-05-10 00:00:00</td>\n",
       "      <td>2.31</td>\n",
       "      <td>27</td>\n",
       "      <td>1035.1</td>\n",
       "      <td>0.0</td>\n",
       "      <td>0.0</td>\n",
       "      <td>0.0</td>\n",
       "      <td>0</td>\n",
       "      <td>0</td>\n",
       "      <td>0</td>\n",
       "      <td>...</td>\n",
       "      <td>294.78</td>\n",
       "      <td>5.99</td>\n",
       "      <td>32.74</td>\n",
       "      <td>4.61</td>\n",
       "      <td>321.34</td>\n",
       "      <td>21.96</td>\n",
       "      <td>45.408585</td>\n",
       "      <td>75.143041</td>\n",
       "      <td>139.65530</td>\n",
       "      <td>1411.999400</td>\n",
       "    </tr>\n",
       "    <tr>\n",
       "      <th>2015-05-02 02:00:00</th>\n",
       "      <td>NaT</td>\n",
       "      <td>3.65</td>\n",
       "      <td>33</td>\n",
       "      <td>1035.4</td>\n",
       "      <td>0.0</td>\n",
       "      <td>0.0</td>\n",
       "      <td>0.0</td>\n",
       "      <td>0</td>\n",
       "      <td>0</td>\n",
       "      <td>0</td>\n",
       "      <td>...</td>\n",
       "      <td>270.00</td>\n",
       "      <td>3.89</td>\n",
       "      <td>56.31</td>\n",
       "      <td>3.76</td>\n",
       "      <td>286.70</td>\n",
       "      <td>14.04</td>\n",
       "      <td>32.848282</td>\n",
       "      <td>68.820648</td>\n",
       "      <td>152.53769</td>\n",
       "      <td>2214.849300</td>\n",
       "    </tr>\n",
       "    <tr>\n",
       "      <th>2015-05-02 03:00:00</th>\n",
       "      <td>NaT</td>\n",
       "      <td>5.82</td>\n",
       "      <td>30</td>\n",
       "      <td>1035.4</td>\n",
       "      <td>0.0</td>\n",
       "      <td>0.0</td>\n",
       "      <td>0.0</td>\n",
       "      <td>0</td>\n",
       "      <td>0</td>\n",
       "      <td>0</td>\n",
       "      <td>...</td>\n",
       "      <td>323.13</td>\n",
       "      <td>3.55</td>\n",
       "      <td>23.96</td>\n",
       "      <td>3.08</td>\n",
       "      <td>339.44</td>\n",
       "      <td>19.80</td>\n",
       "      <td>22.699288</td>\n",
       "      <td>64.883536</td>\n",
       "      <td>166.90159</td>\n",
       "      <td>2527.609200</td>\n",
       "    </tr>\n",
       "    <tr>\n",
       "      <th>2015-05-02 04:00:00</th>\n",
       "      <td>asd</td>\n",
       "      <td>7.73</td>\n",
       "      <td>27</td>\n",
       "      <td>1034.4</td>\n",
       "      <td>0.0</td>\n",
       "      <td>0.0</td>\n",
       "      <td>0.0</td>\n",
       "      <td>0</td>\n",
       "      <td>0</td>\n",
       "      <td>0</td>\n",
       "      <td>...</td>\n",
       "      <td>10.01</td>\n",
       "      <td>6.76</td>\n",
       "      <td>25.20</td>\n",
       "      <td>6.62</td>\n",
       "      <td>22.38</td>\n",
       "      <td>16.56</td>\n",
       "      <td>19.199908</td>\n",
       "      <td>63.795208</td>\n",
       "      <td>182.13526</td>\n",
       "      <td>2640.203400</td>\n",
       "    </tr>\n",
       "    <tr>\n",
       "      <th>...</th>\n",
       "      <td>...</td>\n",
       "      <td>...</td>\n",
       "      <td>...</td>\n",
       "      <td>...</td>\n",
       "      <td>...</td>\n",
       "      <td>...</td>\n",
       "      <td>...</td>\n",
       "      <td>...</td>\n",
       "      <td>...</td>\n",
       "      <td>...</td>\n",
       "      <td>...</td>\n",
       "      <td>...</td>\n",
       "      <td>...</td>\n",
       "      <td>...</td>\n",
       "      <td>...</td>\n",
       "      <td>...</td>\n",
       "      <td>...</td>\n",
       "      <td>...</td>\n",
       "      <td>...</td>\n",
       "      <td>...</td>\n",
       "      <td>...</td>\n",
       "    </tr>\n",
       "    <tr>\n",
       "      <th>2015-10-24 08:00:00</th>\n",
       "      <td>NaN</td>\n",
       "      <td>8.69</td>\n",
       "      <td>66</td>\n",
       "      <td>1025.1</td>\n",
       "      <td>0.0</td>\n",
       "      <td>0.0</td>\n",
       "      <td>100.0</td>\n",
       "      <td>100</td>\n",
       "      <td>100</td>\n",
       "      <td>100</td>\n",
       "      <td>...</td>\n",
       "      <td>285.42</td>\n",
       "      <td>25.50</td>\n",
       "      <td>283.06</td>\n",
       "      <td>24.01</td>\n",
       "      <td>282.99</td>\n",
       "      <td>25.20</td>\n",
       "      <td>22.700907</td>\n",
       "      <td>64.952098</td>\n",
       "      <td>167.06794</td>\n",
       "      <td>173.410560</td>\n",
       "    </tr>\n",
       "    <tr>\n",
       "      <th>2015-10-24 09:00:00</th>\n",
       "      <td>NaN</td>\n",
       "      <td>7.57</td>\n",
       "      <td>90</td>\n",
       "      <td>1026.1</td>\n",
       "      <td>0.0</td>\n",
       "      <td>0.0</td>\n",
       "      <td>100.0</td>\n",
       "      <td>79</td>\n",
       "      <td>100</td>\n",
       "      <td>100</td>\n",
       "      <td>...</td>\n",
       "      <td>6.91</td>\n",
       "      <td>13.00</td>\n",
       "      <td>4.76</td>\n",
       "      <td>11.61</td>\n",
       "      <td>7.13</td>\n",
       "      <td>10.44</td>\n",
       "      <td>19.307487</td>\n",
       "      <td>63.895118</td>\n",
       "      <td>182.28247</td>\n",
       "      <td>403.792220</td>\n",
       "    </tr>\n",
       "    <tr>\n",
       "      <th>2015-10-24 10:00:00</th>\n",
       "      <td>NaN</td>\n",
       "      <td>7.27</td>\n",
       "      <td>90</td>\n",
       "      <td>1026.3</td>\n",
       "      <td>0.1</td>\n",
       "      <td>0.0</td>\n",
       "      <td>100.0</td>\n",
       "      <td>73</td>\n",
       "      <td>100</td>\n",
       "      <td>100</td>\n",
       "      <td>...</td>\n",
       "      <td>2.29</td>\n",
       "      <td>8.71</td>\n",
       "      <td>352.87</td>\n",
       "      <td>7.95</td>\n",
       "      <td>354.81</td>\n",
       "      <td>22.32</td>\n",
       "      <td>25.249506</td>\n",
       "      <td>65.827032</td>\n",
       "      <td>197.33868</td>\n",
       "      <td>158.367780</td>\n",
       "    </tr>\n",
       "    <tr>\n",
       "      <th>2015-10-24 11:00:00</th>\n",
       "      <td>NaN</td>\n",
       "      <td>8.25</td>\n",
       "      <td>81</td>\n",
       "      <td>1025.5</td>\n",
       "      <td>0.0</td>\n",
       "      <td>0.0</td>\n",
       "      <td>100.0</td>\n",
       "      <td>74</td>\n",
       "      <td>66</td>\n",
       "      <td>100</td>\n",
       "      <td>...</td>\n",
       "      <td>11.31</td>\n",
       "      <td>6.29</td>\n",
       "      <td>13.24</td>\n",
       "      <td>5.94</td>\n",
       "      <td>14.04</td>\n",
       "      <td>15.48</td>\n",
       "      <td>36.361161</td>\n",
       "      <td>70.496313</td>\n",
       "      <td>211.30027</td>\n",
       "      <td>126.953060</td>\n",
       "    </tr>\n",
       "    <tr>\n",
       "      <th>2015-10-24 12:00:00</th>\n",
       "      <td>NaN</td>\n",
       "      <td>8.00</td>\n",
       "      <td>80</td>\n",
       "      <td>1025.3</td>\n",
       "      <td>0.0</td>\n",
       "      <td>0.0</td>\n",
       "      <td>100.0</td>\n",
       "      <td>100</td>\n",
       "      <td>100</td>\n",
       "      <td>100</td>\n",
       "      <td>...</td>\n",
       "      <td>12.72</td>\n",
       "      <td>12.07</td>\n",
       "      <td>17.35</td>\n",
       "      <td>11.38</td>\n",
       "      <td>18.43</td>\n",
       "      <td>16.20</td>\n",
       "      <td>48.452849</td>\n",
       "      <td>76.919574</td>\n",
       "      <td>223.04931</td>\n",
       "      <td>20.055031</td>\n",
       "    </tr>\n",
       "  </tbody>\n",
       "</table>\n",
       "<p>4213 rows × 22 columns</p>\n",
       "</div>"
      ],
      "text/plain": [
       "                                randTime  temperature_2_m_above_gnd  \\\n",
       "Time                                                                  \n",
       "2015-05-02 00:00:00  2022-07-31 00:00:00                       2.17   \n",
       "2015-05-02 01:00:00  2022-05-10 00:00:00                       2.31   \n",
       "2015-05-02 02:00:00                  NaT                       3.65   \n",
       "2015-05-02 03:00:00                  NaT                       5.82   \n",
       "2015-05-02 04:00:00                  asd                       7.73   \n",
       "...                                  ...                        ...   \n",
       "2015-10-24 08:00:00                  NaN                       8.69   \n",
       "2015-10-24 09:00:00                  NaN                       7.57   \n",
       "2015-10-24 10:00:00                  NaN                       7.27   \n",
       "2015-10-24 11:00:00                  NaN                       8.25   \n",
       "2015-10-24 12:00:00                  NaN                       8.00   \n",
       "\n",
       "                     relative_humidity_2_m_above_gnd  \\\n",
       "Time                                                   \n",
       "2015-05-02 00:00:00                               31   \n",
       "2015-05-02 01:00:00                               27   \n",
       "2015-05-02 02:00:00                               33   \n",
       "2015-05-02 03:00:00                               30   \n",
       "2015-05-02 04:00:00                               27   \n",
       "...                                              ...   \n",
       "2015-10-24 08:00:00                               66   \n",
       "2015-10-24 09:00:00                               90   \n",
       "2015-10-24 10:00:00                               90   \n",
       "2015-10-24 11:00:00                               81   \n",
       "2015-10-24 12:00:00                               80   \n",
       "\n",
       "                     mean_sea_level_pressure_MSL  total_precipitation_sfc  \\\n",
       "Time                                                                        \n",
       "2015-05-02 00:00:00                       1035.0                      0.0   \n",
       "2015-05-02 01:00:00                       1035.1                      0.0   \n",
       "2015-05-02 02:00:00                       1035.4                      0.0   \n",
       "2015-05-02 03:00:00                       1035.4                      0.0   \n",
       "2015-05-02 04:00:00                       1034.4                      0.0   \n",
       "...                                          ...                      ...   \n",
       "2015-10-24 08:00:00                       1025.1                      0.0   \n",
       "2015-10-24 09:00:00                       1026.1                      0.0   \n",
       "2015-10-24 10:00:00                       1026.3                      0.1   \n",
       "2015-10-24 11:00:00                       1025.5                      0.0   \n",
       "2015-10-24 12:00:00                       1025.3                      0.0   \n",
       "\n",
       "                     snowfall_amount_sfc  total_cloud_cover_sfc  \\\n",
       "Time                                                              \n",
       "2015-05-02 00:00:00                  0.0                    0.0   \n",
       "2015-05-02 01:00:00                  0.0                    0.0   \n",
       "2015-05-02 02:00:00                  0.0                    0.0   \n",
       "2015-05-02 03:00:00                  0.0                    0.0   \n",
       "2015-05-02 04:00:00                  0.0                    0.0   \n",
       "...                                  ...                    ...   \n",
       "2015-10-24 08:00:00                  0.0                  100.0   \n",
       "2015-10-24 09:00:00                  0.0                  100.0   \n",
       "2015-10-24 10:00:00                  0.0                  100.0   \n",
       "2015-10-24 11:00:00                  0.0                  100.0   \n",
       "2015-10-24 12:00:00                  0.0                  100.0   \n",
       "\n",
       "                     high_cloud_cover_high_cld_lay  \\\n",
       "Time                                                 \n",
       "2015-05-02 00:00:00                              0   \n",
       "2015-05-02 01:00:00                              0   \n",
       "2015-05-02 02:00:00                              0   \n",
       "2015-05-02 03:00:00                              0   \n",
       "2015-05-02 04:00:00                              0   \n",
       "...                                            ...   \n",
       "2015-10-24 08:00:00                            100   \n",
       "2015-10-24 09:00:00                             79   \n",
       "2015-10-24 10:00:00                             73   \n",
       "2015-10-24 11:00:00                             74   \n",
       "2015-10-24 12:00:00                            100   \n",
       "\n",
       "                     medium_cloud_cover_mid_cld_lay  \\\n",
       "Time                                                  \n",
       "2015-05-02 00:00:00                               0   \n",
       "2015-05-02 01:00:00                               0   \n",
       "2015-05-02 02:00:00                               0   \n",
       "2015-05-02 03:00:00                               0   \n",
       "2015-05-02 04:00:00                               0   \n",
       "...                                             ...   \n",
       "2015-10-24 08:00:00                             100   \n",
       "2015-10-24 09:00:00                             100   \n",
       "2015-10-24 10:00:00                             100   \n",
       "2015-10-24 11:00:00                              66   \n",
       "2015-10-24 12:00:00                             100   \n",
       "\n",
       "                     low_cloud_cover_low_cld_lay  ...  \\\n",
       "Time                                              ...   \n",
       "2015-05-02 00:00:00                            0  ...   \n",
       "2015-05-02 01:00:00                            0  ...   \n",
       "2015-05-02 02:00:00                            0  ...   \n",
       "2015-05-02 03:00:00                            0  ...   \n",
       "2015-05-02 04:00:00                            0  ...   \n",
       "...                                          ...  ...   \n",
       "2015-10-24 08:00:00                          100  ...   \n",
       "2015-10-24 09:00:00                          100  ...   \n",
       "2015-10-24 10:00:00                          100  ...   \n",
       "2015-10-24 11:00:00                          100  ...   \n",
       "2015-10-24 12:00:00                          100  ...   \n",
       "\n",
       "                     wind_direction_10_m_above_gnd  wind_speed_80_m_above_gnd  \\\n",
       "Time                                                                            \n",
       "2015-05-02 00:00:00                         312.71                       9.36   \n",
       "2015-05-02 01:00:00                         294.78                       5.99   \n",
       "2015-05-02 02:00:00                         270.00                       3.89   \n",
       "2015-05-02 03:00:00                         323.13                       3.55   \n",
       "2015-05-02 04:00:00                          10.01                       6.76   \n",
       "...                                            ...                        ...   \n",
       "2015-10-24 08:00:00                         285.42                      25.50   \n",
       "2015-10-24 09:00:00                           6.91                      13.00   \n",
       "2015-10-24 10:00:00                           2.29                       8.71   \n",
       "2015-10-24 11:00:00                          11.31                       6.29   \n",
       "2015-10-24 12:00:00                          12.72                      12.07   \n",
       "\n",
       "                     wind_direction_80_m_above_gnd  wind_speed_900_mb  \\\n",
       "Time                                                                    \n",
       "2015-05-02 00:00:00                          22.62               6.62   \n",
       "2015-05-02 01:00:00                          32.74               4.61   \n",
       "2015-05-02 02:00:00                          56.31               3.76   \n",
       "2015-05-02 03:00:00                          23.96               3.08   \n",
       "2015-05-02 04:00:00                          25.20               6.62   \n",
       "...                                            ...                ...   \n",
       "2015-10-24 08:00:00                         283.06              24.01   \n",
       "2015-10-24 09:00:00                           4.76              11.61   \n",
       "2015-10-24 10:00:00                         352.87               7.95   \n",
       "2015-10-24 11:00:00                          13.24               5.94   \n",
       "2015-10-24 12:00:00                          17.35              11.38   \n",
       "\n",
       "                     wind_direction_900_mb  wind_gust_10_m_above_gnd  \\\n",
       "Time                                                                   \n",
       "2015-05-02 00:00:00                 337.62                     24.48   \n",
       "2015-05-02 01:00:00                 321.34                     21.96   \n",
       "2015-05-02 02:00:00                 286.70                     14.04   \n",
       "2015-05-02 03:00:00                 339.44                     19.80   \n",
       "2015-05-02 04:00:00                  22.38                     16.56   \n",
       "...                                    ...                       ...   \n",
       "2015-10-24 08:00:00                 282.99                     25.20   \n",
       "2015-10-24 09:00:00                   7.13                     10.44   \n",
       "2015-10-24 10:00:00                 354.81                     22.32   \n",
       "2015-10-24 11:00:00                  14.04                     15.48   \n",
       "2015-10-24 12:00:00                  18.43                     16.20   \n",
       "\n",
       "                     angle_of_incidence     zenith    azimuth  \\\n",
       "Time                                                            \n",
       "2015-05-02 00:00:00           58.753108  83.237322  128.33543   \n",
       "2015-05-02 01:00:00           45.408585  75.143041  139.65530   \n",
       "2015-05-02 02:00:00           32.848282  68.820648  152.53769   \n",
       "2015-05-02 03:00:00           22.699288  64.883536  166.90159   \n",
       "2015-05-02 04:00:00           19.199908  63.795208  182.13526   \n",
       "...                                 ...        ...        ...   \n",
       "2015-10-24 08:00:00           22.700907  64.952098  167.06794   \n",
       "2015-10-24 09:00:00           19.307487  63.895118  182.28247   \n",
       "2015-10-24 10:00:00           25.249506  65.827032  197.33868   \n",
       "2015-10-24 11:00:00           36.361161  70.496313  211.30027   \n",
       "2015-10-24 12:00:00           48.452849  76.919574  223.04931   \n",
       "\n",
       "                     generated_power_kw  \n",
       "Time                                     \n",
       "2015-05-02 00:00:00          454.100950  \n",
       "2015-05-02 01:00:00         1411.999400  \n",
       "2015-05-02 02:00:00         2214.849300  \n",
       "2015-05-02 03:00:00         2527.609200  \n",
       "2015-05-02 04:00:00         2640.203400  \n",
       "...                                 ...  \n",
       "2015-10-24 08:00:00          173.410560  \n",
       "2015-10-24 09:00:00          403.792220  \n",
       "2015-10-24 10:00:00          158.367780  \n",
       "2015-10-24 11:00:00          126.953060  \n",
       "2015-10-24 12:00:00           20.055031  \n",
       "\n",
       "[4213 rows x 22 columns]"
      ]
     },
     "execution_count": 158,
     "metadata": {},
     "output_type": "execute_result"
    }
   ],
   "source": [
    "df"
   ]
  },
  {
   "cell_type": "code",
   "execution_count": 159,
   "id": "3fe37ea7",
   "metadata": {},
   "outputs": [],
   "source": [
    "df_S = pd.DataFrame(pd.to_datetime(df.loc[:,\"randTime\"], errors = \"coerce\"))"
   ]
  },
  {
   "cell_type": "code",
   "execution_count": 160,
   "id": "e7c6c7f7",
   "metadata": {},
   "outputs": [],
   "source": [
    "df_k = df[\"temperature_2_m_above_gnd\"]"
   ]
  },
  {
   "cell_type": "code",
   "execution_count": 161,
   "id": "69508523",
   "metadata": {},
   "outputs": [],
   "source": [
    "df_S = df_S.join(df_k)"
   ]
  },
  {
   "cell_type": "code",
   "execution_count": 162,
   "id": "aed5dd2d",
   "metadata": {},
   "outputs": [],
   "source": [
    "df_S = df_S.resample(\"3H\", on=\"randTime\")[[\"temperature_2_m_above_gnd\"]].sum()"
   ]
  },
  {
   "cell_type": "code",
   "execution_count": 163,
   "id": "dd1f5ebb",
   "metadata": {},
   "outputs": [
    {
     "data": {
      "text/html": [
       "<div>\n",
       "<style scoped>\n",
       "    .dataframe tbody tr th:only-of-type {\n",
       "        vertical-align: middle;\n",
       "    }\n",
       "\n",
       "    .dataframe tbody tr th {\n",
       "        vertical-align: top;\n",
       "    }\n",
       "\n",
       "    .dataframe thead th {\n",
       "        text-align: right;\n",
       "    }\n",
       "</style>\n",
       "<table border=\"1\" class=\"dataframe\">\n",
       "  <thead>\n",
       "    <tr style=\"text-align: right;\">\n",
       "      <th></th>\n",
       "      <th>temperature_2_m_above_gnd</th>\n",
       "    </tr>\n",
       "    <tr>\n",
       "      <th>randTime</th>\n",
       "      <th></th>\n",
       "    </tr>\n",
       "  </thead>\n",
       "  <tbody>\n",
       "    <tr>\n",
       "      <th>2022-05-10 00:00:00</th>\n",
       "      <td>2.31</td>\n",
       "    </tr>\n",
       "    <tr>\n",
       "      <th>2022-05-10 03:00:00</th>\n",
       "      <td>0.00</td>\n",
       "    </tr>\n",
       "    <tr>\n",
       "      <th>2022-05-10 06:00:00</th>\n",
       "      <td>0.00</td>\n",
       "    </tr>\n",
       "    <tr>\n",
       "      <th>2022-05-10 09:00:00</th>\n",
       "      <td>0.00</td>\n",
       "    </tr>\n",
       "    <tr>\n",
       "      <th>2022-05-10 12:00:00</th>\n",
       "      <td>0.00</td>\n",
       "    </tr>\n",
       "    <tr>\n",
       "      <th>...</th>\n",
       "      <td>...</td>\n",
       "    </tr>\n",
       "    <tr>\n",
       "      <th>2022-07-30 12:00:00</th>\n",
       "      <td>0.00</td>\n",
       "    </tr>\n",
       "    <tr>\n",
       "      <th>2022-07-30 15:00:00</th>\n",
       "      <td>0.00</td>\n",
       "    </tr>\n",
       "    <tr>\n",
       "      <th>2022-07-30 18:00:00</th>\n",
       "      <td>0.00</td>\n",
       "    </tr>\n",
       "    <tr>\n",
       "      <th>2022-07-30 21:00:00</th>\n",
       "      <td>0.00</td>\n",
       "    </tr>\n",
       "    <tr>\n",
       "      <th>2022-07-31 00:00:00</th>\n",
       "      <td>2.17</td>\n",
       "    </tr>\n",
       "  </tbody>\n",
       "</table>\n",
       "<p>657 rows × 1 columns</p>\n",
       "</div>"
      ],
      "text/plain": [
       "                     temperature_2_m_above_gnd\n",
       "randTime                                      \n",
       "2022-05-10 00:00:00                       2.31\n",
       "2022-05-10 03:00:00                       0.00\n",
       "2022-05-10 06:00:00                       0.00\n",
       "2022-05-10 09:00:00                       0.00\n",
       "2022-05-10 12:00:00                       0.00\n",
       "...                                        ...\n",
       "2022-07-30 12:00:00                       0.00\n",
       "2022-07-30 15:00:00                       0.00\n",
       "2022-07-30 18:00:00                       0.00\n",
       "2022-07-30 21:00:00                       0.00\n",
       "2022-07-31 00:00:00                       2.17\n",
       "\n",
       "[657 rows x 1 columns]"
      ]
     },
     "execution_count": 163,
     "metadata": {},
     "output_type": "execute_result"
    }
   ],
   "source": [
    "df_S"
   ]
  },
  {
   "cell_type": "markdown",
   "id": "53ccea7a",
   "metadata": {},
   "source": [
    "## Time span representation\n"
   ]
  },
  {
   "cell_type": "markdown",
   "id": "e9bee603",
   "metadata": {},
   "source": [
    "#### Regular intervals of time are represented by **Period** objects in pandas while sequences of **Period** objects are collected in a **PeriodIndex**, which can be created with the convenience function **period_range**."
   ]
  },
  {
   "cell_type": "markdown",
   "id": "ec8880dd",
   "metadata": {},
   "source": [
    "### Period"
   ]
  },
  {
   "cell_type": "markdown",
   "id": "2a765855",
   "metadata": {},
   "source": [
    "#### A **period** represents a span of time, we can specify the span via **freq** keyword. "
   ]
  },
  {
   "cell_type": "code",
   "execution_count": 164,
   "id": "2c15487e",
   "metadata": {},
   "outputs": [
    {
     "data": {
      "text/plain": [
       "Period('2012', 'A-DEC')"
      ]
     },
     "execution_count": 164,
     "metadata": {},
     "output_type": "execute_result"
    }
   ],
   "source": [
    "pd.Period(\"2012\", freq=\"A-DEC\") \n",
    "#annual frequency, anchored end of December. Same as ‘A’"
   ]
  },
  {
   "cell_type": "code",
   "execution_count": 165,
   "id": "49e60e96",
   "metadata": {},
   "outputs": [
    {
     "data": {
      "text/plain": [
       "Period('2012-01-01', 'D')"
      ]
     },
     "execution_count": 165,
     "metadata": {},
     "output_type": "execute_result"
    }
   ],
   "source": [
    "pd.Period(\"2012-1-1\", freq=\"D\") #D: calendar day frequency"
   ]
  },
  {
   "cell_type": "code",
   "execution_count": 166,
   "id": "764a1b00",
   "metadata": {},
   "outputs": [
    {
     "data": {
      "text/plain": [
       "Period('2012-01-01 19:00', 'H')"
      ]
     },
     "execution_count": 166,
     "metadata": {},
     "output_type": "execute_result"
    }
   ],
   "source": [
    "pd.Period(\"2012-1-1 19:00\", freq=\"H\") #H: hourly frequency"
   ]
  },
  {
   "cell_type": "code",
   "execution_count": 167,
   "id": "f46099ed",
   "metadata": {},
   "outputs": [
    {
     "data": {
      "text/plain": [
       "Period('2012-01-01 19:00', '5H')"
      ]
     },
     "execution_count": 167,
     "metadata": {},
     "output_type": "execute_result"
    }
   ],
   "source": [
    "pd.Period(\"2012-1-1 19:00\", freq=\"5H\") #5hour frequency"
   ]
  },
  {
   "cell_type": "markdown",
   "id": "ace1d818",
   "metadata": {},
   "source": [
    "#### Adding and subtracting integers from periods shifts the period by its own frequency. Arithmetic is not allowed between **Period** with different **freq** (span)."
   ]
  },
  {
   "cell_type": "code",
   "execution_count": 168,
   "id": "3966d2c7",
   "metadata": {},
   "outputs": [],
   "source": [
    "p = pd.Period(\"2012\", freq=\"A-DEC\")"
   ]
  },
  {
   "cell_type": "code",
   "execution_count": 169,
   "id": "f1ab6408",
   "metadata": {},
   "outputs": [
    {
     "data": {
      "text/plain": [
       "Period('2013', 'A-DEC')"
      ]
     },
     "execution_count": 169,
     "metadata": {},
     "output_type": "execute_result"
    }
   ],
   "source": [
    "p + 1"
   ]
  },
  {
   "cell_type": "code",
   "execution_count": 170,
   "id": "81279f7c",
   "metadata": {},
   "outputs": [
    {
     "data": {
      "text/plain": [
       "Period('2009', 'A-DEC')"
      ]
     },
     "execution_count": 170,
     "metadata": {},
     "output_type": "execute_result"
    }
   ],
   "source": [
    "p - 3"
   ]
  },
  {
   "cell_type": "code",
   "execution_count": 171,
   "id": "127b16b4",
   "metadata": {},
   "outputs": [],
   "source": [
    "p = pd.Period(\"2012-01\", freq=\"2M\")"
   ]
  },
  {
   "cell_type": "code",
   "execution_count": 172,
   "id": "3c7d55cb",
   "metadata": {},
   "outputs": [
    {
     "data": {
      "text/plain": [
       "Period('2012-05', '2M')"
      ]
     },
     "execution_count": 172,
     "metadata": {},
     "output_type": "execute_result"
    }
   ],
   "source": [
    "p + 2"
   ]
  },
  {
   "cell_type": "code",
   "execution_count": 173,
   "id": "7052dc60",
   "metadata": {},
   "outputs": [
    {
     "data": {
      "text/plain": [
       "Period('2011-11', '2M')"
      ]
     },
     "execution_count": 173,
     "metadata": {},
     "output_type": "execute_result"
    }
   ],
   "source": [
    "p - 1"
   ]
  },
  {
   "cell_type": "code",
   "execution_count": 174,
   "id": "275be644",
   "metadata": {},
   "outputs": [
    {
     "data": {
      "text/plain": [
       "False"
      ]
     },
     "execution_count": 174,
     "metadata": {},
     "output_type": "execute_result"
    }
   ],
   "source": [
    "p == pd.Period(\"2012-01\", freq=\"3M\")"
   ]
  },
  {
   "cell_type": "markdown",
   "id": "30b62bc3",
   "metadata": {},
   "source": [
    "#### If **Period** has other frequencies, only the same **offsets** can be added. Otherwise, **ValueError** will be raised."
   ]
  },
  {
   "cell_type": "code",
   "execution_count": 175,
   "id": "0bf7a9c4",
   "metadata": {},
   "outputs": [],
   "source": [
    "p = pd.Period(\"2014-07\", freq=\"M\")"
   ]
  },
  {
   "cell_type": "code",
   "execution_count": 176,
   "id": "5f77bde4",
   "metadata": {},
   "outputs": [
    {
     "data": {
      "text/plain": [
       "Period('2014-10', 'M')"
      ]
     },
     "execution_count": 176,
     "metadata": {},
     "output_type": "execute_result"
    }
   ],
   "source": [
    "p + pd.offsets.MonthEnd(3)"
   ]
  },
  {
   "cell_type": "code",
   "execution_count": 178,
   "id": "ed001b9f",
   "metadata": {},
   "outputs": [
    {
     "ename": "IncompatibleFrequency",
     "evalue": "Input has different freq=3MS from Period(freq=M)",
     "output_type": "error",
     "traceback": [
      "\u001b[1;31m---------------------------------------------------------------------------\u001b[0m",
      "\u001b[1;31mIncompatibleFrequency\u001b[0m                     Traceback (most recent call last)",
      "Input \u001b[1;32mIn [178]\u001b[0m, in \u001b[0;36m<cell line: 1>\u001b[1;34m()\u001b[0m\n\u001b[1;32m----> 1\u001b[0m \u001b[43mp\u001b[49m\u001b[43m \u001b[49m\u001b[38;5;241;43m+\u001b[39;49m\u001b[43m \u001b[49m\u001b[43mpd\u001b[49m\u001b[38;5;241;43m.\u001b[39;49m\u001b[43moffsets\u001b[49m\u001b[38;5;241;43m.\u001b[39;49m\u001b[43mMonthBegin\u001b[49m\u001b[43m(\u001b[49m\u001b[38;5;241;43m3\u001b[39;49m\u001b[43m)\u001b[49m\n",
      "File \u001b[1;32m~\\AppData\\Local\\Programs\\Python\\Python310\\lib\\site-packages\\pandas\\_libs\\tslibs\\period.pyx:1724\u001b[0m, in \u001b[0;36mpandas._libs.tslibs.period._Period.__add__\u001b[1;34m()\u001b[0m\n",
      "File \u001b[1;32m~\\AppData\\Local\\Programs\\Python\\Python310\\lib\\site-packages\\pandas\\_libs\\tslibs\\period.pyx:1709\u001b[0m, in \u001b[0;36mpandas._libs.tslibs.period._Period._add_offset\u001b[1;34m()\u001b[0m\n",
      "File \u001b[1;32m~\\AppData\\Local\\Programs\\Python\\Python310\\lib\\site-packages\\pandas\\_libs\\tslibs\\period.pyx:1608\u001b[0m, in \u001b[0;36mpandas._libs.tslibs.period.PeriodMixin._require_matching_freq\u001b[1;34m()\u001b[0m\n",
      "\u001b[1;31mIncompatibleFrequency\u001b[0m: Input has different freq=3MS from Period(freq=M)"
     ]
    }
   ],
   "source": [
    "p + pd.offsets.MonthBegin(3)"
   ]
  },
  {
   "cell_type": "markdown",
   "id": "a7a25687",
   "metadata": {},
   "source": [
    "### PeriodIndex and period_range"
   ]
  },
  {
   "cell_type": "markdown",
   "id": "fb3ca17d",
   "metadata": {},
   "source": [
    "#### Regular sequences of **Period** objects can be collected in a **PeriodIndex**, which can be constructed using the **period_range** convenience function:\n"
   ]
  },
  {
   "cell_type": "code",
   "execution_count": null,
   "id": "29680cfb",
   "metadata": {},
   "outputs": [],
   "source": [
    "prng = pd.period_range(\"1/1/2011\", \"1/1/2012\", freq=\"M\")"
   ]
  },
  {
   "cell_type": "code",
   "execution_count": null,
   "id": "604acc4b",
   "metadata": {},
   "outputs": [],
   "source": [
    "prng"
   ]
  },
  {
   "cell_type": "code",
   "execution_count": null,
   "id": "a4491581",
   "metadata": {},
   "outputs": [],
   "source": [
    "pd.PeriodIndex([\"2011-1\", \"2011-2\", \"2011-3\"], freq=\"M\")"
   ]
  },
  {
   "cell_type": "code",
   "execution_count": null,
   "id": "93b8ef23",
   "metadata": {},
   "outputs": [],
   "source": [
    "prng.dtype"
   ]
  },
  {
   "cell_type": "code",
   "execution_count": null,
   "id": "83e6df45",
   "metadata": {},
   "outputs": [],
   "source": [
    "prng.astype(\"period[D]\") #change monthly freq to daily freq"
   ]
  },
  {
   "cell_type": "code",
   "execution_count": null,
   "id": "fa6f2b80",
   "metadata": {},
   "outputs": [],
   "source": [
    "prng.astype(\"datetime64[ns]\") # convert to DatetimeIndex"
   ]
  },
  {
   "cell_type": "code",
   "execution_count": null,
   "id": "2341d38a",
   "metadata": {},
   "outputs": [],
   "source": [
    "dti = pd.date_range(\"2011-01-01\", freq=\"M\", periods=3)\n",
    "# convert to PeriodIndex"
   ]
  },
  {
   "cell_type": "code",
   "execution_count": null,
   "id": "4ba25f26",
   "metadata": {},
   "outputs": [],
   "source": [
    "dti"
   ]
  },
  {
   "cell_type": "code",
   "execution_count": 179,
   "id": "10195a24",
   "metadata": {},
   "outputs": [
    {
     "ename": "NameError",
     "evalue": "name 'dti' is not defined",
     "output_type": "error",
     "traceback": [
      "\u001b[1;31m---------------------------------------------------------------------------\u001b[0m",
      "\u001b[1;31mNameError\u001b[0m                                 Traceback (most recent call last)",
      "Input \u001b[1;32mIn [179]\u001b[0m, in \u001b[0;36m<cell line: 1>\u001b[1;34m()\u001b[0m\n\u001b[1;32m----> 1\u001b[0m \u001b[43mdti\u001b[49m\u001b[38;5;241m.\u001b[39mastype(\u001b[38;5;124m\"\u001b[39m\u001b[38;5;124mperiod[M]\u001b[39m\u001b[38;5;124m\"\u001b[39m)\n",
      "\u001b[1;31mNameError\u001b[0m: name 'dti' is not defined"
     ]
    }
   ],
   "source": [
    "dti.astype(\"period[M]\")"
   ]
  },
  {
   "cell_type": "markdown",
   "id": "704aa8d4",
   "metadata": {},
   "source": [
    "### PeriodIndex partial string indexing"
   ]
  },
  {
   "cell_type": "code",
   "execution_count": null,
   "id": "2a2ca5fd",
   "metadata": {},
   "outputs": [],
   "source": [
    "ps = pd.Series(np.random.randn(len(prng)), prng)"
   ]
  },
  {
   "cell_type": "code",
   "execution_count": null,
   "id": "1c003d8a",
   "metadata": {},
   "outputs": [],
   "source": [
    "ps"
   ]
  },
  {
   "cell_type": "code",
   "execution_count": null,
   "id": "f7f529eb",
   "metadata": {},
   "outputs": [],
   "source": [
    "ps[\"2011-01\"]"
   ]
  },
  {
   "cell_type": "code",
   "execution_count": null,
   "id": "01e009b6",
   "metadata": {},
   "outputs": [],
   "source": [
    "ps[datetime.datetime(2011, 12, 25):]"
   ]
  },
  {
   "cell_type": "code",
   "execution_count": null,
   "id": "078e9d4e",
   "metadata": {},
   "outputs": [],
   "source": [
    "ps[\"10/31/2011\":\"12/31/2011\"]"
   ]
  },
  {
   "cell_type": "markdown",
   "id": "717b2d68",
   "metadata": {},
   "source": [
    "#### Passing a string representing a lower frequency than **PeriodIndex** returns partial sliced data."
   ]
  },
  {
   "cell_type": "code",
   "execution_count": null,
   "id": "6bad61a0",
   "metadata": {},
   "outputs": [],
   "source": [
    "ps[\"2011\"]"
   ]
  },
  {
   "cell_type": "code",
   "execution_count": null,
   "id": "9ed88896",
   "metadata": {},
   "outputs": [],
   "source": [
    "dfp = pd.DataFrame(\n",
    "    np.random.randn(600, 1),\n",
    "    columns=[\"A\"],\n",
    "    index=pd.period_range(\"2013-01-01 9:00\", periods=600, freq=\"T\"),\n",
    ") #T: minutely frequency"
   ]
  },
  {
   "cell_type": "code",
   "execution_count": null,
   "id": "89dd2cec",
   "metadata": {},
   "outputs": [],
   "source": [
    "dfp"
   ]
  },
  {
   "cell_type": "code",
   "execution_count": null,
   "id": "9df0a85f",
   "metadata": {},
   "outputs": [],
   "source": [
    "dfp.loc[\"2013-01-01 10H\"]"
   ]
  },
  {
   "cell_type": "markdown",
   "id": "e5ab9b81",
   "metadata": {},
   "source": [
    "## Converting between representations"
   ]
  },
  {
   "cell_type": "markdown",
   "id": "ee50f606",
   "metadata": {},
   "source": [
    "#### Timestamped data can be converted to PeriodIndex-ed data using **to_period** and vice-versa using **to_timestamp**:\n"
   ]
  },
  {
   "cell_type": "code",
   "execution_count": 180,
   "id": "545a4d44",
   "metadata": {},
   "outputs": [],
   "source": [
    "rng = pd.date_range(\"1/1/2012\", periods=5, freq=\"M\")"
   ]
  },
  {
   "cell_type": "code",
   "execution_count": 181,
   "id": "c2b6df7f",
   "metadata": {},
   "outputs": [],
   "source": [
    "ts = pd.Series(np.random.randn(len(rng)), index=rng)"
   ]
  },
  {
   "cell_type": "code",
   "execution_count": 182,
   "id": "e500f3e6",
   "metadata": {},
   "outputs": [
    {
     "data": {
      "text/plain": [
       "2012-01-31    1.187791\n",
       "2012-02-29    0.102287\n",
       "2012-03-31    0.070065\n",
       "2012-04-30   -0.544491\n",
       "2012-05-31   -1.404998\n",
       "Freq: M, dtype: float64"
      ]
     },
     "execution_count": 182,
     "metadata": {},
     "output_type": "execute_result"
    }
   ],
   "source": [
    "ts"
   ]
  },
  {
   "cell_type": "code",
   "execution_count": 183,
   "id": "64121ae7",
   "metadata": {},
   "outputs": [],
   "source": [
    "ps = ts.to_period()"
   ]
  },
  {
   "cell_type": "code",
   "execution_count": 184,
   "id": "22682d48",
   "metadata": {},
   "outputs": [
    {
     "data": {
      "text/plain": [
       "2012-01    1.187791\n",
       "2012-02    0.102287\n",
       "2012-03    0.070065\n",
       "2012-04   -0.544491\n",
       "2012-05   -1.404998\n",
       "Freq: M, dtype: float64"
      ]
     },
     "execution_count": 184,
     "metadata": {},
     "output_type": "execute_result"
    }
   ],
   "source": [
    "ps"
   ]
  },
  {
   "cell_type": "code",
   "execution_count": 185,
   "id": "a4a88432",
   "metadata": {},
   "outputs": [
    {
     "data": {
      "text/plain": [
       "2012-01-01    1.187791\n",
       "2012-02-01    0.102287\n",
       "2012-03-01    0.070065\n",
       "2012-04-01   -0.544491\n",
       "2012-05-01   -1.404998\n",
       "Freq: MS, dtype: float64"
      ]
     },
     "execution_count": 185,
     "metadata": {},
     "output_type": "execute_result"
    }
   ],
   "source": [
    "ps.to_timestamp()"
   ]
  },
  {
   "cell_type": "markdown",
   "id": "0f716a54",
   "metadata": {},
   "source": [
    "#### Converting between period and timestamp enables some convenient arithmetic functions to be used."
   ]
  },
  {
   "cell_type": "code",
   "execution_count": 186,
   "id": "86a9a224",
   "metadata": {},
   "outputs": [],
   "source": [
    "prng = pd.period_range(\"1990Q1\", \"2000Q4\", freq=\"Q-NOV\")\n",
    "# quarterly frequency, year ends in November"
   ]
  },
  {
   "cell_type": "code",
   "execution_count": 187,
   "id": "1a97a96e",
   "metadata": {},
   "outputs": [
    {
     "data": {
      "text/plain": [
       "PeriodIndex(['1990Q1', '1990Q2', '1990Q3', '1990Q4', '1991Q1', '1991Q2',\n",
       "             '1991Q3', '1991Q4', '1992Q1', '1992Q2', '1992Q3', '1992Q4',\n",
       "             '1993Q1', '1993Q2', '1993Q3', '1993Q4', '1994Q1', '1994Q2',\n",
       "             '1994Q3', '1994Q4', '1995Q1', '1995Q2', '1995Q3', '1995Q4',\n",
       "             '1996Q1', '1996Q2', '1996Q3', '1996Q4', '1997Q1', '1997Q2',\n",
       "             '1997Q3', '1997Q4', '1998Q1', '1998Q2', '1998Q3', '1998Q4',\n",
       "             '1999Q1', '1999Q2', '1999Q3', '1999Q4', '2000Q1', '2000Q2',\n",
       "             '2000Q3', '2000Q4'],\n",
       "            dtype='period[Q-NOV]')"
      ]
     },
     "execution_count": 187,
     "metadata": {},
     "output_type": "execute_result"
    }
   ],
   "source": [
    "prng"
   ]
  },
  {
   "cell_type": "code",
   "execution_count": 188,
   "id": "9893251e",
   "metadata": {},
   "outputs": [],
   "source": [
    "ts = pd.Series(np.random.randn(len(prng)), prng)"
   ]
  },
  {
   "cell_type": "code",
   "execution_count": 189,
   "id": "18323022",
   "metadata": {},
   "outputs": [
    {
     "data": {
      "text/plain": [
       "1990Q1    0.016114\n",
       "1990Q2    0.971515\n",
       "1990Q3    0.626959\n",
       "1990Q4   -0.459283\n",
       "1991Q1   -1.076747\n",
       "1991Q2    0.197575\n",
       "1991Q3   -0.857014\n",
       "1991Q4   -1.014429\n",
       "1992Q1   -1.025144\n",
       "1992Q2    0.028788\n",
       "1992Q3   -0.823428\n",
       "1992Q4   -0.334154\n",
       "1993Q1   -1.073532\n",
       "1993Q2    0.362944\n",
       "1993Q3    0.465438\n",
       "1993Q4   -0.942190\n",
       "1994Q1   -0.765775\n",
       "1994Q2    1.795015\n",
       "1994Q3   -1.991257\n",
       "1994Q4   -0.722639\n",
       "1995Q1    0.055387\n",
       "1995Q2    0.833438\n",
       "1995Q3   -0.263488\n",
       "1995Q4    0.266253\n",
       "1996Q1   -0.031492\n",
       "1996Q2   -1.065042\n",
       "1996Q3   -0.897767\n",
       "1996Q4   -0.756969\n",
       "1997Q1   -0.559239\n",
       "1997Q2    0.840356\n",
       "1997Q3    0.068477\n",
       "1997Q4    0.205219\n",
       "1998Q1    0.064744\n",
       "1998Q2    0.335258\n",
       "1998Q3    0.134996\n",
       "1998Q4    0.874107\n",
       "1999Q1   -0.816085\n",
       "1999Q2    0.746760\n",
       "1999Q3   -0.678184\n",
       "1999Q4   -0.689789\n",
       "2000Q1    0.268591\n",
       "2000Q2    0.530417\n",
       "2000Q3    0.518674\n",
       "2000Q4   -2.423959\n",
       "Freq: Q-NOV, dtype: float64"
      ]
     },
     "execution_count": 189,
     "metadata": {},
     "output_type": "execute_result"
    }
   ],
   "source": [
    "ts"
   ]
  },
  {
   "cell_type": "code",
   "execution_count": 190,
   "id": "92d2259d",
   "metadata": {},
   "outputs": [],
   "source": [
    "ts.index = (prng.asfreq(\"M\", \"e\") + 1).asfreq(\"H\", \"s\") + 9"
   ]
  },
  {
   "cell_type": "code",
   "execution_count": 191,
   "id": "18e41762",
   "metadata": {},
   "outputs": [
    {
     "data": {
      "text/plain": [
       "1990-03-01 09:00    0.016114\n",
       "1990-06-01 09:00    0.971515\n",
       "1990-09-01 09:00    0.626959\n",
       "1990-12-01 09:00   -0.459283\n",
       "1991-03-01 09:00   -1.076747\n",
       "Freq: H, dtype: float64"
      ]
     },
     "execution_count": 191,
     "metadata": {},
     "output_type": "execute_result"
    }
   ],
   "source": [
    "ts.head()"
   ]
  },
  {
   "cell_type": "markdown",
   "id": "7f5868d8",
   "metadata": {},
   "source": [
    "## Time zone handling"
   ]
  },
  {
   "cell_type": "code",
   "execution_count": 192,
   "id": "8fe964d2",
   "metadata": {},
   "outputs": [],
   "source": [
    "rng = pd.date_range(\"3/6/2012 00:00\", periods=15, freq=\"D\")"
   ]
  },
  {
   "cell_type": "code",
   "execution_count": 193,
   "id": "c8898840",
   "metadata": {
    "scrolled": true
   },
   "outputs": [
    {
     "data": {
      "text/plain": [
       "True"
      ]
     },
     "execution_count": 193,
     "metadata": {},
     "output_type": "execute_result"
    }
   ],
   "source": [
    "rng.tz is None"
   ]
  },
  {
   "cell_type": "markdown",
   "id": "ccdb1971",
   "metadata": {},
   "source": [
    "**Generally, we localize the time to the universal time format (UTC) and then convert it into whatever time zone we want to**"
   ]
  },
  {
   "cell_type": "code",
   "execution_count": 194,
   "id": "adbe33f3",
   "metadata": {},
   "outputs": [],
   "source": [
    "dti = rng.tz_localize(\"UTC\")"
   ]
  },
  {
   "cell_type": "code",
   "execution_count": 195,
   "id": "ec5f5ffd",
   "metadata": {},
   "outputs": [
    {
     "data": {
      "text/plain": [
       "DatetimeIndex(['2012-03-06 00:00:00+00:00', '2012-03-07 00:00:00+00:00',\n",
       "               '2012-03-08 00:00:00+00:00', '2012-03-09 00:00:00+00:00',\n",
       "               '2012-03-10 00:00:00+00:00', '2012-03-11 00:00:00+00:00',\n",
       "               '2012-03-12 00:00:00+00:00', '2012-03-13 00:00:00+00:00',\n",
       "               '2012-03-14 00:00:00+00:00', '2012-03-15 00:00:00+00:00',\n",
       "               '2012-03-16 00:00:00+00:00', '2012-03-17 00:00:00+00:00',\n",
       "               '2012-03-18 00:00:00+00:00', '2012-03-19 00:00:00+00:00',\n",
       "               '2012-03-20 00:00:00+00:00'],\n",
       "              dtype='datetime64[ns, UTC]', freq='D')"
      ]
     },
     "execution_count": 195,
     "metadata": {},
     "output_type": "execute_result"
    }
   ],
   "source": [
    "dti"
   ]
  },
  {
   "cell_type": "code",
   "execution_count": 196,
   "id": "56a81fe9",
   "metadata": {},
   "outputs": [
    {
     "data": {
      "text/plain": [
       "DatetimeIndex(['2012-03-05 16:00:00-08:00', '2012-03-06 16:00:00-08:00',\n",
       "               '2012-03-07 16:00:00-08:00', '2012-03-08 16:00:00-08:00',\n",
       "               '2012-03-09 16:00:00-08:00', '2012-03-10 16:00:00-08:00',\n",
       "               '2012-03-11 17:00:00-07:00', '2012-03-12 17:00:00-07:00',\n",
       "               '2012-03-13 17:00:00-07:00', '2012-03-14 17:00:00-07:00',\n",
       "               '2012-03-15 17:00:00-07:00', '2012-03-16 17:00:00-07:00',\n",
       "               '2012-03-17 17:00:00-07:00', '2012-03-18 17:00:00-07:00',\n",
       "               '2012-03-19 17:00:00-07:00'],\n",
       "              dtype='datetime64[ns, US/Pacific]', freq='D')"
      ]
     },
     "execution_count": 196,
     "metadata": {},
     "output_type": "execute_result"
    }
   ],
   "source": [
    "dti.tz_convert(\"US/Pacific\")"
   ]
  },
  {
   "cell_type": "code",
   "execution_count": 197,
   "id": "3f32b88a",
   "metadata": {},
   "outputs": [
    {
     "data": {
      "text/plain": [
       "DatetimeIndex(['2012-03-06 00:00:00+00:00', '2012-03-07 00:00:00+00:00',\n",
       "               '2012-03-08 00:00:00+00:00', '2012-03-09 00:00:00+00:00',\n",
       "               '2012-03-10 00:00:00+00:00', '2012-03-11 00:00:00+00:00',\n",
       "               '2012-03-12 00:00:00+00:00', '2012-03-13 00:00:00+00:00',\n",
       "               '2012-03-14 00:00:00+00:00', '2012-03-15 00:00:00+00:00',\n",
       "               '2012-03-16 00:00:00+00:00', '2012-03-17 00:00:00+00:00',\n",
       "               '2012-03-18 00:00:00+00:00', '2012-03-19 00:00:00+00:00',\n",
       "               '2012-03-20 00:00:00+00:00'],\n",
       "              dtype='datetime64[ns, UTC]', freq='D')"
      ]
     },
     "execution_count": 197,
     "metadata": {},
     "output_type": "execute_result"
    }
   ],
   "source": [
    "dti"
   ]
  },
  {
   "cell_type": "code",
   "execution_count": 199,
   "id": "67946479",
   "metadata": {},
   "outputs": [
    {
     "data": {
      "text/plain": [
       "True"
      ]
     },
     "execution_count": 199,
     "metadata": {},
     "output_type": "execute_result"
    }
   ],
   "source": [
    "rng = pd.date_range(\"3/6/2012 00:00\", periods=15, freq=\"D\")\n",
    "rng.tz is None"
   ]
  },
  {
   "cell_type": "code",
   "execution_count": 200,
   "id": "a41f6f42",
   "metadata": {},
   "outputs": [],
   "source": [
    "import dateutil"
   ]
  },
  {
   "cell_type": "code",
   "execution_count": 201,
   "id": "a460b87e",
   "metadata": {},
   "outputs": [
    {
     "data": {
      "text/plain": [
       "tzfile('Europe/Belfast')"
      ]
     },
     "execution_count": 201,
     "metadata": {},
     "output_type": "execute_result"
    }
   ],
   "source": [
    "rng_pytz = pd.date_range(\"3/6/2012 00:00\", periods=3, freq=\"D\", tz=\"Europe/London\")\n",
    "rng_pytz.tz\n",
    "rng_dateutil = pd.date_range(\"3/6/2012 00:00\", periods=3, freq=\"D\")\n",
    "rng_dateutil = rng_dateutil.tz_localize(\"dateutil/Europe/London\")\n",
    "rng_dateutil.tz"
   ]
  },
  {
   "cell_type": "code",
   "execution_count": 204,
   "id": "582d9919",
   "metadata": {},
   "outputs": [],
   "source": [
    "rng_utc = pd.date_range(\n",
    "    \"3/6/2012 00:00\",\n",
    "    periods=3,\n",
    "    freq=\"D\",\n",
    "    tz=datetime.timezone.utc,\n",
    ")"
   ]
  },
  {
   "cell_type": "code",
   "execution_count": 205,
   "id": "d63e10d5",
   "metadata": {},
   "outputs": [
    {
     "data": {
      "text/plain": [
       "datetime.timezone.utc"
      ]
     },
     "execution_count": 205,
     "metadata": {},
     "output_type": "execute_result"
    }
   ],
   "source": [
    "rng_utc.tz"
   ]
  }
 ],
 "metadata": {
  "kernelspec": {
   "display_name": "Python 3 (ipykernel)",
   "language": "python",
   "name": "python3"
  },
  "language_info": {
   "codemirror_mode": {
    "name": "ipython",
    "version": 3
   },
   "file_extension": ".py",
   "mimetype": "text/x-python",
   "name": "python",
   "nbconvert_exporter": "python",
   "pygments_lexer": "ipython3",
   "version": "3.10.4"
  }
 },
 "nbformat": 4,
 "nbformat_minor": 5
}
