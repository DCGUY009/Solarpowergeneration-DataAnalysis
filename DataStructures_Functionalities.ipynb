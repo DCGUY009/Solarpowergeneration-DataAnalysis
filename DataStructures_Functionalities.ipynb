{
 "cells": [
  {
   "cell_type": "markdown",
   "metadata": {},
   "source": [
    "### Objective:\n",
    "\n",
    "Data alignment is fundamentally inherent. Unless we explicitly break the link between labels and data, it will remain intact. In this task we start with a quick overview of data structures and then we delve into all of the major categories of functionality and methods in separate sections."
   ]
  },
  {
   "cell_type": "markdown",
   "metadata": {},
   "source": [
    "This notebook contains the operations from [Intro to Data Structures](https://pandas.pydata.org/docs/user_guide/dsintro.html) guide from Pandas Official Documentation. It is performed on the dataset obtained from Kaggle - [Solar energy power generation dataset](https://www.kaggle.com/datasets/stucom/solar-energy-power-generation-dataset)."
   ]
  },
  {
   "cell_type": "markdown",
   "metadata": {},
   "source": [
    "### Table of Contents\n",
    "* [Series](#Series)\n",
    "* [DataFrame](#DataFrame)\n"
   ]
  },
  {
   "cell_type": "markdown",
   "metadata": {},
   "source": [
    "**DATASET :**\n",
    "Solar energy power generation dataset"
   ]
  },
  {
   "cell_type": "markdown",
   "metadata": {},
   "source": [
    "### DATA PREPROCESSING"
   ]
  },
  {
   "cell_type": "code",
   "execution_count": 1,
   "metadata": {
    "id": "Kk7UpEv61OZ0"
   },
   "outputs": [],
   "source": [
    "import pandas as pd"
   ]
  },
  {
   "cell_type": "markdown",
   "metadata": {
    "id": "KOqjOv5AbDeW"
   },
   "source": [
    "So by using pd.read_csv(filename) where we need to pass the filapath as an argument in the function"
   ]
  },
  {
   "cell_type": "code",
   "execution_count": 2,
   "metadata": {
    "id": "9ebbH6wO1d09"
   },
   "outputs": [],
   "source": [
    "df=pd.read_csv('Data/spgdataset.csv')"
   ]
  },
  {
   "cell_type": "code",
   "execution_count": 3,
   "metadata": {
    "colab": {
     "base_uri": "https://localhost:8080/"
    },
    "id": "X84TpeV_1pVX",
    "outputId": "25c3cfac-f3ca-4795-aa77-614dcb94da62"
   },
   "outputs": [
    {
     "data": {
      "text/plain": [
       "pandas.core.frame.DataFrame"
      ]
     },
     "execution_count": 3,
     "metadata": {},
     "output_type": "execute_result"
    }
   ],
   "source": [
    "type(df)"
   ]
  },
  {
   "cell_type": "code",
   "execution_count": 4,
   "metadata": {
    "colab": {
     "base_uri": "https://localhost:8080/"
    },
    "id": "7TGwmUu11rzO",
    "outputId": "afc12b86-5190-4860-d492-2499f90be5ec"
   },
   "outputs": [
    {
     "data": {
      "text/plain": [
       "(4213, 21)"
      ]
     },
     "execution_count": 4,
     "metadata": {},
     "output_type": "execute_result"
    }
   ],
   "source": [
    "df.shape"
   ]
  },
  {
   "cell_type": "code",
   "execution_count": 5,
   "metadata": {
    "colab": {
     "base_uri": "https://localhost:8080/"
    },
    "id": "4BXTlLl21sX3",
    "outputId": "f2625cd7-9617-40ed-b3b2-53c753577b66"
   },
   "outputs": [
    {
     "data": {
      "text/plain": [
       "Index(['temperature_2_m_above_gnd', 'relative_humidity_2_m_above_gnd',\n",
       "       'mean_sea_level_pressure_MSL', 'total_precipitation_sfc',\n",
       "       'snowfall_amount_sfc', 'total_cloud_cover_sfc',\n",
       "       'high_cloud_cover_high_cld_lay', 'medium_cloud_cover_mid_cld_lay',\n",
       "       'low_cloud_cover_low_cld_lay', 'shortwave_radiation_backwards_sfc',\n",
       "       'wind_speed_10_m_above_gnd', 'wind_direction_10_m_above_gnd',\n",
       "       'wind_speed_80_m_above_gnd', 'wind_direction_80_m_above_gnd',\n",
       "       'wind_speed_900_mb', 'wind_direction_900_mb',\n",
       "       'wind_gust_10_m_above_gnd', 'angle_of_incidence', 'zenith', 'azimuth',\n",
       "       'generated_power_kw'],\n",
       "      dtype='object')"
      ]
     },
     "execution_count": 5,
     "metadata": {},
     "output_type": "execute_result"
    }
   ],
   "source": [
    "df.columns"
   ]
  },
  {
   "cell_type": "code",
   "execution_count": 6,
   "metadata": {
    "colab": {
     "base_uri": "https://localhost:8080/"
    },
    "id": "UJIxo7fQ1urM",
    "outputId": "c0934249-6591-417e-b930-c77b3a8abbad"
   },
   "outputs": [
    {
     "data": {
      "text/plain": [
       "temperature_2_m_above_gnd            float64\n",
       "relative_humidity_2_m_above_gnd        int64\n",
       "mean_sea_level_pressure_MSL          float64\n",
       "total_precipitation_sfc              float64\n",
       "snowfall_amount_sfc                  float64\n",
       "total_cloud_cover_sfc                float64\n",
       "high_cloud_cover_high_cld_lay          int64\n",
       "medium_cloud_cover_mid_cld_lay         int64\n",
       "low_cloud_cover_low_cld_lay            int64\n",
       "shortwave_radiation_backwards_sfc    float64\n",
       "wind_speed_10_m_above_gnd            float64\n",
       "wind_direction_10_m_above_gnd        float64\n",
       "wind_speed_80_m_above_gnd            float64\n",
       "wind_direction_80_m_above_gnd        float64\n",
       "wind_speed_900_mb                    float64\n",
       "wind_direction_900_mb                float64\n",
       "wind_gust_10_m_above_gnd             float64\n",
       "angle_of_incidence                   float64\n",
       "zenith                               float64\n",
       "azimuth                              float64\n",
       "generated_power_kw                   float64\n",
       "dtype: object"
      ]
     },
     "execution_count": 6,
     "metadata": {},
     "output_type": "execute_result"
    }
   ],
   "source": [
    "df.dtypes"
   ]
  },
  {
   "cell_type": "code",
   "execution_count": 7,
   "metadata": {
    "colab": {
     "base_uri": "https://localhost:8080/"
    },
    "id": "Gj1MZRPN1wqV",
    "outputId": "c40a6353-3f12-4c55-e3f7-acc1d9f9b590"
   },
   "outputs": [
    {
     "data": {
      "text/plain": [
       "<bound method DataFrame.info of       temperature_2_m_above_gnd  relative_humidity_2_m_above_gnd  \\\n",
       "0                          2.17                               31   \n",
       "1                          2.31                               27   \n",
       "2                          3.65                               33   \n",
       "3                          5.82                               30   \n",
       "4                          7.73                               27   \n",
       "...                         ...                              ...   \n",
       "4208                       8.69                               66   \n",
       "4209                       7.57                               90   \n",
       "4210                       7.27                               90   \n",
       "4211                       8.25                               81   \n",
       "4212                       8.00                               80   \n",
       "\n",
       "      mean_sea_level_pressure_MSL  total_precipitation_sfc  \\\n",
       "0                          1035.0                      0.0   \n",
       "1                          1035.1                      0.0   \n",
       "2                          1035.4                      0.0   \n",
       "3                          1035.4                      0.0   \n",
       "4                          1034.4                      0.0   \n",
       "...                           ...                      ...   \n",
       "4208                       1025.1                      0.0   \n",
       "4209                       1026.1                      0.0   \n",
       "4210                       1026.3                      0.1   \n",
       "4211                       1025.5                      0.0   \n",
       "4212                       1025.3                      0.0   \n",
       "\n",
       "      snowfall_amount_sfc  total_cloud_cover_sfc  \\\n",
       "0                     0.0                    0.0   \n",
       "1                     0.0                    0.0   \n",
       "2                     0.0                    0.0   \n",
       "3                     0.0                    0.0   \n",
       "4                     0.0                    0.0   \n",
       "...                   ...                    ...   \n",
       "4208                  0.0                  100.0   \n",
       "4209                  0.0                  100.0   \n",
       "4210                  0.0                  100.0   \n",
       "4211                  0.0                  100.0   \n",
       "4212                  0.0                  100.0   \n",
       "\n",
       "      high_cloud_cover_high_cld_lay  medium_cloud_cover_mid_cld_lay  \\\n",
       "0                                 0                               0   \n",
       "1                                 0                               0   \n",
       "2                                 0                               0   \n",
       "3                                 0                               0   \n",
       "4                                 0                               0   \n",
       "...                             ...                             ...   \n",
       "4208                            100                             100   \n",
       "4209                             79                             100   \n",
       "4210                             73                             100   \n",
       "4211                             74                              66   \n",
       "4212                            100                             100   \n",
       "\n",
       "      low_cloud_cover_low_cld_lay  shortwave_radiation_backwards_sfc  ...  \\\n",
       "0                               0                               0.00  ...   \n",
       "1                               0                               1.78  ...   \n",
       "2                               0                             108.58  ...   \n",
       "3                               0                             258.10  ...   \n",
       "4                               0                             375.58  ...   \n",
       "...                           ...                                ...  ...   \n",
       "4208                          100                             257.21  ...   \n",
       "4209                          100                             210.04  ...   \n",
       "4210                          100                             113.92  ...   \n",
       "4211                          100                             186.90  ...   \n",
       "4212                          100                             172.66  ...   \n",
       "\n",
       "      wind_direction_10_m_above_gnd  wind_speed_80_m_above_gnd  \\\n",
       "0                            312.71                       9.36   \n",
       "1                            294.78                       5.99   \n",
       "2                            270.00                       3.89   \n",
       "3                            323.13                       3.55   \n",
       "4                             10.01                       6.76   \n",
       "...                             ...                        ...   \n",
       "4208                         285.42                      25.50   \n",
       "4209                           6.91                      13.00   \n",
       "4210                           2.29                       8.71   \n",
       "4211                          11.31                       6.29   \n",
       "4212                          12.72                      12.07   \n",
       "\n",
       "      wind_direction_80_m_above_gnd  wind_speed_900_mb  wind_direction_900_mb  \\\n",
       "0                             22.62               6.62                 337.62   \n",
       "1                             32.74               4.61                 321.34   \n",
       "2                             56.31               3.76                 286.70   \n",
       "3                             23.96               3.08                 339.44   \n",
       "4                             25.20               6.62                  22.38   \n",
       "...                             ...                ...                    ...   \n",
       "4208                         283.06              24.01                 282.99   \n",
       "4209                           4.76              11.61                   7.13   \n",
       "4210                         352.87               7.95                 354.81   \n",
       "4211                          13.24               5.94                  14.04   \n",
       "4212                          17.35              11.38                  18.43   \n",
       "\n",
       "      wind_gust_10_m_above_gnd  angle_of_incidence     zenith    azimuth  \\\n",
       "0                        24.48           58.753108  83.237322  128.33543   \n",
       "1                        21.96           45.408585  75.143041  139.65530   \n",
       "2                        14.04           32.848282  68.820648  152.53769   \n",
       "3                        19.80           22.699288  64.883536  166.90159   \n",
       "4                        16.56           19.199908  63.795208  182.13526   \n",
       "...                        ...                 ...        ...        ...   \n",
       "4208                     25.20           22.700907  64.952098  167.06794   \n",
       "4209                     10.44           19.307487  63.895118  182.28247   \n",
       "4210                     22.32           25.249506  65.827032  197.33868   \n",
       "4211                     15.48           36.361161  70.496313  211.30027   \n",
       "4212                     16.20           48.452849  76.919574  223.04931   \n",
       "\n",
       "      generated_power_kw  \n",
       "0             454.100950  \n",
       "1            1411.999400  \n",
       "2            2214.849300  \n",
       "3            2527.609200  \n",
       "4            2640.203400  \n",
       "...                  ...  \n",
       "4208          173.410560  \n",
       "4209          403.792220  \n",
       "4210          158.367780  \n",
       "4211          126.953060  \n",
       "4212           20.055031  \n",
       "\n",
       "[4213 rows x 21 columns]>"
      ]
     },
     "execution_count": 7,
     "metadata": {},
     "output_type": "execute_result"
    }
   ],
   "source": [
    "df.info"
   ]
  },
  {
   "cell_type": "code",
   "execution_count": 8,
   "metadata": {
    "colab": {
     "base_uri": "https://localhost:8080/"
    },
    "id": "GWMcnC6n10lc",
    "outputId": "b1ee1440-bd1a-4368-a986-80596501c215"
   },
   "outputs": [
    {
     "name": "stdout",
     "output_type": "stream",
     "text": [
      "<class 'pandas.core.frame.DataFrame'>\n",
      "RangeIndex: 4213 entries, 0 to 4212\n",
      "Data columns (total 21 columns):\n",
      " #   Column                             Non-Null Count  Dtype  \n",
      "---  ------                             --------------  -----  \n",
      " 0   temperature_2_m_above_gnd          4213 non-null   float64\n",
      " 1   relative_humidity_2_m_above_gnd    4213 non-null   int64  \n",
      " 2   mean_sea_level_pressure_MSL        4213 non-null   float64\n",
      " 3   total_precipitation_sfc            4213 non-null   float64\n",
      " 4   snowfall_amount_sfc                4213 non-null   float64\n",
      " 5   total_cloud_cover_sfc              4213 non-null   float64\n",
      " 6   high_cloud_cover_high_cld_lay      4213 non-null   int64  \n",
      " 7   medium_cloud_cover_mid_cld_lay     4213 non-null   int64  \n",
      " 8   low_cloud_cover_low_cld_lay        4213 non-null   int64  \n",
      " 9   shortwave_radiation_backwards_sfc  4213 non-null   float64\n",
      " 10  wind_speed_10_m_above_gnd          4213 non-null   float64\n",
      " 11  wind_direction_10_m_above_gnd      4213 non-null   float64\n",
      " 12  wind_speed_80_m_above_gnd          4213 non-null   float64\n",
      " 13  wind_direction_80_m_above_gnd      4213 non-null   float64\n",
      " 14  wind_speed_900_mb                  4213 non-null   float64\n",
      " 15  wind_direction_900_mb              4213 non-null   float64\n",
      " 16  wind_gust_10_m_above_gnd           4213 non-null   float64\n",
      " 17  angle_of_incidence                 4213 non-null   float64\n",
      " 18  zenith                             4213 non-null   float64\n",
      " 19  azimuth                            4213 non-null   float64\n",
      " 20  generated_power_kw                 4213 non-null   float64\n",
      "dtypes: float64(17), int64(4)\n",
      "memory usage: 691.3 KB\n"
     ]
    }
   ],
   "source": [
    "df.info()"
   ]
  },
  {
   "cell_type": "markdown",
   "metadata": {},
   "source": [
    "## Series"
   ]
  },
  {
   "cell_type": "markdown",
   "metadata": {
    "id": "J7jkCOR4becq"
   },
   "source": [
    "**As series is a one dimensional labeled array so for thay just we take one column of dataset**"
   ]
  },
  {
   "cell_type": "code",
   "execution_count": 9,
   "metadata": {
    "id": "ibK9c6ED0EDi"
   },
   "outputs": [],
   "source": [
    "df_col = df['high_cloud_cover_high_cld_lay']"
   ]
  },
  {
   "cell_type": "code",
   "execution_count": 10,
   "metadata": {
    "colab": {
     "base_uri": "https://localhost:8080/"
    },
    "id": "zz4b5wFK0EA3",
    "outputId": "4ba1602d-5a18-4c8f-9ae4-0e5c39359745"
   },
   "outputs": [
    {
     "data": {
      "text/plain": [
       "0         0\n",
       "1         0\n",
       "2         0\n",
       "3         0\n",
       "4         0\n",
       "       ... \n",
       "4208    100\n",
       "4209     79\n",
       "4210     73\n",
       "4211     74\n",
       "4212    100\n",
       "Name: high_cloud_cover_high_cld_lay, Length: 4213, dtype: int64"
      ]
     },
     "execution_count": 10,
     "metadata": {},
     "output_type": "execute_result"
    }
   ],
   "source": [
    "df_col"
   ]
  },
  {
   "cell_type": "markdown",
   "metadata": {
    "id": "NBmmYwJqb06f"
   },
   "source": [
    "so for creating the series we need to call the pd.Series() function"
   ]
  },
  {
   "cell_type": "code",
   "execution_count": 11,
   "metadata": {
    "id": "jU7BFcc9b3jj"
   },
   "outputs": [],
   "source": [
    "list_new = []\n",
    "for i in range(len(df_col)):\n",
    "  list_new.append(i)"
   ]
  },
  {
   "cell_type": "markdown",
   "metadata": {
    "id": "3__1wFbncbNG"
   },
   "source": [
    "so we are creating list here because we can't assign index manually due to large number of rows"
   ]
  },
  {
   "cell_type": "code",
   "execution_count": 12,
   "metadata": {
    "id": "WuRzddYl0D9r"
   },
   "outputs": [],
   "source": [
    "series = pd.Series(df_col, index=list_new)"
   ]
  },
  {
   "cell_type": "code",
   "execution_count": 13,
   "metadata": {
    "colab": {
     "base_uri": "https://localhost:8080/"
    },
    "id": "a2Nt8VnK5Cwq",
    "outputId": "4295b657-faee-4189-8687-9812f04d1ad8"
   },
   "outputs": [
    {
     "data": {
      "text/plain": [
       "0         0\n",
       "1         0\n",
       "2         0\n",
       "3         0\n",
       "4         0\n",
       "       ... \n",
       "4208    100\n",
       "4209     79\n",
       "4210     73\n",
       "4211     74\n",
       "4212    100\n",
       "Name: high_cloud_cover_high_cld_lay, Length: 4213, dtype: int64"
      ]
     },
     "execution_count": 13,
     "metadata": {},
     "output_type": "execute_result"
    }
   ],
   "source": [
    "series"
   ]
  },
  {
   "cell_type": "code",
   "execution_count": 14,
   "metadata": {
    "id": "wy5nPO905SdA"
   },
   "outputs": [],
   "source": [
    "import numpy as np"
   ]
  },
  {
   "cell_type": "markdown",
   "metadata": {
    "id": "2IpoKUNccyxW"
   },
   "source": []
  },
  {
   "cell_type": "code",
   "execution_count": 15,
   "metadata": {
    "id": "zo6g99NQ4fZS"
   },
   "outputs": [],
   "source": [
    "s = pd.Series(np.random.randn(len(series)),index = list_new)"
   ]
  },
  {
   "cell_type": "code",
   "execution_count": 16,
   "metadata": {
    "colab": {
     "base_uri": "https://localhost:8080/"
    },
    "id": "qGKN28oO5VqL",
    "outputId": "7b3634a7-695e-4bec-a124-582d221d2237"
   },
   "outputs": [
    {
     "data": {
      "text/plain": [
       "0       0.581750\n",
       "1      -1.047268\n",
       "2      -0.122251\n",
       "3      -1.080024\n",
       "4      -0.673740\n",
       "          ...   \n",
       "4208   -0.792413\n",
       "4209   -0.037955\n",
       "4210    1.446125\n",
       "4211    1.261629\n",
       "4212    0.560888\n",
       "Length: 4213, dtype: float64"
      ]
     },
     "execution_count": 16,
     "metadata": {},
     "output_type": "execute_result"
    }
   ],
   "source": [
    "s"
   ]
  },
  {
   "cell_type": "code",
   "execution_count": 17,
   "metadata": {
    "colab": {
     "base_uri": "https://localhost:8080/"
    },
    "id": "wBnomd5h0D1q",
    "outputId": "220ef6fb-fa21-4535-b2ce-0009c9f62fec"
   },
   "outputs": [
    {
     "data": {
      "text/plain": [
       "pandas.core.series.Series"
      ]
     },
     "execution_count": 17,
     "metadata": {},
     "output_type": "execute_result"
    }
   ],
   "source": [
    "type(series)"
   ]
  },
  {
   "cell_type": "code",
   "execution_count": 18,
   "metadata": {
    "colab": {
     "base_uri": "https://localhost:8080/"
    },
    "id": "gUhpWmbp0Dzr",
    "outputId": "9ac0d885-3df7-4241-cb07-094c5d9a7d93"
   },
   "outputs": [
    {
     "data": {
      "text/plain": [
       "Int64Index([   0,    1,    2,    3,    4,    5,    6,    7,    8,    9,\n",
       "            ...\n",
       "            4203, 4204, 4205, 4206, 4207, 4208, 4209, 4210, 4211, 4212],\n",
       "           dtype='int64', length=4213)"
      ]
     },
     "execution_count": 18,
     "metadata": {},
     "output_type": "execute_result"
    }
   ],
   "source": [
    "series.index"
   ]
  },
  {
   "cell_type": "code",
   "execution_count": 19,
   "metadata": {
    "id": "k1cyUUWS0Dw1"
   },
   "outputs": [],
   "source": [
    "s = pd.Series(np.random.randn(len(series)))"
   ]
  },
  {
   "cell_type": "markdown",
   "metadata": {
    "id": "QshRfU9d8lrm"
   },
   "source": [
    "### Series is ndarray-like"
   ]
  },
  {
   "cell_type": "code",
   "execution_count": 20,
   "metadata": {
    "colab": {
     "base_uri": "https://localhost:8080/"
    },
    "id": "Vg0nTbOf0DvP",
    "outputId": "df5edcb7-f427-4f9f-aba7-2809ab23e99f"
   },
   "outputs": [
    {
     "data": {
      "text/plain": [
       "0"
      ]
     },
     "execution_count": 20,
     "metadata": {},
     "output_type": "execute_result"
    }
   ],
   "source": [
    "series[0]"
   ]
  },
  {
   "cell_type": "code",
   "execution_count": 21,
   "metadata": {
    "colab": {
     "base_uri": "https://localhost:8080/"
    },
    "id": "N2j4UiRg0Dq_",
    "outputId": "166f7f2a-cba3-4f7d-e33a-83c939e16ade"
   },
   "outputs": [
    {
     "data": {
      "text/plain": [
       "0    0\n",
       "1    0\n",
       "2    0\n",
       "Name: high_cloud_cover_high_cld_lay, dtype: int64"
      ]
     },
     "execution_count": 21,
     "metadata": {},
     "output_type": "execute_result"
    }
   ],
   "source": [
    "series[:3]"
   ]
  },
  {
   "cell_type": "code",
   "execution_count": 22,
   "metadata": {
    "colab": {
     "base_uri": "https://localhost:8080/"
    },
    "id": "ciJDnpOv0Dpz",
    "outputId": "13dea7cc-a948-45a8-88b2-e37de04b443a"
   },
   "outputs": [
    {
     "data": {
      "text/plain": [
       "0        0\n",
       "1        0\n",
       "2        0\n",
       "3        0\n",
       "4        0\n",
       "      ... \n",
       "995      0\n",
       "996      6\n",
       "997      0\n",
       "998     88\n",
       "999    100\n",
       "Name: high_cloud_cover_high_cld_lay, Length: 1000, dtype: int64"
      ]
     },
     "execution_count": 22,
     "metadata": {},
     "output_type": "execute_result"
    }
   ],
   "source": [
    "series[:1000]"
   ]
  },
  {
   "cell_type": "code",
   "execution_count": 23,
   "metadata": {
    "colab": {
     "base_uri": "https://localhost:8080/"
    },
    "id": "hGgLNwdP7D1Q",
    "outputId": "6a010dad-633a-4521-fa0a-0f7a5feeaebd"
   },
   "outputs": [
    {
     "data": {
      "text/plain": [
       "10        3\n",
       "11        6\n",
       "14        3\n",
       "15      100\n",
       "16      100\n",
       "       ... \n",
       "4208    100\n",
       "4209     79\n",
       "4210     73\n",
       "4211     74\n",
       "4212    100\n",
       "Name: high_cloud_cover_high_cld_lay, Length: 1303, dtype: int64"
      ]
     },
     "execution_count": 23,
     "metadata": {},
     "output_type": "execute_result"
    }
   ],
   "source": [
    "series[series > series.median()]"
   ]
  },
  {
   "cell_type": "code",
   "execution_count": 24,
   "metadata": {
    "colab": {
     "base_uri": "https://localhost:8080/"
    },
    "id": "aNTxtLMi7Nc3",
    "outputId": "7c92e61e-38bb-4e5f-93e2-8e150542054e"
   },
   "outputs": [
    {
     "data": {
      "text/plain": [
       "4    0\n",
       "3    0\n",
       "1    0\n",
       "Name: high_cloud_cover_high_cld_lay, dtype: int64"
      ]
     },
     "execution_count": 24,
     "metadata": {},
     "output_type": "execute_result"
    }
   ],
   "source": [
    "series[[4,3,1]]"
   ]
  },
  {
   "cell_type": "code",
   "execution_count": 25,
   "metadata": {
    "colab": {
     "base_uri": "https://localhost:8080/"
    },
    "id": "B6ErTpok7Dye",
    "outputId": "bff99fc4-3a91-4aa9-f866-06a78e6dfc67"
   },
   "outputs": [
    {
     "data": {
      "text/plain": [
       "0       1.000000e+00\n",
       "1       1.000000e+00\n",
       "2       1.000000e+00\n",
       "3       1.000000e+00\n",
       "4       1.000000e+00\n",
       "            ...     \n",
       "4208    2.688117e+43\n",
       "4209    2.038281e+34\n",
       "4210    5.052394e+31\n",
       "4211    1.373383e+32\n",
       "4212    2.688117e+43\n",
       "Name: high_cloud_cover_high_cld_lay, Length: 4213, dtype: float64"
      ]
     },
     "execution_count": 25,
     "metadata": {},
     "output_type": "execute_result"
    }
   ],
   "source": [
    "np.exp(series)"
   ]
  },
  {
   "cell_type": "markdown",
   "metadata": {},
   "source": [
    "### Series is dict-like"
   ]
  },
  {
   "cell_type": "code",
   "execution_count": 26,
   "metadata": {
    "colab": {
     "base_uri": "https://localhost:8080/"
    },
    "id": "NZiWSXk47Dvu",
    "outputId": "30a34f89-42b0-4afd-afb3-9d80762ec331"
   },
   "outputs": [
    {
     "data": {
      "text/plain": [
       "dtype('int64')"
      ]
     },
     "execution_count": 26,
     "metadata": {},
     "output_type": "execute_result"
    }
   ],
   "source": [
    "series.dtype"
   ]
  },
  {
   "cell_type": "code",
   "execution_count": 27,
   "metadata": {
    "colab": {
     "base_uri": "https://localhost:8080/"
    },
    "id": "65Tj9PqE7DtS",
    "outputId": "95eac526-67ef-4ca7-982e-a86bc1791598"
   },
   "outputs": [
    {
     "data": {
      "text/plain": [
       "<PandasArray>\n",
       "[  0,   0,   0,   0,   0,   0,   0,   0,   0,   0,\n",
       " ...\n",
       "  22,  33,  13,  22, 100, 100,  79,  73,  74, 100]\n",
       "Length: 4213, dtype: int64"
      ]
     },
     "execution_count": 27,
     "metadata": {},
     "output_type": "execute_result"
    }
   ],
   "source": [
    "series.array"
   ]
  },
  {
   "cell_type": "code",
   "execution_count": 28,
   "metadata": {
    "colab": {
     "base_uri": "https://localhost:8080/"
    },
    "id": "1V_ePmpM7DqX",
    "outputId": "777ddc5d-e50a-4b4a-ed59-78f01e1b8df8"
   },
   "outputs": [
    {
     "data": {
      "text/plain": [
       "array([  0,   0,   0, ...,  73,  74, 100], dtype=int64)"
      ]
     },
     "execution_count": 28,
     "metadata": {},
     "output_type": "execute_result"
    }
   ],
   "source": [
    "series.to_numpy()"
   ]
  },
  {
   "cell_type": "code",
   "execution_count": 29,
   "metadata": {
    "colab": {
     "base_uri": "https://localhost:8080/"
    },
    "id": "0j7lKvDK7DnU",
    "outputId": "00d6f34b-4056-4a4e-a02e-d51164f531b4"
   },
   "outputs": [
    {
     "data": {
      "text/plain": [
       "0"
      ]
     },
     "execution_count": 29,
     "metadata": {},
     "output_type": "execute_result"
    }
   ],
   "source": [
    "series[1]"
   ]
  },
  {
   "cell_type": "markdown",
   "metadata": {
    "id": "FKFiQHJM8Zvz"
   },
   "source": [
    "### Vectorized operations and label alignment with series"
   ]
  },
  {
   "cell_type": "code",
   "execution_count": 33,
   "metadata": {
    "id": "uu6Uhx2e71Ac"
   },
   "outputs": [],
   "source": [
    "series_n = series+series"
   ]
  },
  {
   "cell_type": "code",
   "execution_count": 34,
   "metadata": {
    "colab": {
     "base_uri": "https://localhost:8080/"
    },
    "id": "AA46pVVj8rFi",
    "outputId": "9220e86e-a903-4dff-f32c-502f72aca049"
   },
   "outputs": [
    {
     "data": {
      "text/plain": [
       "0         0\n",
       "1         0\n",
       "2         0\n",
       "3         0\n",
       "4         0\n",
       "       ... \n",
       "4208    200\n",
       "4209    158\n",
       "4210    146\n",
       "4211    148\n",
       "4212    200\n",
       "Name: high_cloud_cover_high_cld_lay, Length: 4213, dtype: int64"
      ]
     },
     "execution_count": 34,
     "metadata": {},
     "output_type": "execute_result"
    }
   ],
   "source": [
    "series_n"
   ]
  },
  {
   "cell_type": "code",
   "execution_count": 35,
   "metadata": {
    "id": "E632lMnZ8rCq"
   },
   "outputs": [],
   "source": [
    "series_mul = series * 3"
   ]
  },
  {
   "cell_type": "code",
   "execution_count": 36,
   "metadata": {
    "colab": {
     "base_uri": "https://localhost:8080/"
    },
    "id": "m0rwBMmn8q_s",
    "outputId": "b956d326-6d81-4031-a4b3-46910888b651"
   },
   "outputs": [
    {
     "data": {
      "text/plain": [
       "0         0\n",
       "1         0\n",
       "2         0\n",
       "3         0\n",
       "4         0\n",
       "       ... \n",
       "4208    300\n",
       "4209    237\n",
       "4210    219\n",
       "4211    222\n",
       "4212    300\n",
       "Name: high_cloud_cover_high_cld_lay, Length: 4213, dtype: int64"
      ]
     },
     "execution_count": 36,
     "metadata": {},
     "output_type": "execute_result"
    }
   ],
   "source": [
    "series_mul"
   ]
  },
  {
   "cell_type": "code",
   "execution_count": 37,
   "metadata": {
    "colab": {
     "base_uri": "https://localhost:8080/"
    },
    "id": "9oxJEtXN8q8r",
    "outputId": "94384204-299e-433b-9ebe-7c6606205a3c"
   },
   "outputs": [
    {
     "data": {
      "text/plain": [
       "0       1.000000e+00\n",
       "1       1.000000e+00\n",
       "2       1.000000e+00\n",
       "3       1.000000e+00\n",
       "4       1.000000e+00\n",
       "            ...     \n",
       "4208    2.688117e+43\n",
       "4209    2.038281e+34\n",
       "4210    5.052394e+31\n",
       "4211    1.373383e+32\n",
       "4212    2.688117e+43\n",
       "Name: high_cloud_cover_high_cld_lay, Length: 4213, dtype: float64"
      ]
     },
     "execution_count": 37,
     "metadata": {},
     "output_type": "execute_result"
    }
   ],
   "source": [
    "np.exp(series)"
   ]
  },
  {
   "cell_type": "code",
   "execution_count": 38,
   "metadata": {
    "id": "phwAHKTy8q5r"
   },
   "outputs": [],
   "source": [
    "a = series[1:] + series[:-1]"
   ]
  },
  {
   "cell_type": "code",
   "execution_count": 39,
   "metadata": {
    "colab": {
     "base_uri": "https://localhost:8080/"
    },
    "id": "jLpOvKd18q2y",
    "outputId": "3beb4470-23f0-41c1-8a52-4699bb75ad57"
   },
   "outputs": [
    {
     "data": {
      "text/plain": [
       "0         NaN\n",
       "1         0.0\n",
       "2         0.0\n",
       "3         0.0\n",
       "4         0.0\n",
       "        ...  \n",
       "4208    200.0\n",
       "4209    158.0\n",
       "4210    146.0\n",
       "4211    148.0\n",
       "4212      NaN\n",
       "Name: high_cloud_cover_high_cld_lay, Length: 4213, dtype: float64"
      ]
     },
     "execution_count": 39,
     "metadata": {},
     "output_type": "execute_result"
    }
   ],
   "source": [
    "a"
   ]
  },
  {
   "cell_type": "markdown",
   "metadata": {
    "id": "l8KP61vB9GJl"
   },
   "source": [
    "### Name attribute"
   ]
  },
  {
   "cell_type": "markdown",
   "metadata": {
    "id": "5Z-bzzpidaLd"
   },
   "source": [
    "We can assign the name to each series as per our wish as mentioned below"
   ]
  },
  {
   "cell_type": "code",
   "execution_count": 40,
   "metadata": {
    "id": "8vMV4uIy8qzq"
   },
   "outputs": [],
   "source": [
    "series_new = pd.Series(series,name=\"Pranav\")"
   ]
  },
  {
   "cell_type": "code",
   "execution_count": 41,
   "metadata": {
    "colab": {
     "base_uri": "https://localhost:8080/"
    },
    "id": "jIz4kAsk8qw7",
    "outputId": "1107d8a7-b860-4e50-fca8-100022960e9a"
   },
   "outputs": [
    {
     "data": {
      "text/plain": [
       "0         0\n",
       "1         0\n",
       "2         0\n",
       "3         0\n",
       "4         0\n",
       "       ... \n",
       "4208    100\n",
       "4209     79\n",
       "4210     73\n",
       "4211     74\n",
       "4212    100\n",
       "Name: Pranav, Length: 4213, dtype: int64"
      ]
     },
     "execution_count": 41,
     "metadata": {},
     "output_type": "execute_result"
    }
   ],
   "source": [
    "series_new"
   ]
  },
  {
   "cell_type": "code",
   "execution_count": 42,
   "metadata": {
    "id": "0uiZS97x9Qir"
   },
   "outputs": [],
   "source": [
    "series_abhi = series_new.rename(\"abhinav-me\")"
   ]
  },
  {
   "cell_type": "code",
   "execution_count": 43,
   "metadata": {
    "colab": {
     "base_uri": "https://localhost:8080/",
     "height": 36
    },
    "id": "IWu_IvLf9QfQ",
    "outputId": "d7aaa7b8-110d-452e-de3f-671162d816d4"
   },
   "outputs": [
    {
     "data": {
      "text/plain": [
       "'abhinav-me'"
      ]
     },
     "execution_count": 43,
     "metadata": {},
     "output_type": "execute_result"
    }
   ],
   "source": [
    "series_abhi.name"
   ]
  },
  {
   "cell_type": "markdown",
   "metadata": {
    "id": "aehr7ZNI9fUi"
   },
   "source": [
    "## DataFrame"
   ]
  },
  {
   "cell_type": "code",
   "execution_count": 44,
   "metadata": {
    "id": "qLF0fGXP-DQR"
   },
   "outputs": [],
   "source": [
    "list = []\n",
    "for i in range(len(series)):\n",
    "  list.append(i)"
   ]
  },
  {
   "cell_type": "code",
   "execution_count": 45,
   "metadata": {
    "id": "gCEjU-qG-un3"
   },
   "outputs": [],
   "source": [
    "list_2 = []\n",
    "i = 1\n",
    "for i in range(len(series)):\n",
    "  list_2.append(i)"
   ]
  },
  {
   "cell_type": "markdown",
   "metadata": {
    "id": "i6vbFm6BdkX-"
   },
   "source": [
    "Here we create two dictionaries"
   ]
  },
  {
   "cell_type": "code",
   "execution_count": 46,
   "metadata": {
    "id": "SnjTo23g969k"
   },
   "outputs": [],
   "source": [
    "d1 = {\n",
    "    \"one\":pd.Series(series, index=list),\n",
    "    \"two\":pd.Series(series_mul, index=list_2),\n",
    "}"
   ]
  },
  {
   "cell_type": "code",
   "execution_count": 47,
   "metadata": {
    "colab": {
     "base_uri": "https://localhost:8080/"
    },
    "id": "xgYBnnqy-evr",
    "outputId": "1bfcfe72-ece5-4178-d22a-f7c0c7f19cf5"
   },
   "outputs": [
    {
     "data": {
      "text/plain": [
       "{'one': 0         0\n",
       " 1         0\n",
       " 2         0\n",
       " 3         0\n",
       " 4         0\n",
       "        ... \n",
       " 4208    100\n",
       " 4209     79\n",
       " 4210     73\n",
       " 4211     74\n",
       " 4212    100\n",
       " Name: high_cloud_cover_high_cld_lay, Length: 4213, dtype: int64,\n",
       " 'two': 0         0\n",
       " 1         0\n",
       " 2         0\n",
       " 3         0\n",
       " 4         0\n",
       "        ... \n",
       " 4208    300\n",
       " 4209    237\n",
       " 4210    219\n",
       " 4211    222\n",
       " 4212    300\n",
       " Name: high_cloud_cover_high_cld_lay, Length: 4213, dtype: int64}"
      ]
     },
     "execution_count": 47,
     "metadata": {},
     "output_type": "execute_result"
    }
   ],
   "source": [
    "d1"
   ]
  },
  {
   "cell_type": "code",
   "execution_count": 48,
   "metadata": {
    "colab": {
     "base_uri": "https://localhost:8080/"
    },
    "id": "uHuiVp-mAYoE",
    "outputId": "47079ffb-03f5-427e-d2b5-8d5668932a25"
   },
   "outputs": [
    {
     "data": {
      "text/plain": [
       "dict"
      ]
     },
     "execution_count": 48,
     "metadata": {},
     "output_type": "execute_result"
    }
   ],
   "source": [
    "type(d1)"
   ]
  },
  {
   "cell_type": "code",
   "execution_count": 49,
   "metadata": {
    "id": "ee9mgIF0AyzI"
   },
   "outputs": [],
   "source": [
    "d = {\n",
    "    \"abhi\": pd.Series(series),\n",
    "    \"pranav\": pd.Series(series*2)\n",
    "}"
   ]
  },
  {
   "cell_type": "code",
   "execution_count": 50,
   "metadata": {
    "id": "U0sLhaf29QYa"
   },
   "outputs": [],
   "source": [
    "df_d = pd.DataFrame.from_dict(d)"
   ]
  },
  {
   "cell_type": "code",
   "execution_count": 51,
   "metadata": {
    "colab": {
     "base_uri": "https://localhost:8080/",
     "height": 424
    },
    "id": "oHpzZTXA9QVe",
    "outputId": "d74d0b47-19bb-426a-80c7-93264d1aaea9"
   },
   "outputs": [
    {
     "data": {
      "text/html": [
       "<div>\n",
       "<style scoped>\n",
       "    .dataframe tbody tr th:only-of-type {\n",
       "        vertical-align: middle;\n",
       "    }\n",
       "\n",
       "    .dataframe tbody tr th {\n",
       "        vertical-align: top;\n",
       "    }\n",
       "\n",
       "    .dataframe thead th {\n",
       "        text-align: right;\n",
       "    }\n",
       "</style>\n",
       "<table border=\"1\" class=\"dataframe\">\n",
       "  <thead>\n",
       "    <tr style=\"text-align: right;\">\n",
       "      <th></th>\n",
       "      <th>abhi</th>\n",
       "      <th>pranav</th>\n",
       "    </tr>\n",
       "  </thead>\n",
       "  <tbody>\n",
       "    <tr>\n",
       "      <th>0</th>\n",
       "      <td>0</td>\n",
       "      <td>0</td>\n",
       "    </tr>\n",
       "    <tr>\n",
       "      <th>1</th>\n",
       "      <td>0</td>\n",
       "      <td>0</td>\n",
       "    </tr>\n",
       "    <tr>\n",
       "      <th>2</th>\n",
       "      <td>0</td>\n",
       "      <td>0</td>\n",
       "    </tr>\n",
       "    <tr>\n",
       "      <th>3</th>\n",
       "      <td>0</td>\n",
       "      <td>0</td>\n",
       "    </tr>\n",
       "    <tr>\n",
       "      <th>4</th>\n",
       "      <td>0</td>\n",
       "      <td>0</td>\n",
       "    </tr>\n",
       "    <tr>\n",
       "      <th>...</th>\n",
       "      <td>...</td>\n",
       "      <td>...</td>\n",
       "    </tr>\n",
       "    <tr>\n",
       "      <th>4208</th>\n",
       "      <td>100</td>\n",
       "      <td>200</td>\n",
       "    </tr>\n",
       "    <tr>\n",
       "      <th>4209</th>\n",
       "      <td>79</td>\n",
       "      <td>158</td>\n",
       "    </tr>\n",
       "    <tr>\n",
       "      <th>4210</th>\n",
       "      <td>73</td>\n",
       "      <td>146</td>\n",
       "    </tr>\n",
       "    <tr>\n",
       "      <th>4211</th>\n",
       "      <td>74</td>\n",
       "      <td>148</td>\n",
       "    </tr>\n",
       "    <tr>\n",
       "      <th>4212</th>\n",
       "      <td>100</td>\n",
       "      <td>200</td>\n",
       "    </tr>\n",
       "  </tbody>\n",
       "</table>\n",
       "<p>4213 rows × 2 columns</p>\n",
       "</div>"
      ],
      "text/plain": [
       "      abhi  pranav\n",
       "0        0       0\n",
       "1        0       0\n",
       "2        0       0\n",
       "3        0       0\n",
       "4        0       0\n",
       "...    ...     ...\n",
       "4208   100     200\n",
       "4209    79     158\n",
       "4210    73     146\n",
       "4211    74     148\n",
       "4212   100     200\n",
       "\n",
       "[4213 rows x 2 columns]"
      ]
     },
     "execution_count": 51,
     "metadata": {},
     "output_type": "execute_result"
    }
   ],
   "source": [
    "df_d"
   ]
  },
  {
   "cell_type": "code",
   "execution_count": 52,
   "metadata": {
    "colab": {
     "base_uri": "https://localhost:8080/",
     "height": 424
    },
    "id": "P9-3kK3k9QSP",
    "outputId": "dcbfea98-55e6-4cd1-eb88-c321b872f6db"
   },
   "outputs": [
    {
     "data": {
      "text/html": [
       "<div>\n",
       "<style scoped>\n",
       "    .dataframe tbody tr th:only-of-type {\n",
       "        vertical-align: middle;\n",
       "    }\n",
       "\n",
       "    .dataframe tbody tr th {\n",
       "        vertical-align: top;\n",
       "    }\n",
       "\n",
       "    .dataframe thead th {\n",
       "        text-align: right;\n",
       "    }\n",
       "</style>\n",
       "<table border=\"1\" class=\"dataframe\">\n",
       "  <thead>\n",
       "    <tr style=\"text-align: right;\">\n",
       "      <th></th>\n",
       "      <th>abhi</th>\n",
       "      <th>pranav</th>\n",
       "    </tr>\n",
       "  </thead>\n",
       "  <tbody>\n",
       "    <tr>\n",
       "      <th>0</th>\n",
       "      <td>0</td>\n",
       "      <td>0</td>\n",
       "    </tr>\n",
       "    <tr>\n",
       "      <th>1</th>\n",
       "      <td>0</td>\n",
       "      <td>0</td>\n",
       "    </tr>\n",
       "    <tr>\n",
       "      <th>2</th>\n",
       "      <td>0</td>\n",
       "      <td>0</td>\n",
       "    </tr>\n",
       "    <tr>\n",
       "      <th>3</th>\n",
       "      <td>0</td>\n",
       "      <td>0</td>\n",
       "    </tr>\n",
       "    <tr>\n",
       "      <th>4</th>\n",
       "      <td>0</td>\n",
       "      <td>0</td>\n",
       "    </tr>\n",
       "    <tr>\n",
       "      <th>...</th>\n",
       "      <td>...</td>\n",
       "      <td>...</td>\n",
       "    </tr>\n",
       "    <tr>\n",
       "      <th>4208</th>\n",
       "      <td>100</td>\n",
       "      <td>200</td>\n",
       "    </tr>\n",
       "    <tr>\n",
       "      <th>4209</th>\n",
       "      <td>79</td>\n",
       "      <td>158</td>\n",
       "    </tr>\n",
       "    <tr>\n",
       "      <th>4210</th>\n",
       "      <td>73</td>\n",
       "      <td>146</td>\n",
       "    </tr>\n",
       "    <tr>\n",
       "      <th>4211</th>\n",
       "      <td>74</td>\n",
       "      <td>148</td>\n",
       "    </tr>\n",
       "    <tr>\n",
       "      <th>4212</th>\n",
       "      <td>100</td>\n",
       "      <td>200</td>\n",
       "    </tr>\n",
       "  </tbody>\n",
       "</table>\n",
       "<p>4213 rows × 2 columns</p>\n",
       "</div>"
      ],
      "text/plain": [
       "      abhi  pranav\n",
       "0        0       0\n",
       "1        0       0\n",
       "2        0       0\n",
       "3        0       0\n",
       "4        0       0\n",
       "...    ...     ...\n",
       "4208   100     200\n",
       "4209    79     158\n",
       "4210    73     146\n",
       "4211    74     148\n",
       "4212   100     200\n",
       "\n",
       "[4213 rows x 2 columns]"
      ]
     },
     "execution_count": 52,
     "metadata": {},
     "output_type": "execute_result"
    }
   ],
   "source": [
    "pd.DataFrame(d,index=list)"
   ]
  },
  {
   "cell_type": "code",
   "execution_count": 53,
   "metadata": {
    "colab": {
     "base_uri": "https://localhost:8080/"
    },
    "id": "5reVSi9IBW3x",
    "outputId": "e6a2776d-e051-4594-f69b-fc2ff758e3e6"
   },
   "outputs": [
    {
     "data": {
      "text/plain": [
       "Int64Index([   0,    1,    2,    3,    4,    5,    6,    7,    8,    9,\n",
       "            ...\n",
       "            4203, 4204, 4205, 4206, 4207, 4208, 4209, 4210, 4211, 4212],\n",
       "           dtype='int64', length=4213)"
      ]
     },
     "execution_count": 53,
     "metadata": {},
     "output_type": "execute_result"
    }
   ],
   "source": [
    "df_d.index"
   ]
  },
  {
   "cell_type": "code",
   "execution_count": 54,
   "metadata": {
    "colab": {
     "base_uri": "https://localhost:8080/"
    },
    "id": "HLebFtgcBW1Z",
    "outputId": "8956544a-4dfd-4bb7-99f1-ee08b24e6e7e"
   },
   "outputs": [
    {
     "data": {
      "text/plain": [
       "Index(['abhi', 'pranav'], dtype='object')"
      ]
     },
     "execution_count": 54,
     "metadata": {},
     "output_type": "execute_result"
    }
   ],
   "source": [
    "df_d.columns"
   ]
  },
  {
   "cell_type": "markdown",
   "metadata": {
    "id": "BeHqfDxSBol4"
   },
   "source": [
    "##From Dict of ndarrays/lists"
   ]
  },
  {
   "cell_type": "code",
   "execution_count": 55,
   "metadata": {
    "id": "5NC06e4iCHTS"
   },
   "outputs": [],
   "source": [
    "series_rev = series.iloc[::-1]"
   ]
  },
  {
   "cell_type": "code",
   "execution_count": 56,
   "metadata": {
    "colab": {
     "base_uri": "https://localhost:8080/"
    },
    "id": "NjhVzZP3CY84",
    "outputId": "3d72152d-51ef-4afd-c82f-23e1fe0ea582"
   },
   "outputs": [
    {
     "data": {
      "text/plain": [
       "4212    100\n",
       "4211     74\n",
       "4210     73\n",
       "4209     79\n",
       "4208    100\n",
       "       ... \n",
       "4         0\n",
       "3         0\n",
       "2         0\n",
       "1         0\n",
       "0         0\n",
       "Name: high_cloud_cover_high_cld_lay, Length: 4213, dtype: int64"
      ]
     },
     "execution_count": 56,
     "metadata": {},
     "output_type": "execute_result"
    }
   ],
   "source": [
    "series_rev"
   ]
  },
  {
   "cell_type": "markdown",
   "metadata": {
    "id": "YNmqvr0id9FB"
   },
   "source": [
    "here we create the dictionaries of series"
   ]
  },
  {
   "cell_type": "code",
   "execution_count": 57,
   "metadata": {
    "id": "4m7xKA1pBWze"
   },
   "outputs": [],
   "source": [
    "d = {\"one\": series, \"two\": series_rev}"
   ]
  },
  {
   "cell_type": "code",
   "execution_count": 58,
   "metadata": {
    "id": "YnOxD0s5BWw2"
   },
   "outputs": [],
   "source": [
    "def1 = pd.DataFrame(d,index=list)"
   ]
  },
  {
   "cell_type": "code",
   "execution_count": 59,
   "metadata": {
    "colab": {
     "base_uri": "https://localhost:8080/",
     "height": 424
    },
    "id": "YaXhrPpWeDBK",
    "outputId": "06b156b0-c02e-4528-dc46-3085dcd7d2d3"
   },
   "outputs": [
    {
     "data": {
      "text/html": [
       "<div>\n",
       "<style scoped>\n",
       "    .dataframe tbody tr th:only-of-type {\n",
       "        vertical-align: middle;\n",
       "    }\n",
       "\n",
       "    .dataframe tbody tr th {\n",
       "        vertical-align: top;\n",
       "    }\n",
       "\n",
       "    .dataframe thead th {\n",
       "        text-align: right;\n",
       "    }\n",
       "</style>\n",
       "<table border=\"1\" class=\"dataframe\">\n",
       "  <thead>\n",
       "    <tr style=\"text-align: right;\">\n",
       "      <th></th>\n",
       "      <th>one</th>\n",
       "      <th>two</th>\n",
       "    </tr>\n",
       "  </thead>\n",
       "  <tbody>\n",
       "    <tr>\n",
       "      <th>0</th>\n",
       "      <td>0</td>\n",
       "      <td>0</td>\n",
       "    </tr>\n",
       "    <tr>\n",
       "      <th>1</th>\n",
       "      <td>0</td>\n",
       "      <td>0</td>\n",
       "    </tr>\n",
       "    <tr>\n",
       "      <th>2</th>\n",
       "      <td>0</td>\n",
       "      <td>0</td>\n",
       "    </tr>\n",
       "    <tr>\n",
       "      <th>3</th>\n",
       "      <td>0</td>\n",
       "      <td>0</td>\n",
       "    </tr>\n",
       "    <tr>\n",
       "      <th>4</th>\n",
       "      <td>0</td>\n",
       "      <td>0</td>\n",
       "    </tr>\n",
       "    <tr>\n",
       "      <th>...</th>\n",
       "      <td>...</td>\n",
       "      <td>...</td>\n",
       "    </tr>\n",
       "    <tr>\n",
       "      <th>4208</th>\n",
       "      <td>100</td>\n",
       "      <td>100</td>\n",
       "    </tr>\n",
       "    <tr>\n",
       "      <th>4209</th>\n",
       "      <td>79</td>\n",
       "      <td>79</td>\n",
       "    </tr>\n",
       "    <tr>\n",
       "      <th>4210</th>\n",
       "      <td>73</td>\n",
       "      <td>73</td>\n",
       "    </tr>\n",
       "    <tr>\n",
       "      <th>4211</th>\n",
       "      <td>74</td>\n",
       "      <td>74</td>\n",
       "    </tr>\n",
       "    <tr>\n",
       "      <th>4212</th>\n",
       "      <td>100</td>\n",
       "      <td>100</td>\n",
       "    </tr>\n",
       "  </tbody>\n",
       "</table>\n",
       "<p>4213 rows × 2 columns</p>\n",
       "</div>"
      ],
      "text/plain": [
       "      one  two\n",
       "0       0    0\n",
       "1       0    0\n",
       "2       0    0\n",
       "3       0    0\n",
       "4       0    0\n",
       "...   ...  ...\n",
       "4208  100  100\n",
       "4209   79   79\n",
       "4210   73   73\n",
       "4211   74   74\n",
       "4212  100  100\n",
       "\n",
       "[4213 rows x 2 columns]"
      ]
     },
     "execution_count": 59,
     "metadata": {},
     "output_type": "execute_result"
    }
   ],
   "source": [
    "def1"
   ]
  },
  {
   "cell_type": "markdown",
   "metadata": {
    "id": "_lQ3cyHsDe5T"
   },
   "source": [
    "##From a Series"
   ]
  },
  {
   "cell_type": "code",
   "execution_count": 60,
   "metadata": {
    "id": "0afMKK1jBWuo"
   },
   "outputs": [],
   "source": [
    "ser = pd.Series(series,index=list,name=\"ser\")"
   ]
  },
  {
   "cell_type": "code",
   "execution_count": 61,
   "metadata": {
    "colab": {
     "base_uri": "https://localhost:8080/",
     "height": 424
    },
    "id": "aTsXw6GzBWsc",
    "outputId": "c644e46e-b229-4b8c-97b8-7f35da198301"
   },
   "outputs": [
    {
     "data": {
      "text/html": [
       "<div>\n",
       "<style scoped>\n",
       "    .dataframe tbody tr th:only-of-type {\n",
       "        vertical-align: middle;\n",
       "    }\n",
       "\n",
       "    .dataframe tbody tr th {\n",
       "        vertical-align: top;\n",
       "    }\n",
       "\n",
       "    .dataframe thead th {\n",
       "        text-align: right;\n",
       "    }\n",
       "</style>\n",
       "<table border=\"1\" class=\"dataframe\">\n",
       "  <thead>\n",
       "    <tr style=\"text-align: right;\">\n",
       "      <th></th>\n",
       "      <th>ser</th>\n",
       "    </tr>\n",
       "  </thead>\n",
       "  <tbody>\n",
       "    <tr>\n",
       "      <th>0</th>\n",
       "      <td>0</td>\n",
       "    </tr>\n",
       "    <tr>\n",
       "      <th>1</th>\n",
       "      <td>0</td>\n",
       "    </tr>\n",
       "    <tr>\n",
       "      <th>2</th>\n",
       "      <td>0</td>\n",
       "    </tr>\n",
       "    <tr>\n",
       "      <th>3</th>\n",
       "      <td>0</td>\n",
       "    </tr>\n",
       "    <tr>\n",
       "      <th>4</th>\n",
       "      <td>0</td>\n",
       "    </tr>\n",
       "    <tr>\n",
       "      <th>...</th>\n",
       "      <td>...</td>\n",
       "    </tr>\n",
       "    <tr>\n",
       "      <th>4208</th>\n",
       "      <td>100</td>\n",
       "    </tr>\n",
       "    <tr>\n",
       "      <th>4209</th>\n",
       "      <td>79</td>\n",
       "    </tr>\n",
       "    <tr>\n",
       "      <th>4210</th>\n",
       "      <td>73</td>\n",
       "    </tr>\n",
       "    <tr>\n",
       "      <th>4211</th>\n",
       "      <td>74</td>\n",
       "    </tr>\n",
       "    <tr>\n",
       "      <th>4212</th>\n",
       "      <td>100</td>\n",
       "    </tr>\n",
       "  </tbody>\n",
       "</table>\n",
       "<p>4213 rows × 1 columns</p>\n",
       "</div>"
      ],
      "text/plain": [
       "      ser\n",
       "0       0\n",
       "1       0\n",
       "2       0\n",
       "3       0\n",
       "4       0\n",
       "...   ...\n",
       "4208  100\n",
       "4209   79\n",
       "4210   73\n",
       "4211   74\n",
       "4212  100\n",
       "\n",
       "[4213 rows x 1 columns]"
      ]
     },
     "execution_count": 61,
     "metadata": {},
     "output_type": "execute_result"
    }
   ],
   "source": [
    "pd.DataFrame(ser)"
   ]
  },
  {
   "cell_type": "markdown",
   "metadata": {
    "id": "9nwZxdoKDuNI"
   },
   "source": [
    "##From a list of namedtuples"
   ]
  },
  {
   "cell_type": "code",
   "execution_count": 62,
   "metadata": {
    "colab": {
     "base_uri": "https://localhost:8080/",
     "height": 143
    },
    "id": "jw_MnNo5BWgm",
    "outputId": "84fb66c7-008c-4521-ea46-cfe6f162eeae"
   },
   "outputs": [
    {
     "data": {
      "text/html": [
       "<div>\n",
       "<style scoped>\n",
       "    .dataframe tbody tr th:only-of-type {\n",
       "        vertical-align: middle;\n",
       "    }\n",
       "\n",
       "    .dataframe tbody tr th {\n",
       "        vertical-align: top;\n",
       "    }\n",
       "\n",
       "    .dataframe thead th {\n",
       "        text-align: right;\n",
       "    }\n",
       "</style>\n",
       "<table border=\"1\" class=\"dataframe\">\n",
       "  <thead>\n",
       "    <tr style=\"text-align: right;\">\n",
       "      <th></th>\n",
       "      <th>x</th>\n",
       "      <th>y</th>\n",
       "    </tr>\n",
       "  </thead>\n",
       "  <tbody>\n",
       "    <tr>\n",
       "      <th>0</th>\n",
       "      <td>0</td>\n",
       "      <td>0</td>\n",
       "    </tr>\n",
       "    <tr>\n",
       "      <th>1</th>\n",
       "      <td>0</td>\n",
       "      <td>3</td>\n",
       "    </tr>\n",
       "    <tr>\n",
       "      <th>2</th>\n",
       "      <td>2</td>\n",
       "      <td>3</td>\n",
       "    </tr>\n",
       "  </tbody>\n",
       "</table>\n",
       "</div>"
      ],
      "text/plain": [
       "   x  y\n",
       "0  0  0\n",
       "1  0  3\n",
       "2  2  3"
      ]
     },
     "execution_count": 62,
     "metadata": {},
     "output_type": "execute_result"
    }
   ],
   "source": [
    "from collections import namedtuple\n",
    "Point = namedtuple(\"Point\", \"x y\")\n",
    "\n",
    "pd.DataFrame([Point(0, 0), Point(0, 3), (2, 3)])"
   ]
  },
  {
   "cell_type": "code",
   "execution_count": 63,
   "metadata": {
    "colab": {
     "base_uri": "https://localhost:8080/"
    },
    "id": "kDL97asOBWbn",
    "outputId": "f2c7df54-c7ff-47d5-ed7e-70ed6b3d4581"
   },
   "outputs": [
    {
     "data": {
      "text/plain": [
       "pandas.core.series.Series"
      ]
     },
     "execution_count": 63,
     "metadata": {},
     "output_type": "execute_result"
    }
   ],
   "source": [
    "type(ser)"
   ]
  },
  {
   "cell_type": "code",
   "execution_count": 64,
   "metadata": {
    "colab": {
     "base_uri": "https://localhost:8080/",
     "height": 143
    },
    "id": "LERWAncwBWZe",
    "outputId": "11ef845e-75dd-4d8f-8841-8643c8580e13"
   },
   "outputs": [
    {
     "data": {
      "text/html": [
       "<div>\n",
       "<style scoped>\n",
       "    .dataframe tbody tr th:only-of-type {\n",
       "        vertical-align: middle;\n",
       "    }\n",
       "\n",
       "    .dataframe tbody tr th {\n",
       "        vertical-align: top;\n",
       "    }\n",
       "\n",
       "    .dataframe thead th {\n",
       "        text-align: right;\n",
       "    }\n",
       "</style>\n",
       "<table border=\"1\" class=\"dataframe\">\n",
       "  <thead>\n",
       "    <tr style=\"text-align: right;\">\n",
       "      <th></th>\n",
       "      <th>x</th>\n",
       "      <th>y</th>\n",
       "    </tr>\n",
       "  </thead>\n",
       "  <tbody>\n",
       "    <tr>\n",
       "      <th>0</th>\n",
       "      <td>0</td>\n",
       "      <td>0</td>\n",
       "    </tr>\n",
       "    <tr>\n",
       "      <th>1</th>\n",
       "      <td>0</td>\n",
       "      <td>3</td>\n",
       "    </tr>\n",
       "    <tr>\n",
       "      <th>2</th>\n",
       "      <td>2</td>\n",
       "      <td>3</td>\n",
       "    </tr>\n",
       "  </tbody>\n",
       "</table>\n",
       "</div>"
      ],
      "text/plain": [
       "   x  y\n",
       "0  0  0\n",
       "1  0  3\n",
       "2  2  3"
      ]
     },
     "execution_count": 64,
     "metadata": {},
     "output_type": "execute_result"
    }
   ],
   "source": [
    "from dataclasses import make_dataclass\n",
    "\n",
    "Point = make_dataclass(\"Point\", [(\"x\", int), (\"y\", int)])\n",
    "\n",
    "pd.DataFrame([Point(0, 0), Point(0, 3), Point(2, 3)])"
   ]
  },
  {
   "cell_type": "markdown",
   "metadata": {
    "id": "6q1KBJo0FdTS"
   },
   "source": [
    "##Alternate Constructors"
   ]
  },
  {
   "cell_type": "code",
   "execution_count": 65,
   "metadata": {
    "colab": {
     "base_uri": "https://localhost:8080/",
     "height": 424
    },
    "id": "2qs9wmkpBWWF",
    "outputId": "fb21b6db-4298-428d-c36a-0fc21c34701a"
   },
   "outputs": [
    {
     "data": {
      "text/html": [
       "<div>\n",
       "<style scoped>\n",
       "    .dataframe tbody tr th:only-of-type {\n",
       "        vertical-align: middle;\n",
       "    }\n",
       "\n",
       "    .dataframe tbody tr th {\n",
       "        vertical-align: top;\n",
       "    }\n",
       "\n",
       "    .dataframe thead th {\n",
       "        text-align: right;\n",
       "    }\n",
       "</style>\n",
       "<table border=\"1\" class=\"dataframe\">\n",
       "  <thead>\n",
       "    <tr style=\"text-align: right;\">\n",
       "      <th></th>\n",
       "      <th>A</th>\n",
       "      <th>B</th>\n",
       "    </tr>\n",
       "  </thead>\n",
       "  <tbody>\n",
       "    <tr>\n",
       "      <th>0</th>\n",
       "      <td>0</td>\n",
       "      <td>0</td>\n",
       "    </tr>\n",
       "    <tr>\n",
       "      <th>1</th>\n",
       "      <td>0</td>\n",
       "      <td>0</td>\n",
       "    </tr>\n",
       "    <tr>\n",
       "      <th>2</th>\n",
       "      <td>0</td>\n",
       "      <td>0</td>\n",
       "    </tr>\n",
       "    <tr>\n",
       "      <th>3</th>\n",
       "      <td>0</td>\n",
       "      <td>0</td>\n",
       "    </tr>\n",
       "    <tr>\n",
       "      <th>4</th>\n",
       "      <td>0</td>\n",
       "      <td>0</td>\n",
       "    </tr>\n",
       "    <tr>\n",
       "      <th>...</th>\n",
       "      <td>...</td>\n",
       "      <td>...</td>\n",
       "    </tr>\n",
       "    <tr>\n",
       "      <th>4208</th>\n",
       "      <td>100</td>\n",
       "      <td>200</td>\n",
       "    </tr>\n",
       "    <tr>\n",
       "      <th>4209</th>\n",
       "      <td>79</td>\n",
       "      <td>158</td>\n",
       "    </tr>\n",
       "    <tr>\n",
       "      <th>4210</th>\n",
       "      <td>73</td>\n",
       "      <td>146</td>\n",
       "    </tr>\n",
       "    <tr>\n",
       "      <th>4211</th>\n",
       "      <td>74</td>\n",
       "      <td>148</td>\n",
       "    </tr>\n",
       "    <tr>\n",
       "      <th>4212</th>\n",
       "      <td>100</td>\n",
       "      <td>200</td>\n",
       "    </tr>\n",
       "  </tbody>\n",
       "</table>\n",
       "<p>4213 rows × 2 columns</p>\n",
       "</div>"
      ],
      "text/plain": [
       "        A    B\n",
       "0       0    0\n",
       "1       0    0\n",
       "2       0    0\n",
       "3       0    0\n",
       "4       0    0\n",
       "...   ...  ...\n",
       "4208  100  200\n",
       "4209   79  158\n",
       "4210   73  146\n",
       "4211   74  148\n",
       "4212  100  200\n",
       "\n",
       "[4213 rows x 2 columns]"
      ]
     },
     "execution_count": 65,
     "metadata": {},
     "output_type": "execute_result"
    }
   ],
   "source": [
    "pd.DataFrame.from_dict(dict([(\"A\", series),(\"B\",series*2)]))"
   ]
  },
  {
   "cell_type": "code",
   "execution_count": 66,
   "metadata": {
    "colab": {
     "base_uri": "https://localhost:8080/",
     "height": 49
    },
    "id": "Vmx2NfOlBWUT",
    "outputId": "aebddd69-8e25-418d-a319-db3f82c1554e"
   },
   "outputs": [
    {
     "data": {
      "text/html": [
       "<div>\n",
       "<style scoped>\n",
       "    .dataframe tbody tr th:only-of-type {\n",
       "        vertical-align: middle;\n",
       "    }\n",
       "\n",
       "    .dataframe tbody tr th {\n",
       "        vertical-align: top;\n",
       "    }\n",
       "\n",
       "    .dataframe thead th {\n",
       "        text-align: right;\n",
       "    }\n",
       "</style>\n",
       "<table border=\"1\" class=\"dataframe\">\n",
       "  <thead>\n",
       "    <tr style=\"text-align: right;\">\n",
       "      <th></th>\n",
       "      <th>one</th>\n",
       "      <th>two</th>\n",
       "    </tr>\n",
       "  </thead>\n",
       "  <tbody>\n",
       "  </tbody>\n",
       "</table>\n",
       "</div>"
      ],
      "text/plain": [
       "Empty DataFrame\n",
       "Columns: [one, two]\n",
       "Index: []"
      ]
     },
     "execution_count": 66,
     "metadata": {},
     "output_type": "execute_result"
    }
   ],
   "source": [
    "pd.DataFrame.from_dict(\n",
    "    dict([(\"A\", series), (\"B\", series*2)]),\n",
    "    orient=\"index\",\n",
    "    columns=[\"one\", \"two\"]\n",
    ")"
   ]
  },
  {
   "cell_type": "markdown",
   "metadata": {
    "id": "bGo2KDg6GWls"
   },
   "source": [
    "##Column selection, addition, deletion"
   ]
  },
  {
   "cell_type": "code",
   "execution_count": 67,
   "metadata": {
    "colab": {
     "base_uri": "https://localhost:8080/"
    },
    "id": "1n_oF-E7BWQy",
    "outputId": "9b920a76-58c5-4687-a17f-cb0682f72507"
   },
   "outputs": [
    {
     "data": {
      "text/plain": [
       "0         0\n",
       "1         0\n",
       "2         0\n",
       "3         0\n",
       "4         0\n",
       "       ... \n",
       "4208    100\n",
       "4209     79\n",
       "4210     73\n",
       "4211     74\n",
       "4212    100\n",
       "Name: one, Length: 4213, dtype: int64"
      ]
     },
     "execution_count": 67,
     "metadata": {},
     "output_type": "execute_result"
    }
   ],
   "source": [
    "def1[\"one\"]"
   ]
  },
  {
   "cell_type": "code",
   "execution_count": 68,
   "metadata": {
    "id": "CWJh0LYsBWPL"
   },
   "outputs": [],
   "source": [
    "flag = def1[\"one\"]+def1[\"two\"]"
   ]
  },
  {
   "cell_type": "code",
   "execution_count": 69,
   "metadata": {
    "id": "mKNvf4ALHM9V"
   },
   "outputs": [],
   "source": [
    "def1[\"flag\"] = flag"
   ]
  },
  {
   "cell_type": "code",
   "execution_count": 70,
   "metadata": {
    "id": "cdmbEzHyHM5Z"
   },
   "outputs": [],
   "source": [
    "def1[\"flag\"] = def1[\"one\"] > 50"
   ]
  },
  {
   "cell_type": "code",
   "execution_count": 71,
   "metadata": {
    "colab": {
     "base_uri": "https://localhost:8080/",
     "height": 424
    },
    "id": "Xt3zUwJeHM3a",
    "outputId": "1cb2018e-718c-490b-c21c-f872732abb7d"
   },
   "outputs": [
    {
     "data": {
      "text/html": [
       "<div>\n",
       "<style scoped>\n",
       "    .dataframe tbody tr th:only-of-type {\n",
       "        vertical-align: middle;\n",
       "    }\n",
       "\n",
       "    .dataframe tbody tr th {\n",
       "        vertical-align: top;\n",
       "    }\n",
       "\n",
       "    .dataframe thead th {\n",
       "        text-align: right;\n",
       "    }\n",
       "</style>\n",
       "<table border=\"1\" class=\"dataframe\">\n",
       "  <thead>\n",
       "    <tr style=\"text-align: right;\">\n",
       "      <th></th>\n",
       "      <th>one</th>\n",
       "      <th>two</th>\n",
       "      <th>flag</th>\n",
       "    </tr>\n",
       "  </thead>\n",
       "  <tbody>\n",
       "    <tr>\n",
       "      <th>0</th>\n",
       "      <td>0</td>\n",
       "      <td>0</td>\n",
       "      <td>False</td>\n",
       "    </tr>\n",
       "    <tr>\n",
       "      <th>1</th>\n",
       "      <td>0</td>\n",
       "      <td>0</td>\n",
       "      <td>False</td>\n",
       "    </tr>\n",
       "    <tr>\n",
       "      <th>2</th>\n",
       "      <td>0</td>\n",
       "      <td>0</td>\n",
       "      <td>False</td>\n",
       "    </tr>\n",
       "    <tr>\n",
       "      <th>3</th>\n",
       "      <td>0</td>\n",
       "      <td>0</td>\n",
       "      <td>False</td>\n",
       "    </tr>\n",
       "    <tr>\n",
       "      <th>4</th>\n",
       "      <td>0</td>\n",
       "      <td>0</td>\n",
       "      <td>False</td>\n",
       "    </tr>\n",
       "    <tr>\n",
       "      <th>...</th>\n",
       "      <td>...</td>\n",
       "      <td>...</td>\n",
       "      <td>...</td>\n",
       "    </tr>\n",
       "    <tr>\n",
       "      <th>4208</th>\n",
       "      <td>100</td>\n",
       "      <td>100</td>\n",
       "      <td>True</td>\n",
       "    </tr>\n",
       "    <tr>\n",
       "      <th>4209</th>\n",
       "      <td>79</td>\n",
       "      <td>79</td>\n",
       "      <td>True</td>\n",
       "    </tr>\n",
       "    <tr>\n",
       "      <th>4210</th>\n",
       "      <td>73</td>\n",
       "      <td>73</td>\n",
       "      <td>True</td>\n",
       "    </tr>\n",
       "    <tr>\n",
       "      <th>4211</th>\n",
       "      <td>74</td>\n",
       "      <td>74</td>\n",
       "      <td>True</td>\n",
       "    </tr>\n",
       "    <tr>\n",
       "      <th>4212</th>\n",
       "      <td>100</td>\n",
       "      <td>100</td>\n",
       "      <td>True</td>\n",
       "    </tr>\n",
       "  </tbody>\n",
       "</table>\n",
       "<p>4213 rows × 3 columns</p>\n",
       "</div>"
      ],
      "text/plain": [
       "      one  two   flag\n",
       "0       0    0  False\n",
       "1       0    0  False\n",
       "2       0    0  False\n",
       "3       0    0  False\n",
       "4       0    0  False\n",
       "...   ...  ...    ...\n",
       "4208  100  100   True\n",
       "4209   79   79   True\n",
       "4210   73   73   True\n",
       "4211   74   74   True\n",
       "4212  100  100   True\n",
       "\n",
       "[4213 rows x 3 columns]"
      ]
     },
     "execution_count": 71,
     "metadata": {},
     "output_type": "execute_result"
    }
   ],
   "source": [
    "def1"
   ]
  },
  {
   "cell_type": "code",
   "execution_count": 72,
   "metadata": {
    "id": "jhHt2FPXHM0A"
   },
   "outputs": [],
   "source": [
    "del def1[\"two\"]"
   ]
  },
  {
   "cell_type": "code",
   "execution_count": 73,
   "metadata": {
    "colab": {
     "base_uri": "https://localhost:8080/",
     "height": 424
    },
    "id": "l-nPPdLHHMyF",
    "outputId": "630d100a-b816-46e3-dc2d-3f7606e0eaca"
   },
   "outputs": [
    {
     "data": {
      "text/html": [
       "<div>\n",
       "<style scoped>\n",
       "    .dataframe tbody tr th:only-of-type {\n",
       "        vertical-align: middle;\n",
       "    }\n",
       "\n",
       "    .dataframe tbody tr th {\n",
       "        vertical-align: top;\n",
       "    }\n",
       "\n",
       "    .dataframe thead th {\n",
       "        text-align: right;\n",
       "    }\n",
       "</style>\n",
       "<table border=\"1\" class=\"dataframe\">\n",
       "  <thead>\n",
       "    <tr style=\"text-align: right;\">\n",
       "      <th></th>\n",
       "      <th>one</th>\n",
       "      <th>flag</th>\n",
       "    </tr>\n",
       "  </thead>\n",
       "  <tbody>\n",
       "    <tr>\n",
       "      <th>0</th>\n",
       "      <td>0</td>\n",
       "      <td>False</td>\n",
       "    </tr>\n",
       "    <tr>\n",
       "      <th>1</th>\n",
       "      <td>0</td>\n",
       "      <td>False</td>\n",
       "    </tr>\n",
       "    <tr>\n",
       "      <th>2</th>\n",
       "      <td>0</td>\n",
       "      <td>False</td>\n",
       "    </tr>\n",
       "    <tr>\n",
       "      <th>3</th>\n",
       "      <td>0</td>\n",
       "      <td>False</td>\n",
       "    </tr>\n",
       "    <tr>\n",
       "      <th>4</th>\n",
       "      <td>0</td>\n",
       "      <td>False</td>\n",
       "    </tr>\n",
       "    <tr>\n",
       "      <th>...</th>\n",
       "      <td>...</td>\n",
       "      <td>...</td>\n",
       "    </tr>\n",
       "    <tr>\n",
       "      <th>4208</th>\n",
       "      <td>100</td>\n",
       "      <td>True</td>\n",
       "    </tr>\n",
       "    <tr>\n",
       "      <th>4209</th>\n",
       "      <td>79</td>\n",
       "      <td>True</td>\n",
       "    </tr>\n",
       "    <tr>\n",
       "      <th>4210</th>\n",
       "      <td>73</td>\n",
       "      <td>True</td>\n",
       "    </tr>\n",
       "    <tr>\n",
       "      <th>4211</th>\n",
       "      <td>74</td>\n",
       "      <td>True</td>\n",
       "    </tr>\n",
       "    <tr>\n",
       "      <th>4212</th>\n",
       "      <td>100</td>\n",
       "      <td>True</td>\n",
       "    </tr>\n",
       "  </tbody>\n",
       "</table>\n",
       "<p>4213 rows × 2 columns</p>\n",
       "</div>"
      ],
      "text/plain": [
       "      one   flag\n",
       "0       0  False\n",
       "1       0  False\n",
       "2       0  False\n",
       "3       0  False\n",
       "4       0  False\n",
       "...   ...    ...\n",
       "4208  100   True\n",
       "4209   79   True\n",
       "4210   73   True\n",
       "4211   74   True\n",
       "4212  100   True\n",
       "\n",
       "[4213 rows x 2 columns]"
      ]
     },
     "execution_count": 73,
     "metadata": {},
     "output_type": "execute_result"
    }
   ],
   "source": [
    "def1"
   ]
  },
  {
   "cell_type": "code",
   "execution_count": 74,
   "metadata": {
    "id": "Q_JtibpvHscN"
   },
   "outputs": [],
   "source": [
    "def1[\"foo\"] = \"bar\""
   ]
  },
  {
   "cell_type": "code",
   "execution_count": 75,
   "metadata": {
    "id": "4Sc9ddFNHwJR"
   },
   "outputs": [],
   "source": [
    "def1[\"one_trunc\"] = def1[\"one\"][:2]"
   ]
  },
  {
   "cell_type": "code",
   "execution_count": 76,
   "metadata": {
    "colab": {
     "base_uri": "https://localhost:8080/",
     "height": 424
    },
    "id": "HGhgfoyeHwFr",
    "outputId": "cade5b09-05cb-4338-9f01-f7538ca3ea20"
   },
   "outputs": [
    {
     "data": {
      "text/html": [
       "<div>\n",
       "<style scoped>\n",
       "    .dataframe tbody tr th:only-of-type {\n",
       "        vertical-align: middle;\n",
       "    }\n",
       "\n",
       "    .dataframe tbody tr th {\n",
       "        vertical-align: top;\n",
       "    }\n",
       "\n",
       "    .dataframe thead th {\n",
       "        text-align: right;\n",
       "    }\n",
       "</style>\n",
       "<table border=\"1\" class=\"dataframe\">\n",
       "  <thead>\n",
       "    <tr style=\"text-align: right;\">\n",
       "      <th></th>\n",
       "      <th>one</th>\n",
       "      <th>flag</th>\n",
       "      <th>foo</th>\n",
       "      <th>one_trunc</th>\n",
       "    </tr>\n",
       "  </thead>\n",
       "  <tbody>\n",
       "    <tr>\n",
       "      <th>0</th>\n",
       "      <td>0</td>\n",
       "      <td>False</td>\n",
       "      <td>bar</td>\n",
       "      <td>0.0</td>\n",
       "    </tr>\n",
       "    <tr>\n",
       "      <th>1</th>\n",
       "      <td>0</td>\n",
       "      <td>False</td>\n",
       "      <td>bar</td>\n",
       "      <td>0.0</td>\n",
       "    </tr>\n",
       "    <tr>\n",
       "      <th>2</th>\n",
       "      <td>0</td>\n",
       "      <td>False</td>\n",
       "      <td>bar</td>\n",
       "      <td>NaN</td>\n",
       "    </tr>\n",
       "    <tr>\n",
       "      <th>3</th>\n",
       "      <td>0</td>\n",
       "      <td>False</td>\n",
       "      <td>bar</td>\n",
       "      <td>NaN</td>\n",
       "    </tr>\n",
       "    <tr>\n",
       "      <th>4</th>\n",
       "      <td>0</td>\n",
       "      <td>False</td>\n",
       "      <td>bar</td>\n",
       "      <td>NaN</td>\n",
       "    </tr>\n",
       "    <tr>\n",
       "      <th>...</th>\n",
       "      <td>...</td>\n",
       "      <td>...</td>\n",
       "      <td>...</td>\n",
       "      <td>...</td>\n",
       "    </tr>\n",
       "    <tr>\n",
       "      <th>4208</th>\n",
       "      <td>100</td>\n",
       "      <td>True</td>\n",
       "      <td>bar</td>\n",
       "      <td>NaN</td>\n",
       "    </tr>\n",
       "    <tr>\n",
       "      <th>4209</th>\n",
       "      <td>79</td>\n",
       "      <td>True</td>\n",
       "      <td>bar</td>\n",
       "      <td>NaN</td>\n",
       "    </tr>\n",
       "    <tr>\n",
       "      <th>4210</th>\n",
       "      <td>73</td>\n",
       "      <td>True</td>\n",
       "      <td>bar</td>\n",
       "      <td>NaN</td>\n",
       "    </tr>\n",
       "    <tr>\n",
       "      <th>4211</th>\n",
       "      <td>74</td>\n",
       "      <td>True</td>\n",
       "      <td>bar</td>\n",
       "      <td>NaN</td>\n",
       "    </tr>\n",
       "    <tr>\n",
       "      <th>4212</th>\n",
       "      <td>100</td>\n",
       "      <td>True</td>\n",
       "      <td>bar</td>\n",
       "      <td>NaN</td>\n",
       "    </tr>\n",
       "  </tbody>\n",
       "</table>\n",
       "<p>4213 rows × 4 columns</p>\n",
       "</div>"
      ],
      "text/plain": [
       "      one   flag  foo  one_trunc\n",
       "0       0  False  bar        0.0\n",
       "1       0  False  bar        0.0\n",
       "2       0  False  bar        NaN\n",
       "3       0  False  bar        NaN\n",
       "4       0  False  bar        NaN\n",
       "...   ...    ...  ...        ...\n",
       "4208  100   True  bar        NaN\n",
       "4209   79   True  bar        NaN\n",
       "4210   73   True  bar        NaN\n",
       "4211   74   True  bar        NaN\n",
       "4212  100   True  bar        NaN\n",
       "\n",
       "[4213 rows x 4 columns]"
      ]
     },
     "execution_count": 76,
     "metadata": {},
     "output_type": "execute_result"
    }
   ],
   "source": [
    "def1"
   ]
  },
  {
   "cell_type": "code",
   "execution_count": 77,
   "metadata": {
    "id": "VxirpJDPHwDi"
   },
   "outputs": [],
   "source": [
    "def1.insert(1,\"bar\",def1[\"one\"])"
   ]
  },
  {
   "cell_type": "code",
   "execution_count": 78,
   "metadata": {
    "colab": {
     "base_uri": "https://localhost:8080/",
     "height": 424
    },
    "id": "U2HC_IEfHwAZ",
    "outputId": "7e4b336c-dd19-4dea-b127-bf421c6c63d8"
   },
   "outputs": [
    {
     "data": {
      "text/html": [
       "<div>\n",
       "<style scoped>\n",
       "    .dataframe tbody tr th:only-of-type {\n",
       "        vertical-align: middle;\n",
       "    }\n",
       "\n",
       "    .dataframe tbody tr th {\n",
       "        vertical-align: top;\n",
       "    }\n",
       "\n",
       "    .dataframe thead th {\n",
       "        text-align: right;\n",
       "    }\n",
       "</style>\n",
       "<table border=\"1\" class=\"dataframe\">\n",
       "  <thead>\n",
       "    <tr style=\"text-align: right;\">\n",
       "      <th></th>\n",
       "      <th>one</th>\n",
       "      <th>bar</th>\n",
       "      <th>flag</th>\n",
       "      <th>foo</th>\n",
       "      <th>one_trunc</th>\n",
       "    </tr>\n",
       "  </thead>\n",
       "  <tbody>\n",
       "    <tr>\n",
       "      <th>0</th>\n",
       "      <td>0</td>\n",
       "      <td>0</td>\n",
       "      <td>False</td>\n",
       "      <td>bar</td>\n",
       "      <td>0.0</td>\n",
       "    </tr>\n",
       "    <tr>\n",
       "      <th>1</th>\n",
       "      <td>0</td>\n",
       "      <td>0</td>\n",
       "      <td>False</td>\n",
       "      <td>bar</td>\n",
       "      <td>0.0</td>\n",
       "    </tr>\n",
       "    <tr>\n",
       "      <th>2</th>\n",
       "      <td>0</td>\n",
       "      <td>0</td>\n",
       "      <td>False</td>\n",
       "      <td>bar</td>\n",
       "      <td>NaN</td>\n",
       "    </tr>\n",
       "    <tr>\n",
       "      <th>3</th>\n",
       "      <td>0</td>\n",
       "      <td>0</td>\n",
       "      <td>False</td>\n",
       "      <td>bar</td>\n",
       "      <td>NaN</td>\n",
       "    </tr>\n",
       "    <tr>\n",
       "      <th>4</th>\n",
       "      <td>0</td>\n",
       "      <td>0</td>\n",
       "      <td>False</td>\n",
       "      <td>bar</td>\n",
       "      <td>NaN</td>\n",
       "    </tr>\n",
       "    <tr>\n",
       "      <th>...</th>\n",
       "      <td>...</td>\n",
       "      <td>...</td>\n",
       "      <td>...</td>\n",
       "      <td>...</td>\n",
       "      <td>...</td>\n",
       "    </tr>\n",
       "    <tr>\n",
       "      <th>4208</th>\n",
       "      <td>100</td>\n",
       "      <td>100</td>\n",
       "      <td>True</td>\n",
       "      <td>bar</td>\n",
       "      <td>NaN</td>\n",
       "    </tr>\n",
       "    <tr>\n",
       "      <th>4209</th>\n",
       "      <td>79</td>\n",
       "      <td>79</td>\n",
       "      <td>True</td>\n",
       "      <td>bar</td>\n",
       "      <td>NaN</td>\n",
       "    </tr>\n",
       "    <tr>\n",
       "      <th>4210</th>\n",
       "      <td>73</td>\n",
       "      <td>73</td>\n",
       "      <td>True</td>\n",
       "      <td>bar</td>\n",
       "      <td>NaN</td>\n",
       "    </tr>\n",
       "    <tr>\n",
       "      <th>4211</th>\n",
       "      <td>74</td>\n",
       "      <td>74</td>\n",
       "      <td>True</td>\n",
       "      <td>bar</td>\n",
       "      <td>NaN</td>\n",
       "    </tr>\n",
       "    <tr>\n",
       "      <th>4212</th>\n",
       "      <td>100</td>\n",
       "      <td>100</td>\n",
       "      <td>True</td>\n",
       "      <td>bar</td>\n",
       "      <td>NaN</td>\n",
       "    </tr>\n",
       "  </tbody>\n",
       "</table>\n",
       "<p>4213 rows × 5 columns</p>\n",
       "</div>"
      ],
      "text/plain": [
       "      one  bar   flag  foo  one_trunc\n",
       "0       0    0  False  bar        0.0\n",
       "1       0    0  False  bar        0.0\n",
       "2       0    0  False  bar        NaN\n",
       "3       0    0  False  bar        NaN\n",
       "4       0    0  False  bar        NaN\n",
       "...   ...  ...    ...  ...        ...\n",
       "4208  100  100   True  bar        NaN\n",
       "4209   79   79   True  bar        NaN\n",
       "4210   73   73   True  bar        NaN\n",
       "4211   74   74   True  bar        NaN\n",
       "4212  100  100   True  bar        NaN\n",
       "\n",
       "[4213 rows x 5 columns]"
      ]
     },
     "execution_count": 78,
     "metadata": {},
     "output_type": "execute_result"
    }
   ],
   "source": [
    "def1"
   ]
  },
  {
   "cell_type": "markdown",
   "metadata": {
    "id": "f0Y8PbhXIKxs"
   },
   "source": [
    "##Assigning new columns in method chains"
   ]
  },
  {
   "cell_type": "code",
   "execution_count": 79,
   "metadata": {
    "colab": {
     "base_uri": "https://localhost:8080/",
     "height": 206
    },
    "id": "xUigg-gwHv-R",
    "outputId": "e135a0ad-b496-497a-b9c8-d31e6b5308e5"
   },
   "outputs": [
    {
     "data": {
      "text/html": [
       "<div>\n",
       "<style scoped>\n",
       "    .dataframe tbody tr th:only-of-type {\n",
       "        vertical-align: middle;\n",
       "    }\n",
       "\n",
       "    .dataframe tbody tr th {\n",
       "        vertical-align: top;\n",
       "    }\n",
       "\n",
       "    .dataframe thead th {\n",
       "        text-align: right;\n",
       "    }\n",
       "</style>\n",
       "<table border=\"1\" class=\"dataframe\">\n",
       "  <thead>\n",
       "    <tr style=\"text-align: right;\">\n",
       "      <th></th>\n",
       "      <th>one</th>\n",
       "      <th>bar</th>\n",
       "      <th>flag</th>\n",
       "      <th>foo</th>\n",
       "      <th>one_trunc</th>\n",
       "    </tr>\n",
       "  </thead>\n",
       "  <tbody>\n",
       "    <tr>\n",
       "      <th>0</th>\n",
       "      <td>0</td>\n",
       "      <td>0</td>\n",
       "      <td>False</td>\n",
       "      <td>bar</td>\n",
       "      <td>0.0</td>\n",
       "    </tr>\n",
       "    <tr>\n",
       "      <th>1</th>\n",
       "      <td>0</td>\n",
       "      <td>0</td>\n",
       "      <td>False</td>\n",
       "      <td>bar</td>\n",
       "      <td>0.0</td>\n",
       "    </tr>\n",
       "    <tr>\n",
       "      <th>2</th>\n",
       "      <td>0</td>\n",
       "      <td>0</td>\n",
       "      <td>False</td>\n",
       "      <td>bar</td>\n",
       "      <td>NaN</td>\n",
       "    </tr>\n",
       "    <tr>\n",
       "      <th>3</th>\n",
       "      <td>0</td>\n",
       "      <td>0</td>\n",
       "      <td>False</td>\n",
       "      <td>bar</td>\n",
       "      <td>NaN</td>\n",
       "    </tr>\n",
       "    <tr>\n",
       "      <th>4</th>\n",
       "      <td>0</td>\n",
       "      <td>0</td>\n",
       "      <td>False</td>\n",
       "      <td>bar</td>\n",
       "      <td>NaN</td>\n",
       "    </tr>\n",
       "  </tbody>\n",
       "</table>\n",
       "</div>"
      ],
      "text/plain": [
       "   one  bar   flag  foo  one_trunc\n",
       "0    0    0  False  bar        0.0\n",
       "1    0    0  False  bar        0.0\n",
       "2    0    0  False  bar        NaN\n",
       "3    0    0  False  bar        NaN\n",
       "4    0    0  False  bar        NaN"
      ]
     },
     "execution_count": 79,
     "metadata": {},
     "output_type": "execute_result"
    }
   ],
   "source": [
    "def1.head()"
   ]
  },
  {
   "cell_type": "code",
   "execution_count": 80,
   "metadata": {
    "colab": {
     "base_uri": "https://localhost:8080/",
     "height": 424
    },
    "id": "RE3uaSikIjEC",
    "outputId": "23a9bd13-742c-46ee-88a1-3447d94dd290"
   },
   "outputs": [
    {
     "data": {
      "text/html": [
       "<div>\n",
       "<style scoped>\n",
       "    .dataframe tbody tr th:only-of-type {\n",
       "        vertical-align: middle;\n",
       "    }\n",
       "\n",
       "    .dataframe tbody tr th {\n",
       "        vertical-align: top;\n",
       "    }\n",
       "\n",
       "    .dataframe thead th {\n",
       "        text-align: right;\n",
       "    }\n",
       "</style>\n",
       "<table border=\"1\" class=\"dataframe\">\n",
       "  <thead>\n",
       "    <tr style=\"text-align: right;\">\n",
       "      <th></th>\n",
       "      <th>one</th>\n",
       "      <th>bar</th>\n",
       "      <th>flag</th>\n",
       "      <th>foo</th>\n",
       "      <th>one_trunc</th>\n",
       "    </tr>\n",
       "  </thead>\n",
       "  <tbody>\n",
       "    <tr>\n",
       "      <th>0</th>\n",
       "      <td>0</td>\n",
       "      <td>0</td>\n",
       "      <td>False</td>\n",
       "      <td>bar</td>\n",
       "      <td>0.0</td>\n",
       "    </tr>\n",
       "    <tr>\n",
       "      <th>1</th>\n",
       "      <td>0</td>\n",
       "      <td>0</td>\n",
       "      <td>False</td>\n",
       "      <td>bar</td>\n",
       "      <td>0.0</td>\n",
       "    </tr>\n",
       "    <tr>\n",
       "      <th>2</th>\n",
       "      <td>0</td>\n",
       "      <td>0</td>\n",
       "      <td>False</td>\n",
       "      <td>bar</td>\n",
       "      <td>NaN</td>\n",
       "    </tr>\n",
       "    <tr>\n",
       "      <th>3</th>\n",
       "      <td>0</td>\n",
       "      <td>0</td>\n",
       "      <td>False</td>\n",
       "      <td>bar</td>\n",
       "      <td>NaN</td>\n",
       "    </tr>\n",
       "    <tr>\n",
       "      <th>4</th>\n",
       "      <td>0</td>\n",
       "      <td>0</td>\n",
       "      <td>False</td>\n",
       "      <td>bar</td>\n",
       "      <td>NaN</td>\n",
       "    </tr>\n",
       "    <tr>\n",
       "      <th>...</th>\n",
       "      <td>...</td>\n",
       "      <td>...</td>\n",
       "      <td>...</td>\n",
       "      <td>...</td>\n",
       "      <td>...</td>\n",
       "    </tr>\n",
       "    <tr>\n",
       "      <th>4208</th>\n",
       "      <td>100</td>\n",
       "      <td>100</td>\n",
       "      <td>True</td>\n",
       "      <td>bar</td>\n",
       "      <td>NaN</td>\n",
       "    </tr>\n",
       "    <tr>\n",
       "      <th>4209</th>\n",
       "      <td>79</td>\n",
       "      <td>79</td>\n",
       "      <td>True</td>\n",
       "      <td>bar</td>\n",
       "      <td>NaN</td>\n",
       "    </tr>\n",
       "    <tr>\n",
       "      <th>4210</th>\n",
       "      <td>73</td>\n",
       "      <td>73</td>\n",
       "      <td>True</td>\n",
       "      <td>bar</td>\n",
       "      <td>NaN</td>\n",
       "    </tr>\n",
       "    <tr>\n",
       "      <th>4211</th>\n",
       "      <td>74</td>\n",
       "      <td>74</td>\n",
       "      <td>True</td>\n",
       "      <td>bar</td>\n",
       "      <td>NaN</td>\n",
       "    </tr>\n",
       "    <tr>\n",
       "      <th>4212</th>\n",
       "      <td>100</td>\n",
       "      <td>100</td>\n",
       "      <td>True</td>\n",
       "      <td>bar</td>\n",
       "      <td>NaN</td>\n",
       "    </tr>\n",
       "  </tbody>\n",
       "</table>\n",
       "<p>4213 rows × 5 columns</p>\n",
       "</div>"
      ],
      "text/plain": [
       "      one  bar   flag  foo  one_trunc\n",
       "0       0    0  False  bar        0.0\n",
       "1       0    0  False  bar        0.0\n",
       "2       0    0  False  bar        NaN\n",
       "3       0    0  False  bar        NaN\n",
       "4       0    0  False  bar        NaN\n",
       "...   ...  ...    ...  ...        ...\n",
       "4208  100  100   True  bar        NaN\n",
       "4209   79   79   True  bar        NaN\n",
       "4210   73   73   True  bar        NaN\n",
       "4211   74   74   True  bar        NaN\n",
       "4212  100  100   True  bar        NaN\n",
       "\n",
       "[4213 rows x 5 columns]"
      ]
     },
     "execution_count": 80,
     "metadata": {},
     "output_type": "execute_result"
    }
   ],
   "source": [
    "def1"
   ]
  },
  {
   "cell_type": "code",
   "execution_count": 81,
   "metadata": {
    "id": "BPtoNbr7IfJo"
   },
   "outputs": [],
   "source": [
    "def1[\"bar\"] = def1[\"bar\"] * 2"
   ]
  },
  {
   "cell_type": "code",
   "execution_count": 82,
   "metadata": {
    "colab": {
     "base_uri": "https://localhost:8080/",
     "height": 424
    },
    "id": "rxeJWQSeIe96",
    "outputId": "fa51e9e3-e9ce-492e-a807-26b437d5f157"
   },
   "outputs": [
    {
     "data": {
      "text/html": [
       "<div>\n",
       "<style scoped>\n",
       "    .dataframe tbody tr th:only-of-type {\n",
       "        vertical-align: middle;\n",
       "    }\n",
       "\n",
       "    .dataframe tbody tr th {\n",
       "        vertical-align: top;\n",
       "    }\n",
       "\n",
       "    .dataframe thead th {\n",
       "        text-align: right;\n",
       "    }\n",
       "</style>\n",
       "<table border=\"1\" class=\"dataframe\">\n",
       "  <thead>\n",
       "    <tr style=\"text-align: right;\">\n",
       "      <th></th>\n",
       "      <th>one</th>\n",
       "      <th>bar</th>\n",
       "      <th>flag</th>\n",
       "      <th>foo</th>\n",
       "      <th>one_trunc</th>\n",
       "    </tr>\n",
       "  </thead>\n",
       "  <tbody>\n",
       "    <tr>\n",
       "      <th>0</th>\n",
       "      <td>0</td>\n",
       "      <td>0</td>\n",
       "      <td>False</td>\n",
       "      <td>bar</td>\n",
       "      <td>0.0</td>\n",
       "    </tr>\n",
       "    <tr>\n",
       "      <th>1</th>\n",
       "      <td>0</td>\n",
       "      <td>0</td>\n",
       "      <td>False</td>\n",
       "      <td>bar</td>\n",
       "      <td>0.0</td>\n",
       "    </tr>\n",
       "    <tr>\n",
       "      <th>2</th>\n",
       "      <td>0</td>\n",
       "      <td>0</td>\n",
       "      <td>False</td>\n",
       "      <td>bar</td>\n",
       "      <td>NaN</td>\n",
       "    </tr>\n",
       "    <tr>\n",
       "      <th>3</th>\n",
       "      <td>0</td>\n",
       "      <td>0</td>\n",
       "      <td>False</td>\n",
       "      <td>bar</td>\n",
       "      <td>NaN</td>\n",
       "    </tr>\n",
       "    <tr>\n",
       "      <th>4</th>\n",
       "      <td>0</td>\n",
       "      <td>0</td>\n",
       "      <td>False</td>\n",
       "      <td>bar</td>\n",
       "      <td>NaN</td>\n",
       "    </tr>\n",
       "    <tr>\n",
       "      <th>...</th>\n",
       "      <td>...</td>\n",
       "      <td>...</td>\n",
       "      <td>...</td>\n",
       "      <td>...</td>\n",
       "      <td>...</td>\n",
       "    </tr>\n",
       "    <tr>\n",
       "      <th>4208</th>\n",
       "      <td>100</td>\n",
       "      <td>200</td>\n",
       "      <td>True</td>\n",
       "      <td>bar</td>\n",
       "      <td>NaN</td>\n",
       "    </tr>\n",
       "    <tr>\n",
       "      <th>4209</th>\n",
       "      <td>79</td>\n",
       "      <td>158</td>\n",
       "      <td>True</td>\n",
       "      <td>bar</td>\n",
       "      <td>NaN</td>\n",
       "    </tr>\n",
       "    <tr>\n",
       "      <th>4210</th>\n",
       "      <td>73</td>\n",
       "      <td>146</td>\n",
       "      <td>True</td>\n",
       "      <td>bar</td>\n",
       "      <td>NaN</td>\n",
       "    </tr>\n",
       "    <tr>\n",
       "      <th>4211</th>\n",
       "      <td>74</td>\n",
       "      <td>148</td>\n",
       "      <td>True</td>\n",
       "      <td>bar</td>\n",
       "      <td>NaN</td>\n",
       "    </tr>\n",
       "    <tr>\n",
       "      <th>4212</th>\n",
       "      <td>100</td>\n",
       "      <td>200</td>\n",
       "      <td>True</td>\n",
       "      <td>bar</td>\n",
       "      <td>NaN</td>\n",
       "    </tr>\n",
       "  </tbody>\n",
       "</table>\n",
       "<p>4213 rows × 5 columns</p>\n",
       "</div>"
      ],
      "text/plain": [
       "      one  bar   flag  foo  one_trunc\n",
       "0       0    0  False  bar        0.0\n",
       "1       0    0  False  bar        0.0\n",
       "2       0    0  False  bar        NaN\n",
       "3       0    0  False  bar        NaN\n",
       "4       0    0  False  bar        NaN\n",
       "...   ...  ...    ...  ...        ...\n",
       "4208  100  200   True  bar        NaN\n",
       "4209   79  158   True  bar        NaN\n",
       "4210   73  146   True  bar        NaN\n",
       "4211   74  148   True  bar        NaN\n",
       "4212  100  200   True  bar        NaN\n",
       "\n",
       "[4213 rows x 5 columns]"
      ]
     },
     "execution_count": 82,
     "metadata": {},
     "output_type": "execute_result"
    }
   ],
   "source": [
    "def1"
   ]
  },
  {
   "cell_type": "code",
   "execution_count": 83,
   "metadata": {
    "id": "rFkFkWTIIe8A"
   },
   "outputs": [],
   "source": [
    "ratio = def1[\"one\"]/def1[\"bar\"]"
   ]
  },
  {
   "cell_type": "code",
   "execution_count": 84,
   "metadata": {
    "colab": {
     "base_uri": "https://localhost:8080/"
    },
    "id": "hBRqzMrAJGQ8",
    "outputId": "6d2accc3-70cd-412d-f548-0b247a237fe4"
   },
   "outputs": [
    {
     "data": {
      "text/plain": [
       "0       NaN\n",
       "1       NaN\n",
       "2       NaN\n",
       "3       NaN\n",
       "4       NaN\n",
       "       ... \n",
       "4208    0.5\n",
       "4209    0.5\n",
       "4210    0.5\n",
       "4211    0.5\n",
       "4212    0.5\n",
       "Length: 4213, dtype: float64"
      ]
     },
     "execution_count": 84,
     "metadata": {},
     "output_type": "execute_result"
    }
   ],
   "source": [
    "ratio"
   ]
  },
  {
   "cell_type": "code",
   "execution_count": 85,
   "metadata": {
    "colab": {
     "base_uri": "https://localhost:8080/",
     "height": 206
    },
    "id": "RSfuOrzOJGOv",
    "outputId": "1d8890ae-7a80-455e-992c-56aa03cc90fd"
   },
   "outputs": [
    {
     "data": {
      "text/html": [
       "<div>\n",
       "<style scoped>\n",
       "    .dataframe tbody tr th:only-of-type {\n",
       "        vertical-align: middle;\n",
       "    }\n",
       "\n",
       "    .dataframe tbody tr th {\n",
       "        vertical-align: top;\n",
       "    }\n",
       "\n",
       "    .dataframe thead th {\n",
       "        text-align: right;\n",
       "    }\n",
       "</style>\n",
       "<table border=\"1\" class=\"dataframe\">\n",
       "  <thead>\n",
       "    <tr style=\"text-align: right;\">\n",
       "      <th></th>\n",
       "      <th>one</th>\n",
       "      <th>bar</th>\n",
       "      <th>flag</th>\n",
       "      <th>foo</th>\n",
       "      <th>one_trunc</th>\n",
       "      <th>ration</th>\n",
       "    </tr>\n",
       "  </thead>\n",
       "  <tbody>\n",
       "    <tr>\n",
       "      <th>0</th>\n",
       "      <td>0</td>\n",
       "      <td>0</td>\n",
       "      <td>False</td>\n",
       "      <td>bar</td>\n",
       "      <td>0.0</td>\n",
       "      <td>NaN</td>\n",
       "    </tr>\n",
       "    <tr>\n",
       "      <th>1</th>\n",
       "      <td>0</td>\n",
       "      <td>0</td>\n",
       "      <td>False</td>\n",
       "      <td>bar</td>\n",
       "      <td>0.0</td>\n",
       "      <td>NaN</td>\n",
       "    </tr>\n",
       "    <tr>\n",
       "      <th>2</th>\n",
       "      <td>0</td>\n",
       "      <td>0</td>\n",
       "      <td>False</td>\n",
       "      <td>bar</td>\n",
       "      <td>NaN</td>\n",
       "      <td>NaN</td>\n",
       "    </tr>\n",
       "    <tr>\n",
       "      <th>3</th>\n",
       "      <td>0</td>\n",
       "      <td>0</td>\n",
       "      <td>False</td>\n",
       "      <td>bar</td>\n",
       "      <td>NaN</td>\n",
       "      <td>NaN</td>\n",
       "    </tr>\n",
       "    <tr>\n",
       "      <th>4</th>\n",
       "      <td>0</td>\n",
       "      <td>0</td>\n",
       "      <td>False</td>\n",
       "      <td>bar</td>\n",
       "      <td>NaN</td>\n",
       "      <td>NaN</td>\n",
       "    </tr>\n",
       "  </tbody>\n",
       "</table>\n",
       "</div>"
      ],
      "text/plain": [
       "   one  bar   flag  foo  one_trunc  ration\n",
       "0    0    0  False  bar        0.0     NaN\n",
       "1    0    0  False  bar        0.0     NaN\n",
       "2    0    0  False  bar        NaN     NaN\n",
       "3    0    0  False  bar        NaN     NaN\n",
       "4    0    0  False  bar        NaN     NaN"
      ]
     },
     "execution_count": 85,
     "metadata": {},
     "output_type": "execute_result"
    }
   ],
   "source": [
    "def1.assign(ration = ratio).head()"
   ]
  },
  {
   "cell_type": "code",
   "execution_count": 86,
   "metadata": {
    "colab": {
     "base_uri": "https://localhost:8080/",
     "height": 206
    },
    "id": "tUBxb336JGLT",
    "outputId": "5227389a-b355-4c2b-b6a5-2c74dbcadb6b"
   },
   "outputs": [
    {
     "data": {
      "text/html": [
       "<div>\n",
       "<style scoped>\n",
       "    .dataframe tbody tr th:only-of-type {\n",
       "        vertical-align: middle;\n",
       "    }\n",
       "\n",
       "    .dataframe tbody tr th {\n",
       "        vertical-align: top;\n",
       "    }\n",
       "\n",
       "    .dataframe thead th {\n",
       "        text-align: right;\n",
       "    }\n",
       "</style>\n",
       "<table border=\"1\" class=\"dataframe\">\n",
       "  <thead>\n",
       "    <tr style=\"text-align: right;\">\n",
       "      <th></th>\n",
       "      <th>one</th>\n",
       "      <th>bar</th>\n",
       "      <th>flag</th>\n",
       "      <th>foo</th>\n",
       "      <th>one_trunc</th>\n",
       "    </tr>\n",
       "  </thead>\n",
       "  <tbody>\n",
       "    <tr>\n",
       "      <th>4208</th>\n",
       "      <td>100</td>\n",
       "      <td>200</td>\n",
       "      <td>True</td>\n",
       "      <td>bar</td>\n",
       "      <td>NaN</td>\n",
       "    </tr>\n",
       "    <tr>\n",
       "      <th>4209</th>\n",
       "      <td>79</td>\n",
       "      <td>158</td>\n",
       "      <td>True</td>\n",
       "      <td>bar</td>\n",
       "      <td>NaN</td>\n",
       "    </tr>\n",
       "    <tr>\n",
       "      <th>4210</th>\n",
       "      <td>73</td>\n",
       "      <td>146</td>\n",
       "      <td>True</td>\n",
       "      <td>bar</td>\n",
       "      <td>NaN</td>\n",
       "    </tr>\n",
       "    <tr>\n",
       "      <th>4211</th>\n",
       "      <td>74</td>\n",
       "      <td>148</td>\n",
       "      <td>True</td>\n",
       "      <td>bar</td>\n",
       "      <td>NaN</td>\n",
       "    </tr>\n",
       "    <tr>\n",
       "      <th>4212</th>\n",
       "      <td>100</td>\n",
       "      <td>200</td>\n",
       "      <td>True</td>\n",
       "      <td>bar</td>\n",
       "      <td>NaN</td>\n",
       "    </tr>\n",
       "  </tbody>\n",
       "</table>\n",
       "</div>"
      ],
      "text/plain": [
       "      one  bar  flag  foo  one_trunc\n",
       "4208  100  200  True  bar        NaN\n",
       "4209   79  158  True  bar        NaN\n",
       "4210   73  146  True  bar        NaN\n",
       "4211   74  148  True  bar        NaN\n",
       "4212  100  200  True  bar        NaN"
      ]
     },
     "execution_count": 86,
     "metadata": {},
     "output_type": "execute_result"
    }
   ],
   "source": [
    "def1.tail()"
   ]
  },
  {
   "cell_type": "code",
   "execution_count": 87,
   "metadata": {
    "colab": {
     "base_uri": "https://localhost:8080/",
     "height": 206
    },
    "id": "jOhLZQa_JGJP",
    "outputId": "0cbdce39-3e5c-4656-ce5a-b9f14ccc5ae6"
   },
   "outputs": [
    {
     "data": {
      "text/html": [
       "<div>\n",
       "<style scoped>\n",
       "    .dataframe tbody tr th:only-of-type {\n",
       "        vertical-align: middle;\n",
       "    }\n",
       "\n",
       "    .dataframe tbody tr th {\n",
       "        vertical-align: top;\n",
       "    }\n",
       "\n",
       "    .dataframe thead th {\n",
       "        text-align: right;\n",
       "    }\n",
       "</style>\n",
       "<table border=\"1\" class=\"dataframe\">\n",
       "  <thead>\n",
       "    <tr style=\"text-align: right;\">\n",
       "      <th></th>\n",
       "      <th>one</th>\n",
       "      <th>bar</th>\n",
       "      <th>flag</th>\n",
       "      <th>foo</th>\n",
       "      <th>one_trunc</th>\n",
       "      <th>sepal_ratio</th>\n",
       "    </tr>\n",
       "  </thead>\n",
       "  <tbody>\n",
       "    <tr>\n",
       "      <th>4208</th>\n",
       "      <td>100</td>\n",
       "      <td>200</td>\n",
       "      <td>True</td>\n",
       "      <td>bar</td>\n",
       "      <td>NaN</td>\n",
       "      <td>0.5</td>\n",
       "    </tr>\n",
       "    <tr>\n",
       "      <th>4209</th>\n",
       "      <td>79</td>\n",
       "      <td>158</td>\n",
       "      <td>True</td>\n",
       "      <td>bar</td>\n",
       "      <td>NaN</td>\n",
       "      <td>0.5</td>\n",
       "    </tr>\n",
       "    <tr>\n",
       "      <th>4210</th>\n",
       "      <td>73</td>\n",
       "      <td>146</td>\n",
       "      <td>True</td>\n",
       "      <td>bar</td>\n",
       "      <td>NaN</td>\n",
       "      <td>0.5</td>\n",
       "    </tr>\n",
       "    <tr>\n",
       "      <th>4211</th>\n",
       "      <td>74</td>\n",
       "      <td>148</td>\n",
       "      <td>True</td>\n",
       "      <td>bar</td>\n",
       "      <td>NaN</td>\n",
       "      <td>0.5</td>\n",
       "    </tr>\n",
       "    <tr>\n",
       "      <th>4212</th>\n",
       "      <td>100</td>\n",
       "      <td>200</td>\n",
       "      <td>True</td>\n",
       "      <td>bar</td>\n",
       "      <td>NaN</td>\n",
       "      <td>0.5</td>\n",
       "    </tr>\n",
       "  </tbody>\n",
       "</table>\n",
       "</div>"
      ],
      "text/plain": [
       "      one  bar  flag  foo  one_trunc  sepal_ratio\n",
       "4208  100  200  True  bar        NaN          0.5\n",
       "4209   79  158  True  bar        NaN          0.5\n",
       "4210   73  146  True  bar        NaN          0.5\n",
       "4211   74  148  True  bar        NaN          0.5\n",
       "4212  100  200  True  bar        NaN          0.5"
      ]
     },
     "execution_count": 87,
     "metadata": {},
     "output_type": "execute_result"
    }
   ],
   "source": [
    "def1.assign(sepal_ratio=lambda x: (x[\"one\"] / x[\"bar\"])).tail()"
   ]
  },
  {
   "cell_type": "code",
   "execution_count": 88,
   "metadata": {
    "colab": {
     "base_uri": "https://localhost:8080/",
     "height": 296
    },
    "id": "YZLCq3gaJGF1",
    "outputId": "301d5432-e999-4755-851b-59e87938854b"
   },
   "outputs": [
    {
     "data": {
      "text/plain": [
       "<AxesSubplot: xlabel='oneRation', ylabel='barRation'>"
      ]
     },
     "execution_count": 88,
     "metadata": {},
     "output_type": "execute_result"
    },
    {
     "data": {
      "image/png": "[encoded data removed]",
      "text/plain": [
       "<Figure size 432x288 with 1 Axes>"
      ]
     },
     "metadata": {
      "needs_background": "light"
     },
     "output_type": "display_data"
    }
   ],
   "source": [
    "(\n",
    "    def1.query(\"one > 50\")\n",
    "    .assign(\n",
    "        oneRation=lambda x: x.one / x.bar,\n",
    "        barRation=lambda x: x.bar / x.one,\n",
    "    )\n",
    "    .plot(kind=\"scatter\", x=\"oneRation\", y=\"barRation\")\n",
    ")"
   ]
  },
  {
   "cell_type": "code",
   "execution_count": null,
   "metadata": {
    "id": "Waqc4BXgJGDz"
   },
   "outputs": [],
   "source": []
  },
  {
   "cell_type": "markdown",
   "metadata": {
    "id": "E9nug8EgOqky"
   },
   "source": [
    "##Indexing/Selection"
   ]
  },
  {
   "cell_type": "code",
   "execution_count": 89,
   "metadata": {
    "colab": {
     "base_uri": "https://localhost:8080/"
    },
    "id": "YtScrOHLOtDG",
    "outputId": "d3a5d1b2-cd9a-471d-a14f-2ea63508e334"
   },
   "outputs": [
    {
     "data": {
      "text/plain": [
       "Index(['one', 'bar', 'flag', 'foo', 'one_trunc'], dtype='object')"
      ]
     },
     "execution_count": 89,
     "metadata": {},
     "output_type": "execute_result"
    }
   ],
   "source": [
    "def1.columns"
   ]
  },
  {
   "cell_type": "code",
   "execution_count": 90,
   "metadata": {
    "colab": {
     "base_uri": "https://localhost:8080/",
     "height": 424
    },
    "id": "iVrt_VgQO7DW",
    "outputId": "baacf3ca-a05d-4dff-ca35-88e6a5a9223d"
   },
   "outputs": [
    {
     "data": {
      "text/html": [
       "<div>\n",
       "<style scoped>\n",
       "    .dataframe tbody tr th:only-of-type {\n",
       "        vertical-align: middle;\n",
       "    }\n",
       "\n",
       "    .dataframe tbody tr th {\n",
       "        vertical-align: top;\n",
       "    }\n",
       "\n",
       "    .dataframe thead th {\n",
       "        text-align: right;\n",
       "    }\n",
       "</style>\n",
       "<table border=\"1\" class=\"dataframe\">\n",
       "  <thead>\n",
       "    <tr style=\"text-align: right;\">\n",
       "      <th></th>\n",
       "      <th>one</th>\n",
       "      <th>bar</th>\n",
       "      <th>flag</th>\n",
       "      <th>foo</th>\n",
       "      <th>one_trunc</th>\n",
       "    </tr>\n",
       "  </thead>\n",
       "  <tbody>\n",
       "    <tr>\n",
       "      <th>0</th>\n",
       "      <td>0</td>\n",
       "      <td>0</td>\n",
       "      <td>False</td>\n",
       "      <td>bar</td>\n",
       "      <td>0.0</td>\n",
       "    </tr>\n",
       "    <tr>\n",
       "      <th>1</th>\n",
       "      <td>0</td>\n",
       "      <td>0</td>\n",
       "      <td>False</td>\n",
       "      <td>bar</td>\n",
       "      <td>0.0</td>\n",
       "    </tr>\n",
       "    <tr>\n",
       "      <th>2</th>\n",
       "      <td>0</td>\n",
       "      <td>0</td>\n",
       "      <td>False</td>\n",
       "      <td>bar</td>\n",
       "      <td>NaN</td>\n",
       "    </tr>\n",
       "    <tr>\n",
       "      <th>3</th>\n",
       "      <td>0</td>\n",
       "      <td>0</td>\n",
       "      <td>False</td>\n",
       "      <td>bar</td>\n",
       "      <td>NaN</td>\n",
       "    </tr>\n",
       "    <tr>\n",
       "      <th>4</th>\n",
       "      <td>0</td>\n",
       "      <td>0</td>\n",
       "      <td>False</td>\n",
       "      <td>bar</td>\n",
       "      <td>NaN</td>\n",
       "    </tr>\n",
       "    <tr>\n",
       "      <th>...</th>\n",
       "      <td>...</td>\n",
       "      <td>...</td>\n",
       "      <td>...</td>\n",
       "      <td>...</td>\n",
       "      <td>...</td>\n",
       "    </tr>\n",
       "    <tr>\n",
       "      <th>4208</th>\n",
       "      <td>100</td>\n",
       "      <td>200</td>\n",
       "      <td>True</td>\n",
       "      <td>bar</td>\n",
       "      <td>NaN</td>\n",
       "    </tr>\n",
       "    <tr>\n",
       "      <th>4209</th>\n",
       "      <td>79</td>\n",
       "      <td>158</td>\n",
       "      <td>True</td>\n",
       "      <td>bar</td>\n",
       "      <td>NaN</td>\n",
       "    </tr>\n",
       "    <tr>\n",
       "      <th>4210</th>\n",
       "      <td>73</td>\n",
       "      <td>146</td>\n",
       "      <td>True</td>\n",
       "      <td>bar</td>\n",
       "      <td>NaN</td>\n",
       "    </tr>\n",
       "    <tr>\n",
       "      <th>4211</th>\n",
       "      <td>74</td>\n",
       "      <td>148</td>\n",
       "      <td>True</td>\n",
       "      <td>bar</td>\n",
       "      <td>NaN</td>\n",
       "    </tr>\n",
       "    <tr>\n",
       "      <th>4212</th>\n",
       "      <td>100</td>\n",
       "      <td>200</td>\n",
       "      <td>True</td>\n",
       "      <td>bar</td>\n",
       "      <td>NaN</td>\n",
       "    </tr>\n",
       "  </tbody>\n",
       "</table>\n",
       "<p>4213 rows × 5 columns</p>\n",
       "</div>"
      ],
      "text/plain": [
       "      one  bar   flag  foo  one_trunc\n",
       "0       0    0  False  bar        0.0\n",
       "1       0    0  False  bar        0.0\n",
       "2       0    0  False  bar        NaN\n",
       "3       0    0  False  bar        NaN\n",
       "4       0    0  False  bar        NaN\n",
       "...   ...  ...    ...  ...        ...\n",
       "4208  100  200   True  bar        NaN\n",
       "4209   79  158   True  bar        NaN\n",
       "4210   73  146   True  bar        NaN\n",
       "4211   74  148   True  bar        NaN\n",
       "4212  100  200   True  bar        NaN\n",
       "\n",
       "[4213 rows x 5 columns]"
      ]
     },
     "execution_count": 90,
     "metadata": {},
     "output_type": "execute_result"
    }
   ],
   "source": [
    "def1"
   ]
  },
  {
   "cell_type": "code",
   "execution_count": 91,
   "metadata": {
    "colab": {
     "base_uri": "https://localhost:8080/"
    },
    "id": "f7apVb9xPB7R",
    "outputId": "2a669a97-75a3-4135-bb35-ed6c37e5b6ca"
   },
   "outputs": [
    {
     "data": {
      "text/plain": [
       "0         0\n",
       "1         0\n",
       "2         0\n",
       "3         0\n",
       "4         0\n",
       "       ... \n",
       "4208    100\n",
       "4209     79\n",
       "4210     73\n",
       "4211     74\n",
       "4212    100\n",
       "Name: one, Length: 4213, dtype: int64"
      ]
     },
     "execution_count": 91,
     "metadata": {},
     "output_type": "execute_result"
    }
   ],
   "source": [
    "def1[\"one\"]"
   ]
  },
  {
   "cell_type": "code",
   "execution_count": 92,
   "metadata": {
    "colab": {
     "base_uri": "https://localhost:8080/"
    },
    "id": "uhm69lJOPMRB",
    "outputId": "21899b17-ca20-4183-f17f-7524546d4270"
   },
   "outputs": [
    {
     "data": {
      "text/plain": [
       "one              0\n",
       "bar              0\n",
       "flag         False\n",
       "foo            bar\n",
       "one_trunc      NaN\n",
       "Name: 2, dtype: object"
      ]
     },
     "execution_count": 92,
     "metadata": {},
     "output_type": "execute_result"
    }
   ],
   "source": [
    "def1.iloc[2]"
   ]
  },
  {
   "cell_type": "markdown",
   "metadata": {
    "id": "rAwCOQz_PWB_"
   },
   "source": [
    "##Data Alignment and Arithmetic\n"
   ]
  },
  {
   "cell_type": "code",
   "execution_count": 93,
   "metadata": {
    "colab": {
     "base_uri": "https://localhost:8080/",
     "height": 488
    },
    "id": "Wr9a-NtYPVKN",
    "outputId": "7bba6d77-a5c7-415c-e6a9-4762597fdce2"
   },
   "outputs": [
    {
     "data": {
      "text/html": [
       "<div>\n",
       "<style scoped>\n",
       "    .dataframe tbody tr th:only-of-type {\n",
       "        vertical-align: middle;\n",
       "    }\n",
       "\n",
       "    .dataframe tbody tr th {\n",
       "        vertical-align: top;\n",
       "    }\n",
       "\n",
       "    .dataframe thead th {\n",
       "        text-align: right;\n",
       "    }\n",
       "</style>\n",
       "<table border=\"1\" class=\"dataframe\">\n",
       "  <thead>\n",
       "    <tr style=\"text-align: right;\">\n",
       "      <th></th>\n",
       "      <th>temperature_2_m_above_gnd</th>\n",
       "      <th>relative_humidity_2_m_above_gnd</th>\n",
       "      <th>mean_sea_level_pressure_MSL</th>\n",
       "      <th>total_precipitation_sfc</th>\n",
       "      <th>snowfall_amount_sfc</th>\n",
       "      <th>total_cloud_cover_sfc</th>\n",
       "      <th>high_cloud_cover_high_cld_lay</th>\n",
       "      <th>medium_cloud_cover_mid_cld_lay</th>\n",
       "      <th>low_cloud_cover_low_cld_lay</th>\n",
       "      <th>shortwave_radiation_backwards_sfc</th>\n",
       "      <th>...</th>\n",
       "      <th>wind_direction_10_m_above_gnd</th>\n",
       "      <th>wind_speed_80_m_above_gnd</th>\n",
       "      <th>wind_direction_80_m_above_gnd</th>\n",
       "      <th>wind_speed_900_mb</th>\n",
       "      <th>wind_direction_900_mb</th>\n",
       "      <th>wind_gust_10_m_above_gnd</th>\n",
       "      <th>angle_of_incidence</th>\n",
       "      <th>zenith</th>\n",
       "      <th>azimuth</th>\n",
       "      <th>generated_power_kw</th>\n",
       "    </tr>\n",
       "  </thead>\n",
       "  <tbody>\n",
       "    <tr>\n",
       "      <th>0</th>\n",
       "      <td>2.17</td>\n",
       "      <td>31</td>\n",
       "      <td>1035.0</td>\n",
       "      <td>0.0</td>\n",
       "      <td>0.0</td>\n",
       "      <td>0.0</td>\n",
       "      <td>0</td>\n",
       "      <td>0</td>\n",
       "      <td>0</td>\n",
       "      <td>0.00</td>\n",
       "      <td>...</td>\n",
       "      <td>312.71</td>\n",
       "      <td>9.36</td>\n",
       "      <td>22.62</td>\n",
       "      <td>6.62</td>\n",
       "      <td>337.62</td>\n",
       "      <td>24.48</td>\n",
       "      <td>58.753108</td>\n",
       "      <td>83.237322</td>\n",
       "      <td>128.33543</td>\n",
       "      <td>454.100950</td>\n",
       "    </tr>\n",
       "    <tr>\n",
       "      <th>1</th>\n",
       "      <td>2.31</td>\n",
       "      <td>27</td>\n",
       "      <td>1035.1</td>\n",
       "      <td>0.0</td>\n",
       "      <td>0.0</td>\n",
       "      <td>0.0</td>\n",
       "      <td>0</td>\n",
       "      <td>0</td>\n",
       "      <td>0</td>\n",
       "      <td>1.78</td>\n",
       "      <td>...</td>\n",
       "      <td>294.78</td>\n",
       "      <td>5.99</td>\n",
       "      <td>32.74</td>\n",
       "      <td>4.61</td>\n",
       "      <td>321.34</td>\n",
       "      <td>21.96</td>\n",
       "      <td>45.408585</td>\n",
       "      <td>75.143041</td>\n",
       "      <td>139.65530</td>\n",
       "      <td>1411.999400</td>\n",
       "    </tr>\n",
       "    <tr>\n",
       "      <th>2</th>\n",
       "      <td>3.65</td>\n",
       "      <td>33</td>\n",
       "      <td>1035.4</td>\n",
       "      <td>0.0</td>\n",
       "      <td>0.0</td>\n",
       "      <td>0.0</td>\n",
       "      <td>0</td>\n",
       "      <td>0</td>\n",
       "      <td>0</td>\n",
       "      <td>108.58</td>\n",
       "      <td>...</td>\n",
       "      <td>270.00</td>\n",
       "      <td>3.89</td>\n",
       "      <td>56.31</td>\n",
       "      <td>3.76</td>\n",
       "      <td>286.70</td>\n",
       "      <td>14.04</td>\n",
       "      <td>32.848282</td>\n",
       "      <td>68.820648</td>\n",
       "      <td>152.53769</td>\n",
       "      <td>2214.849300</td>\n",
       "    </tr>\n",
       "    <tr>\n",
       "      <th>3</th>\n",
       "      <td>5.82</td>\n",
       "      <td>30</td>\n",
       "      <td>1035.4</td>\n",
       "      <td>0.0</td>\n",
       "      <td>0.0</td>\n",
       "      <td>0.0</td>\n",
       "      <td>0</td>\n",
       "      <td>0</td>\n",
       "      <td>0</td>\n",
       "      <td>258.10</td>\n",
       "      <td>...</td>\n",
       "      <td>323.13</td>\n",
       "      <td>3.55</td>\n",
       "      <td>23.96</td>\n",
       "      <td>3.08</td>\n",
       "      <td>339.44</td>\n",
       "      <td>19.80</td>\n",
       "      <td>22.699288</td>\n",
       "      <td>64.883536</td>\n",
       "      <td>166.90159</td>\n",
       "      <td>2527.609200</td>\n",
       "    </tr>\n",
       "    <tr>\n",
       "      <th>4</th>\n",
       "      <td>7.73</td>\n",
       "      <td>27</td>\n",
       "      <td>1034.4</td>\n",
       "      <td>0.0</td>\n",
       "      <td>0.0</td>\n",
       "      <td>0.0</td>\n",
       "      <td>0</td>\n",
       "      <td>0</td>\n",
       "      <td>0</td>\n",
       "      <td>375.58</td>\n",
       "      <td>...</td>\n",
       "      <td>10.01</td>\n",
       "      <td>6.76</td>\n",
       "      <td>25.20</td>\n",
       "      <td>6.62</td>\n",
       "      <td>22.38</td>\n",
       "      <td>16.56</td>\n",
       "      <td>19.199908</td>\n",
       "      <td>63.795208</td>\n",
       "      <td>182.13526</td>\n",
       "      <td>2640.203400</td>\n",
       "    </tr>\n",
       "    <tr>\n",
       "      <th>...</th>\n",
       "      <td>...</td>\n",
       "      <td>...</td>\n",
       "      <td>...</td>\n",
       "      <td>...</td>\n",
       "      <td>...</td>\n",
       "      <td>...</td>\n",
       "      <td>...</td>\n",
       "      <td>...</td>\n",
       "      <td>...</td>\n",
       "      <td>...</td>\n",
       "      <td>...</td>\n",
       "      <td>...</td>\n",
       "      <td>...</td>\n",
       "      <td>...</td>\n",
       "      <td>...</td>\n",
       "      <td>...</td>\n",
       "      <td>...</td>\n",
       "      <td>...</td>\n",
       "      <td>...</td>\n",
       "      <td>...</td>\n",
       "      <td>...</td>\n",
       "    </tr>\n",
       "    <tr>\n",
       "      <th>4208</th>\n",
       "      <td>8.69</td>\n",
       "      <td>66</td>\n",
       "      <td>1025.1</td>\n",
       "      <td>0.0</td>\n",
       "      <td>0.0</td>\n",
       "      <td>100.0</td>\n",
       "      <td>100</td>\n",
       "      <td>100</td>\n",
       "      <td>100</td>\n",
       "      <td>257.21</td>\n",
       "      <td>...</td>\n",
       "      <td>285.42</td>\n",
       "      <td>25.50</td>\n",
       "      <td>283.06</td>\n",
       "      <td>24.01</td>\n",
       "      <td>282.99</td>\n",
       "      <td>25.20</td>\n",
       "      <td>22.700907</td>\n",
       "      <td>64.952098</td>\n",
       "      <td>167.06794</td>\n",
       "      <td>173.410560</td>\n",
       "    </tr>\n",
       "    <tr>\n",
       "      <th>4209</th>\n",
       "      <td>7.57</td>\n",
       "      <td>90</td>\n",
       "      <td>1026.1</td>\n",
       "      <td>0.0</td>\n",
       "      <td>0.0</td>\n",
       "      <td>100.0</td>\n",
       "      <td>79</td>\n",
       "      <td>100</td>\n",
       "      <td>100</td>\n",
       "      <td>210.04</td>\n",
       "      <td>...</td>\n",
       "      <td>6.91</td>\n",
       "      <td>13.00</td>\n",
       "      <td>4.76</td>\n",
       "      <td>11.61</td>\n",
       "      <td>7.13</td>\n",
       "      <td>10.44</td>\n",
       "      <td>19.307487</td>\n",
       "      <td>63.895118</td>\n",
       "      <td>182.28247</td>\n",
       "      <td>403.792220</td>\n",
       "    </tr>\n",
       "    <tr>\n",
       "      <th>4210</th>\n",
       "      <td>7.27</td>\n",
       "      <td>90</td>\n",
       "      <td>1026.3</td>\n",
       "      <td>0.1</td>\n",
       "      <td>0.0</td>\n",
       "      <td>100.0</td>\n",
       "      <td>73</td>\n",
       "      <td>100</td>\n",
       "      <td>100</td>\n",
       "      <td>113.92</td>\n",
       "      <td>...</td>\n",
       "      <td>2.29</td>\n",
       "      <td>8.71</td>\n",
       "      <td>352.87</td>\n",
       "      <td>7.95</td>\n",
       "      <td>354.81</td>\n",
       "      <td>22.32</td>\n",
       "      <td>25.249506</td>\n",
       "      <td>65.827032</td>\n",
       "      <td>197.33868</td>\n",
       "      <td>158.367780</td>\n",
       "    </tr>\n",
       "    <tr>\n",
       "      <th>4211</th>\n",
       "      <td>8.25</td>\n",
       "      <td>81</td>\n",
       "      <td>1025.5</td>\n",
       "      <td>0.0</td>\n",
       "      <td>0.0</td>\n",
       "      <td>100.0</td>\n",
       "      <td>74</td>\n",
       "      <td>66</td>\n",
       "      <td>100</td>\n",
       "      <td>186.90</td>\n",
       "      <td>...</td>\n",
       "      <td>11.31</td>\n",
       "      <td>6.29</td>\n",
       "      <td>13.24</td>\n",
       "      <td>5.94</td>\n",
       "      <td>14.04</td>\n",
       "      <td>15.48</td>\n",
       "      <td>36.361161</td>\n",
       "      <td>70.496313</td>\n",
       "      <td>211.30027</td>\n",
       "      <td>126.953060</td>\n",
       "    </tr>\n",
       "    <tr>\n",
       "      <th>4212</th>\n",
       "      <td>8.00</td>\n",
       "      <td>80</td>\n",
       "      <td>1025.3</td>\n",
       "      <td>0.0</td>\n",
       "      <td>0.0</td>\n",
       "      <td>100.0</td>\n",
       "      <td>100</td>\n",
       "      <td>100</td>\n",
       "      <td>100</td>\n",
       "      <td>172.66</td>\n",
       "      <td>...</td>\n",
       "      <td>12.72</td>\n",
       "      <td>12.07</td>\n",
       "      <td>17.35</td>\n",
       "      <td>11.38</td>\n",
       "      <td>18.43</td>\n",
       "      <td>16.20</td>\n",
       "      <td>48.452849</td>\n",
       "      <td>76.919574</td>\n",
       "      <td>223.04931</td>\n",
       "      <td>20.055031</td>\n",
       "    </tr>\n",
       "  </tbody>\n",
       "</table>\n",
       "<p>4213 rows × 21 columns</p>\n",
       "</div>"
      ],
      "text/plain": [
       "      temperature_2_m_above_gnd  relative_humidity_2_m_above_gnd  \\\n",
       "0                          2.17                               31   \n",
       "1                          2.31                               27   \n",
       "2                          3.65                               33   \n",
       "3                          5.82                               30   \n",
       "4                          7.73                               27   \n",
       "...                         ...                              ...   \n",
       "4208                       8.69                               66   \n",
       "4209                       7.57                               90   \n",
       "4210                       7.27                               90   \n",
       "4211                       8.25                               81   \n",
       "4212                       8.00                               80   \n",
       "\n",
       "      mean_sea_level_pressure_MSL  total_precipitation_sfc  \\\n",
       "0                          1035.0                      0.0   \n",
       "1                          1035.1                      0.0   \n",
       "2                          1035.4                      0.0   \n",
       "3                          1035.4                      0.0   \n",
       "4                          1034.4                      0.0   \n",
       "...                           ...                      ...   \n",
       "4208                       1025.1                      0.0   \n",
       "4209                       1026.1                      0.0   \n",
       "4210                       1026.3                      0.1   \n",
       "4211                       1025.5                      0.0   \n",
       "4212                       1025.3                      0.0   \n",
       "\n",
       "      snowfall_amount_sfc  total_cloud_cover_sfc  \\\n",
       "0                     0.0                    0.0   \n",
       "1                     0.0                    0.0   \n",
       "2                     0.0                    0.0   \n",
       "3                     0.0                    0.0   \n",
       "4                     0.0                    0.0   \n",
       "...                   ...                    ...   \n",
       "4208                  0.0                  100.0   \n",
       "4209                  0.0                  100.0   \n",
       "4210                  0.0                  100.0   \n",
       "4211                  0.0                  100.0   \n",
       "4212                  0.0                  100.0   \n",
       "\n",
       "      high_cloud_cover_high_cld_lay  medium_cloud_cover_mid_cld_lay  \\\n",
       "0                                 0                               0   \n",
       "1                                 0                               0   \n",
       "2                                 0                               0   \n",
       "3                                 0                               0   \n",
       "4                                 0                               0   \n",
       "...                             ...                             ...   \n",
       "4208                            100                             100   \n",
       "4209                             79                             100   \n",
       "4210                             73                             100   \n",
       "4211                             74                              66   \n",
       "4212                            100                             100   \n",
       "\n",
       "      low_cloud_cover_low_cld_lay  shortwave_radiation_backwards_sfc  ...  \\\n",
       "0                               0                               0.00  ...   \n",
       "1                               0                               1.78  ...   \n",
       "2                               0                             108.58  ...   \n",
       "3                               0                             258.10  ...   \n",
       "4                               0                             375.58  ...   \n",
       "...                           ...                                ...  ...   \n",
       "4208                          100                             257.21  ...   \n",
       "4209                          100                             210.04  ...   \n",
       "4210                          100                             113.92  ...   \n",
       "4211                          100                             186.90  ...   \n",
       "4212                          100                             172.66  ...   \n",
       "\n",
       "      wind_direction_10_m_above_gnd  wind_speed_80_m_above_gnd  \\\n",
       "0                            312.71                       9.36   \n",
       "1                            294.78                       5.99   \n",
       "2                            270.00                       3.89   \n",
       "3                            323.13                       3.55   \n",
       "4                             10.01                       6.76   \n",
       "...                             ...                        ...   \n",
       "4208                         285.42                      25.50   \n",
       "4209                           6.91                      13.00   \n",
       "4210                           2.29                       8.71   \n",
       "4211                          11.31                       6.29   \n",
       "4212                          12.72                      12.07   \n",
       "\n",
       "      wind_direction_80_m_above_gnd  wind_speed_900_mb  wind_direction_900_mb  \\\n",
       "0                             22.62               6.62                 337.62   \n",
       "1                             32.74               4.61                 321.34   \n",
       "2                             56.31               3.76                 286.70   \n",
       "3                             23.96               3.08                 339.44   \n",
       "4                             25.20               6.62                  22.38   \n",
       "...                             ...                ...                    ...   \n",
       "4208                         283.06              24.01                 282.99   \n",
       "4209                           4.76              11.61                   7.13   \n",
       "4210                         352.87               7.95                 354.81   \n",
       "4211                          13.24               5.94                  14.04   \n",
       "4212                          17.35              11.38                  18.43   \n",
       "\n",
       "      wind_gust_10_m_above_gnd  angle_of_incidence     zenith    azimuth  \\\n",
       "0                        24.48           58.753108  83.237322  128.33543   \n",
       "1                        21.96           45.408585  75.143041  139.65530   \n",
       "2                        14.04           32.848282  68.820648  152.53769   \n",
       "3                        19.80           22.699288  64.883536  166.90159   \n",
       "4                        16.56           19.199908  63.795208  182.13526   \n",
       "...                        ...                 ...        ...        ...   \n",
       "4208                     25.20           22.700907  64.952098  167.06794   \n",
       "4209                     10.44           19.307487  63.895118  182.28247   \n",
       "4210                     22.32           25.249506  65.827032  197.33868   \n",
       "4211                     15.48           36.361161  70.496313  211.30027   \n",
       "4212                     16.20           48.452849  76.919574  223.04931   \n",
       "\n",
       "      generated_power_kw  \n",
       "0             454.100950  \n",
       "1            1411.999400  \n",
       "2            2214.849300  \n",
       "3            2527.609200  \n",
       "4            2640.203400  \n",
       "...                  ...  \n",
       "4208          173.410560  \n",
       "4209          403.792220  \n",
       "4210          158.367780  \n",
       "4211          126.953060  \n",
       "4212           20.055031  \n",
       "\n",
       "[4213 rows x 21 columns]"
      ]
     },
     "execution_count": 93,
     "metadata": {},
     "output_type": "execute_result"
    }
   ],
   "source": [
    "df"
   ]
  },
  {
   "cell_type": "code",
   "execution_count": 94,
   "metadata": {
    "id": "LuR-PMQ4PtQN"
   },
   "outputs": [],
   "source": [
    "data1 = df[df.columns[1:4]]\n",
    "data2 = df[df.columns[1:3]]"
   ]
  },
  {
   "cell_type": "code",
   "execution_count": 95,
   "metadata": {
    "colab": {
     "base_uri": "https://localhost:8080/",
     "height": 488
    },
    "id": "p3ZM6ezNQash",
    "outputId": "c0ce6927-411f-4e42-9e39-63ded5f19a6e"
   },
   "outputs": [
    {
     "data": {
      "text/html": [
       "<div>\n",
       "<style scoped>\n",
       "    .dataframe tbody tr th:only-of-type {\n",
       "        vertical-align: middle;\n",
       "    }\n",
       "\n",
       "    .dataframe tbody tr th {\n",
       "        vertical-align: top;\n",
       "    }\n",
       "\n",
       "    .dataframe thead th {\n",
       "        text-align: right;\n",
       "    }\n",
       "</style>\n",
       "<table border=\"1\" class=\"dataframe\">\n",
       "  <thead>\n",
       "    <tr style=\"text-align: right;\">\n",
       "      <th></th>\n",
       "      <th>relative_humidity_2_m_above_gnd</th>\n",
       "      <th>mean_sea_level_pressure_MSL</th>\n",
       "      <th>total_precipitation_sfc</th>\n",
       "    </tr>\n",
       "  </thead>\n",
       "  <tbody>\n",
       "    <tr>\n",
       "      <th>0</th>\n",
       "      <td>31</td>\n",
       "      <td>1035.0</td>\n",
       "      <td>0.0</td>\n",
       "    </tr>\n",
       "    <tr>\n",
       "      <th>1</th>\n",
       "      <td>27</td>\n",
       "      <td>1035.1</td>\n",
       "      <td>0.0</td>\n",
       "    </tr>\n",
       "    <tr>\n",
       "      <th>2</th>\n",
       "      <td>33</td>\n",
       "      <td>1035.4</td>\n",
       "      <td>0.0</td>\n",
       "    </tr>\n",
       "    <tr>\n",
       "      <th>3</th>\n",
       "      <td>30</td>\n",
       "      <td>1035.4</td>\n",
       "      <td>0.0</td>\n",
       "    </tr>\n",
       "    <tr>\n",
       "      <th>4</th>\n",
       "      <td>27</td>\n",
       "      <td>1034.4</td>\n",
       "      <td>0.0</td>\n",
       "    </tr>\n",
       "    <tr>\n",
       "      <th>...</th>\n",
       "      <td>...</td>\n",
       "      <td>...</td>\n",
       "      <td>...</td>\n",
       "    </tr>\n",
       "    <tr>\n",
       "      <th>4208</th>\n",
       "      <td>66</td>\n",
       "      <td>1025.1</td>\n",
       "      <td>0.0</td>\n",
       "    </tr>\n",
       "    <tr>\n",
       "      <th>4209</th>\n",
       "      <td>90</td>\n",
       "      <td>1026.1</td>\n",
       "      <td>0.0</td>\n",
       "    </tr>\n",
       "    <tr>\n",
       "      <th>4210</th>\n",
       "      <td>90</td>\n",
       "      <td>1026.3</td>\n",
       "      <td>0.1</td>\n",
       "    </tr>\n",
       "    <tr>\n",
       "      <th>4211</th>\n",
       "      <td>81</td>\n",
       "      <td>1025.5</td>\n",
       "      <td>0.0</td>\n",
       "    </tr>\n",
       "    <tr>\n",
       "      <th>4212</th>\n",
       "      <td>80</td>\n",
       "      <td>1025.3</td>\n",
       "      <td>0.0</td>\n",
       "    </tr>\n",
       "  </tbody>\n",
       "</table>\n",
       "<p>4213 rows × 3 columns</p>\n",
       "</div>"
      ],
      "text/plain": [
       "      relative_humidity_2_m_above_gnd  mean_sea_level_pressure_MSL  \\\n",
       "0                                  31                       1035.0   \n",
       "1                                  27                       1035.1   \n",
       "2                                  33                       1035.4   \n",
       "3                                  30                       1035.4   \n",
       "4                                  27                       1034.4   \n",
       "...                               ...                          ...   \n",
       "4208                               66                       1025.1   \n",
       "4209                               90                       1026.1   \n",
       "4210                               90                       1026.3   \n",
       "4211                               81                       1025.5   \n",
       "4212                               80                       1025.3   \n",
       "\n",
       "      total_precipitation_sfc  \n",
       "0                         0.0  \n",
       "1                         0.0  \n",
       "2                         0.0  \n",
       "3                         0.0  \n",
       "4                         0.0  \n",
       "...                       ...  \n",
       "4208                      0.0  \n",
       "4209                      0.0  \n",
       "4210                      0.1  \n",
       "4211                      0.0  \n",
       "4212                      0.0  \n",
       "\n",
       "[4213 rows x 3 columns]"
      ]
     },
     "execution_count": 95,
     "metadata": {},
     "output_type": "execute_result"
    }
   ],
   "source": [
    "data1"
   ]
  },
  {
   "cell_type": "code",
   "execution_count": 96,
   "metadata": {
    "colab": {
     "base_uri": "https://localhost:8080/",
     "height": 488
    },
    "id": "nZo9rlzJQdPc",
    "outputId": "ed6ce12f-533d-44f1-ce9d-d0a307a45e26"
   },
   "outputs": [
    {
     "data": {
      "text/html": [
       "<div>\n",
       "<style scoped>\n",
       "    .dataframe tbody tr th:only-of-type {\n",
       "        vertical-align: middle;\n",
       "    }\n",
       "\n",
       "    .dataframe tbody tr th {\n",
       "        vertical-align: top;\n",
       "    }\n",
       "\n",
       "    .dataframe thead th {\n",
       "        text-align: right;\n",
       "    }\n",
       "</style>\n",
       "<table border=\"1\" class=\"dataframe\">\n",
       "  <thead>\n",
       "    <tr style=\"text-align: right;\">\n",
       "      <th></th>\n",
       "      <th>mean_sea_level_pressure_MSL</th>\n",
       "      <th>relative_humidity_2_m_above_gnd</th>\n",
       "      <th>total_precipitation_sfc</th>\n",
       "    </tr>\n",
       "  </thead>\n",
       "  <tbody>\n",
       "    <tr>\n",
       "      <th>0</th>\n",
       "      <td>2070.0</td>\n",
       "      <td>62</td>\n",
       "      <td>NaN</td>\n",
       "    </tr>\n",
       "    <tr>\n",
       "      <th>1</th>\n",
       "      <td>2070.2</td>\n",
       "      <td>54</td>\n",
       "      <td>NaN</td>\n",
       "    </tr>\n",
       "    <tr>\n",
       "      <th>2</th>\n",
       "      <td>2070.8</td>\n",
       "      <td>66</td>\n",
       "      <td>NaN</td>\n",
       "    </tr>\n",
       "    <tr>\n",
       "      <th>3</th>\n",
       "      <td>2070.8</td>\n",
       "      <td>60</td>\n",
       "      <td>NaN</td>\n",
       "    </tr>\n",
       "    <tr>\n",
       "      <th>4</th>\n",
       "      <td>2068.8</td>\n",
       "      <td>54</td>\n",
       "      <td>NaN</td>\n",
       "    </tr>\n",
       "    <tr>\n",
       "      <th>...</th>\n",
       "      <td>...</td>\n",
       "      <td>...</td>\n",
       "      <td>...</td>\n",
       "    </tr>\n",
       "    <tr>\n",
       "      <th>4208</th>\n",
       "      <td>2050.2</td>\n",
       "      <td>132</td>\n",
       "      <td>NaN</td>\n",
       "    </tr>\n",
       "    <tr>\n",
       "      <th>4209</th>\n",
       "      <td>2052.2</td>\n",
       "      <td>180</td>\n",
       "      <td>NaN</td>\n",
       "    </tr>\n",
       "    <tr>\n",
       "      <th>4210</th>\n",
       "      <td>2052.6</td>\n",
       "      <td>180</td>\n",
       "      <td>NaN</td>\n",
       "    </tr>\n",
       "    <tr>\n",
       "      <th>4211</th>\n",
       "      <td>2051.0</td>\n",
       "      <td>162</td>\n",
       "      <td>NaN</td>\n",
       "    </tr>\n",
       "    <tr>\n",
       "      <th>4212</th>\n",
       "      <td>2050.6</td>\n",
       "      <td>160</td>\n",
       "      <td>NaN</td>\n",
       "    </tr>\n",
       "  </tbody>\n",
       "</table>\n",
       "<p>4213 rows × 3 columns</p>\n",
       "</div>"
      ],
      "text/plain": [
       "      mean_sea_level_pressure_MSL  relative_humidity_2_m_above_gnd  \\\n",
       "0                          2070.0                               62   \n",
       "1                          2070.2                               54   \n",
       "2                          2070.8                               66   \n",
       "3                          2070.8                               60   \n",
       "4                          2068.8                               54   \n",
       "...                           ...                              ...   \n",
       "4208                       2050.2                              132   \n",
       "4209                       2052.2                              180   \n",
       "4210                       2052.6                              180   \n",
       "4211                       2051.0                              162   \n",
       "4212                       2050.6                              160   \n",
       "\n",
       "      total_precipitation_sfc  \n",
       "0                         NaN  \n",
       "1                         NaN  \n",
       "2                         NaN  \n",
       "3                         NaN  \n",
       "4                         NaN  \n",
       "...                       ...  \n",
       "4208                      NaN  \n",
       "4209                      NaN  \n",
       "4210                      NaN  \n",
       "4211                      NaN  \n",
       "4212                      NaN  \n",
       "\n",
       "[4213 rows x 3 columns]"
      ]
     },
     "execution_count": 96,
     "metadata": {},
     "output_type": "execute_result"
    }
   ],
   "source": [
    "data1 + data2"
   ]
  },
  {
   "cell_type": "code",
   "execution_count": 97,
   "metadata": {
    "colab": {
     "base_uri": "https://localhost:8080/",
     "height": 488
    },
    "id": "NR_zUxkvQFiL",
    "outputId": "5977411f-2a54-438f-be26-16976f3c43d4"
   },
   "outputs": [
    {
     "data": {
      "text/html": [
       "<div>\n",
       "<style scoped>\n",
       "    .dataframe tbody tr th:only-of-type {\n",
       "        vertical-align: middle;\n",
       "    }\n",
       "\n",
       "    .dataframe tbody tr th {\n",
       "        vertical-align: top;\n",
       "    }\n",
       "\n",
       "    .dataframe thead th {\n",
       "        text-align: right;\n",
       "    }\n",
       "</style>\n",
       "<table border=\"1\" class=\"dataframe\">\n",
       "  <thead>\n",
       "    <tr style=\"text-align: right;\">\n",
       "      <th></th>\n",
       "      <th>relative_humidity_2_m_above_gnd</th>\n",
       "      <th>mean_sea_level_pressure_MSL</th>\n",
       "      <th>total_precipitation_sfc</th>\n",
       "    </tr>\n",
       "  </thead>\n",
       "  <tbody>\n",
       "    <tr>\n",
       "      <th>0</th>\n",
       "      <td>0.0</td>\n",
       "      <td>0.0</td>\n",
       "      <td>0.0</td>\n",
       "    </tr>\n",
       "    <tr>\n",
       "      <th>1</th>\n",
       "      <td>-4.0</td>\n",
       "      <td>0.1</td>\n",
       "      <td>0.0</td>\n",
       "    </tr>\n",
       "    <tr>\n",
       "      <th>2</th>\n",
       "      <td>2.0</td>\n",
       "      <td>0.4</td>\n",
       "      <td>0.0</td>\n",
       "    </tr>\n",
       "    <tr>\n",
       "      <th>3</th>\n",
       "      <td>-1.0</td>\n",
       "      <td>0.4</td>\n",
       "      <td>0.0</td>\n",
       "    </tr>\n",
       "    <tr>\n",
       "      <th>4</th>\n",
       "      <td>-4.0</td>\n",
       "      <td>-0.6</td>\n",
       "      <td>0.0</td>\n",
       "    </tr>\n",
       "    <tr>\n",
       "      <th>...</th>\n",
       "      <td>...</td>\n",
       "      <td>...</td>\n",
       "      <td>...</td>\n",
       "    </tr>\n",
       "    <tr>\n",
       "      <th>4208</th>\n",
       "      <td>35.0</td>\n",
       "      <td>-9.9</td>\n",
       "      <td>0.0</td>\n",
       "    </tr>\n",
       "    <tr>\n",
       "      <th>4209</th>\n",
       "      <td>59.0</td>\n",
       "      <td>-8.9</td>\n",
       "      <td>0.0</td>\n",
       "    </tr>\n",
       "    <tr>\n",
       "      <th>4210</th>\n",
       "      <td>59.0</td>\n",
       "      <td>-8.7</td>\n",
       "      <td>0.1</td>\n",
       "    </tr>\n",
       "    <tr>\n",
       "      <th>4211</th>\n",
       "      <td>50.0</td>\n",
       "      <td>-9.5</td>\n",
       "      <td>0.0</td>\n",
       "    </tr>\n",
       "    <tr>\n",
       "      <th>4212</th>\n",
       "      <td>49.0</td>\n",
       "      <td>-9.7</td>\n",
       "      <td>0.0</td>\n",
       "    </tr>\n",
       "  </tbody>\n",
       "</table>\n",
       "<p>4213 rows × 3 columns</p>\n",
       "</div>"
      ],
      "text/plain": [
       "      relative_humidity_2_m_above_gnd  mean_sea_level_pressure_MSL  \\\n",
       "0                                 0.0                          0.0   \n",
       "1                                -4.0                          0.1   \n",
       "2                                 2.0                          0.4   \n",
       "3                                -1.0                          0.4   \n",
       "4                                -4.0                         -0.6   \n",
       "...                               ...                          ...   \n",
       "4208                             35.0                         -9.9   \n",
       "4209                             59.0                         -8.9   \n",
       "4210                             59.0                         -8.7   \n",
       "4211                             50.0                         -9.5   \n",
       "4212                             49.0                         -9.7   \n",
       "\n",
       "      total_precipitation_sfc  \n",
       "0                         0.0  \n",
       "1                         0.0  \n",
       "2                         0.0  \n",
       "3                         0.0  \n",
       "4                         0.0  \n",
       "...                       ...  \n",
       "4208                      0.0  \n",
       "4209                      0.0  \n",
       "4210                      0.1  \n",
       "4211                      0.0  \n",
       "4212                      0.0  \n",
       "\n",
       "[4213 rows x 3 columns]"
      ]
     },
     "execution_count": 97,
     "metadata": {},
     "output_type": "execute_result"
    }
   ],
   "source": [
    "data1 - data1.iloc[0]"
   ]
  },
  {
   "cell_type": "code",
   "execution_count": 98,
   "metadata": {
    "colab": {
     "base_uri": "https://localhost:8080/",
     "height": 488
    },
    "id": "PiKKYHfBRJTp",
    "outputId": "a87237ad-c2a0-44c8-9d5e-0a1ff700cc6b"
   },
   "outputs": [
    {
     "data": {
      "text/html": [
       "<div>\n",
       "<style scoped>\n",
       "    .dataframe tbody tr th:only-of-type {\n",
       "        vertical-align: middle;\n",
       "    }\n",
       "\n",
       "    .dataframe tbody tr th {\n",
       "        vertical-align: top;\n",
       "    }\n",
       "\n",
       "    .dataframe thead th {\n",
       "        text-align: right;\n",
       "    }\n",
       "</style>\n",
       "<table border=\"1\" class=\"dataframe\">\n",
       "  <thead>\n",
       "    <tr style=\"text-align: right;\">\n",
       "      <th></th>\n",
       "      <th>relative_humidity_2_m_above_gnd</th>\n",
       "      <th>mean_sea_level_pressure_MSL</th>\n",
       "      <th>total_precipitation_sfc</th>\n",
       "    </tr>\n",
       "  </thead>\n",
       "  <tbody>\n",
       "    <tr>\n",
       "      <th>0</th>\n",
       "      <td>157</td>\n",
       "      <td>5177.0</td>\n",
       "      <td>2.0</td>\n",
       "    </tr>\n",
       "    <tr>\n",
       "      <th>1</th>\n",
       "      <td>137</td>\n",
       "      <td>5177.5</td>\n",
       "      <td>2.0</td>\n",
       "    </tr>\n",
       "    <tr>\n",
       "      <th>2</th>\n",
       "      <td>167</td>\n",
       "      <td>5179.0</td>\n",
       "      <td>2.0</td>\n",
       "    </tr>\n",
       "    <tr>\n",
       "      <th>3</th>\n",
       "      <td>152</td>\n",
       "      <td>5179.0</td>\n",
       "      <td>2.0</td>\n",
       "    </tr>\n",
       "    <tr>\n",
       "      <th>4</th>\n",
       "      <td>137</td>\n",
       "      <td>5174.0</td>\n",
       "      <td>2.0</td>\n",
       "    </tr>\n",
       "    <tr>\n",
       "      <th>...</th>\n",
       "      <td>...</td>\n",
       "      <td>...</td>\n",
       "      <td>...</td>\n",
       "    </tr>\n",
       "    <tr>\n",
       "      <th>4208</th>\n",
       "      <td>332</td>\n",
       "      <td>5127.5</td>\n",
       "      <td>2.0</td>\n",
       "    </tr>\n",
       "    <tr>\n",
       "      <th>4209</th>\n",
       "      <td>452</td>\n",
       "      <td>5132.5</td>\n",
       "      <td>2.0</td>\n",
       "    </tr>\n",
       "    <tr>\n",
       "      <th>4210</th>\n",
       "      <td>452</td>\n",
       "      <td>5133.5</td>\n",
       "      <td>2.5</td>\n",
       "    </tr>\n",
       "    <tr>\n",
       "      <th>4211</th>\n",
       "      <td>407</td>\n",
       "      <td>5129.5</td>\n",
       "      <td>2.0</td>\n",
       "    </tr>\n",
       "    <tr>\n",
       "      <th>4212</th>\n",
       "      <td>402</td>\n",
       "      <td>5128.5</td>\n",
       "      <td>2.0</td>\n",
       "    </tr>\n",
       "  </tbody>\n",
       "</table>\n",
       "<p>4213 rows × 3 columns</p>\n",
       "</div>"
      ],
      "text/plain": [
       "      relative_humidity_2_m_above_gnd  mean_sea_level_pressure_MSL  \\\n",
       "0                                 157                       5177.0   \n",
       "1                                 137                       5177.5   \n",
       "2                                 167                       5179.0   \n",
       "3                                 152                       5179.0   \n",
       "4                                 137                       5174.0   \n",
       "...                               ...                          ...   \n",
       "4208                              332                       5127.5   \n",
       "4209                              452                       5132.5   \n",
       "4210                              452                       5133.5   \n",
       "4211                              407                       5129.5   \n",
       "4212                              402                       5128.5   \n",
       "\n",
       "      total_precipitation_sfc  \n",
       "0                         2.0  \n",
       "1                         2.0  \n",
       "2                         2.0  \n",
       "3                         2.0  \n",
       "4                         2.0  \n",
       "...                       ...  \n",
       "4208                      2.0  \n",
       "4209                      2.0  \n",
       "4210                      2.5  \n",
       "4211                      2.0  \n",
       "4212                      2.0  \n",
       "\n",
       "[4213 rows x 3 columns]"
      ]
     },
     "execution_count": 98,
     "metadata": {},
     "output_type": "execute_result"
    }
   ],
   "source": [
    "data1 * 5 + 2"
   ]
  },
  {
   "cell_type": "code",
   "execution_count": 99,
   "metadata": {
    "colab": {
     "base_uri": "https://localhost:8080/",
     "height": 488
    },
    "id": "1iRN9tlQRNDt",
    "outputId": "4ee9e2ed-d3ac-492f-ee51-2ae45c6fa03e"
   },
   "outputs": [
    {
     "data": {
      "text/html": [
       "<div>\n",
       "<style scoped>\n",
       "    .dataframe tbody tr th:only-of-type {\n",
       "        vertical-align: middle;\n",
       "    }\n",
       "\n",
       "    .dataframe tbody tr th {\n",
       "        vertical-align: top;\n",
       "    }\n",
       "\n",
       "    .dataframe thead th {\n",
       "        text-align: right;\n",
       "    }\n",
       "</style>\n",
       "<table border=\"1\" class=\"dataframe\">\n",
       "  <thead>\n",
       "    <tr style=\"text-align: right;\">\n",
       "      <th></th>\n",
       "      <th>relative_humidity_2_m_above_gnd</th>\n",
       "      <th>mean_sea_level_pressure_MSL</th>\n",
       "      <th>total_precipitation_sfc</th>\n",
       "    </tr>\n",
       "  </thead>\n",
       "  <tbody>\n",
       "    <tr>\n",
       "      <th>0</th>\n",
       "      <td>0.032258</td>\n",
       "      <td>0.000966</td>\n",
       "      <td>inf</td>\n",
       "    </tr>\n",
       "    <tr>\n",
       "      <th>1</th>\n",
       "      <td>0.037037</td>\n",
       "      <td>0.000966</td>\n",
       "      <td>inf</td>\n",
       "    </tr>\n",
       "    <tr>\n",
       "      <th>2</th>\n",
       "      <td>0.030303</td>\n",
       "      <td>0.000966</td>\n",
       "      <td>inf</td>\n",
       "    </tr>\n",
       "    <tr>\n",
       "      <th>3</th>\n",
       "      <td>0.033333</td>\n",
       "      <td>0.000966</td>\n",
       "      <td>inf</td>\n",
       "    </tr>\n",
       "    <tr>\n",
       "      <th>4</th>\n",
       "      <td>0.037037</td>\n",
       "      <td>0.000967</td>\n",
       "      <td>inf</td>\n",
       "    </tr>\n",
       "    <tr>\n",
       "      <th>...</th>\n",
       "      <td>...</td>\n",
       "      <td>...</td>\n",
       "      <td>...</td>\n",
       "    </tr>\n",
       "    <tr>\n",
       "      <th>4208</th>\n",
       "      <td>0.015152</td>\n",
       "      <td>0.000976</td>\n",
       "      <td>inf</td>\n",
       "    </tr>\n",
       "    <tr>\n",
       "      <th>4209</th>\n",
       "      <td>0.011111</td>\n",
       "      <td>0.000975</td>\n",
       "      <td>inf</td>\n",
       "    </tr>\n",
       "    <tr>\n",
       "      <th>4210</th>\n",
       "      <td>0.011111</td>\n",
       "      <td>0.000974</td>\n",
       "      <td>10.0</td>\n",
       "    </tr>\n",
       "    <tr>\n",
       "      <th>4211</th>\n",
       "      <td>0.012346</td>\n",
       "      <td>0.000975</td>\n",
       "      <td>inf</td>\n",
       "    </tr>\n",
       "    <tr>\n",
       "      <th>4212</th>\n",
       "      <td>0.012500</td>\n",
       "      <td>0.000975</td>\n",
       "      <td>inf</td>\n",
       "    </tr>\n",
       "  </tbody>\n",
       "</table>\n",
       "<p>4213 rows × 3 columns</p>\n",
       "</div>"
      ],
      "text/plain": [
       "      relative_humidity_2_m_above_gnd  mean_sea_level_pressure_MSL  \\\n",
       "0                            0.032258                     0.000966   \n",
       "1                            0.037037                     0.000966   \n",
       "2                            0.030303                     0.000966   \n",
       "3                            0.033333                     0.000966   \n",
       "4                            0.037037                     0.000967   \n",
       "...                               ...                          ...   \n",
       "4208                         0.015152                     0.000976   \n",
       "4209                         0.011111                     0.000975   \n",
       "4210                         0.011111                     0.000974   \n",
       "4211                         0.012346                     0.000975   \n",
       "4212                         0.012500                     0.000975   \n",
       "\n",
       "      total_precipitation_sfc  \n",
       "0                         inf  \n",
       "1                         inf  \n",
       "2                         inf  \n",
       "3                         inf  \n",
       "4                         inf  \n",
       "...                       ...  \n",
       "4208                      inf  \n",
       "4209                      inf  \n",
       "4210                     10.0  \n",
       "4211                      inf  \n",
       "4212                      inf  \n",
       "\n",
       "[4213 rows x 3 columns]"
      ]
     },
     "execution_count": 99,
     "metadata": {},
     "output_type": "execute_result"
    }
   ],
   "source": [
    "1/data1"
   ]
  },
  {
   "cell_type": "code",
   "execution_count": 100,
   "metadata": {
    "colab": {
     "base_uri": "https://localhost:8080/",
     "height": 488
    },
    "id": "rMRSy-PFRPUe",
    "outputId": "f6c3446a-6e9f-4655-f890-f5e01ebe5cf0"
   },
   "outputs": [
    {
     "data": {
      "text/html": [
       "<div>\n",
       "<style scoped>\n",
       "    .dataframe tbody tr th:only-of-type {\n",
       "        vertical-align: middle;\n",
       "    }\n",
       "\n",
       "    .dataframe tbody tr th {\n",
       "        vertical-align: top;\n",
       "    }\n",
       "\n",
       "    .dataframe thead th {\n",
       "        text-align: right;\n",
       "    }\n",
       "</style>\n",
       "<table border=\"1\" class=\"dataframe\">\n",
       "  <thead>\n",
       "    <tr style=\"text-align: right;\">\n",
       "      <th></th>\n",
       "      <th>relative_humidity_2_m_above_gnd</th>\n",
       "      <th>mean_sea_level_pressure_MSL</th>\n",
       "      <th>total_precipitation_sfc</th>\n",
       "    </tr>\n",
       "  </thead>\n",
       "  <tbody>\n",
       "    <tr>\n",
       "      <th>0</th>\n",
       "      <td>923521</td>\n",
       "      <td>1.147523e+12</td>\n",
       "      <td>0.0000</td>\n",
       "    </tr>\n",
       "    <tr>\n",
       "      <th>1</th>\n",
       "      <td>531441</td>\n",
       "      <td>1.147967e+12</td>\n",
       "      <td>0.0000</td>\n",
       "    </tr>\n",
       "    <tr>\n",
       "      <th>2</th>\n",
       "      <td>1185921</td>\n",
       "      <td>1.149298e+12</td>\n",
       "      <td>0.0000</td>\n",
       "    </tr>\n",
       "    <tr>\n",
       "      <th>3</th>\n",
       "      <td>810000</td>\n",
       "      <td>1.149298e+12</td>\n",
       "      <td>0.0000</td>\n",
       "    </tr>\n",
       "    <tr>\n",
       "      <th>4</th>\n",
       "      <td>531441</td>\n",
       "      <td>1.144864e+12</td>\n",
       "      <td>0.0000</td>\n",
       "    </tr>\n",
       "    <tr>\n",
       "      <th>...</th>\n",
       "      <td>...</td>\n",
       "      <td>...</td>\n",
       "      <td>...</td>\n",
       "    </tr>\n",
       "    <tr>\n",
       "      <th>4208</th>\n",
       "      <td>18974736</td>\n",
       "      <td>1.104244e+12</td>\n",
       "      <td>0.0000</td>\n",
       "    </tr>\n",
       "    <tr>\n",
       "      <th>4209</th>\n",
       "      <td>65610000</td>\n",
       "      <td>1.108559e+12</td>\n",
       "      <td>0.0000</td>\n",
       "    </tr>\n",
       "    <tr>\n",
       "      <th>4210</th>\n",
       "      <td>65610000</td>\n",
       "      <td>1.109423e+12</td>\n",
       "      <td>0.0001</td>\n",
       "    </tr>\n",
       "    <tr>\n",
       "      <th>4211</th>\n",
       "      <td>43046721</td>\n",
       "      <td>1.105968e+12</td>\n",
       "      <td>0.0000</td>\n",
       "    </tr>\n",
       "    <tr>\n",
       "      <th>4212</th>\n",
       "      <td>40960000</td>\n",
       "      <td>1.105106e+12</td>\n",
       "      <td>0.0000</td>\n",
       "    </tr>\n",
       "  </tbody>\n",
       "</table>\n",
       "<p>4213 rows × 3 columns</p>\n",
       "</div>"
      ],
      "text/plain": [
       "      relative_humidity_2_m_above_gnd  mean_sea_level_pressure_MSL  \\\n",
       "0                              923521                 1.147523e+12   \n",
       "1                              531441                 1.147967e+12   \n",
       "2                             1185921                 1.149298e+12   \n",
       "3                              810000                 1.149298e+12   \n",
       "4                              531441                 1.144864e+12   \n",
       "...                               ...                          ...   \n",
       "4208                         18974736                 1.104244e+12   \n",
       "4209                         65610000                 1.108559e+12   \n",
       "4210                         65610000                 1.109423e+12   \n",
       "4211                         43046721                 1.105968e+12   \n",
       "4212                         40960000                 1.105106e+12   \n",
       "\n",
       "      total_precipitation_sfc  \n",
       "0                      0.0000  \n",
       "1                      0.0000  \n",
       "2                      0.0000  \n",
       "3                      0.0000  \n",
       "4                      0.0000  \n",
       "...                       ...  \n",
       "4208                   0.0000  \n",
       "4209                   0.0000  \n",
       "4210                   0.0001  \n",
       "4211                   0.0000  \n",
       "4212                   0.0000  \n",
       "\n",
       "[4213 rows x 3 columns]"
      ]
     },
     "execution_count": 100,
     "metadata": {},
     "output_type": "execute_result"
    }
   ],
   "source": [
    "data1 ** 4"
   ]
  },
  {
   "cell_type": "code",
   "execution_count": 101,
   "metadata": {
    "id": "hkd5pZRSRSvv"
   },
   "outputs": [],
   "source": [
    "det1 = df[df.columns[1:4]]\n",
    "det2 = df[df.columns[1:3]]"
   ]
  },
  {
   "cell_type": "code",
   "execution_count": 102,
   "metadata": {
    "colab": {
     "base_uri": "https://localhost:8080/",
     "height": 488
    },
    "id": "WMCvbfZFRoWG",
    "outputId": "eb88db35-dfae-47db-b150-cf4d3d3ccac8"
   },
   "outputs": [
    {
     "data": {
      "text/html": [
       "<div>\n",
       "<style scoped>\n",
       "    .dataframe tbody tr th:only-of-type {\n",
       "        vertical-align: middle;\n",
       "    }\n",
       "\n",
       "    .dataframe tbody tr th {\n",
       "        vertical-align: top;\n",
       "    }\n",
       "\n",
       "    .dataframe thead th {\n",
       "        text-align: right;\n",
       "    }\n",
       "</style>\n",
       "<table border=\"1\" class=\"dataframe\">\n",
       "  <thead>\n",
       "    <tr style=\"text-align: right;\">\n",
       "      <th></th>\n",
       "      <th>relative_humidity_2_m_above_gnd</th>\n",
       "      <th>mean_sea_level_pressure_MSL</th>\n",
       "      <th>total_precipitation_sfc</th>\n",
       "    </tr>\n",
       "  </thead>\n",
       "  <tbody>\n",
       "    <tr>\n",
       "      <th>0</th>\n",
       "      <td>31</td>\n",
       "      <td>1035.0</td>\n",
       "      <td>0.0</td>\n",
       "    </tr>\n",
       "    <tr>\n",
       "      <th>1</th>\n",
       "      <td>27</td>\n",
       "      <td>1035.1</td>\n",
       "      <td>0.0</td>\n",
       "    </tr>\n",
       "    <tr>\n",
       "      <th>2</th>\n",
       "      <td>33</td>\n",
       "      <td>1035.4</td>\n",
       "      <td>0.0</td>\n",
       "    </tr>\n",
       "    <tr>\n",
       "      <th>3</th>\n",
       "      <td>30</td>\n",
       "      <td>1035.4</td>\n",
       "      <td>0.0</td>\n",
       "    </tr>\n",
       "    <tr>\n",
       "      <th>4</th>\n",
       "      <td>27</td>\n",
       "      <td>1034.4</td>\n",
       "      <td>0.0</td>\n",
       "    </tr>\n",
       "    <tr>\n",
       "      <th>...</th>\n",
       "      <td>...</td>\n",
       "      <td>...</td>\n",
       "      <td>...</td>\n",
       "    </tr>\n",
       "    <tr>\n",
       "      <th>4208</th>\n",
       "      <td>66</td>\n",
       "      <td>1025.1</td>\n",
       "      <td>0.0</td>\n",
       "    </tr>\n",
       "    <tr>\n",
       "      <th>4209</th>\n",
       "      <td>90</td>\n",
       "      <td>1026.1</td>\n",
       "      <td>0.0</td>\n",
       "    </tr>\n",
       "    <tr>\n",
       "      <th>4210</th>\n",
       "      <td>90</td>\n",
       "      <td>1026.3</td>\n",
       "      <td>0.1</td>\n",
       "    </tr>\n",
       "    <tr>\n",
       "      <th>4211</th>\n",
       "      <td>81</td>\n",
       "      <td>1025.5</td>\n",
       "      <td>0.0</td>\n",
       "    </tr>\n",
       "    <tr>\n",
       "      <th>4212</th>\n",
       "      <td>80</td>\n",
       "      <td>1025.3</td>\n",
       "      <td>0.0</td>\n",
       "    </tr>\n",
       "  </tbody>\n",
       "</table>\n",
       "<p>4213 rows × 3 columns</p>\n",
       "</div>"
      ],
      "text/plain": [
       "      relative_humidity_2_m_above_gnd  mean_sea_level_pressure_MSL  \\\n",
       "0                                  31                       1035.0   \n",
       "1                                  27                       1035.1   \n",
       "2                                  33                       1035.4   \n",
       "3                                  30                       1035.4   \n",
       "4                                  27                       1034.4   \n",
       "...                               ...                          ...   \n",
       "4208                               66                       1025.1   \n",
       "4209                               90                       1026.1   \n",
       "4210                               90                       1026.3   \n",
       "4211                               81                       1025.5   \n",
       "4212                               80                       1025.3   \n",
       "\n",
       "      total_precipitation_sfc  \n",
       "0                         0.0  \n",
       "1                         0.0  \n",
       "2                         0.0  \n",
       "3                         0.0  \n",
       "4                         0.0  \n",
       "...                       ...  \n",
       "4208                      0.0  \n",
       "4209                      0.0  \n",
       "4210                      0.1  \n",
       "4211                      0.0  \n",
       "4212                      0.0  \n",
       "\n",
       "[4213 rows x 3 columns]"
      ]
     },
     "execution_count": 102,
     "metadata": {},
     "output_type": "execute_result"
    }
   ],
   "source": [
    "det1"
   ]
  },
  {
   "cell_type": "code",
   "execution_count": 103,
   "metadata": {
    "colab": {
     "base_uri": "https://localhost:8080/"
    },
    "id": "M4xYcAKeR5dc",
    "outputId": "b75ad955-4cb3-4622-b890-36cb40b3992d"
   },
   "outputs": [
    {
     "name": "stderr",
     "output_type": "stream",
     "text": [
      "C:\\Users\\Samudrala Santhosh\\AppData\\Local\\Temp\\ipykernel_24120\\3151246256.py:1: SettingWithCopyWarning: \n",
      "A value is trying to be set on a copy of a slice from a DataFrame.\n",
      "Try using .loc[row_indexer,col_indexer] = value instead\n",
      "\n",
      "See the caveats in the documentation: https://pandas.pydata.org/pandas-docs/stable/user_guide/indexing.html#returning-a-view-versus-a-copy\n",
      "  det1[\"flag\"] = det1[\"relative_humidity_2_m_above_gnd\"] > 30\n"
     ]
    }
   ],
   "source": [
    "det1[\"flag\"] = det1[\"relative_humidity_2_m_above_gnd\"] > 30"
   ]
  },
  {
   "cell_type": "code",
   "execution_count": 104,
   "metadata": {
    "colab": {
     "base_uri": "https://localhost:8080/"
    },
    "id": "g1Z9mRtVSFXr",
    "outputId": "db9ea662-b366-4458-b40b-e68b1e4258f2"
   },
   "outputs": [
    {
     "name": "stderr",
     "output_type": "stream",
     "text": [
      "C:\\Users\\Samudrala Santhosh\\AppData\\Local\\Temp\\ipykernel_24120\\4120164870.py:1: SettingWithCopyWarning: \n",
      "A value is trying to be set on a copy of a slice from a DataFrame.\n",
      "Try using .loc[row_indexer,col_indexer] = value instead\n",
      "\n",
      "See the caveats in the documentation: https://pandas.pydata.org/pandas-docs/stable/user_guide/indexing.html#returning-a-view-versus-a-copy\n",
      "  det2[\"flag\"] = det1[\"relative_humidity_2_m_above_gnd\"] > 27\n"
     ]
    }
   ],
   "source": [
    "det2[\"flag\"] = det1[\"relative_humidity_2_m_above_gnd\"] > 27"
   ]
  },
  {
   "cell_type": "code",
   "execution_count": 105,
   "metadata": {
    "colab": {
     "base_uri": "https://localhost:8080/",
     "height": 488
    },
    "id": "ZkSNbJXGSBkN",
    "outputId": "5204d21f-349d-4ce5-bef4-c7b3f5150dad"
   },
   "outputs": [
    {
     "data": {
      "text/html": [
       "<div>\n",
       "<style scoped>\n",
       "    .dataframe tbody tr th:only-of-type {\n",
       "        vertical-align: middle;\n",
       "    }\n",
       "\n",
       "    .dataframe tbody tr th {\n",
       "        vertical-align: top;\n",
       "    }\n",
       "\n",
       "    .dataframe thead th {\n",
       "        text-align: right;\n",
       "    }\n",
       "</style>\n",
       "<table border=\"1\" class=\"dataframe\">\n",
       "  <thead>\n",
       "    <tr style=\"text-align: right;\">\n",
       "      <th></th>\n",
       "      <th>relative_humidity_2_m_above_gnd</th>\n",
       "      <th>mean_sea_level_pressure_MSL</th>\n",
       "      <th>total_precipitation_sfc</th>\n",
       "      <th>flag</th>\n",
       "    </tr>\n",
       "  </thead>\n",
       "  <tbody>\n",
       "    <tr>\n",
       "      <th>0</th>\n",
       "      <td>31</td>\n",
       "      <td>1035.0</td>\n",
       "      <td>0.0</td>\n",
       "      <td>True</td>\n",
       "    </tr>\n",
       "    <tr>\n",
       "      <th>1</th>\n",
       "      <td>27</td>\n",
       "      <td>1035.1</td>\n",
       "      <td>0.0</td>\n",
       "      <td>False</td>\n",
       "    </tr>\n",
       "    <tr>\n",
       "      <th>2</th>\n",
       "      <td>33</td>\n",
       "      <td>1035.4</td>\n",
       "      <td>0.0</td>\n",
       "      <td>True</td>\n",
       "    </tr>\n",
       "    <tr>\n",
       "      <th>3</th>\n",
       "      <td>30</td>\n",
       "      <td>1035.4</td>\n",
       "      <td>0.0</td>\n",
       "      <td>False</td>\n",
       "    </tr>\n",
       "    <tr>\n",
       "      <th>4</th>\n",
       "      <td>27</td>\n",
       "      <td>1034.4</td>\n",
       "      <td>0.0</td>\n",
       "      <td>False</td>\n",
       "    </tr>\n",
       "    <tr>\n",
       "      <th>...</th>\n",
       "      <td>...</td>\n",
       "      <td>...</td>\n",
       "      <td>...</td>\n",
       "      <td>...</td>\n",
       "    </tr>\n",
       "    <tr>\n",
       "      <th>4208</th>\n",
       "      <td>66</td>\n",
       "      <td>1025.1</td>\n",
       "      <td>0.0</td>\n",
       "      <td>True</td>\n",
       "    </tr>\n",
       "    <tr>\n",
       "      <th>4209</th>\n",
       "      <td>90</td>\n",
       "      <td>1026.1</td>\n",
       "      <td>0.0</td>\n",
       "      <td>True</td>\n",
       "    </tr>\n",
       "    <tr>\n",
       "      <th>4210</th>\n",
       "      <td>90</td>\n",
       "      <td>1026.3</td>\n",
       "      <td>0.1</td>\n",
       "      <td>True</td>\n",
       "    </tr>\n",
       "    <tr>\n",
       "      <th>4211</th>\n",
       "      <td>81</td>\n",
       "      <td>1025.5</td>\n",
       "      <td>0.0</td>\n",
       "      <td>True</td>\n",
       "    </tr>\n",
       "    <tr>\n",
       "      <th>4212</th>\n",
       "      <td>80</td>\n",
       "      <td>1025.3</td>\n",
       "      <td>0.0</td>\n",
       "      <td>True</td>\n",
       "    </tr>\n",
       "  </tbody>\n",
       "</table>\n",
       "<p>4213 rows × 4 columns</p>\n",
       "</div>"
      ],
      "text/plain": [
       "      relative_humidity_2_m_above_gnd  mean_sea_level_pressure_MSL  \\\n",
       "0                                  31                       1035.0   \n",
       "1                                  27                       1035.1   \n",
       "2                                  33                       1035.4   \n",
       "3                                  30                       1035.4   \n",
       "4                                  27                       1034.4   \n",
       "...                               ...                          ...   \n",
       "4208                               66                       1025.1   \n",
       "4209                               90                       1026.1   \n",
       "4210                               90                       1026.3   \n",
       "4211                               81                       1025.5   \n",
       "4212                               80                       1025.3   \n",
       "\n",
       "      total_precipitation_sfc   flag  \n",
       "0                         0.0   True  \n",
       "1                         0.0  False  \n",
       "2                         0.0   True  \n",
       "3                         0.0  False  \n",
       "4                         0.0  False  \n",
       "...                       ...    ...  \n",
       "4208                      0.0   True  \n",
       "4209                      0.0   True  \n",
       "4210                      0.1   True  \n",
       "4211                      0.0   True  \n",
       "4212                      0.0   True  \n",
       "\n",
       "[4213 rows x 4 columns]"
      ]
     },
     "execution_count": 105,
     "metadata": {},
     "output_type": "execute_result"
    }
   ],
   "source": [
    "det1"
   ]
  },
  {
   "cell_type": "code",
   "execution_count": 106,
   "metadata": {
    "colab": {
     "base_uri": "https://localhost:8080/"
    },
    "id": "yZBAj8neSLK-",
    "outputId": "99fad1d5-d044-45d5-d31b-2f777de22ffb"
   },
   "outputs": [
    {
     "data": {
      "text/plain": [
       "0        True\n",
       "1       False\n",
       "2        True\n",
       "3       False\n",
       "4       False\n",
       "        ...  \n",
       "4208     True\n",
       "4209     True\n",
       "4210     True\n",
       "4211     True\n",
       "4212     True\n",
       "Name: flag, Length: 4213, dtype: bool"
      ]
     },
     "execution_count": 106,
     "metadata": {},
     "output_type": "execute_result"
    }
   ],
   "source": [
    "det1[\"flag\"] & det2[\"flag\"]"
   ]
  },
  {
   "cell_type": "code",
   "execution_count": 107,
   "metadata": {
    "colab": {
     "base_uri": "https://localhost:8080/"
    },
    "id": "97BLyhl8STvG",
    "outputId": "fc2676ad-b8ba-4151-9000-df6ae1347fba"
   },
   "outputs": [
    {
     "data": {
      "text/plain": [
       "0        True\n",
       "1       False\n",
       "2        True\n",
       "3        True\n",
       "4       False\n",
       "        ...  \n",
       "4208     True\n",
       "4209     True\n",
       "4210     True\n",
       "4211     True\n",
       "4212     True\n",
       "Name: flag, Length: 4213, dtype: bool"
      ]
     },
     "execution_count": 107,
     "metadata": {},
     "output_type": "execute_result"
    }
   ],
   "source": [
    "det1[\"flag\"] | det2[\"flag\"]"
   ]
  },
  {
   "cell_type": "code",
   "execution_count": 108,
   "metadata": {
    "colab": {
     "base_uri": "https://localhost:8080/"
    },
    "id": "Xww7n7TUSXXN",
    "outputId": "6fa2236b-b1e2-414a-8621-af46aafee979"
   },
   "outputs": [
    {
     "data": {
      "text/plain": [
       "0       False\n",
       "1       False\n",
       "2       False\n",
       "3        True\n",
       "4       False\n",
       "        ...  \n",
       "4208    False\n",
       "4209    False\n",
       "4210    False\n",
       "4211    False\n",
       "4212    False\n",
       "Name: flag, Length: 4213, dtype: bool"
      ]
     },
     "execution_count": 108,
     "metadata": {},
     "output_type": "execute_result"
    }
   ],
   "source": [
    "det1[\"flag\"] ^ det2[\"flag\"]"
   ]
  },
  {
   "cell_type": "code",
   "execution_count": 109,
   "metadata": {
    "colab": {
     "base_uri": "https://localhost:8080/"
    },
    "id": "GGgB1ze6Sccz",
    "outputId": "5feab9e0-34d9-4624-f401-e3acc210741a"
   },
   "outputs": [
    {
     "data": {
      "text/plain": [
       "0       False\n",
       "1        True\n",
       "2       False\n",
       "3        True\n",
       "4        True\n",
       "        ...  \n",
       "4208    False\n",
       "4209    False\n",
       "4210    False\n",
       "4211    False\n",
       "4212    False\n",
       "Name: flag, Length: 4213, dtype: bool"
      ]
     },
     "execution_count": 109,
     "metadata": {},
     "output_type": "execute_result"
    }
   ],
   "source": [
    "-det1[\"flag\"]"
   ]
  },
  {
   "cell_type": "markdown",
   "metadata": {
    "id": "PzcuEJGiShpL"
   },
   "source": [
    "##Transposing"
   ]
  },
  {
   "cell_type": "code",
   "execution_count": 110,
   "metadata": {
    "colab": {
     "base_uri": "https://localhost:8080/",
     "height": 175
    },
    "id": "qiJKygLaSg_Q",
    "outputId": "9bf62085-bf06-416d-e850-fb201170de3f"
   },
   "outputs": [
    {
     "data": {
      "text/html": [
       "<div>\n",
       "<style scoped>\n",
       "    .dataframe tbody tr th:only-of-type {\n",
       "        vertical-align: middle;\n",
       "    }\n",
       "\n",
       "    .dataframe tbody tr th {\n",
       "        vertical-align: top;\n",
       "    }\n",
       "\n",
       "    .dataframe thead th {\n",
       "        text-align: right;\n",
       "    }\n",
       "</style>\n",
       "<table border=\"1\" class=\"dataframe\">\n",
       "  <thead>\n",
       "    <tr style=\"text-align: right;\">\n",
       "      <th></th>\n",
       "      <th>0</th>\n",
       "      <th>1</th>\n",
       "      <th>2</th>\n",
       "      <th>3</th>\n",
       "      <th>4</th>\n",
       "    </tr>\n",
       "  </thead>\n",
       "  <tbody>\n",
       "    <tr>\n",
       "      <th>relative_humidity_2_m_above_gnd</th>\n",
       "      <td>31</td>\n",
       "      <td>27</td>\n",
       "      <td>33</td>\n",
       "      <td>30</td>\n",
       "      <td>27</td>\n",
       "    </tr>\n",
       "    <tr>\n",
       "      <th>mean_sea_level_pressure_MSL</th>\n",
       "      <td>1035.0</td>\n",
       "      <td>1035.1</td>\n",
       "      <td>1035.4</td>\n",
       "      <td>1035.4</td>\n",
       "      <td>1034.4</td>\n",
       "    </tr>\n",
       "    <tr>\n",
       "      <th>total_precipitation_sfc</th>\n",
       "      <td>0.0</td>\n",
       "      <td>0.0</td>\n",
       "      <td>0.0</td>\n",
       "      <td>0.0</td>\n",
       "      <td>0.0</td>\n",
       "    </tr>\n",
       "    <tr>\n",
       "      <th>flag</th>\n",
       "      <td>True</td>\n",
       "      <td>False</td>\n",
       "      <td>True</td>\n",
       "      <td>False</td>\n",
       "      <td>False</td>\n",
       "    </tr>\n",
       "  </tbody>\n",
       "</table>\n",
       "</div>"
      ],
      "text/plain": [
       "                                      0       1       2       3       4\n",
       "relative_humidity_2_m_above_gnd      31      27      33      30      27\n",
       "mean_sea_level_pressure_MSL      1035.0  1035.1  1035.4  1035.4  1034.4\n",
       "total_precipitation_sfc             0.0     0.0     0.0     0.0     0.0\n",
       "flag                               True   False    True   False   False"
      ]
     },
     "execution_count": 110,
     "metadata": {},
     "output_type": "execute_result"
    }
   ],
   "source": [
    "det1[:5].T"
   ]
  },
  {
   "cell_type": "markdown",
   "metadata": {
    "id": "g4ti55f2SsZS"
   },
   "source": [
    "##DataFrame interoperability with NumPy functions"
   ]
  },
  {
   "cell_type": "code",
   "execution_count": 111,
   "metadata": {
    "colab": {
     "base_uri": "https://localhost:8080/",
     "height": 424
    },
    "id": "DP9v4l0-Sz_K",
    "outputId": "58a7f988-fc27-4868-b093-e06f43771e96"
   },
   "outputs": [
    {
     "name": "stderr",
     "output_type": "stream",
     "text": [
      "C:\\Users\\Samudrala Santhosh\\AppData\\Local\\Programs\\Python\\Python310\\lib\\site-packages\\pandas\\core\\internals\\blocks.py:351: RuntimeWarning: overflow encountered in exp\n",
      "  result = func(self.values, **kwargs)\n"
     ]
    },
    {
     "data": {
      "text/html": [
       "<div>\n",
       "<style scoped>\n",
       "    .dataframe tbody tr th:only-of-type {\n",
       "        vertical-align: middle;\n",
       "    }\n",
       "\n",
       "    .dataframe tbody tr th {\n",
       "        vertical-align: top;\n",
       "    }\n",
       "\n",
       "    .dataframe thead th {\n",
       "        text-align: right;\n",
       "    }\n",
       "</style>\n",
       "<table border=\"1\" class=\"dataframe\">\n",
       "  <thead>\n",
       "    <tr style=\"text-align: right;\">\n",
       "      <th></th>\n",
       "      <th>relative_humidity_2_m_above_gnd</th>\n",
       "      <th>mean_sea_level_pressure_MSL</th>\n",
       "      <th>total_precipitation_sfc</th>\n",
       "      <th>flag</th>\n",
       "    </tr>\n",
       "  </thead>\n",
       "  <tbody>\n",
       "    <tr>\n",
       "      <th>0</th>\n",
       "      <td>2.904885e+13</td>\n",
       "      <td>inf</td>\n",
       "      <td>1.000000</td>\n",
       "      <td>2.71875</td>\n",
       "    </tr>\n",
       "    <tr>\n",
       "      <th>1</th>\n",
       "      <td>5.320482e+11</td>\n",
       "      <td>inf</td>\n",
       "      <td>1.000000</td>\n",
       "      <td>1.00000</td>\n",
       "    </tr>\n",
       "    <tr>\n",
       "      <th>2</th>\n",
       "      <td>2.146436e+14</td>\n",
       "      <td>inf</td>\n",
       "      <td>1.000000</td>\n",
       "      <td>2.71875</td>\n",
       "    </tr>\n",
       "    <tr>\n",
       "      <th>3</th>\n",
       "      <td>1.068647e+13</td>\n",
       "      <td>inf</td>\n",
       "      <td>1.000000</td>\n",
       "      <td>1.00000</td>\n",
       "    </tr>\n",
       "    <tr>\n",
       "      <th>4</th>\n",
       "      <td>5.320482e+11</td>\n",
       "      <td>inf</td>\n",
       "      <td>1.000000</td>\n",
       "      <td>1.00000</td>\n",
       "    </tr>\n",
       "    <tr>\n",
       "      <th>...</th>\n",
       "      <td>...</td>\n",
       "      <td>...</td>\n",
       "      <td>...</td>\n",
       "      <td>...</td>\n",
       "    </tr>\n",
       "    <tr>\n",
       "      <th>4208</th>\n",
       "      <td>4.607187e+28</td>\n",
       "      <td>inf</td>\n",
       "      <td>1.000000</td>\n",
       "      <td>2.71875</td>\n",
       "    </tr>\n",
       "    <tr>\n",
       "      <th>4209</th>\n",
       "      <td>1.220403e+39</td>\n",
       "      <td>inf</td>\n",
       "      <td>1.000000</td>\n",
       "      <td>2.71875</td>\n",
       "    </tr>\n",
       "    <tr>\n",
       "      <th>4210</th>\n",
       "      <td>1.220403e+39</td>\n",
       "      <td>inf</td>\n",
       "      <td>1.105171</td>\n",
       "      <td>2.71875</td>\n",
       "    </tr>\n",
       "    <tr>\n",
       "      <th>4211</th>\n",
       "      <td>1.506097e+35</td>\n",
       "      <td>inf</td>\n",
       "      <td>1.000000</td>\n",
       "      <td>2.71875</td>\n",
       "    </tr>\n",
       "    <tr>\n",
       "      <th>4212</th>\n",
       "      <td>5.540622e+34</td>\n",
       "      <td>inf</td>\n",
       "      <td>1.000000</td>\n",
       "      <td>2.71875</td>\n",
       "    </tr>\n",
       "  </tbody>\n",
       "</table>\n",
       "<p>4213 rows × 4 columns</p>\n",
       "</div>"
      ],
      "text/plain": [
       "      relative_humidity_2_m_above_gnd  mean_sea_level_pressure_MSL  \\\n",
       "0                        2.904885e+13                          inf   \n",
       "1                        5.320482e+11                          inf   \n",
       "2                        2.146436e+14                          inf   \n",
       "3                        1.068647e+13                          inf   \n",
       "4                        5.320482e+11                          inf   \n",
       "...                               ...                          ...   \n",
       "4208                     4.607187e+28                          inf   \n",
       "4209                     1.220403e+39                          inf   \n",
       "4210                     1.220403e+39                          inf   \n",
       "4211                     1.506097e+35                          inf   \n",
       "4212                     5.540622e+34                          inf   \n",
       "\n",
       "      total_precipitation_sfc     flag  \n",
       "0                    1.000000  2.71875  \n",
       "1                    1.000000  1.00000  \n",
       "2                    1.000000  2.71875  \n",
       "3                    1.000000  1.00000  \n",
       "4                    1.000000  1.00000  \n",
       "...                       ...      ...  \n",
       "4208                 1.000000  2.71875  \n",
       "4209                 1.000000  2.71875  \n",
       "4210                 1.105171  2.71875  \n",
       "4211                 1.000000  2.71875  \n",
       "4212                 1.000000  2.71875  \n",
       "\n",
       "[4213 rows x 4 columns]"
      ]
     },
     "execution_count": 111,
     "metadata": {},
     "output_type": "execute_result"
    }
   ],
   "source": [
    "np.exp(det1)"
   ]
  },
  {
   "cell_type": "code",
   "execution_count": 112,
   "metadata": {
    "colab": {
     "base_uri": "https://localhost:8080/"
    },
    "id": "uIUIGcUxS3cu",
    "outputId": "4d8ae456-72be-41e4-c68f-9eef5cd01602"
   },
   "outputs": [
    {
     "data": {
      "text/plain": [
       "array([[31, 1035.0, 0.0, True],\n",
       "       [27, 1035.1, 0.0, False],\n",
       "       [33, 1035.4, 0.0, True],\n",
       "       ...,\n",
       "       [90, 1026.3, 0.1, True],\n",
       "       [81, 1025.5, 0.0, True],\n",
       "       [80, 1025.3, 0.0, True]], dtype=object)"
      ]
     },
     "execution_count": 112,
     "metadata": {},
     "output_type": "execute_result"
    }
   ],
   "source": [
    "np.asarray(det1)"
   ]
  },
  {
   "cell_type": "code",
   "execution_count": 113,
   "metadata": {
    "id": "LeGzF0VCS75m"
   },
   "outputs": [],
   "source": [
    "ser = pd.Series(df[\"relative_humidity_2_m_above_gnd\"], index=list)"
   ]
  },
  {
   "cell_type": "code",
   "execution_count": 114,
   "metadata": {
    "colab": {
     "base_uri": "https://localhost:8080/"
    },
    "id": "Z5xZ2SJ9TENT",
    "outputId": "d10a3d61-6971-429c-c869-d27140e61359"
   },
   "outputs": [
    {
     "data": {
      "text/plain": [
       "0       2.904885e+13\n",
       "1       5.320482e+11\n",
       "2       2.146436e+14\n",
       "3       1.068647e+13\n",
       "4       5.320482e+11\n",
       "            ...     \n",
       "4208    4.607187e+28\n",
       "4209    1.220403e+39\n",
       "4210    1.220403e+39\n",
       "4211    1.506097e+35\n",
       "4212    5.540622e+34\n",
       "Name: relative_humidity_2_m_above_gnd, Length: 4213, dtype: float64"
      ]
     },
     "execution_count": 114,
     "metadata": {},
     "output_type": "execute_result"
    }
   ],
   "source": [
    "np.exp(ser)"
   ]
  },
  {
   "cell_type": "code",
   "execution_count": 115,
   "metadata": {
    "id": "YeYxs-6ZTHcC"
   },
   "outputs": [],
   "source": [
    "ser2 = pd.Series(df[\"mean_sea_level_pressure_MSL\"], index=list)"
   ]
  },
  {
   "cell_type": "code",
   "execution_count": 116,
   "metadata": {
    "colab": {
     "base_uri": "https://localhost:8080/"
    },
    "id": "D28xtVhZTQPc",
    "outputId": "946c0c93-373a-4e58-ce4a-883a4cb05333"
   },
   "outputs": [
    {
     "data": {
      "text/plain": [
       "0       31\n",
       "1       27\n",
       "2       33\n",
       "3       30\n",
       "4       27\n",
       "        ..\n",
       "4208    66\n",
       "4209    90\n",
       "4210    90\n",
       "4211    81\n",
       "4212    80\n",
       "Name: relative_humidity_2_m_above_gnd, Length: 4213, dtype: int64"
      ]
     },
     "execution_count": 116,
     "metadata": {},
     "output_type": "execute_result"
    }
   ],
   "source": [
    "ser"
   ]
  },
  {
   "cell_type": "code",
   "execution_count": 117,
   "metadata": {
    "colab": {
     "base_uri": "https://localhost:8080/"
    },
    "id": "SBT8N05aTSsI",
    "outputId": "24600137-0e48-4541-89dd-e62479e77d40"
   },
   "outputs": [
    {
     "data": {
      "text/plain": [
       "0       31.0\n",
       "1       27.0\n",
       "2       33.0\n",
       "3       30.0\n",
       "4       27.0\n",
       "        ... \n",
       "4208    66.0\n",
       "4209    90.0\n",
       "4210    90.0\n",
       "4211    81.0\n",
       "4212    80.0\n",
       "Length: 4213, dtype: float64"
      ]
     },
     "execution_count": 117,
     "metadata": {},
     "output_type": "execute_result"
    }
   ],
   "source": [
    "np.remainder(ser,ser2)"
   ]
  },
  {
   "cell_type": "code",
   "execution_count": 118,
   "metadata": {
    "id": "dtmmHaSGTXPQ"
   },
   "outputs": [],
   "source": [
    "ser3 = pd.Series(df[\"total_precipitation_sfc\"], index=list)"
   ]
  },
  {
   "cell_type": "code",
   "execution_count": 119,
   "metadata": {
    "colab": {
     "base_uri": "https://localhost:8080/"
    },
    "id": "c5r0BUbdT0_B",
    "outputId": "a717af42-b331-4acb-b086-3ee090d57b25"
   },
   "outputs": [
    {
     "data": {
      "text/plain": [
       "0       NaN\n",
       "1       NaN\n",
       "2       NaN\n",
       "3       NaN\n",
       "4       NaN\n",
       "       ... \n",
       "4208    NaN\n",
       "4209    NaN\n",
       "4210    0.1\n",
       "4211    NaN\n",
       "4212    NaN\n",
       "Length: 4213, dtype: float64"
      ]
     },
     "execution_count": 119,
     "metadata": {},
     "output_type": "execute_result"
    }
   ],
   "source": [
    "np.remainder(ser2, ser3)"
   ]
  },
  {
   "cell_type": "code",
   "execution_count": 120,
   "metadata": {
    "id": "nIViPwMQT901"
   },
   "outputs": [],
   "source": [
    "sery = pd.Series(df[\"mean_sea_level_pressure_MSL\"])"
   ]
  },
  {
   "cell_type": "code",
   "execution_count": 121,
   "metadata": {
    "id": "wnQVpnskUH-g"
   },
   "outputs": [],
   "source": [
    "idx = pd.Index(list)"
   ]
  },
  {
   "cell_type": "code",
   "execution_count": 122,
   "metadata": {
    "colab": {
     "base_uri": "https://localhost:8080/"
    },
    "id": "BHVTF5xjUOmr",
    "outputId": "98e6e87f-3db3-4f47-c868-4c21a79365a9"
   },
   "outputs": [
    {
     "data": {
      "text/plain": [
       "0          NaN\n",
       "1          0.1\n",
       "2          1.4\n",
       "3          0.4\n",
       "4          2.4\n",
       "         ...  \n",
       "4208    1025.1\n",
       "4209    1026.1\n",
       "4210    1026.3\n",
       "4211    1025.5\n",
       "4212    1025.3\n",
       "Length: 4213, dtype: float64"
      ]
     },
     "execution_count": 122,
     "metadata": {},
     "output_type": "execute_result"
    }
   ],
   "source": [
    "np.remainder(sery,idx)"
   ]
  },
  {
   "cell_type": "markdown",
   "metadata": {
    "id": "zO2RwT28UT-I"
   },
   "source": [
    "##Console Display"
   ]
  },
  {
   "cell_type": "code",
   "execution_count": 123,
   "metadata": {
    "id": "3iRMdYDuUTBf"
   },
   "outputs": [],
   "source": [
    "dataset = df"
   ]
  },
  {
   "cell_type": "code",
   "execution_count": 124,
   "metadata": {
    "colab": {
     "base_uri": "https://localhost:8080/"
    },
    "id": "llOuaWEBUaps",
    "outputId": "39733d14-6474-4b8c-9534-7ea011514e7e"
   },
   "outputs": [
    {
     "name": "stdout",
     "output_type": "stream",
     "text": [
      "      temperature_2_m_above_gnd  relative_humidity_2_m_above_gnd  \\\n",
      "0                          2.17                               31   \n",
      "1                          2.31                               27   \n",
      "2                          3.65                               33   \n",
      "3                          5.82                               30   \n",
      "4                          7.73                               27   \n",
      "...                         ...                              ...   \n",
      "4208                       8.69                               66   \n",
      "4209                       7.57                               90   \n",
      "4210                       7.27                               90   \n",
      "4211                       8.25                               81   \n",
      "4212                       8.00                               80   \n",
      "\n",
      "      mean_sea_level_pressure_MSL  total_precipitation_sfc  \\\n",
      "0                          1035.0                      0.0   \n",
      "1                          1035.1                      0.0   \n",
      "2                          1035.4                      0.0   \n",
      "3                          1035.4                      0.0   \n",
      "4                          1034.4                      0.0   \n",
      "...                           ...                      ...   \n",
      "4208                       1025.1                      0.0   \n",
      "4209                       1026.1                      0.0   \n",
      "4210                       1026.3                      0.1   \n",
      "4211                       1025.5                      0.0   \n",
      "4212                       1025.3                      0.0   \n",
      "\n",
      "      snowfall_amount_sfc  total_cloud_cover_sfc  \\\n",
      "0                     0.0                    0.0   \n",
      "1                     0.0                    0.0   \n",
      "2                     0.0                    0.0   \n",
      "3                     0.0                    0.0   \n",
      "4                     0.0                    0.0   \n",
      "...                   ...                    ...   \n",
      "4208                  0.0                  100.0   \n",
      "4209                  0.0                  100.0   \n",
      "4210                  0.0                  100.0   \n",
      "4211                  0.0                  100.0   \n",
      "4212                  0.0                  100.0   \n",
      "\n",
      "      high_cloud_cover_high_cld_lay  medium_cloud_cover_mid_cld_lay  \\\n",
      "0                                 0                               0   \n",
      "1                                 0                               0   \n",
      "2                                 0                               0   \n",
      "3                                 0                               0   \n",
      "4                                 0                               0   \n",
      "...                             ...                             ...   \n",
      "4208                            100                             100   \n",
      "4209                             79                             100   \n",
      "4210                             73                             100   \n",
      "4211                             74                              66   \n",
      "4212                            100                             100   \n",
      "\n",
      "      low_cloud_cover_low_cld_lay  shortwave_radiation_backwards_sfc  ...  \\\n",
      "0                               0                               0.00  ...   \n",
      "1                               0                               1.78  ...   \n",
      "2                               0                             108.58  ...   \n",
      "3                               0                             258.10  ...   \n",
      "4                               0                             375.58  ...   \n",
      "...                           ...                                ...  ...   \n",
      "4208                          100                             257.21  ...   \n",
      "4209                          100                             210.04  ...   \n",
      "4210                          100                             113.92  ...   \n",
      "4211                          100                             186.90  ...   \n",
      "4212                          100                             172.66  ...   \n",
      "\n",
      "      wind_direction_10_m_above_gnd  wind_speed_80_m_above_gnd  \\\n",
      "0                            312.71                       9.36   \n",
      "1                            294.78                       5.99   \n",
      "2                            270.00                       3.89   \n",
      "3                            323.13                       3.55   \n",
      "4                             10.01                       6.76   \n",
      "...                             ...                        ...   \n",
      "4208                         285.42                      25.50   \n",
      "4209                           6.91                      13.00   \n",
      "4210                           2.29                       8.71   \n",
      "4211                          11.31                       6.29   \n",
      "4212                          12.72                      12.07   \n",
      "\n",
      "      wind_direction_80_m_above_gnd  wind_speed_900_mb  wind_direction_900_mb  \\\n",
      "0                             22.62               6.62                 337.62   \n",
      "1                             32.74               4.61                 321.34   \n",
      "2                             56.31               3.76                 286.70   \n",
      "3                             23.96               3.08                 339.44   \n",
      "4                             25.20               6.62                  22.38   \n",
      "...                             ...                ...                    ...   \n",
      "4208                         283.06              24.01                 282.99   \n",
      "4209                           4.76              11.61                   7.13   \n",
      "4210                         352.87               7.95                 354.81   \n",
      "4211                          13.24               5.94                  14.04   \n",
      "4212                          17.35              11.38                  18.43   \n",
      "\n",
      "      wind_gust_10_m_above_gnd  angle_of_incidence     zenith    azimuth  \\\n",
      "0                        24.48           58.753108  83.237322  128.33543   \n",
      "1                        21.96           45.408585  75.143041  139.65530   \n",
      "2                        14.04           32.848282  68.820648  152.53769   \n",
      "3                        19.80           22.699288  64.883536  166.90159   \n",
      "4                        16.56           19.199908  63.795208  182.13526   \n",
      "...                        ...                 ...        ...        ...   \n",
      "4208                     25.20           22.700907  64.952098  167.06794   \n",
      "4209                     10.44           19.307487  63.895118  182.28247   \n",
      "4210                     22.32           25.249506  65.827032  197.33868   \n",
      "4211                     15.48           36.361161  70.496313  211.30027   \n",
      "4212                     16.20           48.452849  76.919574  223.04931   \n",
      "\n",
      "      generated_power_kw  \n",
      "0             454.100950  \n",
      "1            1411.999400  \n",
      "2            2214.849300  \n",
      "3            2527.609200  \n",
      "4            2640.203400  \n",
      "...                  ...  \n",
      "4208          173.410560  \n",
      "4209          403.792220  \n",
      "4210          158.367780  \n",
      "4211          126.953060  \n",
      "4212           20.055031  \n",
      "\n",
      "[4213 rows x 21 columns]\n"
     ]
    }
   ],
   "source": [
    "print(dataset)"
   ]
  },
  {
   "cell_type": "code",
   "execution_count": 125,
   "metadata": {
    "colab": {
     "base_uri": "https://localhost:8080/"
    },
    "id": "SHmJ-Gb5UtTA",
    "outputId": "b1d6ab5b-fecf-42ea-cc65-5d82c1fdc8c5"
   },
   "outputs": [
    {
     "name": "stdout",
     "output_type": "stream",
     "text": [
      "<class 'pandas.core.frame.DataFrame'>\n",
      "RangeIndex: 4213 entries, 0 to 4212\n",
      "Data columns (total 21 columns):\n",
      " #   Column                             Non-Null Count  Dtype  \n",
      "---  ------                             --------------  -----  \n",
      " 0   temperature_2_m_above_gnd          4213 non-null   float64\n",
      " 1   relative_humidity_2_m_above_gnd    4213 non-null   int64  \n",
      " 2   mean_sea_level_pressure_MSL        4213 non-null   float64\n",
      " 3   total_precipitation_sfc            4213 non-null   float64\n",
      " 4   snowfall_amount_sfc                4213 non-null   float64\n",
      " 5   total_cloud_cover_sfc              4213 non-null   float64\n",
      " 6   high_cloud_cover_high_cld_lay      4213 non-null   int64  \n",
      " 7   medium_cloud_cover_mid_cld_lay     4213 non-null   int64  \n",
      " 8   low_cloud_cover_low_cld_lay        4213 non-null   int64  \n",
      " 9   shortwave_radiation_backwards_sfc  4213 non-null   float64\n",
      " 10  wind_speed_10_m_above_gnd          4213 non-null   float64\n",
      " 11  wind_direction_10_m_above_gnd      4213 non-null   float64\n",
      " 12  wind_speed_80_m_above_gnd          4213 non-null   float64\n",
      " 13  wind_direction_80_m_above_gnd      4213 non-null   float64\n",
      " 14  wind_speed_900_mb                  4213 non-null   float64\n",
      " 15  wind_direction_900_mb              4213 non-null   float64\n",
      " 16  wind_gust_10_m_above_gnd           4213 non-null   float64\n",
      " 17  angle_of_incidence                 4213 non-null   float64\n",
      " 18  zenith                             4213 non-null   float64\n",
      " 19  azimuth                            4213 non-null   float64\n",
      " 20  generated_power_kw                 4213 non-null   float64\n",
      "dtypes: float64(17), int64(4)\n",
      "memory usage: 691.3 KB\n"
     ]
    }
   ],
   "source": [
    "dataset.info()"
   ]
  },
  {
   "cell_type": "code",
   "execution_count": 126,
   "metadata": {
    "colab": {
     "base_uri": "https://localhost:8080/"
    },
    "id": "K1tGlfBtUtMw",
    "outputId": "acee2f58-d857-4f2e-8b92-a6ed0ca87e1e"
   },
   "outputs": [
    {
     "name": "stdout",
     "output_type": "stream",
     "text": [
      "      temperature_2_m_above_gnd  relative_humidity_2_m_above_gnd  mean_sea_level_pressure_MSL  total_precipitation_sfc  snowfall_amount_sfc  total_cloud_cover_sfc  high_cloud_cover_high_cld_lay  medium_cloud_cover_mid_cld_lay  low_cloud_cover_low_cld_lay  shortwave_radiation_backwards_sfc  wind_speed_10_m_above_gnd  wind_direction_10_m_above_gnd\n",
      "4193                      14.88                               41                       1029.5                      0.0                  0.0                    9.6                             32                               0                            0                             418.30                       1.80                         216.87\n",
      "4194                      12.65                               45                       1028.3                      0.0                  0.0                    8.7                             29                               0                            5                             338.20                       3.76                         196.70\n",
      "4195                       1.81                               70                       1028.6                      0.0                  0.0                    0.6                              2                               0                            0                               0.00                      11.89                         181.74\n",
      "4196                       1.94                               68                       1029.0                      0.0                  0.0                    0.3                              1                               0                            0                               2.67                      11.52                         180.00\n",
      "4197                       4.52                               61                       1028.7                      0.0                  0.0                    0.9                              3                               0                            0                             114.81                      10.90                         172.41\n",
      "4198                       7.96                               55                       1026.3                      0.0                  0.0                    1.2                              4                               0                            0                             260.77                      12.66                         165.17\n",
      "4199                       9.83                               49                       1025.7                      0.0                  0.0                    1.5                              5                               0                            0                             372.02                      13.10                         164.05\n",
      "4200                      11.91                               44                       1025.2                      0.0                  0.0                    1.5                              5                               0                            0                             436.99                      12.02                         171.38\n",
      "4201                      12.85                               44                       1024.2                      0.0                  0.0                    0.6                              2                               0                            0                             451.23                      11.09                         166.87\n",
      "4202                      12.87                               46                       1024.2                      0.0                  0.0                    2.7                              9                               0                            0                             418.30                      18.43                         167.59\n",
      "4203                      11.54                               54                       1023.9                      0.0                  0.0                    6.6                             22                               0                            0                             339.09                      21.96                         179.06\n",
      "4204                       3.13                               94                       1025.9                      0.0                  0.0                   44.0                             33                              44                            0                               0.00                      11.59                         216.16\n",
      "4205                       0.73                               99                       1027.3                      0.0                  0.0                   36.0                             13                              36                            0                               2.67                      13.20                         244.13\n",
      "4206                       5.01                               78                       1027.4                      0.0                  0.0                  100.0                             22                              35                          100                             110.36                       8.40                         260.13\n",
      "4207                       7.51                               72                       1026.0                      0.0                  0.0                  100.0                            100                              67                          100                             137.06                      10.63                         298.30\n",
      "4208                       8.69                               66                       1025.1                      0.0                  0.0                  100.0                            100                             100                          100                             257.21                      21.66                         285.42\n",
      "4209                       7.57                               90                       1026.1                      0.0                  0.0                  100.0                             79                             100                          100                             210.04                      11.97                           6.91\n",
      "4210                       7.27                               90                       1026.3                      0.1                  0.0                  100.0                             73                             100                          100                             113.92                       9.01                           2.29\n",
      "4211                       8.25                               81                       1025.5                      0.0                  0.0                  100.0                             74                              66                          100                             186.90                       7.34                          11.31\n",
      "4212                       8.00                               80                       1025.3                      0.0                  0.0                  100.0                            100                             100                          100                             172.66                      11.44                          12.72\n"
     ]
    }
   ],
   "source": [
    "print(dataset.iloc[-20:, :12].to_string())"
   ]
  },
  {
   "cell_type": "code",
   "execution_count": 127,
   "metadata": {
    "colab": {
     "base_uri": "https://localhost:8080/",
     "height": 488
    },
    "id": "rscmN3YeaH7V",
    "outputId": "bd4592f2-d2d7-4054-dab7-5d220080d6b7"
   },
   "outputs": [
    {
     "data": {
      "text/html": [
       "<div>\n",
       "<style scoped>\n",
       "    .dataframe tbody tr th:only-of-type {\n",
       "        vertical-align: middle;\n",
       "    }\n",
       "\n",
       "    .dataframe tbody tr th {\n",
       "        vertical-align: top;\n",
       "    }\n",
       "\n",
       "    .dataframe thead th {\n",
       "        text-align: right;\n",
       "    }\n",
       "</style>\n",
       "<table border=\"1\" class=\"dataframe\">\n",
       "  <thead>\n",
       "    <tr style=\"text-align: right;\">\n",
       "      <th></th>\n",
       "      <th>temperature_2_m_above_gnd</th>\n",
       "      <th>relative_humidity_2_m_above_gnd</th>\n",
       "      <th>mean_sea_level_pressure_MSL</th>\n",
       "      <th>total_precipitation_sfc</th>\n",
       "      <th>snowfall_amount_sfc</th>\n",
       "      <th>total_cloud_cover_sfc</th>\n",
       "      <th>high_cloud_cover_high_cld_lay</th>\n",
       "      <th>medium_cloud_cover_mid_cld_lay</th>\n",
       "      <th>low_cloud_cover_low_cld_lay</th>\n",
       "      <th>shortwave_radiation_backwards_sfc</th>\n",
       "      <th>...</th>\n",
       "      <th>wind_direction_10_m_above_gnd</th>\n",
       "      <th>wind_speed_80_m_above_gnd</th>\n",
       "      <th>wind_direction_80_m_above_gnd</th>\n",
       "      <th>wind_speed_900_mb</th>\n",
       "      <th>wind_direction_900_mb</th>\n",
       "      <th>wind_gust_10_m_above_gnd</th>\n",
       "      <th>angle_of_incidence</th>\n",
       "      <th>zenith</th>\n",
       "      <th>azimuth</th>\n",
       "      <th>generated_power_kw</th>\n",
       "    </tr>\n",
       "  </thead>\n",
       "  <tbody>\n",
       "    <tr>\n",
       "      <th>0</th>\n",
       "      <td>2.17</td>\n",
       "      <td>31</td>\n",
       "      <td>1035.0</td>\n",
       "      <td>0.0</td>\n",
       "      <td>0.0</td>\n",
       "      <td>0.0</td>\n",
       "      <td>0</td>\n",
       "      <td>0</td>\n",
       "      <td>0</td>\n",
       "      <td>0.00</td>\n",
       "      <td>...</td>\n",
       "      <td>312.71</td>\n",
       "      <td>9.36</td>\n",
       "      <td>22.62</td>\n",
       "      <td>6.62</td>\n",
       "      <td>337.62</td>\n",
       "      <td>24.48</td>\n",
       "      <td>58.753108</td>\n",
       "      <td>83.237322</td>\n",
       "      <td>128.33543</td>\n",
       "      <td>454.100950</td>\n",
       "    </tr>\n",
       "    <tr>\n",
       "      <th>1</th>\n",
       "      <td>2.31</td>\n",
       "      <td>27</td>\n",
       "      <td>1035.1</td>\n",
       "      <td>0.0</td>\n",
       "      <td>0.0</td>\n",
       "      <td>0.0</td>\n",
       "      <td>0</td>\n",
       "      <td>0</td>\n",
       "      <td>0</td>\n",
       "      <td>1.78</td>\n",
       "      <td>...</td>\n",
       "      <td>294.78</td>\n",
       "      <td>5.99</td>\n",
       "      <td>32.74</td>\n",
       "      <td>4.61</td>\n",
       "      <td>321.34</td>\n",
       "      <td>21.96</td>\n",
       "      <td>45.408585</td>\n",
       "      <td>75.143041</td>\n",
       "      <td>139.65530</td>\n",
       "      <td>1411.999400</td>\n",
       "    </tr>\n",
       "    <tr>\n",
       "      <th>2</th>\n",
       "      <td>3.65</td>\n",
       "      <td>33</td>\n",
       "      <td>1035.4</td>\n",
       "      <td>0.0</td>\n",
       "      <td>0.0</td>\n",
       "      <td>0.0</td>\n",
       "      <td>0</td>\n",
       "      <td>0</td>\n",
       "      <td>0</td>\n",
       "      <td>108.58</td>\n",
       "      <td>...</td>\n",
       "      <td>270.00</td>\n",
       "      <td>3.89</td>\n",
       "      <td>56.31</td>\n",
       "      <td>3.76</td>\n",
       "      <td>286.70</td>\n",
       "      <td>14.04</td>\n",
       "      <td>32.848282</td>\n",
       "      <td>68.820648</td>\n",
       "      <td>152.53769</td>\n",
       "      <td>2214.849300</td>\n",
       "    </tr>\n",
       "    <tr>\n",
       "      <th>3</th>\n",
       "      <td>5.82</td>\n",
       "      <td>30</td>\n",
       "      <td>1035.4</td>\n",
       "      <td>0.0</td>\n",
       "      <td>0.0</td>\n",
       "      <td>0.0</td>\n",
       "      <td>0</td>\n",
       "      <td>0</td>\n",
       "      <td>0</td>\n",
       "      <td>258.10</td>\n",
       "      <td>...</td>\n",
       "      <td>323.13</td>\n",
       "      <td>3.55</td>\n",
       "      <td>23.96</td>\n",
       "      <td>3.08</td>\n",
       "      <td>339.44</td>\n",
       "      <td>19.80</td>\n",
       "      <td>22.699288</td>\n",
       "      <td>64.883536</td>\n",
       "      <td>166.90159</td>\n",
       "      <td>2527.609200</td>\n",
       "    </tr>\n",
       "    <tr>\n",
       "      <th>4</th>\n",
       "      <td>7.73</td>\n",
       "      <td>27</td>\n",
       "      <td>1034.4</td>\n",
       "      <td>0.0</td>\n",
       "      <td>0.0</td>\n",
       "      <td>0.0</td>\n",
       "      <td>0</td>\n",
       "      <td>0</td>\n",
       "      <td>0</td>\n",
       "      <td>375.58</td>\n",
       "      <td>...</td>\n",
       "      <td>10.01</td>\n",
       "      <td>6.76</td>\n",
       "      <td>25.20</td>\n",
       "      <td>6.62</td>\n",
       "      <td>22.38</td>\n",
       "      <td>16.56</td>\n",
       "      <td>19.199908</td>\n",
       "      <td>63.795208</td>\n",
       "      <td>182.13526</td>\n",
       "      <td>2640.203400</td>\n",
       "    </tr>\n",
       "    <tr>\n",
       "      <th>...</th>\n",
       "      <td>...</td>\n",
       "      <td>...</td>\n",
       "      <td>...</td>\n",
       "      <td>...</td>\n",
       "      <td>...</td>\n",
       "      <td>...</td>\n",
       "      <td>...</td>\n",
       "      <td>...</td>\n",
       "      <td>...</td>\n",
       "      <td>...</td>\n",
       "      <td>...</td>\n",
       "      <td>...</td>\n",
       "      <td>...</td>\n",
       "      <td>...</td>\n",
       "      <td>...</td>\n",
       "      <td>...</td>\n",
       "      <td>...</td>\n",
       "      <td>...</td>\n",
       "      <td>...</td>\n",
       "      <td>...</td>\n",
       "      <td>...</td>\n",
       "    </tr>\n",
       "    <tr>\n",
       "      <th>4208</th>\n",
       "      <td>8.69</td>\n",
       "      <td>66</td>\n",
       "      <td>1025.1</td>\n",
       "      <td>0.0</td>\n",
       "      <td>0.0</td>\n",
       "      <td>100.0</td>\n",
       "      <td>100</td>\n",
       "      <td>100</td>\n",
       "      <td>100</td>\n",
       "      <td>257.21</td>\n",
       "      <td>...</td>\n",
       "      <td>285.42</td>\n",
       "      <td>25.50</td>\n",
       "      <td>283.06</td>\n",
       "      <td>24.01</td>\n",
       "      <td>282.99</td>\n",
       "      <td>25.20</td>\n",
       "      <td>22.700907</td>\n",
       "      <td>64.952098</td>\n",
       "      <td>167.06794</td>\n",
       "      <td>173.410560</td>\n",
       "    </tr>\n",
       "    <tr>\n",
       "      <th>4209</th>\n",
       "      <td>7.57</td>\n",
       "      <td>90</td>\n",
       "      <td>1026.1</td>\n",
       "      <td>0.0</td>\n",
       "      <td>0.0</td>\n",
       "      <td>100.0</td>\n",
       "      <td>79</td>\n",
       "      <td>100</td>\n",
       "      <td>100</td>\n",
       "      <td>210.04</td>\n",
       "      <td>...</td>\n",
       "      <td>6.91</td>\n",
       "      <td>13.00</td>\n",
       "      <td>4.76</td>\n",
       "      <td>11.61</td>\n",
       "      <td>7.13</td>\n",
       "      <td>10.44</td>\n",
       "      <td>19.307487</td>\n",
       "      <td>63.895118</td>\n",
       "      <td>182.28247</td>\n",
       "      <td>403.792220</td>\n",
       "    </tr>\n",
       "    <tr>\n",
       "      <th>4210</th>\n",
       "      <td>7.27</td>\n",
       "      <td>90</td>\n",
       "      <td>1026.3</td>\n",
       "      <td>0.1</td>\n",
       "      <td>0.0</td>\n",
       "      <td>100.0</td>\n",
       "      <td>73</td>\n",
       "      <td>100</td>\n",
       "      <td>100</td>\n",
       "      <td>113.92</td>\n",
       "      <td>...</td>\n",
       "      <td>2.29</td>\n",
       "      <td>8.71</td>\n",
       "      <td>352.87</td>\n",
       "      <td>7.95</td>\n",
       "      <td>354.81</td>\n",
       "      <td>22.32</td>\n",
       "      <td>25.249506</td>\n",
       "      <td>65.827032</td>\n",
       "      <td>197.33868</td>\n",
       "      <td>158.367780</td>\n",
       "    </tr>\n",
       "    <tr>\n",
       "      <th>4211</th>\n",
       "      <td>8.25</td>\n",
       "      <td>81</td>\n",
       "      <td>1025.5</td>\n",
       "      <td>0.0</td>\n",
       "      <td>0.0</td>\n",
       "      <td>100.0</td>\n",
       "      <td>74</td>\n",
       "      <td>66</td>\n",
       "      <td>100</td>\n",
       "      <td>186.90</td>\n",
       "      <td>...</td>\n",
       "      <td>11.31</td>\n",
       "      <td>6.29</td>\n",
       "      <td>13.24</td>\n",
       "      <td>5.94</td>\n",
       "      <td>14.04</td>\n",
       "      <td>15.48</td>\n",
       "      <td>36.361161</td>\n",
       "      <td>70.496313</td>\n",
       "      <td>211.30027</td>\n",
       "      <td>126.953060</td>\n",
       "    </tr>\n",
       "    <tr>\n",
       "      <th>4212</th>\n",
       "      <td>8.00</td>\n",
       "      <td>80</td>\n",
       "      <td>1025.3</td>\n",
       "      <td>0.0</td>\n",
       "      <td>0.0</td>\n",
       "      <td>100.0</td>\n",
       "      <td>100</td>\n",
       "      <td>100</td>\n",
       "      <td>100</td>\n",
       "      <td>172.66</td>\n",
       "      <td>...</td>\n",
       "      <td>12.72</td>\n",
       "      <td>12.07</td>\n",
       "      <td>17.35</td>\n",
       "      <td>11.38</td>\n",
       "      <td>18.43</td>\n",
       "      <td>16.20</td>\n",
       "      <td>48.452849</td>\n",
       "      <td>76.919574</td>\n",
       "      <td>223.04931</td>\n",
       "      <td>20.055031</td>\n",
       "    </tr>\n",
       "  </tbody>\n",
       "</table>\n",
       "<p>4213 rows × 21 columns</p>\n",
       "</div>"
      ],
      "text/plain": [
       "      temperature_2_m_above_gnd  relative_humidity_2_m_above_gnd  \\\n",
       "0                          2.17                               31   \n",
       "1                          2.31                               27   \n",
       "2                          3.65                               33   \n",
       "3                          5.82                               30   \n",
       "4                          7.73                               27   \n",
       "...                         ...                              ...   \n",
       "4208                       8.69                               66   \n",
       "4209                       7.57                               90   \n",
       "4210                       7.27                               90   \n",
       "4211                       8.25                               81   \n",
       "4212                       8.00                               80   \n",
       "\n",
       "      mean_sea_level_pressure_MSL  total_precipitation_sfc  \\\n",
       "0                          1035.0                      0.0   \n",
       "1                          1035.1                      0.0   \n",
       "2                          1035.4                      0.0   \n",
       "3                          1035.4                      0.0   \n",
       "4                          1034.4                      0.0   \n",
       "...                           ...                      ...   \n",
       "4208                       1025.1                      0.0   \n",
       "4209                       1026.1                      0.0   \n",
       "4210                       1026.3                      0.1   \n",
       "4211                       1025.5                      0.0   \n",
       "4212                       1025.3                      0.0   \n",
       "\n",
       "      snowfall_amount_sfc  total_cloud_cover_sfc  \\\n",
       "0                     0.0                    0.0   \n",
       "1                     0.0                    0.0   \n",
       "2                     0.0                    0.0   \n",
       "3                     0.0                    0.0   \n",
       "4                     0.0                    0.0   \n",
       "...                   ...                    ...   \n",
       "4208                  0.0                  100.0   \n",
       "4209                  0.0                  100.0   \n",
       "4210                  0.0                  100.0   \n",
       "4211                  0.0                  100.0   \n",
       "4212                  0.0                  100.0   \n",
       "\n",
       "      high_cloud_cover_high_cld_lay  medium_cloud_cover_mid_cld_lay  \\\n",
       "0                                 0                               0   \n",
       "1                                 0                               0   \n",
       "2                                 0                               0   \n",
       "3                                 0                               0   \n",
       "4                                 0                               0   \n",
       "...                             ...                             ...   \n",
       "4208                            100                             100   \n",
       "4209                             79                             100   \n",
       "4210                             73                             100   \n",
       "4211                             74                              66   \n",
       "4212                            100                             100   \n",
       "\n",
       "      low_cloud_cover_low_cld_lay  shortwave_radiation_backwards_sfc  ...  \\\n",
       "0                               0                               0.00  ...   \n",
       "1                               0                               1.78  ...   \n",
       "2                               0                             108.58  ...   \n",
       "3                               0                             258.10  ...   \n",
       "4                               0                             375.58  ...   \n",
       "...                           ...                                ...  ...   \n",
       "4208                          100                             257.21  ...   \n",
       "4209                          100                             210.04  ...   \n",
       "4210                          100                             113.92  ...   \n",
       "4211                          100                             186.90  ...   \n",
       "4212                          100                             172.66  ...   \n",
       "\n",
       "      wind_direction_10_m_above_gnd  wind_speed_80_m_above_gnd  \\\n",
       "0                            312.71                       9.36   \n",
       "1                            294.78                       5.99   \n",
       "2                            270.00                       3.89   \n",
       "3                            323.13                       3.55   \n",
       "4                             10.01                       6.76   \n",
       "...                             ...                        ...   \n",
       "4208                         285.42                      25.50   \n",
       "4209                           6.91                      13.00   \n",
       "4210                           2.29                       8.71   \n",
       "4211                          11.31                       6.29   \n",
       "4212                          12.72                      12.07   \n",
       "\n",
       "      wind_direction_80_m_above_gnd  wind_speed_900_mb  wind_direction_900_mb  \\\n",
       "0                             22.62               6.62                 337.62   \n",
       "1                             32.74               4.61                 321.34   \n",
       "2                             56.31               3.76                 286.70   \n",
       "3                             23.96               3.08                 339.44   \n",
       "4                             25.20               6.62                  22.38   \n",
       "...                             ...                ...                    ...   \n",
       "4208                         283.06              24.01                 282.99   \n",
       "4209                           4.76              11.61                   7.13   \n",
       "4210                         352.87               7.95                 354.81   \n",
       "4211                          13.24               5.94                  14.04   \n",
       "4212                          17.35              11.38                  18.43   \n",
       "\n",
       "      wind_gust_10_m_above_gnd  angle_of_incidence     zenith    azimuth  \\\n",
       "0                        24.48           58.753108  83.237322  128.33543   \n",
       "1                        21.96           45.408585  75.143041  139.65530   \n",
       "2                        14.04           32.848282  68.820648  152.53769   \n",
       "3                        19.80           22.699288  64.883536  166.90159   \n",
       "4                        16.56           19.199908  63.795208  182.13526   \n",
       "...                        ...                 ...        ...        ...   \n",
       "4208                     25.20           22.700907  64.952098  167.06794   \n",
       "4209                     10.44           19.307487  63.895118  182.28247   \n",
       "4210                     22.32           25.249506  65.827032  197.33868   \n",
       "4211                     15.48           36.361161  70.496313  211.30027   \n",
       "4212                     16.20           48.452849  76.919574  223.04931   \n",
       "\n",
       "      generated_power_kw  \n",
       "0             454.100950  \n",
       "1            1411.999400  \n",
       "2            2214.849300  \n",
       "3            2527.609200  \n",
       "4            2640.203400  \n",
       "...                  ...  \n",
       "4208          173.410560  \n",
       "4209          403.792220  \n",
       "4210          158.367780  \n",
       "4211          126.953060  \n",
       "4212           20.055031  \n",
       "\n",
       "[4213 rows x 21 columns]"
      ]
     },
     "execution_count": 127,
     "metadata": {},
     "output_type": "execute_result"
    }
   ],
   "source": [
    "pd.DataFrame(df)"
   ]
  },
  {
   "cell_type": "code",
   "execution_count": 128,
   "metadata": {
    "id": "Du4-B7XXaN0I"
   },
   "outputs": [],
   "source": [
    "pd.set_option(\"display.width\", 40)"
   ]
  },
  {
   "cell_type": "code",
   "execution_count": 129,
   "metadata": {
    "colab": {
     "base_uri": "https://localhost:8080/",
     "height": 488
    },
    "id": "rYhu7NySaShp",
    "outputId": "7a89880f-5f5d-40bb-fe3b-5e72ce0a5d9c"
   },
   "outputs": [
    {
     "data": {
      "text/html": [
       "<div>\n",
       "<style scoped>\n",
       "    .dataframe tbody tr th:only-of-type {\n",
       "        vertical-align: middle;\n",
       "    }\n",
       "\n",
       "    .dataframe tbody tr th {\n",
       "        vertical-align: top;\n",
       "    }\n",
       "\n",
       "    .dataframe thead th {\n",
       "        text-align: right;\n",
       "    }\n",
       "</style>\n",
       "<table border=\"1\" class=\"dataframe\">\n",
       "  <thead>\n",
       "    <tr style=\"text-align: right;\">\n",
       "      <th></th>\n",
       "      <th>temperature_2_m_above_gnd</th>\n",
       "      <th>relative_humidity_2_m_above_gnd</th>\n",
       "      <th>mean_sea_level_pressure_MSL</th>\n",
       "      <th>total_precipitation_sfc</th>\n",
       "      <th>snowfall_amount_sfc</th>\n",
       "      <th>total_cloud_cover_sfc</th>\n",
       "      <th>high_cloud_cover_high_cld_lay</th>\n",
       "      <th>medium_cloud_cover_mid_cld_lay</th>\n",
       "      <th>low_cloud_cover_low_cld_lay</th>\n",
       "      <th>shortwave_radiation_backwards_sfc</th>\n",
       "      <th>...</th>\n",
       "      <th>wind_direction_10_m_above_gnd</th>\n",
       "      <th>wind_speed_80_m_above_gnd</th>\n",
       "      <th>wind_direction_80_m_above_gnd</th>\n",
       "      <th>wind_speed_900_mb</th>\n",
       "      <th>wind_direction_900_mb</th>\n",
       "      <th>wind_gust_10_m_above_gnd</th>\n",
       "      <th>angle_of_incidence</th>\n",
       "      <th>zenith</th>\n",
       "      <th>azimuth</th>\n",
       "      <th>generated_power_kw</th>\n",
       "    </tr>\n",
       "  </thead>\n",
       "  <tbody>\n",
       "    <tr>\n",
       "      <th>0</th>\n",
       "      <td>2.17</td>\n",
       "      <td>31</td>\n",
       "      <td>1035.0</td>\n",
       "      <td>0.0</td>\n",
       "      <td>0.0</td>\n",
       "      <td>0.0</td>\n",
       "      <td>0</td>\n",
       "      <td>0</td>\n",
       "      <td>0</td>\n",
       "      <td>0.00</td>\n",
       "      <td>...</td>\n",
       "      <td>312.71</td>\n",
       "      <td>9.36</td>\n",
       "      <td>22.62</td>\n",
       "      <td>6.62</td>\n",
       "      <td>337.62</td>\n",
       "      <td>24.48</td>\n",
       "      <td>58.753108</td>\n",
       "      <td>83.237322</td>\n",
       "      <td>128.33543</td>\n",
       "      <td>454.100950</td>\n",
       "    </tr>\n",
       "    <tr>\n",
       "      <th>1</th>\n",
       "      <td>2.31</td>\n",
       "      <td>27</td>\n",
       "      <td>1035.1</td>\n",
       "      <td>0.0</td>\n",
       "      <td>0.0</td>\n",
       "      <td>0.0</td>\n",
       "      <td>0</td>\n",
       "      <td>0</td>\n",
       "      <td>0</td>\n",
       "      <td>1.78</td>\n",
       "      <td>...</td>\n",
       "      <td>294.78</td>\n",
       "      <td>5.99</td>\n",
       "      <td>32.74</td>\n",
       "      <td>4.61</td>\n",
       "      <td>321.34</td>\n",
       "      <td>21.96</td>\n",
       "      <td>45.408585</td>\n",
       "      <td>75.143041</td>\n",
       "      <td>139.65530</td>\n",
       "      <td>1411.999400</td>\n",
       "    </tr>\n",
       "    <tr>\n",
       "      <th>2</th>\n",
       "      <td>3.65</td>\n",
       "      <td>33</td>\n",
       "      <td>1035.4</td>\n",
       "      <td>0.0</td>\n",
       "      <td>0.0</td>\n",
       "      <td>0.0</td>\n",
       "      <td>0</td>\n",
       "      <td>0</td>\n",
       "      <td>0</td>\n",
       "      <td>108.58</td>\n",
       "      <td>...</td>\n",
       "      <td>270.00</td>\n",
       "      <td>3.89</td>\n",
       "      <td>56.31</td>\n",
       "      <td>3.76</td>\n",
       "      <td>286.70</td>\n",
       "      <td>14.04</td>\n",
       "      <td>32.848282</td>\n",
       "      <td>68.820648</td>\n",
       "      <td>152.53769</td>\n",
       "      <td>2214.849300</td>\n",
       "    </tr>\n",
       "    <tr>\n",
       "      <th>3</th>\n",
       "      <td>5.82</td>\n",
       "      <td>30</td>\n",
       "      <td>1035.4</td>\n",
       "      <td>0.0</td>\n",
       "      <td>0.0</td>\n",
       "      <td>0.0</td>\n",
       "      <td>0</td>\n",
       "      <td>0</td>\n",
       "      <td>0</td>\n",
       "      <td>258.10</td>\n",
       "      <td>...</td>\n",
       "      <td>323.13</td>\n",
       "      <td>3.55</td>\n",
       "      <td>23.96</td>\n",
       "      <td>3.08</td>\n",
       "      <td>339.44</td>\n",
       "      <td>19.80</td>\n",
       "      <td>22.699288</td>\n",
       "      <td>64.883536</td>\n",
       "      <td>166.90159</td>\n",
       "      <td>2527.609200</td>\n",
       "    </tr>\n",
       "    <tr>\n",
       "      <th>4</th>\n",
       "      <td>7.73</td>\n",
       "      <td>27</td>\n",
       "      <td>1034.4</td>\n",
       "      <td>0.0</td>\n",
       "      <td>0.0</td>\n",
       "      <td>0.0</td>\n",
       "      <td>0</td>\n",
       "      <td>0</td>\n",
       "      <td>0</td>\n",
       "      <td>375.58</td>\n",
       "      <td>...</td>\n",
       "      <td>10.01</td>\n",
       "      <td>6.76</td>\n",
       "      <td>25.20</td>\n",
       "      <td>6.62</td>\n",
       "      <td>22.38</td>\n",
       "      <td>16.56</td>\n",
       "      <td>19.199908</td>\n",
       "      <td>63.795208</td>\n",
       "      <td>182.13526</td>\n",
       "      <td>2640.203400</td>\n",
       "    </tr>\n",
       "    <tr>\n",
       "      <th>...</th>\n",
       "      <td>...</td>\n",
       "      <td>...</td>\n",
       "      <td>...</td>\n",
       "      <td>...</td>\n",
       "      <td>...</td>\n",
       "      <td>...</td>\n",
       "      <td>...</td>\n",
       "      <td>...</td>\n",
       "      <td>...</td>\n",
       "      <td>...</td>\n",
       "      <td>...</td>\n",
       "      <td>...</td>\n",
       "      <td>...</td>\n",
       "      <td>...</td>\n",
       "      <td>...</td>\n",
       "      <td>...</td>\n",
       "      <td>...</td>\n",
       "      <td>...</td>\n",
       "      <td>...</td>\n",
       "      <td>...</td>\n",
       "      <td>...</td>\n",
       "    </tr>\n",
       "    <tr>\n",
       "      <th>4208</th>\n",
       "      <td>8.69</td>\n",
       "      <td>66</td>\n",
       "      <td>1025.1</td>\n",
       "      <td>0.0</td>\n",
       "      <td>0.0</td>\n",
       "      <td>100.0</td>\n",
       "      <td>100</td>\n",
       "      <td>100</td>\n",
       "      <td>100</td>\n",
       "      <td>257.21</td>\n",
       "      <td>...</td>\n",
       "      <td>285.42</td>\n",
       "      <td>25.50</td>\n",
       "      <td>283.06</td>\n",
       "      <td>24.01</td>\n",
       "      <td>282.99</td>\n",
       "      <td>25.20</td>\n",
       "      <td>22.700907</td>\n",
       "      <td>64.952098</td>\n",
       "      <td>167.06794</td>\n",
       "      <td>173.410560</td>\n",
       "    </tr>\n",
       "    <tr>\n",
       "      <th>4209</th>\n",
       "      <td>7.57</td>\n",
       "      <td>90</td>\n",
       "      <td>1026.1</td>\n",
       "      <td>0.0</td>\n",
       "      <td>0.0</td>\n",
       "      <td>100.0</td>\n",
       "      <td>79</td>\n",
       "      <td>100</td>\n",
       "      <td>100</td>\n",
       "      <td>210.04</td>\n",
       "      <td>...</td>\n",
       "      <td>6.91</td>\n",
       "      <td>13.00</td>\n",
       "      <td>4.76</td>\n",
       "      <td>11.61</td>\n",
       "      <td>7.13</td>\n",
       "      <td>10.44</td>\n",
       "      <td>19.307487</td>\n",
       "      <td>63.895118</td>\n",
       "      <td>182.28247</td>\n",
       "      <td>403.792220</td>\n",
       "    </tr>\n",
       "    <tr>\n",
       "      <th>4210</th>\n",
       "      <td>7.27</td>\n",
       "      <td>90</td>\n",
       "      <td>1026.3</td>\n",
       "      <td>0.1</td>\n",
       "      <td>0.0</td>\n",
       "      <td>100.0</td>\n",
       "      <td>73</td>\n",
       "      <td>100</td>\n",
       "      <td>100</td>\n",
       "      <td>113.92</td>\n",
       "      <td>...</td>\n",
       "      <td>2.29</td>\n",
       "      <td>8.71</td>\n",
       "      <td>352.87</td>\n",
       "      <td>7.95</td>\n",
       "      <td>354.81</td>\n",
       "      <td>22.32</td>\n",
       "      <td>25.249506</td>\n",
       "      <td>65.827032</td>\n",
       "      <td>197.33868</td>\n",
       "      <td>158.367780</td>\n",
       "    </tr>\n",
       "    <tr>\n",
       "      <th>4211</th>\n",
       "      <td>8.25</td>\n",
       "      <td>81</td>\n",
       "      <td>1025.5</td>\n",
       "      <td>0.0</td>\n",
       "      <td>0.0</td>\n",
       "      <td>100.0</td>\n",
       "      <td>74</td>\n",
       "      <td>66</td>\n",
       "      <td>100</td>\n",
       "      <td>186.90</td>\n",
       "      <td>...</td>\n",
       "      <td>11.31</td>\n",
       "      <td>6.29</td>\n",
       "      <td>13.24</td>\n",
       "      <td>5.94</td>\n",
       "      <td>14.04</td>\n",
       "      <td>15.48</td>\n",
       "      <td>36.361161</td>\n",
       "      <td>70.496313</td>\n",
       "      <td>211.30027</td>\n",
       "      <td>126.953060</td>\n",
       "    </tr>\n",
       "    <tr>\n",
       "      <th>4212</th>\n",
       "      <td>8.00</td>\n",
       "      <td>80</td>\n",
       "      <td>1025.3</td>\n",
       "      <td>0.0</td>\n",
       "      <td>0.0</td>\n",
       "      <td>100.0</td>\n",
       "      <td>100</td>\n",
       "      <td>100</td>\n",
       "      <td>100</td>\n",
       "      <td>172.66</td>\n",
       "      <td>...</td>\n",
       "      <td>12.72</td>\n",
       "      <td>12.07</td>\n",
       "      <td>17.35</td>\n",
       "      <td>11.38</td>\n",
       "      <td>18.43</td>\n",
       "      <td>16.20</td>\n",
       "      <td>48.452849</td>\n",
       "      <td>76.919574</td>\n",
       "      <td>223.04931</td>\n",
       "      <td>20.055031</td>\n",
       "    </tr>\n",
       "  </tbody>\n",
       "</table>\n",
       "<p>4213 rows × 21 columns</p>\n",
       "</div>"
      ],
      "text/plain": [
       "      temperature_2_m_above_gnd  \\\n",
       "0                          2.17   \n",
       "1                          2.31   \n",
       "2                          3.65   \n",
       "3                          5.82   \n",
       "4                          7.73   \n",
       "...                         ...   \n",
       "4208                       8.69   \n",
       "4209                       7.57   \n",
       "4210                       7.27   \n",
       "4211                       8.25   \n",
       "4212                       8.00   \n",
       "\n",
       "      relative_humidity_2_m_above_gnd  \\\n",
       "0                                  31   \n",
       "1                                  27   \n",
       "2                                  33   \n",
       "3                                  30   \n",
       "4                                  27   \n",
       "...                               ...   \n",
       "4208                               66   \n",
       "4209                               90   \n",
       "4210                               90   \n",
       "4211                               81   \n",
       "4212                               80   \n",
       "\n",
       "      mean_sea_level_pressure_MSL  \\\n",
       "0                          1035.0   \n",
       "1                          1035.1   \n",
       "2                          1035.4   \n",
       "3                          1035.4   \n",
       "4                          1034.4   \n",
       "...                           ...   \n",
       "4208                       1025.1   \n",
       "4209                       1026.1   \n",
       "4210                       1026.3   \n",
       "4211                       1025.5   \n",
       "4212                       1025.3   \n",
       "\n",
       "      total_precipitation_sfc  \\\n",
       "0                         0.0   \n",
       "1                         0.0   \n",
       "2                         0.0   \n",
       "3                         0.0   \n",
       "4                         0.0   \n",
       "...                       ...   \n",
       "4208                      0.0   \n",
       "4209                      0.0   \n",
       "4210                      0.1   \n",
       "4211                      0.0   \n",
       "4212                      0.0   \n",
       "\n",
       "      snowfall_amount_sfc  \\\n",
       "0                     0.0   \n",
       "1                     0.0   \n",
       "2                     0.0   \n",
       "3                     0.0   \n",
       "4                     0.0   \n",
       "...                   ...   \n",
       "4208                  0.0   \n",
       "4209                  0.0   \n",
       "4210                  0.0   \n",
       "4211                  0.0   \n",
       "4212                  0.0   \n",
       "\n",
       "      total_cloud_cover_sfc  \\\n",
       "0                       0.0   \n",
       "1                       0.0   \n",
       "2                       0.0   \n",
       "3                       0.0   \n",
       "4                       0.0   \n",
       "...                     ...   \n",
       "4208                  100.0   \n",
       "4209                  100.0   \n",
       "4210                  100.0   \n",
       "4211                  100.0   \n",
       "4212                  100.0   \n",
       "\n",
       "      high_cloud_cover_high_cld_lay  \\\n",
       "0                                 0   \n",
       "1                                 0   \n",
       "2                                 0   \n",
       "3                                 0   \n",
       "4                                 0   \n",
       "...                             ...   \n",
       "4208                            100   \n",
       "4209                             79   \n",
       "4210                             73   \n",
       "4211                             74   \n",
       "4212                            100   \n",
       "\n",
       "      medium_cloud_cover_mid_cld_lay  \\\n",
       "0                                  0   \n",
       "1                                  0   \n",
       "2                                  0   \n",
       "3                                  0   \n",
       "4                                  0   \n",
       "...                              ...   \n",
       "4208                             100   \n",
       "4209                             100   \n",
       "4210                             100   \n",
       "4211                              66   \n",
       "4212                             100   \n",
       "\n",
       "      low_cloud_cover_low_cld_lay  \\\n",
       "0                               0   \n",
       "1                               0   \n",
       "2                               0   \n",
       "3                               0   \n",
       "4                               0   \n",
       "...                           ...   \n",
       "4208                          100   \n",
       "4209                          100   \n",
       "4210                          100   \n",
       "4211                          100   \n",
       "4212                          100   \n",
       "\n",
       "      shortwave_radiation_backwards_sfc  \\\n",
       "0                                  0.00   \n",
       "1                                  1.78   \n",
       "2                                108.58   \n",
       "3                                258.10   \n",
       "4                                375.58   \n",
       "...                                 ...   \n",
       "4208                             257.21   \n",
       "4209                             210.04   \n",
       "4210                             113.92   \n",
       "4211                             186.90   \n",
       "4212                             172.66   \n",
       "\n",
       "      ...  \\\n",
       "0     ...   \n",
       "1     ...   \n",
       "2     ...   \n",
       "3     ...   \n",
       "4     ...   \n",
       "...   ...   \n",
       "4208  ...   \n",
       "4209  ...   \n",
       "4210  ...   \n",
       "4211  ...   \n",
       "4212  ...   \n",
       "\n",
       "      wind_direction_10_m_above_gnd  \\\n",
       "0                            312.71   \n",
       "1                            294.78   \n",
       "2                            270.00   \n",
       "3                            323.13   \n",
       "4                             10.01   \n",
       "...                             ...   \n",
       "4208                         285.42   \n",
       "4209                           6.91   \n",
       "4210                           2.29   \n",
       "4211                          11.31   \n",
       "4212                          12.72   \n",
       "\n",
       "      wind_speed_80_m_above_gnd  \\\n",
       "0                          9.36   \n",
       "1                          5.99   \n",
       "2                          3.89   \n",
       "3                          3.55   \n",
       "4                          6.76   \n",
       "...                         ...   \n",
       "4208                      25.50   \n",
       "4209                      13.00   \n",
       "4210                       8.71   \n",
       "4211                       6.29   \n",
       "4212                      12.07   \n",
       "\n",
       "      wind_direction_80_m_above_gnd  \\\n",
       "0                             22.62   \n",
       "1                             32.74   \n",
       "2                             56.31   \n",
       "3                             23.96   \n",
       "4                             25.20   \n",
       "...                             ...   \n",
       "4208                         283.06   \n",
       "4209                           4.76   \n",
       "4210                         352.87   \n",
       "4211                          13.24   \n",
       "4212                          17.35   \n",
       "\n",
       "      wind_speed_900_mb  \\\n",
       "0                  6.62   \n",
       "1                  4.61   \n",
       "2                  3.76   \n",
       "3                  3.08   \n",
       "4                  6.62   \n",
       "...                 ...   \n",
       "4208              24.01   \n",
       "4209              11.61   \n",
       "4210               7.95   \n",
       "4211               5.94   \n",
       "4212              11.38   \n",
       "\n",
       "      wind_direction_900_mb  \\\n",
       "0                    337.62   \n",
       "1                    321.34   \n",
       "2                    286.70   \n",
       "3                    339.44   \n",
       "4                     22.38   \n",
       "...                     ...   \n",
       "4208                 282.99   \n",
       "4209                   7.13   \n",
       "4210                 354.81   \n",
       "4211                  14.04   \n",
       "4212                  18.43   \n",
       "\n",
       "      wind_gust_10_m_above_gnd  \\\n",
       "0                        24.48   \n",
       "1                        21.96   \n",
       "2                        14.04   \n",
       "3                        19.80   \n",
       "4                        16.56   \n",
       "...                        ...   \n",
       "4208                     25.20   \n",
       "4209                     10.44   \n",
       "4210                     22.32   \n",
       "4211                     15.48   \n",
       "4212                     16.20   \n",
       "\n",
       "      angle_of_incidence     zenith  \\\n",
       "0              58.753108  83.237322   \n",
       "1              45.408585  75.143041   \n",
       "2              32.848282  68.820648   \n",
       "3              22.699288  64.883536   \n",
       "4              19.199908  63.795208   \n",
       "...                  ...        ...   \n",
       "4208           22.700907  64.952098   \n",
       "4209           19.307487  63.895118   \n",
       "4210           25.249506  65.827032   \n",
       "4211           36.361161  70.496313   \n",
       "4212           48.452849  76.919574   \n",
       "\n",
       "        azimuth  generated_power_kw  \n",
       "0     128.33543          454.100950  \n",
       "1     139.65530         1411.999400  \n",
       "2     152.53769         2214.849300  \n",
       "3     166.90159         2527.609200  \n",
       "4     182.13526         2640.203400  \n",
       "...         ...                 ...  \n",
       "4208  167.06794          173.410560  \n",
       "4209  182.28247          403.792220  \n",
       "4210  197.33868          158.367780  \n",
       "4211  211.30027          126.953060  \n",
       "4212  223.04931           20.055031  \n",
       "\n",
       "[4213 rows x 21 columns]"
      ]
     },
     "execution_count": 129,
     "metadata": {},
     "output_type": "execute_result"
    }
   ],
   "source": [
    "pd.DataFrame(df)"
   ]
  },
  {
   "cell_type": "code",
   "execution_count": 130,
   "metadata": {
    "id": "gOOBT5Pwam_H"
   },
   "outputs": [],
   "source": [
    "df = pd.DataFrame({\"foo1\": np.random.randn(5), \"foo2\": np.random.randn(5)})"
   ]
  },
  {
   "cell_type": "code",
   "execution_count": 131,
   "metadata": {
    "colab": {
     "base_uri": "https://localhost:8080/",
     "height": 206
    },
    "id": "MBizO19iapRp",
    "outputId": "9235472a-0c98-4b77-96eb-9fbdc6c16401"
   },
   "outputs": [
    {
     "data": {
      "text/html": [
       "<div>\n",
       "<style scoped>\n",
       "    .dataframe tbody tr th:only-of-type {\n",
       "        vertical-align: middle;\n",
       "    }\n",
       "\n",
       "    .dataframe tbody tr th {\n",
       "        vertical-align: top;\n",
       "    }\n",
       "\n",
       "    .dataframe thead th {\n",
       "        text-align: right;\n",
       "    }\n",
       "</style>\n",
       "<table border=\"1\" class=\"dataframe\">\n",
       "  <thead>\n",
       "    <tr style=\"text-align: right;\">\n",
       "      <th></th>\n",
       "      <th>foo1</th>\n",
       "      <th>foo2</th>\n",
       "    </tr>\n",
       "  </thead>\n",
       "  <tbody>\n",
       "    <tr>\n",
       "      <th>0</th>\n",
       "      <td>0.197087</td>\n",
       "      <td>-0.819732</td>\n",
       "    </tr>\n",
       "    <tr>\n",
       "      <th>1</th>\n",
       "      <td>0.318603</td>\n",
       "      <td>-0.180267</td>\n",
       "    </tr>\n",
       "    <tr>\n",
       "      <th>2</th>\n",
       "      <td>-0.126496</td>\n",
       "      <td>0.308726</td>\n",
       "    </tr>\n",
       "    <tr>\n",
       "      <th>3</th>\n",
       "      <td>1.373501</td>\n",
       "      <td>-0.714189</td>\n",
       "    </tr>\n",
       "    <tr>\n",
       "      <th>4</th>\n",
       "      <td>-0.746958</td>\n",
       "      <td>0.791132</td>\n",
       "    </tr>\n",
       "  </tbody>\n",
       "</table>\n",
       "</div>"
      ],
      "text/plain": [
       "       foo1      foo2\n",
       "0  0.197087 -0.819732\n",
       "1  0.318603 -0.180267\n",
       "2 -0.126496  0.308726\n",
       "3  1.373501 -0.714189\n",
       "4 -0.746958  0.791132"
      ]
     },
     "execution_count": 131,
     "metadata": {},
     "output_type": "execute_result"
    }
   ],
   "source": [
    "df"
   ]
  },
  {
   "cell_type": "code",
   "execution_count": 132,
   "metadata": {
    "colab": {
     "base_uri": "https://localhost:8080/"
    },
    "id": "903wAM8basSa",
    "outputId": "9fbff2cc-57e3-44e7-a0d5-16c1d11d2723"
   },
   "outputs": [
    {
     "data": {
      "text/plain": [
       "0    0.197087\n",
       "1    0.318603\n",
       "2   -0.126496\n",
       "3    1.373501\n",
       "4   -0.746958\n",
       "Name: foo1, dtype: float64"
      ]
     },
     "execution_count": 132,
     "metadata": {},
     "output_type": "execute_result"
    }
   ],
   "source": [
    "df.foo1"
   ]
  }
 ],
 "metadata": {
  "colab": {
   "provenance": []
  },
  "kernelspec": {
   "display_name": "Python 3 (ipykernel)",
   "language": "python",
   "name": "python3"
  },
  "language_info": {
   "codemirror_mode": {
    "name": "ipython",
    "version": 3
   },
   "file_extension": ".py",
   "mimetype": "text/x-python",
   "name": "python",
   "nbconvert_exporter": "python",
   "pygments_lexer": "ipython3",
   "version": "3.10.4"
  },
  "vscode": {
   "interpreter": {
    "hash": "a42ccb73e7d9bfdf27e036f1d2b8b681e55fc0743cc5586bc2474d4a60f4b886"
   }
  }
 },
 "nbformat": 4,
 "nbformat_minor": 1
}
