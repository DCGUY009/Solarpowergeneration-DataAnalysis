{
 "cells": [
  {
   "cell_type": "code",
   "execution_count": 1,
   "metadata": {
    "id": "Kk7UpEv61OZ0"
   },
   "outputs": [],
   "source": [
    "import pandas as pd"
   ]
  },
  {
   "cell_type": "code",
   "execution_count": 2,
   "metadata": {
    "id": "9ebbH6wO1d09"
   },
   "outputs": [],
   "source": [
    "df=pd.read_csv('Data/spgdataset.csv')"
   ]
  },
  {
   "cell_type": "code",
   "execution_count": 3,
   "metadata": {
    "colab": {
     "base_uri": "https://localhost:8080/"
    },
    "id": "X84TpeV_1pVX",
    "outputId": "47e2e5f6-e73d-4c41-8cef-1927ac0e1091"
   },
   "outputs": [
    {
     "data": {
      "text/plain": [
       "pandas.core.frame.DataFrame"
      ]
     },
     "execution_count": 3,
     "metadata": {},
     "output_type": "execute_result"
    }
   ],
   "source": [
    "type(df)"
   ]
  },
  {
   "cell_type": "code",
   "execution_count": 4,
   "metadata": {
    "colab": {
     "base_uri": "https://localhost:8080/"
    },
    "id": "7TGwmUu11rzO",
    "outputId": "178cd7e7-0266-4394-9949-d6cb96752176"
   },
   "outputs": [
    {
     "data": {
      "text/plain": [
       "(4213, 21)"
      ]
     },
     "execution_count": 4,
     "metadata": {},
     "output_type": "execute_result"
    }
   ],
   "source": [
    "df.shape"
   ]
  },
  {
   "cell_type": "code",
   "execution_count": 5,
   "metadata": {
    "colab": {
     "base_uri": "https://localhost:8080/"
    },
    "id": "4BXTlLl21sX3",
    "outputId": "51dfb719-3717-4bda-bb05-3acfe42366c5"
   },
   "outputs": [
    {
     "data": {
      "text/plain": [
       "Index(['temperature_2_m_above_gnd', 'relative_humidity_2_m_above_gnd',\n",
       "       'mean_sea_level_pressure_MSL', 'total_precipitation_sfc',\n",
       "       'snowfall_amount_sfc', 'total_cloud_cover_sfc',\n",
       "       'high_cloud_cover_high_cld_lay', 'medium_cloud_cover_mid_cld_lay',\n",
       "       'low_cloud_cover_low_cld_lay', 'shortwave_radiation_backwards_sfc',\n",
       "       'wind_speed_10_m_above_gnd', 'wind_direction_10_m_above_gnd',\n",
       "       'wind_speed_80_m_above_gnd', 'wind_direction_80_m_above_gnd',\n",
       "       'wind_speed_900_mb', 'wind_direction_900_mb',\n",
       "       'wind_gust_10_m_above_gnd', 'angle_of_incidence', 'zenith', 'azimuth',\n",
       "       'generated_power_kw'],\n",
       "      dtype='object')"
      ]
     },
     "execution_count": 5,
     "metadata": {},
     "output_type": "execute_result"
    }
   ],
   "source": [
    "df.columns"
   ]
  },
  {
   "cell_type": "code",
   "execution_count": 6,
   "metadata": {
    "colab": {
     "base_uri": "https://localhost:8080/"
    },
    "id": "UJIxo7fQ1urM",
    "outputId": "1bf3d9a3-f83e-44be-8051-fbb7c6bcefe2"
   },
   "outputs": [
    {
     "data": {
      "text/plain": [
       "temperature_2_m_above_gnd            float64\n",
       "relative_humidity_2_m_above_gnd        int64\n",
       "mean_sea_level_pressure_MSL          float64\n",
       "total_precipitation_sfc              float64\n",
       "snowfall_amount_sfc                  float64\n",
       "total_cloud_cover_sfc                float64\n",
       "high_cloud_cover_high_cld_lay          int64\n",
       "medium_cloud_cover_mid_cld_lay         int64\n",
       "low_cloud_cover_low_cld_lay            int64\n",
       "shortwave_radiation_backwards_sfc    float64\n",
       "wind_speed_10_m_above_gnd            float64\n",
       "wind_direction_10_m_above_gnd        float64\n",
       "wind_speed_80_m_above_gnd            float64\n",
       "wind_direction_80_m_above_gnd        float64\n",
       "wind_speed_900_mb                    float64\n",
       "wind_direction_900_mb                float64\n",
       "wind_gust_10_m_above_gnd             float64\n",
       "angle_of_incidence                   float64\n",
       "zenith                               float64\n",
       "azimuth                              float64\n",
       "generated_power_kw                   float64\n",
       "dtype: object"
      ]
     },
     "execution_count": 6,
     "metadata": {},
     "output_type": "execute_result"
    }
   ],
   "source": [
    "df.dtypes"
   ]
  },
  {
   "cell_type": "code",
   "execution_count": 7,
   "metadata": {
    "colab": {
     "base_uri": "https://localhost:8080/"
    },
    "id": "Gj1MZRPN1wqV",
    "outputId": "682001de-bd47-4382-b434-97ab9cfbb1e1"
   },
   "outputs": [
    {
     "data": {
      "text/plain": [
       "<bound method DataFrame.info of       temperature_2_m_above_gnd  relative_humidity_2_m_above_gnd  \\\n",
       "0                          2.17                               31   \n",
       "1                          2.31                               27   \n",
       "2                          3.65                               33   \n",
       "3                          5.82                               30   \n",
       "4                          7.73                               27   \n",
       "...                         ...                              ...   \n",
       "4208                       8.69                               66   \n",
       "4209                       7.57                               90   \n",
       "4210                       7.27                               90   \n",
       "4211                       8.25                               81   \n",
       "4212                       8.00                               80   \n",
       "\n",
       "      mean_sea_level_pressure_MSL  total_precipitation_sfc  \\\n",
       "0                          1035.0                      0.0   \n",
       "1                          1035.1                      0.0   \n",
       "2                          1035.4                      0.0   \n",
       "3                          1035.4                      0.0   \n",
       "4                          1034.4                      0.0   \n",
       "...                           ...                      ...   \n",
       "4208                       1025.1                      0.0   \n",
       "4209                       1026.1                      0.0   \n",
       "4210                       1026.3                      0.1   \n",
       "4211                       1025.5                      0.0   \n",
       "4212                       1025.3                      0.0   \n",
       "\n",
       "      snowfall_amount_sfc  total_cloud_cover_sfc  \\\n",
       "0                     0.0                    0.0   \n",
       "1                     0.0                    0.0   \n",
       "2                     0.0                    0.0   \n",
       "3                     0.0                    0.0   \n",
       "4                     0.0                    0.0   \n",
       "...                   ...                    ...   \n",
       "4208                  0.0                  100.0   \n",
       "4209                  0.0                  100.0   \n",
       "4210                  0.0                  100.0   \n",
       "4211                  0.0                  100.0   \n",
       "4212                  0.0                  100.0   \n",
       "\n",
       "      high_cloud_cover_high_cld_lay  medium_cloud_cover_mid_cld_lay  \\\n",
       "0                                 0                               0   \n",
       "1                                 0                               0   \n",
       "2                                 0                               0   \n",
       "3                                 0                               0   \n",
       "4                                 0                               0   \n",
       "...                             ...                             ...   \n",
       "4208                            100                             100   \n",
       "4209                             79                             100   \n",
       "4210                             73                             100   \n",
       "4211                             74                              66   \n",
       "4212                            100                             100   \n",
       "\n",
       "      low_cloud_cover_low_cld_lay  shortwave_radiation_backwards_sfc  ...  \\\n",
       "0                               0                               0.00  ...   \n",
       "1                               0                               1.78  ...   \n",
       "2                               0                             108.58  ...   \n",
       "3                               0                             258.10  ...   \n",
       "4                               0                             375.58  ...   \n",
       "...                           ...                                ...  ...   \n",
       "4208                          100                             257.21  ...   \n",
       "4209                          100                             210.04  ...   \n",
       "4210                          100                             113.92  ...   \n",
       "4211                          100                             186.90  ...   \n",
       "4212                          100                             172.66  ...   \n",
       "\n",
       "      wind_direction_10_m_above_gnd  wind_speed_80_m_above_gnd  \\\n",
       "0                            312.71                       9.36   \n",
       "1                            294.78                       5.99   \n",
       "2                            270.00                       3.89   \n",
       "3                            323.13                       3.55   \n",
       "4                             10.01                       6.76   \n",
       "...                             ...                        ...   \n",
       "4208                         285.42                      25.50   \n",
       "4209                           6.91                      13.00   \n",
       "4210                           2.29                       8.71   \n",
       "4211                          11.31                       6.29   \n",
       "4212                          12.72                      12.07   \n",
       "\n",
       "      wind_direction_80_m_above_gnd  wind_speed_900_mb  wind_direction_900_mb  \\\n",
       "0                             22.62               6.62                 337.62   \n",
       "1                             32.74               4.61                 321.34   \n",
       "2                             56.31               3.76                 286.70   \n",
       "3                             23.96               3.08                 339.44   \n",
       "4                             25.20               6.62                  22.38   \n",
       "...                             ...                ...                    ...   \n",
       "4208                         283.06              24.01                 282.99   \n",
       "4209                           4.76              11.61                   7.13   \n",
       "4210                         352.87               7.95                 354.81   \n",
       "4211                          13.24               5.94                  14.04   \n",
       "4212                          17.35              11.38                  18.43   \n",
       "\n",
       "      wind_gust_10_m_above_gnd  angle_of_incidence     zenith    azimuth  \\\n",
       "0                        24.48           58.753108  83.237322  128.33543   \n",
       "1                        21.96           45.408585  75.143041  139.65530   \n",
       "2                        14.04           32.848282  68.820648  152.53769   \n",
       "3                        19.80           22.699288  64.883536  166.90159   \n",
       "4                        16.56           19.199908  63.795208  182.13526   \n",
       "...                        ...                 ...        ...        ...   \n",
       "4208                     25.20           22.700907  64.952098  167.06794   \n",
       "4209                     10.44           19.307487  63.895118  182.28247   \n",
       "4210                     22.32           25.249506  65.827032  197.33868   \n",
       "4211                     15.48           36.361161  70.496313  211.30027   \n",
       "4212                     16.20           48.452849  76.919574  223.04931   \n",
       "\n",
       "      generated_power_kw  \n",
       "0             454.100950  \n",
       "1            1411.999400  \n",
       "2            2214.849300  \n",
       "3            2527.609200  \n",
       "4            2640.203400  \n",
       "...                  ...  \n",
       "4208          173.410560  \n",
       "4209          403.792220  \n",
       "4210          158.367780  \n",
       "4211          126.953060  \n",
       "4212           20.055031  \n",
       "\n",
       "[4213 rows x 21 columns]>"
      ]
     },
     "execution_count": 7,
     "metadata": {},
     "output_type": "execute_result"
    }
   ],
   "source": [
    "df.info"
   ]
  },
  {
   "cell_type": "code",
   "execution_count": 8,
   "metadata": {
    "colab": {
     "base_uri": "https://localhost:8080/"
    },
    "id": "GWMcnC6n10lc",
    "outputId": "91bf21d0-8eaf-4ac2-a4da-f5fd6c0d1b05"
   },
   "outputs": [
    {
     "name": "stdout",
     "output_type": "stream",
     "text": [
      "<class 'pandas.core.frame.DataFrame'>\n",
      "RangeIndex: 4213 entries, 0 to 4212\n",
      "Data columns (total 21 columns):\n",
      " #   Column                             Non-Null Count  Dtype  \n",
      "---  ------                             --------------  -----  \n",
      " 0   temperature_2_m_above_gnd          4213 non-null   float64\n",
      " 1   relative_humidity_2_m_above_gnd    4213 non-null   int64  \n",
      " 2   mean_sea_level_pressure_MSL        4213 non-null   float64\n",
      " 3   total_precipitation_sfc            4213 non-null   float64\n",
      " 4   snowfall_amount_sfc                4213 non-null   float64\n",
      " 5   total_cloud_cover_sfc              4213 non-null   float64\n",
      " 6   high_cloud_cover_high_cld_lay      4213 non-null   int64  \n",
      " 7   medium_cloud_cover_mid_cld_lay     4213 non-null   int64  \n",
      " 8   low_cloud_cover_low_cld_lay        4213 non-null   int64  \n",
      " 9   shortwave_radiation_backwards_sfc  4213 non-null   float64\n",
      " 10  wind_speed_10_m_above_gnd          4213 non-null   float64\n",
      " 11  wind_direction_10_m_above_gnd      4213 non-null   float64\n",
      " 12  wind_speed_80_m_above_gnd          4213 non-null   float64\n",
      " 13  wind_direction_80_m_above_gnd      4213 non-null   float64\n",
      " 14  wind_speed_900_mb                  4213 non-null   float64\n",
      " 15  wind_direction_900_mb              4213 non-null   float64\n",
      " 16  wind_gust_10_m_above_gnd           4213 non-null   float64\n",
      " 17  angle_of_incidence                 4213 non-null   float64\n",
      " 18  zenith                             4213 non-null   float64\n",
      " 19  azimuth                            4213 non-null   float64\n",
      " 20  generated_power_kw                 4213 non-null   float64\n",
      "dtypes: float64(17), int64(4)\n",
      "memory usage: 691.3 KB\n"
     ]
    }
   ],
   "source": [
    "df.info()"
   ]
  },
  {
   "cell_type": "markdown",
   "metadata": {
    "id": "nu-yAT-S4am2"
   },
   "source": [
    "## grouped Means and aggregated calculations"
   ]
  },
  {
   "cell_type": "code",
   "execution_count": 9,
   "metadata": {
    "colab": {
     "base_uri": "https://localhost:8080/"
    },
    "id": "P5FOj0b24g_s",
    "outputId": "39d93138-37e9-4855-a40f-30ee3a0c842f"
   },
   "outputs": [
    {
     "data": {
      "text/plain": [
       "total_cloud_cover_sfc\n",
       "0.0      1702747.2\n",
       "0.3        26604.4\n",
       "0.6        23468.7\n",
       "0.9        17412.7\n",
       "1.0        15349.0\n",
       "           ...    \n",
       "96.0        2048.9\n",
       "97.0        4072.5\n",
       "98.0        4064.2\n",
       "99.0        1011.1\n",
       "100.0    1095268.5\n",
       "Name: mean_sea_level_pressure_MSL, Length: 160, dtype: float64"
      ]
     },
     "execution_count": 9,
     "metadata": {},
     "output_type": "execute_result"
    }
   ],
   "source": [
    "df.groupby('total_cloud_cover_sfc')['mean_sea_level_pressure_MSL'].sum()"
   ]
  },
  {
   "cell_type": "code",
   "execution_count": 10,
   "metadata": {
    "colab": {
     "base_uri": "https://localhost:8080/"
    },
    "id": "WSn7o0Nh4j0i",
    "outputId": "2535664c-fd4d-4b2f-af79-a19f715dbc1f"
   },
   "outputs": [
    {
     "name": "stdout",
     "output_type": "stream",
     "text": [
      "mean_sea_level_pressure_MSL\n",
      "997.5     49.16\n",
      "998.3     55.16\n",
      "998.5     45.73\n",
      "999.2     54.55\n",
      "1000.3    49.91\n",
      "          ...  \n",
      "1042.8     7.29\n",
      "1044.0     7.90\n",
      "1045.1    11.89\n",
      "1046.6    18.72\n",
      "1046.8    15.99\n",
      "Name: wind_speed_80_m_above_gnd, Length: 376, dtype: float64\n"
     ]
    }
   ],
   "source": [
    "print(df.groupby('mean_sea_level_pressure_MSL')['wind_speed_80_m_above_gnd'].mean())"
   ]
  },
  {
   "cell_type": "markdown",
   "metadata": {
    "id": "6lOoN13716VT"
   },
   "source": [
    "## Grouped Frequency Counts"
   ]
  },
  {
   "cell_type": "code",
   "execution_count": 11,
   "metadata": {
    "colab": {
     "base_uri": "https://localhost:8080/"
    },
    "id": "w41crH5Y11IT",
    "outputId": "2fb5d017-ec3a-4d57-fb33-89e7351ac994"
   },
   "outputs": [
    {
     "data": {
      "text/plain": [
       "total_cloud_cover_sfc\n",
       "0.0      294\n",
       "0.3       24\n",
       "0.6       21\n",
       "0.9       15\n",
       "1.0       15\n",
       "        ... \n",
       "96.0       2\n",
       "97.0       4\n",
       "98.0       4\n",
       "99.0       1\n",
       "100.0    298\n",
       "Name: mean_sea_level_pressure_MSL, Length: 160, dtype: int64"
      ]
     },
     "execution_count": 11,
     "metadata": {},
     "output_type": "execute_result"
    }
   ],
   "source": [
    "df.groupby('total_cloud_cover_sfc')['mean_sea_level_pressure_MSL'].nunique()"
   ]
  },
  {
   "cell_type": "code",
   "execution_count": 12,
   "metadata": {
    "colab": {
     "base_uri": "https://localhost:8080/",
     "height": 298
    },
    "id": "rdqrtzOe4P-9",
    "outputId": "fdd36653-2d5b-4e0f-a296-7d989eb9b83f"
   },
   "outputs": [
    {
     "data": {
      "text/plain": [
       "<AxesSubplot: xlabel='total_cloud_cover_sfc'>"
      ]
     },
     "execution_count": 12,
     "metadata": {},
     "output_type": "execute_result"
    },
    {
     "data": {
      "image/png": "[encoded data removed]",
      "text/plain": [
       "<Figure size 432x288 with 1 Axes>"
      ]
     },
     "metadata": {
      "needs_background": "light"
     },
     "output_type": "display_data"
    }
   ],
   "source": [
    "df.groupby('total_cloud_cover_sfc')['mean_sea_level_pressure_MSL'].nunique().plot()"
   ]
  },
  {
   "cell_type": "code",
   "execution_count": 13,
   "metadata": {
    "colab": {
     "base_uri": "https://localhost:8080/"
    },
    "id": "XE3fHu1F4R0l",
    "outputId": "b4d08c96-3bd1-41a7-d778-e02aa5b08302"
   },
   "outputs": [
    {
     "name": "stdout",
     "output_type": "stream",
     "text": [
      "12.65\n",
      "441.44\n",
      "13.77\n"
     ]
    }
   ],
   "source": [
    "#subsetting columns and rows.\n",
    "# we can use number of the row instead of the : to indicate specific row\n",
    "print(df.loc[42, 'temperature_2_m_above_gnd'])\n",
    "print(df.loc[24, 'shortwave_radiation_backwards_sfc'])\n",
    "print(df.iloc[24, 0])"
   ]
  },
  {
   "cell_type": "code",
   "execution_count": 14,
   "metadata": {
    "colab": {
     "base_uri": "https://localhost:8080/"
    },
    "id": "RdVsLOAH4VA6",
    "outputId": "1b94e635-d22c-4754-c983-5f279fb43988"
   },
   "outputs": [
    {
     "name": "stdout",
     "output_type": "stream",
     "text": [
      "   temperature_2_m_above_gnd  mean_sea_level_pressure_MSL  \\\n",
      "0                       2.17                       1035.0   \n",
      "2                       3.65                       1035.4   \n",
      "4                       7.73                       1034.4   \n",
      "\n",
      "   total_cloud_cover_sfc  \n",
      "0                    0.0  \n",
      "2                    0.0  \n",
      "4                    0.0  \n"
     ]
    }
   ],
   "source": [
    "#subsetting multiple rows and columns\n",
    "print(df.iloc[[0, 2, 4],[0,2,5]])"
   ]
  },
  {
   "cell_type": "code",
   "execution_count": 15,
   "metadata": {
    "colab": {
     "base_uri": "https://localhost:8080/"
    },
    "id": "7FdJ_V3n4WkM",
    "outputId": "6e7a9646-ff17-42f0-a7c3-8ce4374a3454"
   },
   "outputs": [
    {
     "name": "stdout",
     "output_type": "stream",
     "text": [
      "   temperature_2_m_above_gnd  relative_humidity_2_m_above_gnd  \\\n",
      "0                       2.17                               31   \n",
      "2                       3.65                               33   \n",
      "4                       7.73                               27   \n",
      "\n",
      "   shortwave_radiation_backwards_sfc  \n",
      "0                               0.00  \n",
      "2                             108.58  \n",
      "4                             375.58  \n"
     ]
    }
   ],
   "source": [
    "print(df.loc[[0, 2, 4],['temperature_2_m_above_gnd','relative_humidity_2_m_above_gnd','shortwave_radiation_backwards_sfc']])"
   ]
  },
  {
   "cell_type": "code",
   "execution_count": 16,
   "metadata": {
    "colab": {
     "base_uri": "https://localhost:8080/"
    },
    "id": "ubAYqxw_4YXQ",
    "outputId": "23f1f42c-4d48-4f69-922f-df607da18179"
   },
   "outputs": [
    {
     "name": "stdout",
     "output_type": "stream",
     "text": [
      "   temperature_2_m_above_gnd  relative_humidity_2_m_above_gnd  \\\n",
      "0                       2.17                               31   \n",
      "1                       2.31                               27   \n",
      "2                       3.65                               33   \n",
      "3                       5.82                               30   \n",
      "4                       7.73                               27   \n",
      "\n",
      "   shortwave_radiation_backwards_sfc  \n",
      "0                               0.00  \n",
      "1                               1.78  \n",
      "2                             108.58  \n",
      "3                             258.10  \n",
      "4                             375.58  \n"
     ]
    }
   ],
   "source": [
    "print(df.loc[0:4,['temperature_2_m_above_gnd','relative_humidity_2_m_above_gnd','shortwave_radiation_backwards_sfc']])"
   ]
  }
 ],
 "metadata": {
  "colab": {
   "provenance": []
  },
  "kernelspec": {
   "display_name": "Python 3 (ipykernel)",
   "language": "python",
   "name": "python3"
  },
  "language_info": {
   "codemirror_mode": {
    "name": "ipython",
    "version": 3
   },
   "file_extension": ".py",
   "mimetype": "text/x-python",
   "name": "python",
   "nbconvert_exporter": "python",
   "pygments_lexer": "ipython3",
   "version": "3.10.4"
  }
 },
 "nbformat": 4,
 "nbformat_minor": 1
}
